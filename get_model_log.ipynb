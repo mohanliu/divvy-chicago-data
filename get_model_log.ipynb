{
 "cells": [
  {
   "cell_type": "code",
   "execution_count": 6,
   "metadata": {},
   "outputs": [],
   "source": [
    "VERSION = 'v1.0'"
   ]
  },
  {
   "cell_type": "code",
   "execution_count": 7,
   "metadata": {},
   "outputs": [],
   "source": [
    "import json\n",
    "import os\n",
    "import pickle"
   ]
  },
  {
   "cell_type": "markdown",
   "metadata": {},
   "source": [
    "## Load model data"
   ]
  },
  {
   "cell_type": "code",
   "execution_count": 13,
   "metadata": {},
   "outputs": [
    {
     "name": "stdout",
     "output_type": "stream",
     "text": [
      "CPU times: user 335 ms, sys: 845 ms, total: 1.18 s\n",
      "Wall time: 2.26 s\n"
     ]
    }
   ],
   "source": [
    "%%time\n",
    "with open('model_data/random_forest_'+VERSION+'.pk', 'rb') as f:\n",
    "    loaded_model = pickle.load(f)"
   ]
  },
  {
   "cell_type": "code",
   "execution_count": 27,
   "metadata": {},
   "outputs": [
    {
     "data": {
      "text/plain": [
       "{'scoring': None, 'estimator': Pipeline(memory=None,\n",
       "          steps=[('ohe',\n",
       "                  OneHotEncoder(categorical_features=[63, 64], categories=None,\n",
       "                                drop=None, dtype=<class 'numpy.float64'>,\n",
       "                                handle_unknown='error', n_values=None,\n",
       "                                sparse=False)),\n",
       "                 ('mms', MinMaxScaler(copy=False, feature_range=(0, 1))),\n",
       "                 ('rf',\n",
       "                  RandomForestRegressor(bootstrap=True, criterion='mse',\n",
       "                                        max_depth=None, max_features='auto',\n",
       "                                        max_leaf_nodes=None,\n",
       "                                        min_impurity_decrease=0.0,\n",
       "                                        min_impurity_split=None,\n",
       "                                        min_samples_leaf=1, min_samples_split=2,\n",
       "                                        min_weight_fraction_leaf=0.0,\n",
       "                                        n_estimators=10, n_jobs=None,\n",
       "                                        oob_score=False, random_state=None,\n",
       "                                        verbose=0, warm_start=False))],\n",
       "          verbose=False), 'n_jobs': 2, 'iid': 'warn', 'refit': True, 'cv': 2, 'verbose': 0, 'pre_dispatch': '2*n_jobs', 'error_score': 'raise-deprecating', 'return_train_score': False, 'param_grid': {'rf__n_estimators': [10]}, 'multimetric_': False, 'best_index_': 0, 'best_score_': 0.6276813479129681, 'best_params_': {'rf__n_estimators': 10}, 'best_estimator_': Pipeline(memory=None,\n",
       "          steps=[('ohe',\n",
       "                  OneHotEncoder(categorical_features=[63, 64], categories=None,\n",
       "                                drop=None, dtype=<class 'numpy.float64'>,\n",
       "                                handle_unknown='error', n_values=None,\n",
       "                                sparse=False)),\n",
       "                 ('mms', MinMaxScaler(copy=False, feature_range=(0, 1))),\n",
       "                 ('rf',\n",
       "                  RandomForestRegressor(bootstrap=True, criterion='mse',\n",
       "                                        max_depth=None, max_features='auto',\n",
       "                                        max_leaf_nodes=None,\n",
       "                                        min_impurity_decrease=0.0,\n",
       "                                        min_impurity_split=None,\n",
       "                                        min_samples_leaf=1, min_samples_split=2,\n",
       "                                        min_weight_fraction_leaf=0.0,\n",
       "                                        n_estimators=10, n_jobs=None,\n",
       "                                        oob_score=False, random_state=None,\n",
       "                                        verbose=0, warm_start=False))],\n",
       "          verbose=False), 'refit_time_': 133.0750584602356, 'scorer_': <function sklearn.metrics.scorer._passthrough_scorer(estimator, *args, **kwargs)>, 'cv_results_': {'mean_fit_time': array([58.55235934]),\n",
       "  'std_fit_time': array([0.89678717]),\n",
       "  'mean_score_time': array([2.67311776]),\n",
       "  'std_score_time': array([0.0857743]),\n",
       "  'param_rf__n_estimators': masked_array(data=[10],\n",
       "               mask=[False],\n",
       "         fill_value='?',\n",
       "              dtype=object),\n",
       "  'params': [{'rf__n_estimators': 10}],\n",
       "  'split0_test_score': array([0.62843315]),\n",
       "  'split1_test_score': array([0.62692955]),\n",
       "  'mean_test_score': array([0.62768135]),\n",
       "  'std_test_score': array([0.0007518]),\n",
       "  'rank_test_score': array([1], dtype=int32)}, 'n_splits_': 2}"
      ]
     },
     "execution_count": 27,
     "metadata": {},
     "output_type": "execute_result"
    }
   ],
   "source": [
    "loaded_model.__dict__"
   ]
  },
  {
   "cell_type": "markdown",
   "metadata": {},
   "source": [
    "## Load feature data"
   ]
  }
 ],
 "metadata": {
  "kernelspec": {
   "display_name": "Python 3",
   "language": "python",
   "name": "python3"
  },
  "language_info": {
   "codemirror_mode": {
    "name": "ipython",
    "version": 3
   },
   "file_extension": ".py",
   "mimetype": "text/x-python",
   "name": "python",
   "nbconvert_exporter": "python",
   "pygments_lexer": "ipython3",
   "version": "3.7.3"
  }
 },
 "nbformat": 4,
 "nbformat_minor": 2
}
