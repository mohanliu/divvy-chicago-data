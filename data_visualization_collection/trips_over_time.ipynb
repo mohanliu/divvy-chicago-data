{
 "cells": [
  {
   "cell_type": "code",
   "execution_count": 1,
   "metadata": {},
   "outputs": [],
   "source": [
    "import numpy as np\n",
    "import pandas as pd\n",
    "from multiprocessing import Pool, cpu_count\n",
    "import gc\n",
    "import time\n",
    "gc.enable()\n",
    "import seaborn as sns\n",
    "import matplotlib.pyplot as plt\n",
    "import warnings\n",
    "import re\n",
    "import geopy\n",
    "from tqdm import tqdm_notebook as tqdm\n",
    "import json\n",
    "import os\n",
    "\n",
    "warnings.filterwarnings('ignore')"
   ]
  },
  {
   "cell_type": "code",
   "execution_count": 2,
   "metadata": {},
   "outputs": [
    {
     "name": "stdout",
     "output_type": "stream",
     "text": [
      "CPU times: user 333 ms, sys: 1.04 s, total: 1.37 s\n",
      "Wall time: 1.69 s\n"
     ]
    }
   ],
   "source": [
    "%%time\n",
    "# Load from preprocessed data\n",
    "df_2018 = pd.read_feather('../data/Final_Divvy_data_2018.feather')\n",
    "df_2017 = pd.read_feather('../data/Final_Divvy_data_2017.feather')\n",
    "df_2016 = pd.read_feather('../data/Final_Divvy_data_2016.feather')\n",
    "df_2015 = pd.read_feather('../data/Final_Divvy_data_2015.feather')\n",
    "df_2014 = pd.read_feather('../data/Final_Divvy_data_2014.feather')\n",
    "df_2013 = pd.read_feather('../data/Final_Divvy_data_2013.feather')"
   ]
  },
  {
   "cell_type": "code",
   "execution_count": 3,
   "metadata": {},
   "outputs": [
    {
     "data": {
      "text/html": [
       "        <script type=\"text/javascript\">\n",
       "        window.PlotlyConfig = {MathJaxConfig: 'local'};\n",
       "        if (window.MathJax) {MathJax.Hub.Config({SVG: {font: \"STIX-Web\"}});}\n",
       "        if (typeof require !== 'undefined') {\n",
       "        require.undef(\"plotly\");\n",
       "        requirejs.config({\n",
       "            paths: {\n",
       "                'plotly': ['https://cdn.plot.ly/plotly-latest.min']\n",
       "            }\n",
       "        });\n",
       "        require(['plotly'], function(Plotly) {\n",
       "            window._Plotly = Plotly;\n",
       "        });\n",
       "        }\n",
       "        </script>\n",
       "        "
      ]
     },
     "metadata": {},
     "output_type": "display_data"
    }
   ],
   "source": [
    "from plotly.offline import download_plotlyjs, init_notebook_mode, plot, iplot\n",
    "from ipywidgets import widgets\n",
    "import plotly.graph_objs as go\n",
    "\n",
    "init_notebook_mode(connected=True)"
   ]
  },
  {
   "cell_type": "markdown",
   "metadata": {},
   "source": [
    "## Load station data of 2013-2018\n",
    "[Find your plotly colorscale](https://plot.ly/python/colorscales/)"
   ]
  },
  {
   "cell_type": "code",
   "execution_count": 4,
   "metadata": {},
   "outputs": [],
   "source": [
    "# function to group total trip data over station\n",
    "def group_over_dow_m(df):\n",
    "    tmp_df = df[['month', 'dayofweek', 'year', 'total_in']]\\\n",
    "                .groupby(['month', 'dayofweek'])\\\n",
    "                .agg({'year': np.mean, 'total_in': np.sum}).reset_index()\n",
    "    return np.array(tmp_df.total_in).reshape(12, 7).T"
   ]
  },
  {
   "cell_type": "code",
   "execution_count": 5,
   "metadata": {},
   "outputs": [],
   "source": [
    "# list of months and dow\n",
    "mx = ['Jan', 'Feb', 'Mar', 'Apr', 'May', 'Jun', 'Jul', 'Aug', 'Sep', 'Oct', 'Nov', 'Dec']\n",
    "dwy = ['Mon', 'Tue', 'Wed', 'Thu', 'Fri', 'Sat', 'Sun']"
   ]
  },
  {
   "cell_type": "code",
   "execution_count": 6,
   "metadata": {},
   "outputs": [],
   "source": [
    "def get_plot_info(df):\n",
    "    tripcount = group_over_dow_m(df)\n",
    "    hover_text = []\n",
    "    for i in range(7):\n",
    "        hy = dwy[i]\n",
    "        tmp = []\n",
    "        for j in range(12):\n",
    "            hx = mx[j]\n",
    "            tmp.append('Month: '+hx+'<br>Day of Week: '+hy+'<br>Total trips: '+str(int(tripcount[i][j])))\n",
    "        hover_text.append(tmp)\n",
    "    return tripcount, hover_text"
   ]
  },
  {
   "cell_type": "code",
   "execution_count": 7,
   "metadata": {},
   "outputs": [],
   "source": [
    "# Prepare data\n",
    "zmin = 0\n",
    "zmax = 100000\n",
    "cs = 'Hot'\n",
    "tp2018, ht2018 = get_plot_info(df_2018)\n",
    "tp2017, ht2017 = get_plot_info(df_2017)\n",
    "tp2016, ht2016 = get_plot_info(df_2016)\n",
    "tp2015, ht2015 = get_plot_info(df_2015)\n",
    "tp2014, ht2014 = get_plot_info(df_2014)\n",
    "trace2018 = go.Heatmap(\n",
    "    z=tp2018,\n",
    "    x=mx,\n",
    "    y=dwy,\n",
    "    text=ht2018,\n",
    "    hoverinfo='text',\n",
    "    colorscale=cs,\n",
    "    reversescale=True,\n",
    "    zmin = zmin,\n",
    "    zmax = zmax,\n",
    "    zauto=False,\n",
    "    visible=False\n",
    ")\n",
    "trace2017 = go.Heatmap(\n",
    "    z=tp2017,\n",
    "    x=mx,\n",
    "    y=dwy,\n",
    "    text=ht2017,\n",
    "    hoverinfo='text',\n",
    "    colorscale=cs,\n",
    "    reversescale=True,\n",
    "    zmin = zmin,\n",
    "    zmax = zmax,\n",
    "    zauto=False,\n",
    "    visible=False\n",
    ")\n",
    "trace2016 = go.Heatmap(\n",
    "    z=tp2016,\n",
    "    x=mx,\n",
    "    y=dwy,\n",
    "    text=ht2016,\n",
    "    hoverinfo='text',\n",
    "    colorscale=cs,\n",
    "    reversescale=True,\n",
    "    zmin = zmin,\n",
    "    zmax = zmax,\n",
    "    zauto=False,\n",
    "    visible=False\n",
    ")\n",
    "trace2015 = go.Heatmap(\n",
    "    z=tp2015,\n",
    "    x=mx,\n",
    "    y=dwy,\n",
    "    text=ht2015,\n",
    "    hoverinfo='text',\n",
    "    colorscale=cs,\n",
    "    reversescale=True,\n",
    "    zmin = zmin,\n",
    "    zmax = zmax,\n",
    "    zauto=False,\n",
    "    visible=False\n",
    ")\n",
    "trace2014 = go.Heatmap(\n",
    "    z=tp2014,\n",
    "    x=mx,\n",
    "    y=dwy,\n",
    "    text=ht2016,\n",
    "    hoverinfo='text',\n",
    "    colorscale=cs,\n",
    "    reversescale=True,\n",
    "    zmin = zmin,\n",
    "    zmax = zmax,\n",
    "    zauto=False \n",
    ")\n",
    "data=[trace2014, trace2015, trace2016, trace2017, trace2018]"
   ]
  },
  {
   "cell_type": "code",
   "execution_count": 8,
   "metadata": {},
   "outputs": [],
   "source": [
    "# Prepare update menu\n",
    "updatemenus = list([\n",
    "    dict(type=\"buttons\",\n",
    "         active=-1,\n",
    "         buttons=list([\n",
    "            dict(label = '2014',\n",
    "                 method = 'update',\n",
    "                 args = [{'visible': [True, False, False, False, False]}]),\n",
    "            dict(label = '2015',\n",
    "                 method = 'update',\n",
    "                 args = [{'visible': [False, True, False, False, False]}]),\n",
    "            dict(label = '2016',\n",
    "                 method = 'update',\n",
    "                 args = [{'visible': [False, False, True, False, False]}]),\n",
    "            dict(label = '2017',\n",
    "                 method = 'update',\n",
    "                 args = [{'visible': [False, False, False, True, False]}]),\n",
    "            dict(label = '2018',\n",
    "                 method = 'update',\n",
    "                 args = [{'visible': [False, False, False, False, True]}]),\n",
    "        ]),\n",
    "        direction = 'left',\n",
    "        showactive = True,\n",
    "        pad = {'r': 20, 't': 20},\n",
    "        x = 0.62,\n",
    "        xanchor = 'center',\n",
    "        y = 1.1,\n",
    "        yanchor = 'bottom',\n",
    "        bgcolor = '#AAAAAA',\n",
    "        bordercolor = '#FFFFFF',\n",
    "        font = dict(size=18, color='#101010',family='Old Standard TT, serif')\n",
    "    ),\n",
    "\n",
    "])\n"
   ]
  },
  {
   "cell_type": "code",
   "execution_count": 9,
   "metadata": {},
   "outputs": [],
   "source": [
    "# layout\n",
    "layout = go.Layout(\n",
    "    title=go.layout.Title(\n",
    "        text='Total # of trips',\n",
    "        xref='paper',\n",
    "        x=0\n",
    "    ),\n",
    "    xaxis=dict(\n",
    "        title='Month',\n",
    "        titlefont=dict(\n",
    "            family='Arial, sans-serif',\n",
    "            size=18,\n",
    "            color='grey'\n",
    "        ),\n",
    "        showticklabels=True,\n",
    "        tickangle=-45,\n",
    "        tickfont=dict(\n",
    "            family='Old Standard TT, serif',\n",
    "            size=14,\n",
    "            color='black'\n",
    "        ),\n",
    "        exponentformat='e',\n",
    "        showexponent='all'\n",
    "    ),\n",
    "    yaxis=dict(\n",
    "        title='Day of Week',\n",
    "        titlefont=dict(\n",
    "            family='Arial, sans-serif',\n",
    "            size=18,\n",
    "            color='grey'\n",
    "        ),\n",
    "        showticklabels=True,\n",
    "        tickangle=-45,\n",
    "        tickfont=dict(\n",
    "            family='Old Standard TT, serif',\n",
    "            size=14,\n",
    "            color='black'\n",
    "        ),\n",
    "        exponentformat='e',\n",
    "        showexponent='all'\n",
    "    ),\n",
    "    updatemenus=updatemenus\n",
    ")"
   ]
  },
  {
   "cell_type": "code",
   "execution_count": 10,
   "metadata": {},
   "outputs": [
    {
     "data": {
      "text/plain": [
       "'trip_count_heatmap.html'"
      ]
     },
     "execution_count": 10,
     "metadata": {},
     "output_type": "execute_result"
    }
   ],
   "source": [
    "fig = go.Figure(data=data, layout=layout)\n",
    "plot(fig, filename='trip_count_heatmap.html')"
   ]
  },
  {
   "cell_type": "code",
   "execution_count": null,
   "metadata": {},
   "outputs": [],
   "source": []
  }
 ],
 "metadata": {
  "kernelspec": {
   "display_name": "Python 3",
   "language": "python",
   "name": "python3"
  },
  "language_info": {
   "codemirror_mode": {
    "name": "ipython",
    "version": 3
   },
   "file_extension": ".py",
   "mimetype": "text/x-python",
   "name": "python",
   "nbconvert_exporter": "python",
   "pygments_lexer": "ipython3",
   "version": "3.7.0"
  }
 },
 "nbformat": 4,
 "nbformat_minor": 2
}
