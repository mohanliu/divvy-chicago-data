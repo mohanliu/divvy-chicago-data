{
 "cells": [
  {
   "cell_type": "code",
   "execution_count": 1,
   "metadata": {},
   "outputs": [],
   "source": [
    "import numpy as np\n",
    "import pandas as pd\n",
    "from multiprocessing import Pool, cpu_count\n",
    "import gc\n",
    "import time\n",
    "gc.enable()\n",
    "import seaborn as sns\n",
    "import matplotlib.pyplot as plt\n",
    "import warnings\n",
    "import re\n",
    "import requests\n",
    "import folium\n",
    "import branca.colormap as cm\n",
    "import geopy\n",
    "from tqdm import tqdm_notebook as tqdm\n",
    "import json\n",
    "import os\n",
    "import geojson\n",
    "\n",
    "warnings.filterwarnings('ignore')"
   ]
  },
  {
   "cell_type": "code",
   "execution_count": 4,
   "metadata": {},
   "outputs": [
    {
     "name": "stdout",
     "output_type": "stream",
     "text": [
      "CPU times: user 78.8 ms, sys: 234 ms, total: 313 ms\n",
      "Wall time: 296 ms\n"
     ]
    }
   ],
   "source": [
    "%%time\n",
    "# Load from preprocessed data\n",
    "sd = pd.read_feather('../data/Final_Divvy_data_2018.feather')"
   ]
  },
  {
   "cell_type": "code",
   "execution_count": 6,
   "metadata": {},
   "outputs": [
    {
     "name": "stdout",
     "output_type": "stream",
     "text": [
      "<class 'pandas.core.frame.DataFrame'>\n",
      "RangeIndex: 216478 entries, 0 to 216477\n",
      "Data columns (total 58 columns):\n",
      "station_id                     216478 non-null int64\n",
      "month                          216478 non-null int64\n",
      "day                            216478 non-null int64\n",
      "total_in                       216478 non-null float64\n",
      "total_out                      216478 non-null float64\n",
      "year                           216478 non-null float64\n",
      "lon_ave                        216478 non-null float64\n",
      "lat_ave                        216478 non-null float64\n",
      "dp_max                         216478 non-null float64\n",
      "dp_min                         216478 non-null float64\n",
      "city_Chicago                   216478 non-null float64\n",
      "city_Evanston                  216478 non-null float64\n",
      "city_Oak_Park                  216478 non-null float64\n",
      "days_online                    216478 non-null int64\n",
      "dayofweek                      216478 non-null int64\n",
      "apparentTemperatureHigh        216478 non-null float64\n",
      "apparentTemperatureHighTime    216478 non-null float64\n",
      "apparentTemperatureLow         216478 non-null float64\n",
      "apparentTemperatureLowTime     216478 non-null float64\n",
      "apparentTemperatureMax         216478 non-null float64\n",
      "apparentTemperatureMaxTime     216478 non-null float64\n",
      "apparentTemperatureMin         216478 non-null float64\n",
      "apparentTemperatureMinTime     216478 non-null float64\n",
      "cloudCover                     216478 non-null float64\n",
      "dewPoint                       216478 non-null float64\n",
      "humidity                       216478 non-null float64\n",
      "moonPhase                      216478 non-null float64\n",
      "precipIntensity                216478 non-null float64\n",
      "precipIntensityMax             216478 non-null float64\n",
      "precipProbability              216478 non-null float64\n",
      "pressure                       216478 non-null float64\n",
      "sunriseTime                    216478 non-null float64\n",
      "sunsetTime                     216478 non-null float64\n",
      "temperatureHigh                216478 non-null float64\n",
      "temperatureHighTime            216478 non-null float64\n",
      "temperatureLow                 216478 non-null float64\n",
      "temperatureLowTime             216478 non-null float64\n",
      "uvIndex                        216478 non-null float64\n",
      "uvIndexTime                    216478 non-null float64\n",
      "visibility                     216478 non-null float64\n",
      "windBearing                    216478 non-null float64\n",
      "windGust                       216478 non-null float64\n",
      "windGustTime                   216478 non-null float64\n",
      "windSpeed                      216478 non-null float64\n",
      "precipIntensityMaxTime         216478 non-null float64\n",
      "precipAccumulation             216478 non-null float64\n",
      "ozone                          111003 non-null float64\n",
      "daylight_duration              216478 non-null float64\n",
      "icon_clear-day                 216478 non-null int64\n",
      "icon_cloudy                    216478 non-null int64\n",
      "icon_partly-cloudy-day         216478 non-null int64\n",
      "icon_rain                      216478 non-null int64\n",
      "icon_sleet                     216478 non-null int64\n",
      "icon_snow                      216478 non-null int64\n",
      "precipType_None                216478 non-null int64\n",
      "precipType_rain                216478 non-null int64\n",
      "precipType_sleet               216478 non-null int64\n",
      "precipType_snow                216478 non-null int64\n",
      "dtypes: float64(43), int64(15)\n",
      "memory usage: 95.8 MB\n"
     ]
    }
   ],
   "source": [
    "sd.info()"
   ]
  },
  {
   "cell_type": "code",
   "execution_count": 16,
   "metadata": {},
   "outputs": [],
   "source": [
    "def get_data_of_a_day(month, day):\n",
    "    sub_df = sd[(sd['month'] == month) & (sd['day'] == day)]\n",
    "    lat_arr = np.array(sub_df.lat_ave)\n",
    "    lon_arr = np.array(sub_df.lon_ave)\n",
    "    flg_arr = np.array(sub_df.total_in > sub_df.dp_max)\n",
    "    return lat_arr, lon_arr, flg_arr"
   ]
  },
  {
   "cell_type": "code",
   "execution_count": 58,
   "metadata": {},
   "outputs": [],
   "source": [
    "map_from = folium.Map(location = [41.90, -87.64], zoom_start = 12,tiles=None)\n",
    "folium.TileLayer(tiles='cartodbpositron', overlay=True, max_zoom=13, min_zoom=10.5).add_to(map_from)\n",
    "d1_group = folium.FeatureGroup(name=\"July 1st, 2018 (Sun)\", overlay=False)\n",
    "d2_group = folium.FeatureGroup(name=\"July 2nd, 2018 (Mon)\", overlay=False)\n",
    "d3_group = folium.FeatureGroup(name=\"Oct 28th, 2018 (Sun)\", overlay=False)\n",
    "d4_group = folium.FeatureGroup(name=\"Oct 29th, 2018 (Mon)\", overlay=False)\n",
    "\n",
    "\n",
    "lat_lst_d1, long_lst_d1, flag_d1 = get_data_of_a_day(7, 1)\n",
    "lat_lst_d2, long_lst_d2, flag_d2 = get_data_of_a_day(7, 2)\n",
    "lat_lst_d3, long_lst_d3, flag_d3 = get_data_of_a_day(10, 28)\n",
    "lat_lst_d4, long_lst_d4, flag_d4 = get_data_of_a_day(10, 29)\n",
    "\n",
    "rd = 8\n",
    "for lat, long, f in zip(lat_lst_d1, long_lst_d1, flag_d1):\n",
    "    if f:\n",
    "        folium.CircleMarker([lat, long], color=\"red\", fill=True, radius=rd, weight=0, fill_opacity=0.5).add_to(d1_group)\n",
    "    else:\n",
    "        folium.CircleMarker([lat, long], color=\"orange\", fill=True, radius=rd, weight=0, fill_opacity=0.3).add_to(d1_group)\n",
    "    \n",
    "for lat, long, f in zip(lat_lst_d2, long_lst_d2, flag_d2):\n",
    "    if f:\n",
    "        folium.CircleMarker([lat, long], color=\"red\", fill=True, radius=rd, weight=0, fill_opacity=0.5).add_to(d2_group)\n",
    "    else:\n",
    "        folium.CircleMarker([lat, long], color=\"orange\", fill=True, radius=rd, weight=0, fill_opacity=0.3).add_to(d2_group)    \n",
    "\n",
    "for lat, long, f in zip(lat_lst_d3, long_lst_d3, flag_d3):\n",
    "    if f:\n",
    "        folium.CircleMarker([lat, long], color=\"red\", fill=True, radius=rd, weight=0, fill_opacity=0.5).add_to(d3_group)\n",
    "    else:\n",
    "        folium.CircleMarker([lat, long], color=\"orange\", fill=True, radius=rd, weight=0, fill_opacity=0.3).add_to(d3_group) \n",
    "\n",
    "for lat, long, f in zip(lat_lst_d4, long_lst_d4, flag_d4):\n",
    "    if f:\n",
    "        folium.CircleMarker([lat, long], color=\"red\", fill=True, radius=rd, weight=0, fill_opacity=0.5).add_to(d4_group)\n",
    "    else:\n",
    "        folium.CircleMarker([lat, long], color=\"orange\", fill=True, radius=rd, weight=0, fill_opacity=0.3).add_to(d4_group) \n",
    "\n",
    "\n",
    "d1_group.add_to(map_from)\n",
    "# d2_group.add_to(map_from)\n",
    "# d3_group.add_to(map_from)\n",
    "d4_group.add_to(map_from)\n",
    "\n",
    "\n",
    "folium.LayerControl(collapsed=False).add_to(map_from)\n",
    "map_from.save('example_usage.html')"
   ]
  },
  {
   "cell_type": "code",
   "execution_count": 61,
   "metadata": {},
   "outputs": [],
   "source": [
    "emtpy_m = folium.Map(location = [41.90, -87.64], zoom_start = 12,tiles=None)\n",
    "folium.TileLayer(tiles='Stamen Watercolor', overlay=True).add_to(emtpy_m)\n",
    "\n",
    "emtpy_m.save('empty_map.html')"
   ]
  },
  {
   "cell_type": "code",
   "execution_count": null,
   "metadata": {},
   "outputs": [],
   "source": []
  }
 ],
 "metadata": {
  "kernelspec": {
   "display_name": "Python 3",
   "language": "python",
   "name": "python3"
  },
  "language_info": {
   "codemirror_mode": {
    "name": "ipython",
    "version": 3
   },
   "file_extension": ".py",
   "mimetype": "text/x-python",
   "name": "python",
   "nbconvert_exporter": "python",
   "pygments_lexer": "ipython3",
   "version": "3.7.0"
  }
 },
 "nbformat": 4,
 "nbformat_minor": 2
}
