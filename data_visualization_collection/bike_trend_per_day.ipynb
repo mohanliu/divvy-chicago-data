{
 "cells": [
  {
   "cell_type": "code",
   "execution_count": 734,
   "metadata": {},
   "outputs": [],
   "source": [
    "import numpy as np\n",
    "import pandas as pd\n",
    "from multiprocessing import Pool, cpu_count\n",
    "import gc\n",
    "import time\n",
    "gc.enable()\n",
    "import seaborn as sns\n",
    "import matplotlib.pyplot as plt\n",
    "import warnings\n",
    "import re\n",
    "import requests\n",
    "import folium\n",
    "import branca.colormap as cm\n",
    "import geopy\n",
    "from tqdm import tqdm_notebook as tqdm\n",
    "import json\n",
    "import os\n",
    "import geojson\n",
    "import datetime\n",
    "\n",
    "warnings.filterwarnings('ignore')"
   ]
  },
  {
   "cell_type": "markdown",
   "metadata": {},
   "source": [
    "## Load trip data"
   ]
  },
  {
   "cell_type": "code",
   "execution_count": 2,
   "metadata": {},
   "outputs": [
    {
     "name": "stdout",
     "output_type": "stream",
     "text": [
      "CPU times: user 617 ms, sys: 325 ms, total: 942 ms\n",
      "Wall time: 1.05 s\n"
     ]
    }
   ],
   "source": [
    "%%time\n",
    "def _convert_to_dateobject(x):\n",
    "    return datetime.datetime.strptime(x, \"%Y-%m-%d %H:%M:%S\")\n",
    "\n",
    "if not os.path.exists('../data/raw_trip_datetime_2018_Q3.pk'):\n",
    "    trip_df = pd.read_csv('../data/Divvy_Trips_2018_Q3.csv')\n",
    "    trip_df['start_time_dtoj'] = trip_df.apply(lambda row: _convert_to_dateobject(row.start_time), axis=1)\n",
    "    trip_df['end_time_dtoj'] = trip_df.apply(lambda row: _convert_to_dateobject(row.end_time), axis=1)\n",
    "    \n",
    "    trip_df.to_pickle('../data/raw_trip_datetime_2018_Q3.pk')\n",
    "else:\n",
    "    trip_df = pd.read_pickle('../data/raw_trip_datetime_2018_Q3.pk')"
   ]
  },
  {
   "cell_type": "code",
   "execution_count": 3,
   "metadata": {},
   "outputs": [
    {
     "name": "stdout",
     "output_type": "stream",
     "text": [
      "<class 'pandas.core.frame.DataFrame'>\n",
      "RangeIndex: 1513570 entries, 0 to 1513569\n",
      "Data columns (total 14 columns):\n",
      "trip_id              1513570 non-null int64\n",
      "start_time           1513570 non-null object\n",
      "end_time             1513570 non-null object\n",
      "bikeid               1513570 non-null int64\n",
      "tripduration         1513570 non-null object\n",
      "from_station_id      1513570 non-null int64\n",
      "from_station_name    1513570 non-null object\n",
      "to_station_id        1513570 non-null int64\n",
      "to_station_name      1513570 non-null object\n",
      "usertype             1513570 non-null object\n",
      "gender               1218574 non-null object\n",
      "birthyear            1221990 non-null float64\n",
      "start_time_dtoj      1513570 non-null datetime64[ns]\n",
      "end_time_dtoj        1513570 non-null datetime64[ns]\n",
      "dtypes: datetime64[ns](2), float64(1), int64(4), object(7)\n",
      "memory usage: 161.7+ MB\n"
     ]
    }
   ],
   "source": [
    "trip_df.info()"
   ]
  },
  {
   "cell_type": "markdown",
   "metadata": {},
   "source": [
    "## Load station info"
   ]
  },
  {
   "cell_type": "code",
   "execution_count": 521,
   "metadata": {},
   "outputs": [
    {
     "name": "stdout",
     "output_type": "stream",
     "text": [
      "CPU times: user 9.52 ms, sys: 8.1 ms, total: 17.6 ms\n",
      "Wall time: 21.5 ms\n"
     ]
    }
   ],
   "source": [
    "%%time\n",
    "# Load from preprocessed data\n",
    "sd = pd.read_csv('../data/Divvy_Stations_2017_Q3Q4.csv')"
   ]
  },
  {
   "cell_type": "code",
   "execution_count": 525,
   "metadata": {},
   "outputs": [
    {
     "name": "stdout",
     "output_type": "stream",
     "text": [
      "<class 'pandas.core.frame.DataFrame'>\n",
      "RangeIndex: 585 entries, 0 to 584\n",
      "Data columns (total 8 columns):\n",
      "id             585 non-null int64\n",
      "name           585 non-null object\n",
      "city           585 non-null object\n",
      "latitude       585 non-null float64\n",
      "longitude      585 non-null float64\n",
      "dpcapacity     585 non-null int64\n",
      "online_date    585 non-null object\n",
      "Unnamed: 7     0 non-null float64\n",
      "dtypes: float64(3), int64(2), object(3)\n",
      "memory usage: 36.6+ KB\n"
     ]
    }
   ],
   "source": [
    "sd.info()"
   ]
  },
  {
   "cell_type": "markdown",
   "metadata": {},
   "source": [
    "## Select station and date"
   ]
  },
  {
   "cell_type": "code",
   "execution_count": 218,
   "metadata": {},
   "outputs": [
    {
     "name": "stdout",
     "output_type": "stream",
     "text": [
      "Month: 9, day: 4\n"
     ]
    }
   ],
   "source": [
    "# Select a date\n",
    "DAY_RANDOM_FLAG = True\n",
    "\n",
    "if DAY_RANDOM_FLAG:\n",
    "    dd = np.random.choice(range(1, 32), 1)[0]\n",
    "    mm = np.random.choice([7, 8, 9], 1)[0] \n",
    "    if dd == 31 and mm == 9:\n",
    "        dd = np.random.choice(range(1, 31), 1)[0]\n",
    "else:\n",
    "    dd = 2\n",
    "    mm = 7\n",
    "print('Month: {}, day: {}'.format(mm, dd))"
   ]
  },
  {
   "cell_type": "code",
   "execution_count": 243,
   "metadata": {},
   "outputs": [],
   "source": [
    "# Get the heavy demand station list for this day\n",
    "SHOW_hot_station_list = True\n",
    "\n",
    "def _get_hd_stn_lst(df):\n",
    "    top_station_df = df[\n",
    "        (df.start_time_dtoj.dt.day == dd) &\n",
    "        (df.start_time_dtoj.dt.month == mm) \n",
    "    ].groupby(['from_station_id'])[['trip_id']]\\\n",
    "     .count().sort_values(by='trip_id', ascending=False)\\\n",
    "     .reset_index().head(20)\n",
    "\n",
    "    if SHOW_hot_station_list:\n",
    "        display(top_station_df)\n",
    "    \n",
    "    return top_station_df"
   ]
  },
  {
   "cell_type": "code",
   "execution_count": 245,
   "metadata": {},
   "outputs": [
    {
     "data": {
      "text/html": [
       "<div>\n",
       "<style scoped>\n",
       "    .dataframe tbody tr th:only-of-type {\n",
       "        vertical-align: middle;\n",
       "    }\n",
       "\n",
       "    .dataframe tbody tr th {\n",
       "        vertical-align: top;\n",
       "    }\n",
       "\n",
       "    .dataframe thead th {\n",
       "        text-align: right;\n",
       "    }\n",
       "</style>\n",
       "<table border=\"1\" class=\"dataframe\">\n",
       "  <thead>\n",
       "    <tr style=\"text-align: right;\">\n",
       "      <th></th>\n",
       "      <th>from_station_id</th>\n",
       "      <th>trip_id</th>\n",
       "    </tr>\n",
       "  </thead>\n",
       "  <tbody>\n",
       "    <tr>\n",
       "      <th>0</th>\n",
       "      <td>192</td>\n",
       "      <td>316</td>\n",
       "    </tr>\n",
       "    <tr>\n",
       "      <th>1</th>\n",
       "      <td>77</td>\n",
       "      <td>302</td>\n",
       "    </tr>\n",
       "    <tr>\n",
       "      <th>2</th>\n",
       "      <td>35</td>\n",
       "      <td>265</td>\n",
       "    </tr>\n",
       "    <tr>\n",
       "      <th>3</th>\n",
       "      <td>91</td>\n",
       "      <td>256</td>\n",
       "    </tr>\n",
       "    <tr>\n",
       "      <th>4</th>\n",
       "      <td>81</td>\n",
       "      <td>213</td>\n",
       "    </tr>\n",
       "    <tr>\n",
       "      <th>5</th>\n",
       "      <td>287</td>\n",
       "      <td>206</td>\n",
       "    </tr>\n",
       "    <tr>\n",
       "      <th>6</th>\n",
       "      <td>43</td>\n",
       "      <td>197</td>\n",
       "    </tr>\n",
       "    <tr>\n",
       "      <th>7</th>\n",
       "      <td>100</td>\n",
       "      <td>191</td>\n",
       "    </tr>\n",
       "    <tr>\n",
       "      <th>8</th>\n",
       "      <td>174</td>\n",
       "      <td>188</td>\n",
       "    </tr>\n",
       "    <tr>\n",
       "      <th>9</th>\n",
       "      <td>133</td>\n",
       "      <td>169</td>\n",
       "    </tr>\n",
       "    <tr>\n",
       "      <th>10</th>\n",
       "      <td>268</td>\n",
       "      <td>168</td>\n",
       "    </tr>\n",
       "    <tr>\n",
       "      <th>11</th>\n",
       "      <td>195</td>\n",
       "      <td>157</td>\n",
       "    </tr>\n",
       "    <tr>\n",
       "      <th>12</th>\n",
       "      <td>283</td>\n",
       "      <td>156</td>\n",
       "    </tr>\n",
       "    <tr>\n",
       "      <th>13</th>\n",
       "      <td>85</td>\n",
       "      <td>132</td>\n",
       "    </tr>\n",
       "    <tr>\n",
       "      <th>14</th>\n",
       "      <td>110</td>\n",
       "      <td>125</td>\n",
       "    </tr>\n",
       "    <tr>\n",
       "      <th>15</th>\n",
       "      <td>90</td>\n",
       "      <td>111</td>\n",
       "    </tr>\n",
       "    <tr>\n",
       "      <th>16</th>\n",
       "      <td>66</td>\n",
       "      <td>109</td>\n",
       "    </tr>\n",
       "    <tr>\n",
       "      <th>17</th>\n",
       "      <td>176</td>\n",
       "      <td>107</td>\n",
       "    </tr>\n",
       "    <tr>\n",
       "      <th>18</th>\n",
       "      <td>48</td>\n",
       "      <td>101</td>\n",
       "    </tr>\n",
       "    <tr>\n",
       "      <th>19</th>\n",
       "      <td>56</td>\n",
       "      <td>96</td>\n",
       "    </tr>\n",
       "  </tbody>\n",
       "</table>\n",
       "</div>"
      ],
      "text/plain": [
       "    from_station_id  trip_id\n",
       "0               192      316\n",
       "1                77      302\n",
       "2                35      265\n",
       "3                91      256\n",
       "4                81      213\n",
       "5               287      206\n",
       "6                43      197\n",
       "7               100      191\n",
       "8               174      188\n",
       "9               133      169\n",
       "10              268      168\n",
       "11              195      157\n",
       "12              283      156\n",
       "13               85      132\n",
       "14              110      125\n",
       "15               90      111\n",
       "16               66      109\n",
       "17              176      107\n",
       "18               48      101\n",
       "19               56       96"
      ]
     },
     "metadata": {},
     "output_type": "display_data"
    },
    {
     "name": "stdout",
     "output_type": "stream",
     "text": [
      "Station id: 35\n"
     ]
    }
   ],
   "source": [
    "STN_RANDOM_FLAG = True\n",
    "\n",
    "if STN_RANDOM_FLAG:\n",
    "    top_station_df = _get_hd_stn_lst(trip_df)\n",
    "    st_id = np.random.choice(top_station_df.from_station_id.unique(), 1)[0]\n",
    "else:\n",
    "    st_id = 100\n",
    "print('Station id: {}'.format(st_id))"
   ]
  },
  {
   "cell_type": "markdown",
   "metadata": {},
   "source": [
    "## Trip collection for a single day and a single location"
   ]
  },
  {
   "cell_type": "code",
   "execution_count": 464,
   "metadata": {},
   "outputs": [],
   "source": [
    "## Helper functions\n",
    "\n",
    "# Get net change for each trip\n",
    "def _get_net(row):\n",
    "    if row.incoming:\n",
    "        return 1\n",
    "    elif row.outgoing:\n",
    "        return -1\n",
    "    else:\n",
    "        return 0\n",
    "\n",
    "# Get exact time for bike rental/return for this station and then sort\n",
    "def _get_time(row):\n",
    "    if row.incoming:\n",
    "        return row.end_time_dtoj\n",
    "    elif row.outgoing:\n",
    "        return row.start_time_dtoj\n",
    "    else:\n",
    "        return"
   ]
  },
  {
   "cell_type": "code",
   "execution_count": 524,
   "metadata": {},
   "outputs": [],
   "source": [
    "# Filter trip day that meet this condition\n",
    "def get_trip_trips(trip_df, dd, mm, st_id):\n",
    "    daily_trip_details = trip_df[\n",
    "        (trip_df.start_time_dtoj.dt.day == dd) &\n",
    "        (trip_df.start_time_dtoj.dt.month == mm) &\n",
    "        (\n",
    "            (trip_df.from_station_id == st_id) | \n",
    "            (trip_df.to_station_id == st_id)\n",
    "        )\n",
    "    ][['trip_id', 'tripduration', 'from_station_id', 'to_station_id', \n",
    "       'usertype', 'gender', 'birthyear', 'start_time_dtoj', 'end_time_dtoj']]\n",
    "\n",
    "    # Check if incoming or outgoing\n",
    "    daily_trip_details['outgoing'] = daily_trip_details.from_station_id == st_id\n",
    "    daily_trip_details['incoming'] = daily_trip_details.to_station_id == st_id\n",
    "    daily_trip_details['net'] = daily_trip_details.apply(lambda x: _get_net(x), axis=1)\n",
    "\n",
    "    daily_trip_details['time'] = daily_trip_details.apply(lambda x: _get_time(x), axis=1)\n",
    "    daily_trip_details.sort_values(by='time', inplace=True)\n",
    "\n",
    "    daily_trip_details['in_cum'] = -daily_trip_details['incoming'].cumsum()\n",
    "    daily_trip_details['out_cum'] = daily_trip_details['outgoing'].cumsum()\n",
    "    daily_trip_details['net_cum'] = -daily_trip_details['net'].cumsum()\n",
    "    \n",
    "    station_info = sd[sd.id == st_id]\n",
    "    \n",
    "    return daily_trip_details, station_info"
   ]
  },
  {
   "cell_type": "markdown",
   "metadata": {},
   "source": [
    "## Plot as function of time\n",
    "\n",
    "[Great example of make multi-type subplots](https://plot.ly/~empet/15130/mixed-2d-and-3d-subplots-forum/#/)"
   ]
  },
  {
   "cell_type": "code",
   "execution_count": 342,
   "metadata": {},
   "outputs": [
    {
     "data": {
      "text/html": [
       "        <script type=\"text/javascript\">\n",
       "        window.PlotlyConfig = {MathJaxConfig: 'local'};\n",
       "        if (window.MathJax) {MathJax.Hub.Config({SVG: {font: \"STIX-Web\"}});}\n",
       "        if (typeof require !== 'undefined') {\n",
       "        require.undef(\"plotly\");\n",
       "        requirejs.config({\n",
       "            paths: {\n",
       "                'plotly': ['https://cdn.plot.ly/plotly-latest.min']\n",
       "            }\n",
       "        });\n",
       "        require(['plotly'], function(Plotly) {\n",
       "            window._Plotly = Plotly;\n",
       "        });\n",
       "        }\n",
       "        </script>\n",
       "        "
      ]
     },
     "metadata": {},
     "output_type": "display_data"
    }
   ],
   "source": [
    "from plotly.offline import download_plotlyjs, init_notebook_mode, plot, iplot\n",
    "from ipywidgets import widgets\n",
    "import plotly.graph_objs as go\n",
    "from plotly import tools\n",
    "\n",
    "init_notebook_mode(connected=True)"
   ]
  },
  {
   "cell_type": "code",
   "execution_count": 710,
   "metadata": {},
   "outputs": [],
   "source": [
    "## Global setup for plotting\n",
    "# API key\n",
    "mapbox_access_token = 'pk.eyJ1IjoibWVydnluMTUyIiwiYSI6ImNqeHpkNWZmdjAxczUzY29hbHVoandyMnUifQ.D-botzm1Hr6Gjs8jqwD5VA'\n",
    "\n",
    "# style dict\n",
    "style_dict = {}\n",
    "style_dict['color'] = {'in':'red', 'out':'orange', 'net':'blue'}\n",
    "style_dict['name'] = {'in':'Return', 'out':'Rental', 'net':'Net Demand'}"
   ]
  },
  {
   "cell_type": "code",
   "execution_count": 711,
   "metadata": {},
   "outputs": [],
   "source": [
    "## Function to get trip trend data\n",
    "def _get_trip_trend_date(df, conf, vis=False):\n",
    "    return go.Scatter(\n",
    "        x=df.time,\n",
    "        y=df[conf+'_cum'],\n",
    "        name = style_dict['name'][conf],\n",
    "        mode = 'lines',\n",
    "        line = dict(\n",
    "            color = style_dict['color'][conf],\n",
    "            \n",
    "        ),\n",
    "        visible=vis\n",
    "    )\n",
    "\n",
    "## Function to get map data\n",
    "def _get_map_data(df, vis=False):\n",
    "    return go.Scattermapbox(\n",
    "        lat=[float(df.latitude)],\n",
    "        lon=[float(df.longitude)],\n",
    "        text=[\"<b>Station id</b>: {}\\\n",
    "               <br> <b>Latitude</b>: {:.4f} \\\n",
    "               <br> <b>Longitude</b>: {:.4f} \\\n",
    "               <br> <b>Station capacity</b>: {}\\\n",
    "               <br> <b>Station name</b>: <br> {}\\\n",
    "              \".format(\n",
    "            int(df.id),\n",
    "            float(df.latitude), \n",
    "            float(df.longitude),\n",
    "            int(df.dpcapacity),\n",
    "            str(df.name.to_string()), \n",
    "        )],\n",
    "        mode='markers',\n",
    "        hoverinfo = 'text',\n",
    "        marker=go.scattermapbox.Marker(\n",
    "            size=10,\n",
    "            color='yellow',\n",
    "        ),   \n",
    "        subplot='mapbox',\n",
    "        visible=vis,\n",
    "        name='Station '+str(int(df.id))\n",
    "    )"
   ]
  },
  {
   "cell_type": "code",
   "execution_count": 735,
   "metadata": {},
   "outputs": [],
   "source": [
    "## Style of mixed plot\n",
    "layout = {\n",
    "    'title': 'Trend of Bike Rental and Net Demand',\n",
    "    'yaxis': {\n",
    "        'zeroline': False,\n",
    "        'title': \"Number of bikes\",\n",
    "        'domain': [0, 0.95],\n",
    "    },\n",
    "    'xaxis': {\n",
    "        'zeroline': False,\n",
    "        'domain': [0., 0.99]\n",
    "    },\n",
    "    'mapbox': go.layout.Mapbox(\n",
    "        accesstoken=mapbox_access_token,\n",
    "        bearing=0,\n",
    "        domain={'x': [0.05, 0.4], 'y': [0.55, 1]},\n",
    "        center=go.layout.mapbox.Center(\n",
    "            lat=41.89, \n",
    "            lon=-87.63\n",
    "        ),\n",
    "        pitch=60,\n",
    "        zoom=10,\n",
    "        style = 'mapbox://styles/mervyn152/cjy2i8m1y1s5s1cnxcto3gppa'\n",
    "    ),  \n",
    "    'showlegend': True,\n",
    "    'autosize': True,\n",
    "    'legend': dict(orientation=\"h\")\n",
    "}"
   ]
  },
  {
   "cell_type": "code",
   "execution_count": 736,
   "metadata": {},
   "outputs": [],
   "source": [
    "# Set date and station list\n",
    "pm = 7\n",
    "pd = 2\n",
    "\n",
    "station_list = [192, 100, 35, 91, 56]"
   ]
  },
  {
   "cell_type": "code",
   "execution_count": 737,
   "metadata": {},
   "outputs": [],
   "source": [
    "## Get data\n",
    "data = []\n",
    "\n",
    "vis_flag = True\n",
    "for st_id in station_list:\n",
    "    daily_trip_details, station_info = get_trip_trips(trip_df, pd, pm, st_id)\n",
    "\n",
    "    data.append(_get_map_data(station_info, vis=vis_flag))\n",
    "    data.append(_get_trip_trend_date(daily_trip_details, 'out', vis=vis_flag))\n",
    "    data.append(_get_trip_trend_date(daily_trip_details, 'net', vis=vis_flag))\n",
    "    vis_flag = False"
   ]
  },
  {
   "cell_type": "code",
   "execution_count": 738,
   "metadata": {},
   "outputs": [],
   "source": [
    "# Create button list\n",
    "button_list = []\n",
    "n_st = len(station_list)\n",
    "\n",
    "blank = [False] * n_st *3\n",
    "\n",
    "for i in range(n_st):\n",
    "    vis_lst = blank.copy()\n",
    "    vis_lst[i*3:i*3+3] = [True] * 3\n",
    "    label_ = 'Station '+str(station_list[i])\n",
    "    \n",
    "    tmp_d = dict(\n",
    "        args = [{'visible': vis_lst}],\n",
    "        label = label_,\n",
    "        method ='update'\n",
    "    )\n",
    "    button_list.append(tmp_d)"
   ]
  },
  {
   "cell_type": "code",
   "execution_count": 778,
   "metadata": {},
   "outputs": [],
   "source": [
    "updatemenus=list([\n",
    "    dict(\n",
    "        buttons=button_list,\n",
    "        direction = 'up',\n",
    "        x = 0.82,\n",
    "        xanchor = 'left',\n",
    "        y = -0.18,\n",
    "        yanchor = 'bottom',\n",
    "        bgcolor = 'lightgrey',\n",
    "        bordercolor = 'black',\n",
    "        font = dict(size=11, color='black'),\n",
    "        showactive=False,\n",
    "    ),        \n",
    "])\n",
    "\n",
    "layout['updatemenus'] = updatemenus"
   ]
  },
  {
   "cell_type": "code",
   "execution_count": 781,
   "metadata": {},
   "outputs": [],
   "source": [
    "figure = {}\n",
    "figure['data'] = data\n",
    "figure['layout'] = layout\n",
    "\n",
    "\n",
    "SHOW = False\n",
    "\n",
    "if SHOW:\n",
    "    iplot(figure)\n",
    "else:\n",
    "    plot(figure, filename=\"bike_trip_trend.html\")"
   ]
  }
 ],
 "metadata": {
  "kernelspec": {
   "display_name": "Python 3",
   "language": "python",
   "name": "python3"
  },
  "language_info": {
   "codemirror_mode": {
    "name": "ipython",
    "version": 3
   },
   "file_extension": ".py",
   "mimetype": "text/x-python",
   "name": "python",
   "nbconvert_exporter": "python",
   "pygments_lexer": "ipython3",
   "version": "3.7.0"
  }
 },
 "nbformat": 4,
 "nbformat_minor": 2
}
