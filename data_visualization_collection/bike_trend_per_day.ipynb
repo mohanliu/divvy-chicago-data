{
 "cells": [
  {
   "cell_type": "code",
   "execution_count": 1,
   "metadata": {},
   "outputs": [],
   "source": [
    "import numpy as np\n",
    "import pandas as pd\n",
    "from multiprocessing import Pool, cpu_count\n",
    "import gc\n",
    "import time\n",
    "gc.enable()\n",
    "import seaborn as sns\n",
    "import matplotlib.pyplot as plt\n",
    "import warnings\n",
    "import re\n",
    "import requests\n",
    "import folium\n",
    "import branca.colormap as cm\n",
    "import geopy\n",
    "from tqdm import tqdm_notebook as tqdm\n",
    "import json\n",
    "import os\n",
    "import geojson\n",
    "import datetime\n",
    "\n",
    "warnings.filterwarnings('ignore')"
   ]
  },
  {
   "cell_type": "markdown",
   "metadata": {},
   "source": [
    "## Load data"
   ]
  },
  {
   "cell_type": "code",
   "execution_count": 4,
   "metadata": {},
   "outputs": [
    {
     "name": "stdout",
     "output_type": "stream",
     "text": [
      "CPU times: user 653 ms, sys: 362 ms, total: 1.02 s\n",
      "Wall time: 1.03 s\n"
     ]
    }
   ],
   "source": [
    "%%time\n",
    "def _convert_to_dateobject(x):\n",
    "    return datetime.datetime.strptime(x, \"%Y-%m-%d %H:%M:%S\")\n",
    "\n",
    "if not os.path.exists('../data/raw_trip_datetime_2018_Q3.pk'):\n",
    "    trip_df = pd.read_csv('../data/Divvy_Trips_2018_Q3.csv')\n",
    "    trip_df['start_time_dtoj'] = trip_df.apply(lambda row: _convert_to_dateobject(row.start_time), axis=1)\n",
    "    trip_df['end_time_dtoj'] = trip_df.apply(lambda row: _convert_to_dateobject(row.end_time), axis=1)\n",
    "    \n",
    "    trip_df.to_pickle('../data/raw_trip_datetime_2018_Q3.pk')\n",
    "else:\n",
    "    trip_df = pd.read_pickle('../data/raw_trip_datetime_2018_Q3.pk')"
   ]
  },
  {
   "cell_type": "code",
   "execution_count": 5,
   "metadata": {},
   "outputs": [
    {
     "name": "stdout",
     "output_type": "stream",
     "text": [
      "<class 'pandas.core.frame.DataFrame'>\n",
      "RangeIndex: 1513570 entries, 0 to 1513569\n",
      "Data columns (total 14 columns):\n",
      "trip_id              1513570 non-null int64\n",
      "start_time           1513570 non-null object\n",
      "end_time             1513570 non-null object\n",
      "bikeid               1513570 non-null int64\n",
      "tripduration         1513570 non-null object\n",
      "from_station_id      1513570 non-null int64\n",
      "from_station_name    1513570 non-null object\n",
      "to_station_id        1513570 non-null int64\n",
      "to_station_name      1513570 non-null object\n",
      "usertype             1513570 non-null object\n",
      "gender               1218574 non-null object\n",
      "birthyear            1221990 non-null float64\n",
      "start_time_dtoj      1513570 non-null datetime64[ns]\n",
      "end_time_dtoj        1513570 non-null datetime64[ns]\n",
      "dtypes: datetime64[ns](2), float64(1), int64(4), object(7)\n",
      "memory usage: 161.7+ MB\n"
     ]
    }
   ],
   "source": [
    "trip_df.info()"
   ]
  },
  {
   "cell_type": "code",
   "execution_count": 14,
   "metadata": {},
   "outputs": [
    {
     "data": {
      "text/plain": [
       "2018"
      ]
     },
     "execution_count": 14,
     "metadata": {},
     "output_type": "execute_result"
    }
   ],
   "source": [
    "trip_df.iloc[0:1].start_time_dtoj[0].year"
   ]
  },
  {
   "cell_type": "code",
   "execution_count": null,
   "metadata": {},
   "outputs": [],
   "source": []
  }
 ],
 "metadata": {
  "kernelspec": {
   "display_name": "Python 3",
   "language": "python",
   "name": "python3"
  },
  "language_info": {
   "codemirror_mode": {
    "name": "ipython",
    "version": 3
   },
   "file_extension": ".py",
   "mimetype": "text/x-python",
   "name": "python",
   "nbconvert_exporter": "python",
   "pygments_lexer": "ipython3",
   "version": "3.7.0"
  }
 },
 "nbformat": 4,
 "nbformat_minor": 2
}
