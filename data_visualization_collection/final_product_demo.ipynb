{
 "cells": [
  {
   "cell_type": "code",
   "execution_count": 1,
   "metadata": {},
   "outputs": [],
   "source": [
    "import numpy as np\n",
    "import pandas as pd\n",
    "from multiprocessing import Pool, cpu_count\n",
    "import gc\n",
    "import time\n",
    "gc.enable()\n",
    "import seaborn as sns\n",
    "import matplotlib.pyplot as plt\n",
    "import warnings\n",
    "import re\n",
    "import geopy\n",
    "from tqdm import tqdm_notebook as tqdm\n",
    "import json\n",
    "import os\n",
    "\n",
    "warnings.filterwarnings('ignore')"
   ]
  },
  {
   "cell_type": "code",
   "execution_count": 2,
   "metadata": {},
   "outputs": [
    {
     "name": "stdout",
     "output_type": "stream",
     "text": [
      "CPU times: user 130 ms, sys: 325 ms, total: 455 ms\n",
      "Wall time: 581 ms\n"
     ]
    }
   ],
   "source": [
    "%%time\n",
    "# Load from preprocessed data\n",
    "df_2018 = pd.read_feather('../data/Final_Divvy_data_2018.feather')"
   ]
  },
  {
   "cell_type": "code",
   "execution_count": 3,
   "metadata": {},
   "outputs": [
    {
     "data": {
      "text/html": [
       "        <script type=\"text/javascript\">\n",
       "        window.PlotlyConfig = {MathJaxConfig: 'local'};\n",
       "        if (window.MathJax) {MathJax.Hub.Config({SVG: {font: \"STIX-Web\"}});}\n",
       "        if (typeof require !== 'undefined') {\n",
       "        require.undef(\"plotly\");\n",
       "        requirejs.config({\n",
       "            paths: {\n",
       "                'plotly': ['https://cdn.plot.ly/plotly-latest.min']\n",
       "            }\n",
       "        });\n",
       "        require(['plotly'], function(Plotly) {\n",
       "            window._Plotly = Plotly;\n",
       "        });\n",
       "        }\n",
       "        </script>\n",
       "        "
      ]
     },
     "metadata": {},
     "output_type": "display_data"
    }
   ],
   "source": [
    "from plotly.offline import download_plotlyjs, init_notebook_mode, plot, iplot\n",
    "from ipywidgets import widgets\n",
    "import plotly.graph_objs as go\n",
    "\n",
    "init_notebook_mode(connected=True)"
   ]
  },
  {
   "cell_type": "code",
   "execution_count": 9,
   "metadata": {},
   "outputs": [
    {
     "data": {
      "application/vnd.plotly.v1+json": {
       "config": {
        "linkText": "Export to plot.ly",
        "plotlyServerURL": "https://plot.ly",
        "showLink": false
       },
       "data": [
        {
         "lat": [
          9.95,
          6.43,
          14.5,
          8.46
         ],
         "lon": [
          -9.7,
          -9.43,
          -14.45,
          -11.78
         ],
         "marker": {
          "color": "rgb(33,113,181)",
          "line": {
           "width": 0
          },
          "size": [
           20.44,
           67.24,
           0.06,
           38.8
          ]
         },
         "mode": "markers+text",
         "name": "Sept",
         "text": [
          "1022 Guinea",
          "3362 Liberia",
          "3 Senegal",
          "1940 Sierra Leone"
         ],
         "textposition": "bottom center",
         "type": "scattergeo",
         "uid": "a11882e7-e66f-4d03-b478-e540a3ba8cc4"
        },
        {
         "lat": [
          9.95,
          6.43,
          14.5,
          8.46
         ],
         "lon": [
          -9.7,
          -9.43,
          -14.45,
          -11.78
         ],
         "marker": {
          "color": "rgb(107,174,214)",
          "line": {
           "width": 0
          },
          "size": [
           15.42,
           27.9,
           0.02,
           24.32
          ]
         },
         "name": "Aug",
         "text": [
          771,
          1395,
          1,
          1216
         ],
         "type": "scattergeo",
         "uid": "e248abbe-852e-4d20-b559-d5d670c64eff"
        },
        {
         "lat": [
          9.95,
          6.43,
          8.46
         ],
         "lon": [
          -9.7,
          -9.43,
          -11.78
         ],
         "marker": {
          "color": "rgb(189,215,231)",
          "line": {
           "width": 0
          },
          "size": [
           9.2,
           6.58,
           10.66
          ]
         },
         "name": "July",
         "text": [
          460,
          329,
          533
         ],
         "type": "scattergeo",
         "uid": "7dfb0fa1-1694-4441-ac15-ff53a14c419e"
        },
        {
         "lat": [
          9.95,
          6.43,
          8.46
         ],
         "lon": [
          -9.7,
          -9.43,
          -11.78
         ],
         "marker": {
          "color": "rgb(239,243,255)",
          "line": {
           "width": 0
          },
          "size": [
           8.26,
           2.14,
           4.78
          ]
         },
         "name": "June",
         "text": [
          413,
          107,
          239
         ],
         "type": "scattergeo",
         "uid": "1b8f594e-3b1d-40ab-815a-12bf5ed5a562"
        },
        {
         "autocolorscale": false,
         "colorscale": [
          [
           0,
           "rgb(0, 0, 0)"
          ],
          [
           1,
           "rgb(0, 0, 0)"
          ]
         ],
         "geo": "geo2",
         "locationmode": "country names",
         "locations": [
          "Guinea",
          "Liberia",
          "Senegal",
          "Sierra Leone"
         ],
         "showscale": false,
         "text": [
          "Guinea",
          "Liberia",
          "Senegal",
          "Sierra Leone"
         ],
         "type": "choropleth",
         "uid": "fbc90ee3-1c6f-4e2b-aa10-01c52d866a19",
         "z": [
          1022,
          3362,
          3,
          1940
         ]
        },
        {
         "geo": "geo2",
         "lat": [
          7.1881
         ],
         "lon": [
          21.0936
         ],
         "mode": "text",
         "showlegend": false,
         "text": [
          "Africa"
         ],
         "type": "scattergeo",
         "uid": "cbc49820-51b9-47ea-9629-bee23812617d"
        }
       ],
       "layout": {
        "geo": {
         "coastlinecolor": "rgb(255, 255, 255)",
         "countrycolor": "rgb(255, 255, 255)",
         "domain": {
          "x": [
           0,
           1
          ],
          "y": [
           0,
           1
          ]
         },
         "landcolor": "rgb(229, 229, 229)",
         "lataxis": {
          "range": [
           0,
           12
          ]
         },
         "lonaxis": {
          "range": [
           -15,
           -5
          ]
         },
         "projection": {
          "type": "mercator"
         },
         "resolution": 50,
         "scope": "africa",
         "showcoastlines": true,
         "showframe": false,
         "showland": true
        },
        "geo2": {
         "bgcolor": "rgba(255, 255, 255, 0.0)",
         "domain": {
          "x": [
           0,
           0.6
          ],
          "y": [
           0,
           0.6
          ]
         },
         "landcolor": "rgb(229, 229, 229)",
         "scope": "north america",
         "showcountries": true,
         "showframe": false,
         "showland": true
        },
        "legend": {
         "traceorder": "reversed"
        },
        "title": {
         "text": "Ebola cases reported by month in West Africa 2014<br> Source: <a href=\"https://data.hdx.rwlabs.org/dataset/rowca-ebola-cases\">HDX</a>"
        }
       }
      },
      "text/html": [
       "<div>\n",
       "        \n",
       "        \n",
       "            <div id=\"fb95ca4d-954f-4d27-a305-00a2ca52d511\" class=\"plotly-graph-div\" style=\"height:525px; width:100%;\"></div>\n",
       "            <script type=\"text/javascript\">\n",
       "                require([\"plotly\"], function(Plotly) {\n",
       "                    window.PLOTLYENV=window.PLOTLYENV || {};\n",
       "                    window.PLOTLYENV.BASE_URL='https://plot.ly';\n",
       "                    \n",
       "                if (document.getElementById(\"fb95ca4d-954f-4d27-a305-00a2ca52d511\")) {\n",
       "                    Plotly.newPlot(\n",
       "                        'fb95ca4d-954f-4d27-a305-00a2ca52d511',\n",
       "                        [{\"lat\": [9.95, 6.43, 14.5, 8.46], \"lon\": [-9.7, -9.43, -14.45, -11.78], \"marker\": {\"color\": \"rgb(33,113,181)\", \"line\": {\"width\": 0}, \"size\": [20.44, 67.24, 0.06, 38.8]}, \"mode\": \"markers+text\", \"name\": \"Sept\", \"text\": [\"1022 Guinea\", \"3362 Liberia\", \"3 Senegal\", \"1940 Sierra Leone\"], \"textposition\": \"bottom center\", \"type\": \"scattergeo\", \"uid\": \"a11882e7-e66f-4d03-b478-e540a3ba8cc4\"}, {\"lat\": [9.95, 6.43, 14.5, 8.46], \"lon\": [-9.7, -9.43, -14.45, -11.78], \"marker\": {\"color\": \"rgb(107,174,214)\", \"line\": {\"width\": 0}, \"size\": [15.42, 27.9, 0.02, 24.32]}, \"name\": \"Aug\", \"text\": [771.0, 1395.0, 1.0, 1216.0], \"type\": \"scattergeo\", \"uid\": \"e248abbe-852e-4d20-b559-d5d670c64eff\"}, {\"lat\": [9.95, 6.43, 8.46], \"lon\": [-9.7, -9.43, -11.78], \"marker\": {\"color\": \"rgb(189,215,231)\", \"line\": {\"width\": 0}, \"size\": [9.2, 6.58, 10.66]}, \"name\": \"July\", \"text\": [460.0, 329.0, 533.0], \"type\": \"scattergeo\", \"uid\": \"7dfb0fa1-1694-4441-ac15-ff53a14c419e\"}, {\"lat\": [9.95, 6.43, 8.46], \"lon\": [-9.7, -9.43, -11.78], \"marker\": {\"color\": \"rgb(239,243,255)\", \"line\": {\"width\": 0}, \"size\": [8.26, 2.14, 4.78]}, \"name\": \"June\", \"text\": [413.0, 107.0, 239.0], \"type\": \"scattergeo\", \"uid\": \"1b8f594e-3b1d-40ab-815a-12bf5ed5a562\"}, {\"autocolorscale\": false, \"colorscale\": [[0, \"rgb(0, 0, 0)\"], [1, \"rgb(0, 0, 0)\"]], \"geo\": \"geo2\", \"locationmode\": \"country names\", \"locations\": [\"Guinea\", \"Liberia\", \"Senegal\", \"Sierra Leone\"], \"showscale\": false, \"text\": [\"Guinea\", \"Liberia\", \"Senegal\", \"Sierra Leone\"], \"type\": \"choropleth\", \"uid\": \"fbc90ee3-1c6f-4e2b-aa10-01c52d866a19\", \"z\": [1022.0, 3362.0, 3.0, 1940.0]}, {\"geo\": \"geo2\", \"lat\": [7.1881], \"lon\": [21.0936], \"mode\": \"text\", \"showlegend\": false, \"text\": [\"Africa\"], \"type\": \"scattergeo\", \"uid\": \"cbc49820-51b9-47ea-9629-bee23812617d\"}],\n",
       "                        {\"geo\": {\"coastlinecolor\": \"rgb(255, 255, 255)\", \"countrycolor\": \"rgb(255, 255, 255)\", \"domain\": {\"x\": [0, 1], \"y\": [0, 1]}, \"landcolor\": \"rgb(229, 229, 229)\", \"lataxis\": {\"range\": [0.0, 12.0]}, \"lonaxis\": {\"range\": [-15.0, -5.0]}, \"projection\": {\"type\": \"mercator\"}, \"resolution\": 50, \"scope\": \"africa\", \"showcoastlines\": true, \"showframe\": false, \"showland\": true}, \"geo2\": {\"bgcolor\": \"rgba(255, 255, 255, 0.0)\", \"domain\": {\"x\": [0, 0.6], \"y\": [0, 0.6]}, \"landcolor\": \"rgb(229, 229, 229)\", \"scope\": \"north america\", \"showcountries\": true, \"showframe\": false, \"showland\": true}, \"legend\": {\"traceorder\": \"reversed\"}, \"title\": {\"text\": \"Ebola cases reported by month in West Africa 2014<br> Source: <a href=\\\"https://data.hdx.rwlabs.org/dataset/rowca-ebola-cases\\\">HDX</a>\"}},\n",
       "                        {\"showLink\": false, \"linkText\": \"Export to plot.ly\", \"plotlyServerURL\": \"https://plot.ly\", \"responsive\": true}\n",
       "                    ).then(function(){\n",
       "                            \n",
       "var gd = document.getElementById('fb95ca4d-954f-4d27-a305-00a2ca52d511');\n",
       "var x = new MutationObserver(function (mutations, observer) {{\n",
       "        var display = window.getComputedStyle(gd).display;\n",
       "        if (!display || display === 'none') {{\n",
       "            console.log([gd, 'removed!']);\n",
       "            Plotly.purge(gd);\n",
       "            observer.disconnect();\n",
       "        }}\n",
       "}});\n",
       "\n",
       "// Listen for the removal of the full notebook cells\n",
       "var notebookContainer = gd.closest('#notebook-container');\n",
       "if (notebookContainer) {{\n",
       "    x.observe(notebookContainer, {childList: true});\n",
       "}}\n",
       "\n",
       "// Listen for the clearing of the current output cell\n",
       "var outputEl = gd.closest('.output');\n",
       "if (outputEl) {{\n",
       "    x.observe(outputEl, {childList: true});\n",
       "}}\n",
       "\n",
       "                        })\n",
       "                };\n",
       "                });\n",
       "            </script>\n",
       "        </div>"
      ]
     },
     "metadata": {},
     "output_type": "display_data"
    }
   ],
   "source": [
    "import pandas as pd\n",
    "\n",
    "df = pd.read_csv('https://raw.githubusercontent.com/plotly/datasets/master/2014_ebola.csv')\n",
    "df.head()\n",
    "\n",
    "cases = []\n",
    "colors = ['rgb(239,243,255)','rgb(189,215,231)','rgb(107,174,214)','rgb(33,113,181)']\n",
    "months = {6:'June',7:'July',8:'Aug',9:'Sept'}\n",
    "\n",
    "for i in range(6,10)[::-1]:\n",
    "    cases.append(go.Scattergeo(\n",
    "            lon = df[ df['Month'] == i ]['Lon'], #-(max(range(6,10))-i),\n",
    "            lat = df[ df['Month'] == i ]['Lat'],\n",
    "            text = df[ df['Month'] == i ]['Value'],\n",
    "            name = months[i],\n",
    "            marker = go.scattergeo.Marker(\n",
    "                size = df[ df['Month'] == i ]['Value']/50,\n",
    "                color = colors[i-6],\n",
    "                line = go.scattergeo.marker.Line(width = 0)\n",
    "            )\n",
    "        )\n",
    "    )\n",
    "\n",
    "cases[0]['text'] = df[ df['Month'] == 9 ]['Value'].map('{:.0f}'.format).astype(str)+' '+\\\n",
    "    df[ df['Month'] == 9 ]['Country']\n",
    "cases[0]['mode'] = 'markers+text'\n",
    "cases[0]['textposition'] = 'bottom center'\n",
    "\n",
    "inset = [\n",
    "    go.Choropleth(\n",
    "        locationmode = 'country names',\n",
    "        locations = df[ df['Month'] == 9 ]['Country'],\n",
    "        z = df[ df['Month'] == 9 ]['Value'],\n",
    "        text = df[ df['Month'] == 9 ]['Country'],\n",
    "        colorscale = [[0,'rgb(0, 0, 0)'],[1,'rgb(0, 0, 0)']],\n",
    "        autocolorscale = False,\n",
    "        showscale = False,\n",
    "        geo = 'geo2'\n",
    "    ),\n",
    "    go.Scattergeo(\n",
    "        lon = [21.0936],\n",
    "        lat = [7.1881],\n",
    "        text = ['Africa'],\n",
    "        mode = 'text',\n",
    "        showlegend = False,\n",
    "        geo = 'geo2'\n",
    "    )\n",
    "]\n",
    "\n",
    "layout = go.Layout(\n",
    "    title = go.layout.Title(\n",
    "        text = 'Ebola cases reported by month in West Africa 2014<br> \\\n",
    "Source: <a href=\"https://data.hdx.rwlabs.org/dataset/rowca-ebola-cases\">\\\n",
    "HDX</a>'),\n",
    "    geo = go.layout.Geo(\n",
    "        resolution = 50,\n",
    "        scope = 'africa',\n",
    "        showframe = False,\n",
    "        showcoastlines = True,\n",
    "        showland = True,\n",
    "        landcolor = \"rgb(229, 229, 229)\",\n",
    "        countrycolor = \"rgb(255, 255, 255)\" ,\n",
    "        coastlinecolor = \"rgb(255, 255, 255)\",\n",
    "        projection = go.layout.geo.Projection(\n",
    "            type = 'mercator'\n",
    "        ),\n",
    "        lonaxis = go.layout.geo.Lonaxis(\n",
    "            range= [ -15.0, -5.0 ]\n",
    "        ),\n",
    "        lataxis = go.layout.geo.Lataxis(\n",
    "            range= [ 0.0, 12.0 ]\n",
    "        ),\n",
    "        domain = go.layout.geo.Domain(\n",
    "            x = [ 0, 1 ],\n",
    "            y = [ 0, 1 ]\n",
    "        )\n",
    "    ),\n",
    "    geo2 = go.layout.Geo(\n",
    "        scope = 'north america',\n",
    "        showframe = False,\n",
    "        showland = True,\n",
    "        landcolor = \"rgb(229, 229, 229)\",\n",
    "        showcountries = True,\n",
    "        domain = go.layout.geo.Domain(\n",
    "            x = [ 0, 0.6 ],\n",
    "            y = [ 0, 0.6 ]\n",
    "        ),\n",
    "        bgcolor = 'rgba(255, 255, 255, 0.0)',\n",
    "    ),\n",
    "    legend = go.layout.Legend(\n",
    "           traceorder = 'reversed'\n",
    "    )\n",
    ")\n",
    "\n",
    "fig = go.Figure(layout=layout, data=cases+inset)\n",
    "iplot(fig, filename='West Africa Ebola cases 2014')"
   ]
  },
  {
   "cell_type": "code",
   "execution_count": 45,
   "metadata": {},
   "outputs": [
    {
     "data": {
      "application/vnd.plotly.v1+json": {
       "config": {
        "linkText": "Export to plot.ly",
        "plotlyServerURL": "https://plot.ly",
        "showLink": false
       },
       "data": [
        {
         "lat": [
          "41.9",
          "41.9005",
          "41.900999999999996",
          "41.9015",
          "41.902",
          "41.902499999999996",
          "41.903",
          "41.9035",
          "41.903999999999996",
          "41.9045"
         ],
         "lon": [
          "-87.65",
          "-87.6495",
          "-87.649",
          "-87.64850000000001",
          "-87.64800000000001",
          "-87.64750000000001",
          "-87.647",
          "-87.6465",
          "-87.646",
          "-87.64550000000001"
         ],
         "marker": {
          "size": 9
         },
         "mode": "markers",
         "text": [
          "The coffee bar",
          "Bistro Bohem",
          "Black Cat",
          "Snap",
          "Columbia Heights Coffee",
          "Azi's Cafe",
          "Blind Dog Cafe",
          "Le Caprice",
          "Filter",
          "Peregrine"
         ],
         "type": "scattermapbox",
         "uid": "475d3055-2449-499d-a7e3-c6664de63c92"
        }
       ],
       "layout": {
        "autosize": true,
        "hovermode": "closest",
        "mapbox": {
         "accesstoken": "pk.eyJ1IjoibWVydnluMTUyIiwiYSI6ImNqeHpkNWZmdjAxczUzY29hbHVoandyMnUifQ.D-botzm1Hr6Gjs8jqwD5VA",
         "bearing": 0,
         "center": {
          "lat": 41.94,
          "lon": -87.65
         },
         "pitch": 0,
         "style": "mapbox://styles/mervyn152/cjy0sm1q506il1cp9gt19y457",
         "zoom": 9
        }
       }
      },
      "text/html": [
       "<div>\n",
       "        \n",
       "        \n",
       "            <div id=\"32a00081-e958-4541-81bb-f62b9af392df\" class=\"plotly-graph-div\" style=\"height:525px; width:100%;\"></div>\n",
       "            <script type=\"text/javascript\">\n",
       "                require([\"plotly\"], function(Plotly) {\n",
       "                    window.PLOTLYENV=window.PLOTLYENV || {};\n",
       "                    window.PLOTLYENV.BASE_URL='https://plot.ly';\n",
       "                    \n",
       "                if (document.getElementById(\"32a00081-e958-4541-81bb-f62b9af392df\")) {\n",
       "                    Plotly.newPlot(\n",
       "                        '32a00081-e958-4541-81bb-f62b9af392df',\n",
       "                        [{\"lat\": [\"41.9\", \"41.9005\", \"41.900999999999996\", \"41.9015\", \"41.902\", \"41.902499999999996\", \"41.903\", \"41.9035\", \"41.903999999999996\", \"41.9045\"], \"lon\": [\"-87.65\", \"-87.6495\", \"-87.649\", \"-87.64850000000001\", \"-87.64800000000001\", \"-87.64750000000001\", \"-87.647\", \"-87.6465\", \"-87.646\", \"-87.64550000000001\"], \"marker\": {\"size\": 9}, \"mode\": \"markers\", \"text\": [\"The coffee bar\", \"Bistro Bohem\", \"Black Cat\", \"Snap\", \"Columbia Heights Coffee\", \"Azi's Cafe\", \"Blind Dog Cafe\", \"Le Caprice\", \"Filter\", \"Peregrine\"], \"type\": \"scattermapbox\", \"uid\": \"475d3055-2449-499d-a7e3-c6664de63c92\"}],\n",
       "                        {\"autosize\": true, \"hovermode\": \"closest\", \"mapbox\": {\"accesstoken\": \"pk.eyJ1IjoibWVydnluMTUyIiwiYSI6ImNqeHpkNWZmdjAxczUzY29hbHVoandyMnUifQ.D-botzm1Hr6Gjs8jqwD5VA\", \"bearing\": 0, \"center\": {\"lat\": 41.94, \"lon\": -87.65}, \"pitch\": 0, \"style\": \"mapbox://styles/mervyn152/cjy0sm1q506il1cp9gt19y457\", \"zoom\": 9}},\n",
       "                        {\"showLink\": false, \"linkText\": \"Export to plot.ly\", \"plotlyServerURL\": \"https://plot.ly\", \"responsive\": true}\n",
       "                    ).then(function(){\n",
       "                            \n",
       "var gd = document.getElementById('32a00081-e958-4541-81bb-f62b9af392df');\n",
       "var x = new MutationObserver(function (mutations, observer) {{\n",
       "        var display = window.getComputedStyle(gd).display;\n",
       "        if (!display || display === 'none') {{\n",
       "            console.log([gd, 'removed!']);\n",
       "            Plotly.purge(gd);\n",
       "            observer.disconnect();\n",
       "        }}\n",
       "}});\n",
       "\n",
       "// Listen for the removal of the full notebook cells\n",
       "var notebookContainer = gd.closest('#notebook-container');\n",
       "if (notebookContainer) {{\n",
       "    x.observe(notebookContainer, {childList: true});\n",
       "}}\n",
       "\n",
       "// Listen for the clearing of the current output cell\n",
       "var outputEl = gd.closest('.output');\n",
       "if (outputEl) {{\n",
       "    x.observe(outputEl, {childList: true});\n",
       "}}\n",
       "\n",
       "                        })\n",
       "                };\n",
       "                });\n",
       "            </script>\n",
       "        </div>"
      ]
     },
     "metadata": {},
     "output_type": "display_data"
    }
   ],
   "source": [
    "import plotly.plotly as py\n",
    "import plotly.graph_objs as go\n",
    "\n",
    "mapbox_access_token = 'pk.eyJ1IjoibWVydnluMTUyIiwiYSI6ImNqeHpkNWZmdjAxczUzY29hbHVoandyMnUifQ.D-botzm1Hr6Gjs8jqwD5VA'\n",
    "\n",
    "data = [\n",
    "    go.Scattermapbox(\n",
    "        lat=[str(41.90+v/2000) for v in range(10)],\n",
    "        lon=[str(-87.65+v/2000) for v in range(10)],\n",
    "        mode='markers',\n",
    "        marker=go.scattermapbox.Marker(\n",
    "            size=9\n",
    "        ),\n",
    "        text=[\"The coffee bar\",\"Bistro Bohem\",\"Black Cat\",\n",
    "             \"Snap\",\"Columbia Heights Coffee\",\"Azi's Cafe\",\n",
    "             \"Blind Dog Cafe\",\"Le Caprice\",\"Filter\",\n",
    "             \"Peregrine\"],\n",
    "    )\n",
    "]\n",
    "\n",
    "layout = go.Layout(\n",
    "    autosize=True,\n",
    "    hovermode='closest',\n",
    "    mapbox=go.layout.Mapbox(\n",
    "        accesstoken=mapbox_access_token,\n",
    "        bearing=0,\n",
    "        center=go.layout.mapbox.Center(\n",
    "            lat=41.94, \n",
    "            lon=-87.65\n",
    "        ),\n",
    "        pitch=0,\n",
    "        zoom=9,\n",
    "        style = 'mapbox://styles/mervyn152/cjy0sm1q506il1cp9gt19y457'\n",
    "    ),\n",
    ")\n",
    "\n",
    "fig = go.Figure(data=data, layout=layout)\n",
    "iplot(fig, filename='Multiple Mapbox')"
   ]
  },
  {
   "cell_type": "code",
   "execution_count": null,
   "metadata": {},
   "outputs": [],
   "source": []
  }
 ],
 "metadata": {
  "kernelspec": {
   "display_name": "Python 3",
   "language": "python",
   "name": "python3"
  },
  "language_info": {
   "codemirror_mode": {
    "name": "ipython",
    "version": 3
   },
   "file_extension": ".py",
   "mimetype": "text/x-python",
   "name": "python",
   "nbconvert_exporter": "python",
   "pygments_lexer": "ipython3",
   "version": "3.7.0"
  }
 },
 "nbformat": 4,
 "nbformat_minor": 2
}
