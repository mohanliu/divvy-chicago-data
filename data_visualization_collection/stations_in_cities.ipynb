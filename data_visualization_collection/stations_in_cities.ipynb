{
 "cells": [
  {
   "cell_type": "code",
   "execution_count": 2,
   "metadata": {},
   "outputs": [],
   "source": [
    "import numpy as np\n",
    "import pandas as pd\n",
    "from multiprocessing import Pool, cpu_count\n",
    "import gc\n",
    "import time\n",
    "gc.enable()\n",
    "import seaborn as sns\n",
    "import matplotlib.pyplot as plt\n",
    "import warnings\n",
    "import re\n",
    "import requests\n",
    "import folium\n",
    "import branca.colormap as cm\n",
    "import geopy\n",
    "from tqdm import tqdm_notebook as tqdm\n",
    "import json\n",
    "\n",
    "warnings.filterwarnings('ignore')\n",
    "pd.set_option('display.max_rows', 1000)"
   ]
  },
  {
   "cell_type": "code",
   "execution_count": 4,
   "metadata": {},
   "outputs": [],
   "source": [
    "from shapely.geometry import shape, Point\n",
    "from shapely.ops import cascaded_union"
   ]
  },
  {
   "cell_type": "code",
   "execution_count": 5,
   "metadata": {},
   "outputs": [],
   "source": [
    "# Load zip geojson\n",
    "with open('../geo_data/Boundaries_ZIPCodes.geojson', 'r') as p:\n",
    "    zipcodes = json.load(p)"
   ]
  },
  {
   "cell_type": "code",
   "execution_count": 6,
   "metadata": {},
   "outputs": [],
   "source": [
    "# Merge all polygons\n",
    "polygons = []\n",
    "for feature in zipcodes['features']:\n",
    "    polygon = shape(feature['geometry'])\n",
    "    polygons.append(polygon)\n",
    "    \n",
    "chicago_area = cascaded_union(polygons)"
   ]
  },
  {
   "cell_type": "code",
   "execution_count": 9,
   "metadata": {},
   "outputs": [
    {
     "data": {
      "text/plain": [
       "{'_is_empty': False, '__geom__': 140624478899928, '__p__': None, '_ndim': 2}"
      ]
     },
     "execution_count": 9,
     "metadata": {},
     "output_type": "execute_result"
    }
   ],
   "source": []
  },
  {
   "cell_type": "code",
   "execution_count": null,
   "metadata": {},
   "outputs": [],
   "source": [
    "# Save to geojson file\n",
    "with open('../geo_data/chicago_bounds.geojson', 'w') as f:\n",
    "    pass"
   ]
  },
  {
   "cell_type": "code",
   "execution_count": null,
   "metadata": {},
   "outputs": [],
   "source": [
    "from folium import GeoJson\n",
    "\n",
    "check_map = folium.Map(location = [41.90, -87.64], zoom_start = 10)\n",
    "group = folium.FeatureGroup(name=\"O\")\n",
    "\n",
    "for lat, long in zip(lat_lst, lon_lst):\n",
    "    if lat == 0 or long == 0:\n",
    "        continue\n",
    "    point = Point(long, lat)\n",
    "    if not chicago_area.contains(point):\n",
    "        folium.CircleMarker([lat, long], color=\"blue\", fill=True, radius=5, weight=2, fill_opacity=0.4).add_to(group)\n",
    "    else:\n",
    "        folium.CircleMarker([lat, long], color=\"black\", fill=True, radius=5, weight=2, fill_opacity=0.3).add_to(group)    \n",
    "    \n",
    "GeoJson(chicago_area,\n",
    "           style_function=lambda feature: {\n",
    "               'fillColor': 'red', \n",
    "               'color' : 'red',\n",
    "               'weight' : 3,\n",
    "               'fillOpacity' : 0.2,\n",
    "        }\n",
    "       ).add_to(check_map)\n",
    "group.add_to(check_map)\n",
    "\n",
    "\n",
    "folium.LayerControl().add_to(check_map)\n",
    "check_map"
   ]
  }
 ],
 "metadata": {
  "kernelspec": {
   "display_name": "Python 3",
   "language": "python",
   "name": "python3"
  },
  "language_info": {
   "codemirror_mode": {
    "name": "ipython",
    "version": 3
   },
   "file_extension": ".py",
   "mimetype": "text/x-python",
   "name": "python",
   "nbconvert_exporter": "python",
   "pygments_lexer": "ipython3",
   "version": "3.7.0"
  }
 },
 "nbformat": 4,
 "nbformat_minor": 2
}
