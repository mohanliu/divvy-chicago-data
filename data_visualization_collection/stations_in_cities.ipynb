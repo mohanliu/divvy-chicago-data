{
 "cells": [
  {
   "cell_type": "code",
   "execution_count": 1,
   "metadata": {},
   "outputs": [],
   "source": [
    "import numpy as np\n",
    "import pandas as pd\n",
    "from multiprocessing import Pool, cpu_count\n",
    "import gc\n",
    "import time\n",
    "gc.enable()\n",
    "import seaborn as sns\n",
    "import matplotlib.pyplot as plt\n",
    "import warnings\n",
    "import re\n",
    "import requests\n",
    "import folium\n",
    "import branca.colormap as cm\n",
    "import geopy\n",
    "from tqdm import tqdm_notebook as tqdm\n",
    "import json\n",
    "import os\n",
    "import geojson\n",
    "\n",
    "warnings.filterwarnings('ignore')"
   ]
  },
  {
   "cell_type": "code",
   "execution_count": 2,
   "metadata": {},
   "outputs": [],
   "source": [
    "from shapely.geometry import shape, Point\n",
    "from shapely.ops import cascaded_union"
   ]
  },
  {
   "cell_type": "markdown",
   "metadata": {},
   "source": [
    "## Load Chicago area geojson"
   ]
  },
  {
   "cell_type": "code",
   "execution_count": 3,
   "metadata": {},
   "outputs": [
    {
     "name": "stdout",
     "output_type": "stream",
     "text": [
      "Loading geojson data for Chicago\n",
      "CPU times: user 52 ms, sys: 5.93 ms, total: 57.9 ms\n",
      "Wall time: 68.2 ms\n"
     ]
    }
   ],
   "source": [
    "%%time\n",
    "# Get Chicago area data\n",
    "if not os.path.exists('../geo_data/chicago.geojson'):\n",
    "    print(\"Creating geojson data for area of Chicago\")\n",
    "    # Load zip geojson\n",
    "    with open('../geo_data/Boundaries_ZIPCodes.geojson', 'r') as p:\n",
    "        zipcodes = json.load(p)\n",
    "        \n",
    "    # Merge all polygons\n",
    "    polygons = []\n",
    "    for feature in zipcodes['features']:\n",
    "        polygon = shape(feature['geometry'])\n",
    "        polygons.append(polygon)\n",
    "\n",
    "    chicago_area = cascaded_union(polygons)\n",
    "    \n",
    "    # Save to geojson file\n",
    "    with open('../geo_data/chicago.geojson', 'w') as f:\n",
    "        geojson.dump(chicago_area, f)\n",
    "else:\n",
    "    print(\"Loading geojson data for Chicago\")\n",
    "    with open('../geo_data/chicago.geojson', 'r') as f:\n",
    "        chicago_area = geojson.load(f)"
   ]
  },
  {
   "cell_type": "markdown",
   "metadata": {},
   "source": [
    "## Load Evanston data"
   ]
  },
  {
   "cell_type": "code",
   "execution_count": 4,
   "metadata": {},
   "outputs": [
    {
     "name": "stdout",
     "output_type": "stream",
     "text": [
      "Loading geojson data for Evanston\n",
      "CPU times: user 10.8 ms, sys: 2.94 ms, total: 13.7 ms\n",
      "Wall time: 15.3 ms\n"
     ]
    }
   ],
   "source": [
    "%%time\n",
    "# Get Evanston area data\n",
    "if not os.path.exists('../geo_data/evanston.geojson'):\n",
    "    print(\"Creating geojson data for area of Evanston\")\n",
    "    # Load zip geojson\n",
    "    with open('../geo_data/Zoning_Districts.geojson', 'r') as p:\n",
    "        zones = json.load(p)\n",
    "        \n",
    "    # Merge all polygons\n",
    "    polygons = []\n",
    "    for feature in zones['features']:\n",
    "        polygon = shape(feature['geometry'])\n",
    "        polygons.append(polygon)\n",
    "\n",
    "    evanston_area = cascaded_union(polygons)\n",
    "    \n",
    "    # Save to geojson file\n",
    "    with open('../geo_data/evanston.geojson', 'w') as f:\n",
    "        geojson.dump(evanston_area, f)\n",
    "else:\n",
    "    print(\"Loading geojson data for Evanston\")\n",
    "    with open('../geo_data/evanston.geojson', 'r') as f:\n",
    "        evanston_area = geojson.load(f)"
   ]
  },
  {
   "cell_type": "markdown",
   "metadata": {},
   "source": [
    "## Get data for Oak Park"
   ]
  },
  {
   "cell_type": "code",
   "execution_count": 5,
   "metadata": {},
   "outputs": [],
   "source": [
    "## get cook county data\n",
    "def _get_cook_county_data():\n",
    "    if not os.path.exists('../geo_data/cook_county.json'):\n",
    "        print(\"Collect Cook County data from web API.\")\n",
    "        res = requests.get('https://datacatalog.cookcountyil.gov/api/views/nr9b-xw4j/rows.json?accessType=DOWNLOAD')\n",
    "        json_f = res.json()['data']\n",
    "        with open('../geo_data/cook_county.json', 'w') as f:\n",
    "            json.dump(json_f, f)\n",
    "    else:\n",
    "        with open('../geo_data/cook_county.json', 'r') as f:\n",
    "            json_f = json.load(f)    \n",
    "    return json_f"
   ]
  },
  {
   "cell_type": "code",
   "execution_count": 6,
   "metadata": {},
   "outputs": [
    {
     "name": "stdout",
     "output_type": "stream",
     "text": [
      "Loading geojson data for area of Oak Park\n",
      "CPU times: user 3.22 ms, sys: 2.18 ms, total: 5.4 ms\n",
      "Wall time: 12 ms\n"
     ]
    }
   ],
   "source": [
    "%%time\n",
    "import shapely.wkt\n",
    "if not os.path.exists('../geo_data/oak_park.geojson'):\n",
    "    print(\"Creating geojson data for area of Oak Park\")\n",
    "    ccjs = _get_cook_county_data()\n",
    "    for i in range(len(ccjs)):\n",
    "        city = ccjs[i][-7]\n",
    "        if 'oak park' in city.lower():\n",
    "            opraw = ccjs[i]\n",
    "            \n",
    "    oak_park_area = shapely.wkt.loads(opraw[8])\n",
    "    with open('../geo_data/oak_park.geojson', 'w') as f:\n",
    "        geojson.dump(oak_park_area, f)\n",
    "else:\n",
    "    print(\"Loading geojson data for area of Oak Park\")\n",
    "    with open('../geo_data/oak_park.geojson', 'r') as f:\n",
    "        oak_park_area = geojson.load(f)"
   ]
  },
  {
   "cell_type": "markdown",
   "metadata": {},
   "source": [
    "## Collecting station data"
   ]
  },
  {
   "cell_type": "code",
   "execution_count": 7,
   "metadata": {},
   "outputs": [
    {
     "name": "stdout",
     "output_type": "stream",
     "text": [
      "CPU times: user 34.4 ms, sys: 36.4 ms, total: 70.8 ms\n",
      "Wall time: 226 ms\n"
     ]
    }
   ],
   "source": [
    "%%time\n",
    "# Load from preprocessed data\n",
    "sd = pd.read_feather('../data/final_station_data.feather')"
   ]
  },
  {
   "cell_type": "code",
   "execution_count": 8,
   "metadata": {},
   "outputs": [
    {
     "data": {
      "text/plain": [
       "1.0"
      ]
     },
     "execution_count": 8,
     "metadata": {},
     "output_type": "execute_result"
    }
   ],
   "source": [
    "sd.iloc[0].city_Chicago"
   ]
  },
  {
   "cell_type": "code",
   "execution_count": 9,
   "metadata": {},
   "outputs": [
    {
     "name": "stdout",
     "output_type": "stream",
     "text": [
      "<class 'pandas.core.frame.DataFrame'>\n",
      "RangeIndex: 618 entries, 0 to 617\n",
      "Data columns (total 12 columns):\n",
      "index            618 non-null int64\n",
      "id               618 non-null int64\n",
      "lon_ave          618 non-null float64\n",
      "lat_ave          618 non-null float64\n",
      "dp_max           618 non-null float64\n",
      "dp_min           618 non-null float64\n",
      "online_month     618 non-null float64\n",
      "online_day       618 non-null float64\n",
      "online_year      618 non-null float64\n",
      "city_Chicago     618 non-null uint8\n",
      "city_Evanston    618 non-null uint8\n",
      "city_Oak_Park    618 non-null uint8\n",
      "dtypes: float64(7), int64(2), uint8(3)\n",
      "memory usage: 45.3 KB\n"
     ]
    }
   ],
   "source": [
    "sd.info()"
   ]
  },
  {
   "cell_type": "markdown",
   "metadata": {},
   "source": [
    "## Plot stations on the map"
   ]
  },
  {
   "cell_type": "markdown",
   "metadata": {},
   "source": [
    "Choose colors based on this [ref](https://github.com/gravitystorm/openstreetmap-carto/issues/3641)\n",
    "\n",
    "List of colors:\n",
    "```python\n",
    "class Icon(MacroElement):\n",
    "    \"\"\"\n",
    "    Creates an Icon object that will be rendered\n",
    "    using Leaflet.awesome-markers.\n",
    "\n",
    "    Parameters\n",
    "    ----------\n",
    "    color : str, default 'blue'\n",
    "        The color of the marker. You can use:\n",
    "\n",
    "            ['red', 'blue', 'green', 'purple', 'orange', 'darkred',\n",
    "             'lightred', 'beige', 'darkblue', 'darkgreen', 'cadetblue',\n",
    "             'darkpurple', 'white', 'pink', 'lightblue', 'lightgreen',\n",
    "             'gray', 'black', 'lightgray']\n",
    "\n",
    "    icon_color : str, default 'white'\n",
    "        The color of the drawing on the marker. You can use colors above,\n",
    "        or an html color code.\n",
    "```"
   ]
  },
  {
   "cell_type": "code",
   "execution_count": 42,
   "metadata": {},
   "outputs": [],
   "source": [
    "from folium import GeoJson\n",
    "from folium.map import Popup\n",
    "\n",
    "divvy_station_map = folium.Map(location = [41.90, -87.64], tiles='Stamen Toner', zoom_start = 13.5)\n",
    "\n",
    "\n",
    "for i in range(sd.shape[0]):\n",
    "    long = sd.iloc[i].lon_ave\n",
    "    lat = sd.iloc[i].lat_ave\n",
    "    point = Point(long, lat)\n",
    "\n",
    "    folium.Marker([lat, long], \n",
    "                   popup=Popup(\n",
    "                       'station_id: {}\\n longitude: {:.3f}\\n lattitude: {:.3f}'.format(\n",
    "                           int(sd.iloc[i].id), float(long), float(lat)\n",
    "                       ),\n",
    "                       max_width=1\n",
    "                              ),\n",
    "                   icon=folium.Icon(icon='bicycle', color='beige', prefix='fa')\n",
    "                ).add_to(divvy_station_map)\n",
    "\n",
    "divvy_station_map\n",
    "#divvy_station_map.save('bikestations.html')"
   ]
  },
  {
   "cell_type": "markdown",
   "metadata": {},
   "source": [
    "## Plot stations density"
   ]
  },
  {
   "cell_type": "markdown",
   "metadata": {},
   "source": [
    "Folium API for [Choropleth](https://python-visualization.github.io/folium/modules.html#module-folium.features)"
   ]
  },
  {
   "cell_type": "code",
   "execution_count": 11,
   "metadata": {},
   "outputs": [],
   "source": [
    "# Load zip geojson\n",
    "with open('../geo_data/Boundaries_ZIPCodes.geojson', 'r') as p:\n",
    "    zipcodes = json.load(p)\n",
    "\n",
    "# Create a dictionary with (key: zipcodes, value: polygon)\n",
    "polygons_dict = {}\n",
    "for feature in zipcodes['features']:\n",
    "    polygon = shape(feature['geometry'])\n",
    "    polygons_dict[feature['properties']['zip']] = polygon"
   ]
  },
  {
   "cell_type": "code",
   "execution_count": 12,
   "metadata": {},
   "outputs": [],
   "source": [
    "# Count number of stations in each zipcode zone\n",
    "zip_dict = {}\n",
    "for lon, lat in zip(np.array(sd.lon_ave), np.array(sd.lat_ave)):\n",
    "    p = Point(lon, lat)\n",
    "    for z, po in polygons_dict.items():\n",
    "        if po.contains(p):\n",
    "            if z in zip_dict:\n",
    "                zip_dict[z] += 1\n",
    "            else:\n",
    "                zip_dict[z] = 1\n",
    "            break\n",
    "             "
   ]
  },
  {
   "cell_type": "code",
   "execution_count": 13,
   "metadata": {},
   "outputs": [],
   "source": [
    "# Convert dict data into a dataframe\n",
    "df = pd.DataFrame()\n",
    "\n",
    "df['zipcode'] = zip_dict.keys()\n",
    "df['count'] = zip_dict.values()"
   ]
  },
  {
   "cell_type": "code",
   "execution_count": 43,
   "metadata": {},
   "outputs": [],
   "source": [
    "m = folium.Map(location = [41.85, -87.65], tiles='cartodbpositron', zoom_start = 10, width=500)\n",
    "\n",
    "folium.Choropleth(\n",
    "    geo_data=zipcodes,\n",
    "    name='num_bike_stations',\n",
    "    data=df,\n",
    "    columns=['zipcode', 'count'],\n",
    "    key_on='feature.properties.zip',\n",
    "    bins=8,\n",
    "    fill_color='YlOrRd',\n",
    "    fill_opacity=0.7,\n",
    "    line_opacity=0.2,\n",
    "    nan_fill_color='white',\n",
    "    legend_name='Number of bike stations'\n",
    ").add_to(m)\n",
    "\n",
    "m\n",
    "#m.save('bikestation_density.html')"
   ]
  },
  {
   "cell_type": "code",
   "execution_count": null,
   "metadata": {},
   "outputs": [],
   "source": []
  }
 ],
 "metadata": {
  "kernelspec": {
   "display_name": "Python 3",
   "language": "python",
   "name": "python3"
  },
  "language_info": {
   "codemirror_mode": {
    "name": "ipython",
    "version": 3
   },
   "file_extension": ".py",
   "mimetype": "text/x-python",
   "name": "python",
   "nbconvert_exporter": "python",
   "pygments_lexer": "ipython3",
   "version": "3.7.0"
  }
 },
 "nbformat": 4,
 "nbformat_minor": 2
}
