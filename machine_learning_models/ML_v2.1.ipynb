{
 "cells": [
  {
   "cell_type": "code",
   "execution_count": 2,
   "metadata": {},
   "outputs": [],
   "source": [
    "# Major version: the feature setup\n",
    "# Minor version: model hypertunning\n",
    "VERSION = 'v2.1'\n",
    "major_VERSION = VERSION.split('.')[0]+'.0'"
   ]
  },
  {
   "cell_type": "markdown",
   "metadata": {},
   "source": [
    "# Model Details\n",
    "## Features:\n",
    "- One hot encoded **day of week** and **month** (not year)\n",
    "- Weather feature (OHE):\n",
    "    - Icons (cloudy, partial cloudy, ...)\n",
    "    - Precipitates Type (None, Snow, Sleet, Rain)\n",
    "- Station info:\n",
    "    - community area (OHE)\n",
    "    - capacity\n",
    "    - long, lat\n",
    "    \n",
    "## Target\n",
    "- Log scale/normal scale\n",
    "    \n",
    "# Work Flow\n",
    "## Training Preprocessing\n",
    "- Merge station community area (Join tables)\n",
    "- Drop id after merging\n",
    "- Add weather info (temp_high/low, and OHE ICONs and Precipitates Types)\n",
    "- Convert to numpy matrix\n",
    "\n",
    "## Pipeline\n",
    "- OHE on date time (Remember column indices)\n",
    "- Scaling for `year, lon_ave, lat_ave, dp_max, temp_high, temp_low` (`MinMaxScaler`)\n",
    "- Regressor()\n",
    "\n",
    "## Test Preprocessing\n",
    "- Start with Pandas template (station_id, lon_ave, lat_ave, dp_max, OHE community area)\n",
    "- Add weather info (temp_high/low, and OHE ICONs and Precipitates Types)\n",
    "- Convert to numpy matrix\n",
    "\n",
    "## Post prediction\n",
    "- Rescale if trained on log\n",
    "- Hard cap negative (activation function)"
   ]
  },
  {
   "cell_type": "code",
   "execution_count": 2,
   "metadata": {},
   "outputs": [],
   "source": [
    "import numpy as np\n",
    "import pandas as pd\n",
    "import matplotlib.pyplot as plt\n",
    "import os\n",
    "import pickle\n",
    "from tqdm import tqdm_notebook as tqdm"
   ]
  },
  {
   "cell_type": "markdown",
   "metadata": {},
   "source": [
    "## Load data"
   ]
  },
  {
   "cell_type": "code",
   "execution_count": 3,
   "metadata": {},
   "outputs": [],
   "source": [
    "INFO_verbose = False"
   ]
  },
  {
   "cell_type": "code",
   "execution_count": 4,
   "metadata": {},
   "outputs": [
    {
     "name": "stdout",
     "output_type": "stream",
     "text": [
      "CPU times: user 3.03 ms, sys: 2.56 ms, total: 5.59 ms\n",
      "Wall time: 6.6 ms\n"
     ]
    }
   ],
   "source": [
    "%%time\n",
    "st_template = pd.read_pickle('../data/model_v1.0_template.pk')"
   ]
  },
  {
   "cell_type": "code",
   "execution_count": 5,
   "metadata": {},
   "outputs": [],
   "source": [
    "if INFO_verbose:\n",
    "    st_template.info()"
   ]
  },
  {
   "cell_type": "code",
   "execution_count": 6,
   "metadata": {},
   "outputs": [
    {
     "name": "stdout",
     "output_type": "stream",
     "text": [
      "Loading from previous pickle file.\n",
      "CPU times: user 193 ms, sys: 496 ms, total: 688 ms\n",
      "Wall time: 715 ms\n"
     ]
    }
   ],
   "source": [
    "%%time\n",
    "## load preprocessed data\n",
    "\n",
    "if os.path.exists('../data/divvy_data_model_'+major_VERSION+'.pk'):\n",
    "    print(\"Loading from previous pickle file.\")\n",
    "    data = pd.read_pickle('../data/divvy_data_model_'+major_VERSION+'.pk')\n",
    "else:\n",
    "    print(\"Create data set for this model... \")\n",
    "    data_lst = []\n",
    "\n",
    "    for year in [2013, 2014, 2015, 2016, 2017, 2018]:\n",
    "        dt_tmp = pd.read_feather('../data/Final_Divvy_data_'+str(year)+'.feather')\n",
    "        data_lst.append(dt_tmp)\n",
    "\n",
    "    data = pd.concat(data_lst, ignore_index=True, sort=True) # !!! Careful with Pandas future version\n",
    "\n",
    "\n",
    "    data.to_pickle('../data/divvy_data_model_'+major_VERSION+'.pk')\n",
    "    print(\"Data saved to pickle file\")"
   ]
  },
  {
   "cell_type": "code",
   "execution_count": 7,
   "metadata": {},
   "outputs": [],
   "source": [
    "if INFO_verbose:\n",
    "    data.info()"
   ]
  },
  {
   "cell_type": "markdown",
   "metadata": {},
   "source": [
    "## Prepare Historical Data table\n",
    "- Group data by `station_id`, `month`, `year`, `total_out`\n",
    "- Calculated average of previous historical data\n",
    "- Add New station Flag\n",
    "- Fill nan with zero"
   ]
  },
  {
   "cell_type": "code",
   "execution_count": 8,
   "metadata": {},
   "outputs": [],
   "source": [
    "def _get_previous_ave(row, year):\n",
    "    tmp_sum = 0\n",
    "    tmp_count = 0\n",
    "    for y in range(2013, year):\n",
    "        if not np.isnan(row.total_out[y]):\n",
    "            tmp_count += 1\n",
    "            tmp_sum += row.total_out[y]\n",
    "            \n",
    "    if tmp_count == 0:\n",
    "        return \n",
    "    \n",
    "    return tmp_sum/tmp_count\n",
    "\n",
    "def _check_if_new(row, year):\n",
    "    for y in range(2013, year):\n",
    "        if not np.isnan(row.total_out[y]):\n",
    "            return 1\n",
    "            \n",
    "    return 0"
   ]
  },
  {
   "cell_type": "code",
   "execution_count": 9,
   "metadata": {},
   "outputs": [
    {
     "name": "stdout",
     "output_type": "stream",
     "text": [
      "Load data\n",
      "CPU times: user 31.8 ms, sys: 39.6 ms, total: 71.4 ms\n",
      "Wall time: 239 ms\n"
     ]
    }
   ],
   "source": [
    "%%time\n",
    "if not os.path.exists('../data/historical_data.feather'):\n",
    "    print(\"Get new historical data\")\n",
    "    historical_raw = data[['station_id', 'month', 'year', 'total_out']]\\\n",
    "                        .groupby(['station_id', 'month', 'year'])\\\n",
    "                        .mean().unstack(level=-1).reset_index().copy()\n",
    "\n",
    "    for y in tqdm([2013, 2014, 2015, 2016, 2017, 2018, 2019]):\n",
    "        historical_raw['hisave_'+str(y)] = historical_raw.apply(lambda row: _get_previous_ave(row, y), axis=1)\n",
    "        historical_raw['newstation_'+str(y)] = historical_raw.apply(lambda row: _check_if_new(row, y), axis=1)\n",
    "        \n",
    "    history_df = pd.DataFrame()\n",
    "    for y in [2013, 2014, 2015, 2016, 2017, 2018, 2019]:\n",
    "        tmp = pd.DataFrame()\n",
    "        tmp['station_id'] = historical_raw.station_id\n",
    "        tmp['month'] = historical_raw.month\n",
    "        tmp['year'] = y\n",
    "        tmp['historical_ave'] = historical_raw['hisave_'+str(y)]\n",
    "        tmp['newstation'] = historical_raw['newstation_'+str(y)]\n",
    "        history_df = pd.concat([history_df, tmp], ignore_index=True, sort=False) \n",
    "    history_df = history_df.fillna(0)\n",
    "    history_df.to_feather('../data/historical_data.feather')\n",
    "else:\n",
    "    print(\"Load data\")\n",
    "    history_df = pd.read_feather('../data/historical_data.feather')"
   ]
  },
  {
   "cell_type": "code",
   "execution_count": 10,
   "metadata": {},
   "outputs": [],
   "source": [
    "future_tmplt = history_df[history_df.year == 2019][['station_id', 'month', 'historical_ave', 'newstation']]\\\n",
    "    .sort_values(by='month').reset_index()\n",
    "future_tmplt.to_pickle('../data/future_hist.pk')"
   ]
  },
  {
   "cell_type": "code",
   "execution_count": 11,
   "metadata": {},
   "outputs": [
    {
     "name": "stdout",
     "output_type": "stream",
     "text": [
      "<class 'pandas.core.frame.DataFrame'>\n",
      "RangeIndex: 50022 entries, 0 to 50021\n",
      "Data columns (total 5 columns):\n",
      "station_id        50022 non-null int64\n",
      "month             50022 non-null int64\n",
      "year              50022 non-null int64\n",
      "historical_ave    50022 non-null float64\n",
      "newstation        50022 non-null int64\n",
      "dtypes: float64(1), int64(4)\n",
      "memory usage: 1.9 MB\n"
     ]
    }
   ],
   "source": [
    "history_df.info()"
   ]
  },
  {
   "cell_type": "code",
   "execution_count": 12,
   "metadata": {},
   "outputs": [
    {
     "name": "stdout",
     "output_type": "stream",
     "text": [
      "CPU times: user 940 ms, sys: 318 ms, total: 1.26 s\n",
      "Wall time: 999 ms\n"
     ]
    }
   ],
   "source": [
    "%%time\n",
    "data = pd.merge(data, history_df, on=['year', 'month', 'station_id'], how='left')"
   ]
  },
  {
   "cell_type": "code",
   "execution_count": 13,
   "metadata": {},
   "outputs": [],
   "source": [
    "if INFO_verbose:\n",
    "    data.info()"
   ]
  },
  {
   "cell_type": "markdown",
   "metadata": {},
   "source": [
    "## Get target value"
   ]
  },
  {
   "cell_type": "code",
   "execution_count": 14,
   "metadata": {},
   "outputs": [],
   "source": [
    "target_in = data.total_in \n",
    "target_out = data.total_out\n",
    "target_diff = data.total_out - data.historical_ave"
   ]
  },
  {
   "cell_type": "code",
   "execution_count": 123,
   "metadata": {},
   "outputs": [
    {
     "data": {
      "text/plain": [
       "731037"
      ]
     },
     "execution_count": 123,
     "metadata": {},
     "output_type": "execute_result"
    }
   ],
   "source": [
    "data[data.year < 2018].year.count()"
   ]
  },
  {
   "cell_type": "code",
   "execution_count": 125,
   "metadata": {},
   "outputs": [
    {
     "data": {
      "text/plain": [
       "216478"
      ]
     },
     "execution_count": 125,
     "metadata": {},
     "output_type": "execute_result"
    }
   ],
   "source": [
    "data[data.year >= 2018].year.count()"
   ]
  },
  {
   "cell_type": "code",
   "execution_count": 205,
   "metadata": {},
   "outputs": [
    {
     "data": {
      "text/plain": [
       "total_out         29.931142\n",
       "historical_ave    27.066078\n",
       "dtype: float64"
      ]
     },
     "execution_count": 205,
     "metadata": {},
     "output_type": "execute_result"
    }
   ],
   "source": [
    "data[(data.year > 2017) & (data.month == 7)][['total_out', 'historical_ave']].mean()"
   ]
  },
  {
   "cell_type": "markdown",
   "metadata": {},
   "source": [
    "## Prepare features"
   ]
  },
  {
   "cell_type": "code",
   "execution_count": 15,
   "metadata": {},
   "outputs": [],
   "source": [
    "# Prescreening for useful features\n",
    "feats = pd.merge(data[['station_id', 'month', 'dayofweek', 'year',\n",
    "                       'icon_clear-day', 'icon_cloudy', 'icon_fog', \n",
    "                       'icon_partly-cloudy-day', 'icon_rain', \n",
    "                       'icon_sleet', 'icon_snow',\n",
    "                       'temperatureHigh', 'temperatureLow',\n",
    "                       'historical_ave', 'newstation',\n",
    "                         ]], st_template, \n",
    "                    left_on='station_id', right_on='id').drop(['station_id', 'id'], axis=1)"
   ]
  },
  {
   "cell_type": "code",
   "execution_count": 154,
   "metadata": {},
   "outputs": [
    {
     "name": "stdout",
     "output_type": "stream",
     "text": [
      "<class 'pandas.core.frame.DataFrame'>\n",
      "Int64Index: 947515 entries, 0 to 947514\n",
      "Data columns (total 64 columns):\n",
      "month                                    947515 non-null int64\n",
      "dayofweek                                947515 non-null int64\n",
      "year                                     947515 non-null float64\n",
      "icon_clear-day                           947515 non-null int64\n",
      "icon_cloudy                              947515 non-null int64\n",
      "icon_fog                                 380828 non-null float64\n",
      "icon_partly-cloudy-day                   947515 non-null int64\n",
      "icon_rain                                947515 non-null int64\n",
      "icon_sleet                               566687 non-null float64\n",
      "icon_snow                                735051 non-null float64\n",
      "temperatureHigh                          947515 non-null float64\n",
      "temperatureLow                           947515 non-null float64\n",
      "historical_ave                           947515 non-null float64\n",
      "newstation                               947515 non-null int64\n",
      "lon_ave                                  947515 non-null float64\n",
      "lat_ave                                  947515 non-null float64\n",
      "dp_max                                   947515 non-null float64\n",
      "community_area_ALBANY_PARK               947515 non-null uint8\n",
      "community_area_ARMOUR_SQUARE             947515 non-null uint8\n",
      "community_area_AUSTIN                    947515 non-null uint8\n",
      "community_area_AVALON_PARK               947515 non-null uint8\n",
      "community_area_AVONDALE                  947515 non-null uint8\n",
      "community_area_BRIDGEPORT                947515 non-null uint8\n",
      "community_area_CHATHAM                   947515 non-null uint8\n",
      "community_area_DOUGLAS                   947515 non-null uint8\n",
      "community_area_EAST_GARFIELD_PARK        947515 non-null uint8\n",
      "community_area_EDGEWATER                 947515 non-null uint8\n",
      "community_area_ENGLEWOOD                 947515 non-null uint8\n",
      "community_area_Evanston                  947515 non-null uint8\n",
      "community_area_FULLER_PARK               947515 non-null uint8\n",
      "community_area_GRAND_BOULEVARD           947515 non-null uint8\n",
      "community_area_GREATER_GRAND_CROSSING    947515 non-null uint8\n",
      "community_area_HERMOSA                   947515 non-null uint8\n",
      "community_area_HUMBOLDT_PARK             947515 non-null uint8\n",
      "community_area_HYDE_PARK                 947515 non-null uint8\n",
      "community_area_IRVING_PARK               947515 non-null uint8\n",
      "community_area_KENWOOD                   947515 non-null uint8\n",
      "community_area_LAKE_VIEW                 947515 non-null uint8\n",
      "community_area_LINCOLN_PARK              947515 non-null uint8\n",
      "community_area_LINCOLN_SQUARE            947515 non-null uint8\n",
      "community_area_LOGAN_SQUARE              947515 non-null uint8\n",
      "community_area_LOOP                      947515 non-null uint8\n",
      "community_area_LOWER_WEST_SIDE           947515 non-null uint8\n",
      "community_area_MCKINLEY_PARK             947515 non-null uint8\n",
      "community_area_NEAR_NORTH_SIDE           947515 non-null uint8\n",
      "community_area_NEAR_SOUTH_SIDE           947515 non-null uint8\n",
      "community_area_NEAR_WEST_SIDE            947515 non-null uint8\n",
      "community_area_NEW_CITY                  947515 non-null uint8\n",
      "community_area_NORTH_CENTER              947515 non-null uint8\n",
      "community_area_NORTH_LAWNDALE            947515 non-null uint8\n",
      "community_area_NORTH_PARK                947515 non-null uint8\n",
      "community_area_Oak_Park                  947515 non-null uint8\n",
      "community_area_PORTAGE_PARK              947515 non-null uint8\n",
      "community_area_ROGERS_PARK               947515 non-null uint8\n",
      "community_area_SOUTH_CHICAGO             947515 non-null uint8\n",
      "community_area_SOUTH_LAWNDALE            947515 non-null uint8\n",
      "community_area_SOUTH_SHORE               947515 non-null uint8\n",
      "community_area_UPTOWN                    947515 non-null uint8\n",
      "community_area_WASHINGTON_PARK           947515 non-null uint8\n",
      "community_area_WEST_ENGLEWOOD            947515 non-null uint8\n",
      "community_area_WEST_GARFIELD_PARK        947515 non-null uint8\n",
      "community_area_WEST_RIDGE                947515 non-null uint8\n",
      "community_area_WEST_TOWN                 947515 non-null uint8\n",
      "community_area_WOODLAWN                  947515 non-null uint8\n",
      "dtypes: float64(10), int64(7), uint8(47)\n",
      "memory usage: 172.6 MB\n"
     ]
    }
   ],
   "source": [
    "feats.info()"
   ]
  },
  {
   "cell_type": "markdown",
   "metadata": {},
   "source": [
    "## Reordering dataframe"
   ]
  },
  {
   "cell_type": "code",
   "execution_count": 155,
   "metadata": {},
   "outputs": [],
   "source": [
    "# Reordering\n",
    "cols = []\n",
    "cols.extend(feats.columns[17:])\n",
    "cols.extend(feats.columns[3:17])\n",
    "cols.extend(feats.columns[:2])"
   ]
  },
  {
   "cell_type": "code",
   "execution_count": 156,
   "metadata": {},
   "outputs": [],
   "source": [
    "feats_ro = feats[cols]"
   ]
  },
  {
   "cell_type": "code",
   "execution_count": 157,
   "metadata": {},
   "outputs": [],
   "source": [
    "if INFO_verbose:\n",
    "    feats_ro.info()"
   ]
  },
  {
   "cell_type": "code",
   "execution_count": 158,
   "metadata": {},
   "outputs": [],
   "source": [
    "feats_ro = feats_ro.fillna(0)"
   ]
  },
  {
   "cell_type": "code",
   "execution_count": 159,
   "metadata": {},
   "outputs": [
    {
     "name": "stdout",
     "output_type": "stream",
     "text": [
      "<class 'pandas.core.frame.DataFrame'>\n",
      "Int64Index: 947515 entries, 0 to 947514\n",
      "Data columns (total 63 columns):\n",
      "community_area_ALBANY_PARK               947515 non-null uint8\n",
      "community_area_ARMOUR_SQUARE             947515 non-null uint8\n",
      "community_area_AUSTIN                    947515 non-null uint8\n",
      "community_area_AVALON_PARK               947515 non-null uint8\n",
      "community_area_AVONDALE                  947515 non-null uint8\n",
      "community_area_BRIDGEPORT                947515 non-null uint8\n",
      "community_area_CHATHAM                   947515 non-null uint8\n",
      "community_area_DOUGLAS                   947515 non-null uint8\n",
      "community_area_EAST_GARFIELD_PARK        947515 non-null uint8\n",
      "community_area_EDGEWATER                 947515 non-null uint8\n",
      "community_area_ENGLEWOOD                 947515 non-null uint8\n",
      "community_area_Evanston                  947515 non-null uint8\n",
      "community_area_FULLER_PARK               947515 non-null uint8\n",
      "community_area_GRAND_BOULEVARD           947515 non-null uint8\n",
      "community_area_GREATER_GRAND_CROSSING    947515 non-null uint8\n",
      "community_area_HERMOSA                   947515 non-null uint8\n",
      "community_area_HUMBOLDT_PARK             947515 non-null uint8\n",
      "community_area_HYDE_PARK                 947515 non-null uint8\n",
      "community_area_IRVING_PARK               947515 non-null uint8\n",
      "community_area_KENWOOD                   947515 non-null uint8\n",
      "community_area_LAKE_VIEW                 947515 non-null uint8\n",
      "community_area_LINCOLN_PARK              947515 non-null uint8\n",
      "community_area_LINCOLN_SQUARE            947515 non-null uint8\n",
      "community_area_LOGAN_SQUARE              947515 non-null uint8\n",
      "community_area_LOOP                      947515 non-null uint8\n",
      "community_area_LOWER_WEST_SIDE           947515 non-null uint8\n",
      "community_area_MCKINLEY_PARK             947515 non-null uint8\n",
      "community_area_NEAR_NORTH_SIDE           947515 non-null uint8\n",
      "community_area_NEAR_SOUTH_SIDE           947515 non-null uint8\n",
      "community_area_NEAR_WEST_SIDE            947515 non-null uint8\n",
      "community_area_NEW_CITY                  947515 non-null uint8\n",
      "community_area_NORTH_CENTER              947515 non-null uint8\n",
      "community_area_NORTH_LAWNDALE            947515 non-null uint8\n",
      "community_area_NORTH_PARK                947515 non-null uint8\n",
      "community_area_Oak_Park                  947515 non-null uint8\n",
      "community_area_PORTAGE_PARK              947515 non-null uint8\n",
      "community_area_ROGERS_PARK               947515 non-null uint8\n",
      "community_area_SOUTH_CHICAGO             947515 non-null uint8\n",
      "community_area_SOUTH_LAWNDALE            947515 non-null uint8\n",
      "community_area_SOUTH_SHORE               947515 non-null uint8\n",
      "community_area_UPTOWN                    947515 non-null uint8\n",
      "community_area_WASHINGTON_PARK           947515 non-null uint8\n",
      "community_area_WEST_ENGLEWOOD            947515 non-null uint8\n",
      "community_area_WEST_GARFIELD_PARK        947515 non-null uint8\n",
      "community_area_WEST_RIDGE                947515 non-null uint8\n",
      "community_area_WEST_TOWN                 947515 non-null uint8\n",
      "community_area_WOODLAWN                  947515 non-null uint8\n",
      "icon_clear-day                           947515 non-null int64\n",
      "icon_cloudy                              947515 non-null int64\n",
      "icon_fog                                 947515 non-null float64\n",
      "icon_partly-cloudy-day                   947515 non-null int64\n",
      "icon_rain                                947515 non-null int64\n",
      "icon_sleet                               947515 non-null float64\n",
      "icon_snow                                947515 non-null float64\n",
      "temperatureHigh                          947515 non-null float64\n",
      "temperatureLow                           947515 non-null float64\n",
      "historical_ave                           947515 non-null float64\n",
      "newstation                               947515 non-null int64\n",
      "lon_ave                                  947515 non-null float64\n",
      "lat_ave                                  947515 non-null float64\n",
      "dp_max                                   947515 non-null float64\n",
      "month                                    947515 non-null int64\n",
      "dayofweek                                947515 non-null int64\n",
      "dtypes: float64(9), int64(7), uint8(47)\n",
      "memory usage: 165.4 MB\n"
     ]
    }
   ],
   "source": [
    "feats_ro.info()"
   ]
  },
  {
   "cell_type": "markdown",
   "metadata": {},
   "source": [
    "## One hot encoding date"
   ]
  },
  {
   "cell_type": "code",
   "execution_count": 160,
   "metadata": {},
   "outputs": [],
   "source": [
    "feats_fnl = pd.get_dummies(feats_ro, columns=['month', 'dayofweek'])"
   ]
  },
  {
   "cell_type": "markdown",
   "metadata": {},
   "source": [
    "## Save model details into txt "
   ]
  },
  {
   "cell_type": "code",
   "execution_count": 161,
   "metadata": {},
   "outputs": [],
   "source": [
    "import io\n",
    "\n",
    "buffer = io.StringIO()\n",
    "feats_fnl.info(buf=buffer)\n",
    "s = buffer.getvalue()\n",
    "\n",
    "with open(\"../model_features_details/features_\"+major_VERSION+'.txt', \"w\", encoding=\"utf-8\") as f: \n",
    "    f.write(s)"
   ]
  },
  {
   "cell_type": "markdown",
   "metadata": {},
   "source": [
    "## Convert to numpy matrix "
   ]
  },
  {
   "cell_type": "code",
   "execution_count": 162,
   "metadata": {},
   "outputs": [],
   "source": [
    "features_ = feats_fnl.to_numpy()"
   ]
  },
  {
   "cell_type": "code",
   "execution_count": 163,
   "metadata": {},
   "outputs": [
    {
     "data": {
      "text/plain": [
       "(947515, 80)"
      ]
     },
     "execution_count": 163,
     "metadata": {},
     "output_type": "execute_result"
    }
   ],
   "source": [
    "features_.shape"
   ]
  },
  {
   "cell_type": "code",
   "execution_count": 164,
   "metadata": {},
   "outputs": [
    {
     "name": "stdout",
     "output_type": "stream",
     "text": [
      "<class 'pandas.core.frame.DataFrame'>\n",
      "Int64Index: 947515 entries, 0 to 947514\n",
      "Data columns (total 80 columns):\n",
      "community_area_ALBANY_PARK               947515 non-null uint8\n",
      "community_area_ARMOUR_SQUARE             947515 non-null uint8\n",
      "community_area_AUSTIN                    947515 non-null uint8\n",
      "community_area_AVALON_PARK               947515 non-null uint8\n",
      "community_area_AVONDALE                  947515 non-null uint8\n",
      "community_area_BRIDGEPORT                947515 non-null uint8\n",
      "community_area_CHATHAM                   947515 non-null uint8\n",
      "community_area_DOUGLAS                   947515 non-null uint8\n",
      "community_area_EAST_GARFIELD_PARK        947515 non-null uint8\n",
      "community_area_EDGEWATER                 947515 non-null uint8\n",
      "community_area_ENGLEWOOD                 947515 non-null uint8\n",
      "community_area_Evanston                  947515 non-null uint8\n",
      "community_area_FULLER_PARK               947515 non-null uint8\n",
      "community_area_GRAND_BOULEVARD           947515 non-null uint8\n",
      "community_area_GREATER_GRAND_CROSSING    947515 non-null uint8\n",
      "community_area_HERMOSA                   947515 non-null uint8\n",
      "community_area_HUMBOLDT_PARK             947515 non-null uint8\n",
      "community_area_HYDE_PARK                 947515 non-null uint8\n",
      "community_area_IRVING_PARK               947515 non-null uint8\n",
      "community_area_KENWOOD                   947515 non-null uint8\n",
      "community_area_LAKE_VIEW                 947515 non-null uint8\n",
      "community_area_LINCOLN_PARK              947515 non-null uint8\n",
      "community_area_LINCOLN_SQUARE            947515 non-null uint8\n",
      "community_area_LOGAN_SQUARE              947515 non-null uint8\n",
      "community_area_LOOP                      947515 non-null uint8\n",
      "community_area_LOWER_WEST_SIDE           947515 non-null uint8\n",
      "community_area_MCKINLEY_PARK             947515 non-null uint8\n",
      "community_area_NEAR_NORTH_SIDE           947515 non-null uint8\n",
      "community_area_NEAR_SOUTH_SIDE           947515 non-null uint8\n",
      "community_area_NEAR_WEST_SIDE            947515 non-null uint8\n",
      "community_area_NEW_CITY                  947515 non-null uint8\n",
      "community_area_NORTH_CENTER              947515 non-null uint8\n",
      "community_area_NORTH_LAWNDALE            947515 non-null uint8\n",
      "community_area_NORTH_PARK                947515 non-null uint8\n",
      "community_area_Oak_Park                  947515 non-null uint8\n",
      "community_area_PORTAGE_PARK              947515 non-null uint8\n",
      "community_area_ROGERS_PARK               947515 non-null uint8\n",
      "community_area_SOUTH_CHICAGO             947515 non-null uint8\n",
      "community_area_SOUTH_LAWNDALE            947515 non-null uint8\n",
      "community_area_SOUTH_SHORE               947515 non-null uint8\n",
      "community_area_UPTOWN                    947515 non-null uint8\n",
      "community_area_WASHINGTON_PARK           947515 non-null uint8\n",
      "community_area_WEST_ENGLEWOOD            947515 non-null uint8\n",
      "community_area_WEST_GARFIELD_PARK        947515 non-null uint8\n",
      "community_area_WEST_RIDGE                947515 non-null uint8\n",
      "community_area_WEST_TOWN                 947515 non-null uint8\n",
      "community_area_WOODLAWN                  947515 non-null uint8\n",
      "icon_clear-day                           947515 non-null int64\n",
      "icon_cloudy                              947515 non-null int64\n",
      "icon_fog                                 947515 non-null float64\n",
      "icon_partly-cloudy-day                   947515 non-null int64\n",
      "icon_rain                                947515 non-null int64\n",
      "icon_sleet                               947515 non-null float64\n",
      "icon_snow                                947515 non-null float64\n",
      "temperatureHigh                          947515 non-null float64\n",
      "temperatureLow                           947515 non-null float64\n",
      "historical_ave                           947515 non-null float64\n",
      "newstation                               947515 non-null int64\n",
      "lon_ave                                  947515 non-null float64\n",
      "lat_ave                                  947515 non-null float64\n",
      "dp_max                                   947515 non-null float64\n",
      "month_1                                  947515 non-null uint8\n",
      "month_2                                  947515 non-null uint8\n",
      "month_3                                  947515 non-null uint8\n",
      "month_4                                  947515 non-null uint8\n",
      "month_5                                  947515 non-null uint8\n",
      "month_6                                  947515 non-null uint8\n",
      "month_7                                  947515 non-null uint8\n",
      "month_8                                  947515 non-null uint8\n",
      "month_9                                  947515 non-null uint8\n",
      "month_10                                 947515 non-null uint8\n",
      "month_11                                 947515 non-null uint8\n",
      "month_12                                 947515 non-null uint8\n",
      "dayofweek_0                              947515 non-null uint8\n",
      "dayofweek_1                              947515 non-null uint8\n",
      "dayofweek_2                              947515 non-null uint8\n",
      "dayofweek_3                              947515 non-null uint8\n",
      "dayofweek_4                              947515 non-null uint8\n",
      "dayofweek_5                              947515 non-null uint8\n",
      "dayofweek_6                              947515 non-null uint8\n",
      "dtypes: float64(9), int64(5), uint8(66)\n",
      "memory usage: 168.1 MB\n"
     ]
    }
   ],
   "source": [
    "feats_fnl.info()"
   ]
  },
  {
   "cell_type": "markdown",
   "metadata": {},
   "source": [
    "## Building pipelines"
   ]
  },
  {
   "cell_type": "code",
   "execution_count": 165,
   "metadata": {},
   "outputs": [],
   "source": [
    "import sklearn\n",
    "from sklearn.preprocessing import MinMaxScaler\n",
    "from sklearn.preprocessing import OneHotEncoder \n",
    "from sklearn.linear_model import Ridge, LinearRegression\n",
    "from sklearn.ensemble import RandomForestRegressor\n",
    "\n",
    "from sklearn.model_selection import GridSearchCV\n",
    "from sklearn.pipeline import Pipeline\n",
    "\n",
    "from sklearn.model_selection import train_test_split\n",
    "from sklearn.metrics import r2_score, mean_absolute_error, mean_squared_error, max_error"
   ]
  },
  {
   "cell_type": "code",
   "execution_count": 166,
   "metadata": {},
   "outputs": [
    {
     "data": {
      "text/plain": [
       "'0.21.2'"
      ]
     },
     "execution_count": 166,
     "metadata": {},
     "output_type": "execute_result"
    }
   ],
   "source": [
    "sklearn.__version__"
   ]
  },
  {
   "cell_type": "code",
   "execution_count": 174,
   "metadata": {},
   "outputs": [
    {
     "name": "stdout",
     "output_type": "stream",
     "text": [
      "Randomly split\n",
      "CPU times: user 1.69 s, sys: 1.34 s, total: 3.03 s\n",
      "Wall time: 3.42 s\n"
     ]
    }
   ],
   "source": [
    "%%time\n",
    "model = Pipeline([\n",
    "    ('mms', MinMaxScaler(feature_range=(0, 1))),\n",
    "    ('rf', RandomForestRegressor(n_estimators=30, min_samples_split=5))\n",
    "])\n",
    "\n",
    "# Train Test split\n",
    "split_method = \"random\"\n",
    "\n",
    "if split_method == \"2018\":\n",
    "    print(\"Predict future\")\n",
    "    X_train = features_[:731037]\n",
    "    X_test = features_[731037:]\n",
    "    y_train = target_out[:731037]\n",
    "    y_test = target_out[731037:]\n",
    "elif split_method == \"random\":\n",
    "    print(\"Randomly split\")\n",
    "    X_train, X_test, y_train, y_test = train_test_split(\n",
    "        features_, \n",
    "        target_out, \n",
    "        test_size=0.2, \n",
    "        random_state=42)"
   ]
  },
  {
   "cell_type": "code",
   "execution_count": 175,
   "metadata": {},
   "outputs": [
    {
     "name": "stdout",
     "output_type": "stream",
     "text": [
      "CPU times: user 7min 14s, sys: 1.95 s, total: 7min 16s\n",
      "Wall time: 7min 17s\n"
     ]
    },
    {
     "data": {
      "text/plain": [
       "Pipeline(memory=None,\n",
       "         steps=[('mms', MinMaxScaler(copy=True, feature_range=(0, 1))),\n",
       "                ('rf',\n",
       "                 RandomForestRegressor(bootstrap=True, criterion='mse',\n",
       "                                       max_depth=None, max_features='auto',\n",
       "                                       max_leaf_nodes=None,\n",
       "                                       min_impurity_decrease=0.0,\n",
       "                                       min_impurity_split=None,\n",
       "                                       min_samples_leaf=1, min_samples_split=5,\n",
       "                                       min_weight_fraction_leaf=0.0,\n",
       "                                       n_estimators=30, n_jobs=None,\n",
       "                                       oob_score=False, random_state=None,\n",
       "                                       verbose=0, warm_start=False))],\n",
       "         verbose=False)"
      ]
     },
     "execution_count": 175,
     "metadata": {},
     "output_type": "execute_result"
    }
   ],
   "source": [
    "%%time\n",
    "model.fit(X_train, y_train)"
   ]
  },
  {
   "cell_type": "code",
   "execution_count": 176,
   "metadata": {},
   "outputs": [
    {
     "data": {
      "text/plain": [
       "0.6877988006724108"
      ]
     },
     "execution_count": 176,
     "metadata": {},
     "output_type": "execute_result"
    }
   ],
   "source": [
    "model.score(X_test, y_test)"
   ]
  },
  {
   "cell_type": "code",
   "execution_count": 177,
   "metadata": {},
   "outputs": [],
   "source": [
    "# First check\n",
    "y_pred = model.predict(X_test)"
   ]
  },
  {
   "cell_type": "code",
   "execution_count": 178,
   "metadata": {},
   "outputs": [],
   "source": [
    "y_base = feats_ro.iloc[y_test.index]['historical_ave']"
   ]
  },
  {
   "cell_type": "code",
   "execution_count": 179,
   "metadata": {},
   "outputs": [
    {
     "data": {
      "text/plain": [
       "(189503, 80)"
      ]
     },
     "execution_count": 179,
     "metadata": {},
     "output_type": "execute_result"
    }
   ],
   "source": [
    "X_test.shape"
   ]
  },
  {
   "cell_type": "code",
   "execution_count": 180,
   "metadata": {},
   "outputs": [
    {
     "name": "stdout",
     "output_type": "stream",
     "text": [
      "R2 score:\n",
      "Model: 0.6877988006724108\n",
      "Baseline: -0.43536036315876503\n",
      "\n",
      "MAE:\n",
      "Model: 7.595873458670424\n",
      "Baseline: 21.08527418170661\n",
      "\n",
      "RMSE:\n",
      "Model: 19.524013649135416\n",
      "Baseline: 41.86318758064847\n"
     ]
    }
   ],
   "source": [
    "print(\"R2 score:\")\n",
    "print(\"Model:\", r2_score(y_test, y_pred))\n",
    "print(\"Baseline:\", r2_score(y_test, y_base))\n",
    "print()\n",
    "print(\"MAE:\")\n",
    "print(\"Model:\", mean_absolute_error(y_test, y_pred))\n",
    "print(\"Baseline:\", mean_absolute_error(y_test, y_base))\n",
    "print()\n",
    "print(\"RMSE:\")\n",
    "print(\"Model:\", np.sqrt(mean_squared_error(y_test, y_pred)))\n",
    "print(\"Baseline:\", np.sqrt(mean_squared_error(y_test, y_base)))"
   ]
  },
  {
   "cell_type": "code",
   "execution_count": 137,
   "metadata": {},
   "outputs": [
    {
     "data": {
      "text/plain": [
       "[<matplotlib.lines.Line2D at 0x141d94ac8>]"
      ]
     },
     "execution_count": 137,
     "metadata": {},
     "output_type": "execute_result"
    },
    {
     "data": {
      "image/png": "[encoded data removed]",
      "text/plain": [
       "<Figure size 432x288 with 1 Axes>"
      ]
     },
     "metadata": {
      "needs_background": "light"
     },
     "output_type": "display_data"
    }
   ],
   "source": [
    "plt.plot(y_test, y_pred, 'o', alpha=0.01)\n",
    "# plt.plot(y_test, y_base, 'or', alpha=0.01)"
   ]
  },
  {
   "cell_type": "code",
   "execution_count": 153,
   "metadata": {},
   "outputs": [
    {
     "data": {
      "text/plain": [
       "(0, 300)"
      ]
     },
     "execution_count": 153,
     "metadata": {},
     "output_type": "execute_result"
    },
    {
     "data": {
      "image/png": "[encoded data removed]",
      "text/plain": [
       "<Figure size 432x288 with 1 Axes>"
      ]
     },
     "metadata": {
      "needs_background": "light"
     },
     "output_type": "display_data"
    }
   ],
   "source": [
    "# Deeper Look\n",
    "plt.plot(y_test, y_pred, 'o', alpha=0.01)\n",
    "plt.xlim(0, 300)\n",
    "plt.ylim(0, 300)"
   ]
  },
  {
   "cell_type": "code",
   "execution_count": 107,
   "metadata": {},
   "outputs": [],
   "source": [
    "# Save model, features and targets\n",
    "Model_name = 'random_forest_future_'\n",
    "\n",
    "with open('../model_data/'+Model_name+'model_'+VERSION+'.pk', 'wb') as p:\n",
    "    pickle.dump(model, p)\n",
    "\n",
    "with open('../model_data/'+Model_name+'testfeature_'+VERSION+'.pk', 'wb') as ptf:\n",
    "    pickle.dump(X_test, ptf)\n",
    "\n",
    "with open('../model_data/'+Model_name+'testtarget_'+VERSION+'.pk', 'wb') as ptg:\n",
    "    pickle.dump(y_test, ptg)"
   ]
  },
  {
   "cell_type": "markdown",
   "metadata": {},
   "source": [
    "## Grid Search "
   ]
  },
  {
   "cell_type": "code",
   "execution_count": 148,
   "metadata": {},
   "outputs": [],
   "source": [
    "# %%time\n",
    "# # Train Test split\n",
    "# X_train, X_test, y_train, y_test = train_test_split(\n",
    "#     features_, \n",
    "#     target_out, \n",
    "#     test_size=0.2, \n",
    "#     random_state=42)\n",
    "# print(\"Train/Test splitted...\")\n",
    "\n",
    "# model_gs = GridSearchCV(\n",
    "#     model,\n",
    "#     {'rf__n_estimators': [20, 50], 'rf__max_depth':[5, 10, 20]},\n",
    "#     cv=5,\n",
    "#     n_jobs=4\n",
    "# )\n",
    "\n",
    "\n",
    "# model_gs.fit(X_train, y_train)\n",
    "# print(\"Best params: \", model_gs.best_params_)\n",
    "\n",
    "# y_pred = model_gs.predict(X_test)\n",
    "# plt.plot(y_test, y_pred, 'o', alpha=0.1)\n",
    "\n",
    "# # Save model, features and targets\n",
    "# Model_name = 'random_forest_'\n",
    "\n",
    "# with open('../model_data/'+Model_name+'model_'+VERSION+'.pk', 'wb') as p:\n",
    "#     pickle.dump(model_gs, p)\n",
    "\n",
    "# with open('../model_data/'+Model_name+'testfeature_'+VERSION+'.pk', 'wb') as ptf:\n",
    "#     pickle.dump(X_test, ptf)\n",
    "\n",
    "# with open('../model_data/'+Model_name+'testtraget_'+VERSION+'.pk', 'wb') as ptg:\n",
    "#     pickle.dump(y_test, ptg)"
   ]
  },
  {
   "cell_type": "markdown",
   "metadata": {},
   "source": [
    "## Reload model"
   ]
  },
  {
   "cell_type": "code",
   "execution_count": 3,
   "metadata": {},
   "outputs": [
    {
     "ename": "FileNotFoundError",
     "evalue": "[Errno 2] No such file or directory: '../model_data/random_forest_more_tree_model_v2.1.pk'",
     "output_type": "error",
     "traceback": [
      "\u001b[0;31m---------------------------------------------------------------------------\u001b[0m",
      "\u001b[0;31mFileNotFoundError\u001b[0m                         Traceback (most recent call last)",
      "\u001b[0;32m<timed exec>\u001b[0m in \u001b[0;36m<module>\u001b[0;34m\u001b[0m\n",
      "\u001b[0;31mFileNotFoundError\u001b[0m: [Errno 2] No such file or directory: '../model_data/random_forest_more_tree_model_v2.1.pk'"
     ]
    }
   ],
   "source": [
    "%%time\n",
    "# Load previous data\n",
    "Model_name = 'random_forest_more_tree_'\n",
    "with open('../model_data/'+Model_name+'model_'+VERSION+'.pk', 'rb') as pp:\n",
    "    loaded_model = pickle.load(pp)\n",
    "\n",
    "with open('../model_data/'+Model_name+'testfeature_'+VERSION+'.pk', 'rb') as ptfl:\n",
    "    loaded_test_feature = pickle.load(ptfl)\n",
    "\n",
    "with open('../model_data/'+Model_name+'testtarget_'+VERSION+'.pk', 'rb') as ptgl:\n",
    "    loaded_test_target = pickle.load(ptgl)"
   ]
  },
  {
   "cell_type": "code",
   "execution_count": 159,
   "metadata": {},
   "outputs": [
    {
     "data": {
      "text/plain": [
       "0.7098489214072566"
      ]
     },
     "execution_count": 159,
     "metadata": {},
     "output_type": "execute_result"
    }
   ],
   "source": [
    "loaded_model.score(loaded_test_feature, loaded_test_target)"
   ]
  },
  {
   "cell_type": "code",
   "execution_count": 173,
   "metadata": {},
   "outputs": [
    {
     "data": {
      "text/plain": [
       "(189503, 81)"
      ]
     },
     "execution_count": 173,
     "metadata": {},
     "output_type": "execute_result"
    }
   ],
   "source": [
    "loaded_test_feature.shape"
   ]
  },
  {
   "cell_type": "code",
   "execution_count": null,
   "metadata": {},
   "outputs": [],
   "source": []
  }
 ],
 "metadata": {
  "kernelspec": {
   "display_name": "Python 3",
   "language": "python",
   "name": "python3"
  },
  "language_info": {
   "codemirror_mode": {
    "name": "ipython",
    "version": 3
   },
   "file_extension": ".py",
   "mimetype": "text/x-python",
   "name": "python",
   "nbconvert_exporter": "python",
   "pygments_lexer": "ipython3",
   "version": "3.7.3"
  }
 },
 "nbformat": 4,
 "nbformat_minor": 2
}
