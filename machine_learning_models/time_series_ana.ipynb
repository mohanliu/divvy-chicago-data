{
 "cells": [
  {
   "cell_type": "code",
   "execution_count": 2,
   "metadata": {},
   "outputs": [],
   "source": [
    "# Major version: the feature setup\n",
    "# Minor version: model hypertunning\n",
    "VERSION = 'v3.0'\n",
    "major_VERSION = VERSION.split('.')[0]+'.0'"
   ]
  },
  {
   "cell_type": "code",
   "execution_count": 52,
   "metadata": {},
   "outputs": [],
   "source": [
    "import pandas as pd\n",
    "from fbprophet import Prophet\n",
    "import os\n",
    "import plotly\n",
    "from tqdm import tqdm_notebook as tqdm"
   ]
  },
  {
   "cell_type": "code",
   "execution_count": 46,
   "metadata": {},
   "outputs": [],
   "source": [
    "import plotly.graph_objects as go\n",
    "from plotly.offline import plot, iplot"
   ]
  },
  {
   "cell_type": "code",
   "execution_count": 16,
   "metadata": {},
   "outputs": [
    {
     "data": {
      "text/plain": [
       "'4.0.0'"
      ]
     },
     "execution_count": 16,
     "metadata": {},
     "output_type": "execute_result"
    }
   ],
   "source": [
    "plotly.__version__"
   ]
  },
  {
   "cell_type": "markdown",
   "metadata": {},
   "source": [
    "# Load preprocessed data"
   ]
  },
  {
   "cell_type": "code",
   "execution_count": 4,
   "metadata": {},
   "outputs": [
    {
     "name": "stdout",
     "output_type": "stream",
     "text": [
      "Loading from previous pickle file.\n",
      "CPU times: user 227 ms, sys: 667 ms, total: 895 ms\n",
      "Wall time: 1.22 s\n"
     ]
    }
   ],
   "source": [
    "%%time\n",
    "## load preprocessed data\n",
    "\n",
    "if os.path.exists('../data/divvy_data_model_'+major_VERSION+'.pk'):\n",
    "    print(\"Loading from previous pickle file.\")\n",
    "    data = pd.read_pickle('../data/divvy_data_model_'+major_VERSION+'.pk')\n",
    "else:\n",
    "    print(\"Create data set for this model... \")\n",
    "    data_lst = []\n",
    "\n",
    "    for year in [2013, 2014, 2015, 2016, 2017, 2018]:\n",
    "        dt_tmp = pd.read_feather('../data/Final_Divvy_data_'+str(year)+'.feather')\n",
    "        data_lst.append(dt_tmp)\n",
    "\n",
    "    data = pd.concat(data_lst, ignore_index=True, sort=True) # !!! Careful with Pandas future version\n",
    "\n",
    "\n",
    "    data.to_pickle('../data/divvy_data_model_'+major_VERSION+'.pk')\n",
    "    print(\"Data saved to pickle file\")"
   ]
  },
  {
   "cell_type": "markdown",
   "metadata": {},
   "source": [
    "# Perform Time Series Analysis using `prophet`"
   ]
  },
  {
   "cell_type": "code",
   "execution_count": 203,
   "metadata": {},
   "outputs": [],
   "source": [
    "def _get_ts(row):\n",
    "    return str(int(row.year)) + '-' + str(int(row.month)) + '-' + str(int(row.day))\n",
    "\n",
    "def time_series_analysis(data, station_id):\n",
    "    # Prepare dataframes\n",
    "    st_data = data[data.station_id == station_id]\n",
    "    df = pd.DataFrame()   \n",
    "    df['ds'] = st_data.apply(lambda x: _get_ts(x), axis=1)\n",
    "    df['y'] = st_data['total_out']\n",
    "    \n",
    "    # Prophet forecasting\n",
    "    m = Prophet(daily_seasonality=True)\n",
    "    m.fit(df)\n",
    "    future = m.make_future_dataframe(periods=365)\n",
    "    forecast = m.predict(future)\n",
    "    \n",
    "    forecast['yhat_cutoff'] = forecast['yhat'].apply(lambda x: max(x, 0))\n",
    "    \n",
    "    return df, forecast"
   ]
  },
  {
   "cell_type": "markdown",
   "metadata": {},
   "source": [
    "# Prepare Plotly data"
   ]
  },
  {
   "cell_type": "code",
   "execution_count": 204,
   "metadata": {},
   "outputs": [],
   "source": [
    "def get_plotly_data(df, forecast, vis):\n",
    "    # Prepare plotly data\n",
    "    trace_data = []\n",
    "    trace_data.append(go.Scatter(\n",
    "        x=df.ds,\n",
    "        y=df.y,\n",
    "        mode='markers',\n",
    "        name=\"Actual\",\n",
    "        line_color='deepskyblue',\n",
    "        opacity=0.8,\n",
    "        visible=vis,\n",
    "    ))\n",
    "    trace_data.append(go.Scatter(\n",
    "        x=forecast.ds,\n",
    "        y=forecast.yhat_cutoff,\n",
    "        name=\"Prediction\",\n",
    "        line_color='red',\n",
    "        opacity=0.7,\n",
    "        visible=vis,\n",
    "    ))\n",
    "    \n",
    "    return trace_data"
   ]
  },
  {
   "cell_type": "code",
   "execution_count": 205,
   "metadata": {},
   "outputs": [
    {
     "data": {
      "application/vnd.jupyter.widget-view+json": {
       "model_id": "54655228cdd54696acd30a533df978ed",
       "version_major": 2,
       "version_minor": 0
      },
      "text/plain": [
       "HBox(children=(IntProgress(value=0, max=6), HTML(value='')))"
      ]
     },
     "metadata": {},
     "output_type": "display_data"
    },
    {
     "name": "stdout",
     "output_type": "stream",
     "text": [
      "\n",
      "CPU times: user 54.5 s, sys: 3.26 s, total: 57.8 s\n",
      "Wall time: 39.4 s\n"
     ]
    }
   ],
   "source": [
    "%%time\n",
    "station_list = [192, 100, 35, 18, 268, 253]\n",
    "\n",
    "data_traces = []\n",
    "visflag = True\n",
    "for stid in tqdm(station_list):\n",
    "    actual_df, pred_df = time_series_analysis(data, stid)\n",
    "    data_traces.extend(get_plotly_data(actual_df, pred_df, visflag))\n",
    "    visflag = False"
   ]
  },
  {
   "cell_type": "code",
   "execution_count": 206,
   "metadata": {},
   "outputs": [],
   "source": [
    "## Style of mixed plot\n",
    "layout = {\n",
    "    'title': {\n",
    "        'text': 'Trend of Daily Demand',\n",
    "        'font': dict(\n",
    "            family='Open Sans, sans-serif',\n",
    "            size=30,\n",
    "            color='white'\n",
    "        ),\n",
    "        'xref': 'paper',\n",
    "        'x': 0.5,\n",
    "        'xanchor': 'center',\n",
    "        'y': 0.95,\n",
    "        'yanchor': 'top',\n",
    "    },\n",
    "    'yaxis': {\n",
    "        'zeroline': False,\n",
    "        'showgrid': False,\n",
    "        'title': \"Number of bikes\",\n",
    "        'titlefont': dict(\n",
    "            family='Open Sans, sans-serif',\n",
    "            size=25,\n",
    "            color='white'\n",
    "        ),\n",
    "        'domain': [0, 0.95],\n",
    "        'tickangle': -45,\n",
    "        'tickfont': dict(\n",
    "            family='Open Sans, sans-serif',\n",
    "            size=14,\n",
    "            color='white'\n",
    "        ),\n",
    "    },\n",
    "    'xaxis': {\n",
    "        'zeroline': True,\n",
    "        'showgrid': False,\n",
    "        'title': {\n",
    "            'text':\"Year\",\n",
    "        },\n",
    "        'titlefont': dict(\n",
    "            family='Open Sans, sans-serif',\n",
    "            size=25,\n",
    "            color='white'\n",
    "        ),\n",
    "        'domain': [0., 0.99],\n",
    "        'tickangle': -45,\n",
    "        'tickfont': dict(\n",
    "            family='Open Sans, sans-serif',\n",
    "            size=14,\n",
    "            color='white'\n",
    "        ),\n",
    "    }, \n",
    "    'paper_bgcolor': 'black',\n",
    "    'plot_bgcolor': 'black',\n",
    "    'showlegend': True,\n",
    "    'autosize': True,\n",
    "    'legend': dict(\n",
    "        orientation=\"v\", \n",
    "        x=0.85, \n",
    "        xanchor='left',\n",
    "        y=1,\n",
    "        font=dict(\n",
    "            size=16,\n",
    "            color='white'\n",
    "        ),\n",
    "    ),\n",
    "    'margin': go.layout.Margin(l=60, r=30, b=10, t=50, pad=6),\n",
    "}"
   ]
  },
  {
   "cell_type": "code",
   "execution_count": 207,
   "metadata": {},
   "outputs": [],
   "source": [
    "# Create button list\n",
    "button_list = []\n",
    "n_st = len(station_list)\n",
    "\n",
    "blank = [False] * n_st *2\n",
    "\n",
    "for i in range(n_st):\n",
    "    vis_lst = blank.copy()\n",
    "    vis_lst[i*2:i*2+2] = [True] * 2\n",
    "    label_ = 'Station '+str(station_list[i])\n",
    "    \n",
    "    tmp_d = dict(\n",
    "        args = [{'visible': vis_lst}],\n",
    "        label = label_,\n",
    "        method ='update'\n",
    "    )\n",
    "    button_list.append(tmp_d)\n",
    "    \n",
    "updatemenus=list([\n",
    "    dict(\n",
    "        buttons=button_list,\n",
    "        pad={\"t\": 500},\n",
    "        direction = 'down',\n",
    "        showactive = False,\n",
    "        x = 0.15,\n",
    "        xanchor = 'center',\n",
    "        y = 0.9,\n",
    "        yanchor = 'bottom',\n",
    "        bgcolor = 'black',\n",
    "        bordercolor = 'white',\n",
    "        borderwidth = 2,\n",
    "        font = dict(size=14, color='white')\n",
    "    ),        \n",
    "])\n",
    "\n",
    "layout['updatemenus'] = updatemenus"
   ]
  },
  {
   "cell_type": "code",
   "execution_count": 209,
   "metadata": {},
   "outputs": [
    {
     "data": {
      "text/plain": [
       "'time_series_ana.html'"
      ]
     },
     "execution_count": 209,
     "metadata": {},
     "output_type": "execute_result"
    }
   ],
   "source": [
    "fig = go.Figure(data=data_traces)\n",
    "fig.update_layout(layout)\n",
    "\n",
    "plot(fig, config={'displayModeBar': False}, filename='time_series_ana.html')"
   ]
  },
  {
   "cell_type": "code",
   "execution_count": null,
   "metadata": {},
   "outputs": [],
   "source": []
  },
  {
   "cell_type": "code",
   "execution_count": null,
   "metadata": {},
   "outputs": [],
   "source": []
  }
 ],
 "metadata": {
  "kernelspec": {
   "display_name": "Python 3",
   "language": "python",
   "name": "python3"
  },
  "language_info": {
   "codemirror_mode": {
    "name": "ipython",
    "version": 3
   },
   "file_extension": ".py",
   "mimetype": "text/x-python",
   "name": "python",
   "nbconvert_exporter": "python",
   "pygments_lexer": "ipython3",
   "version": "3.7.3"
  }
 },
 "nbformat": 4,
 "nbformat_minor": 2
}
