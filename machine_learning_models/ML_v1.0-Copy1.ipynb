{
 "cells": [
  {
   "cell_type": "code",
   "execution_count": 1,
   "metadata": {},
   "outputs": [],
   "source": [
    "VERSION = 'v1.0'"
   ]
  },
  {
   "cell_type": "markdown",
   "metadata": {},
   "source": [
    "# Model Details\n",
    "## Features:\n",
    "- One hot encoded **day of week** and **month** (not year)\n",
    "- Weather feature (OHE):\n",
    "    - Icons (cloudy, partial cloudy, ...)\n",
    "    - Precipitates Type (None, Snow, Sleet, Rain)\n",
    "- Station info:\n",
    "    - community area (OHE)\n",
    "    - capacity\n",
    "    - long, lat\n",
    "    \n",
    "## Target\n",
    "- Log scale/normal scale\n",
    "    \n",
    "# Work Flow\n",
    "## Training Preprocessing\n",
    "- Merge station community area (Join tables)\n",
    "- Drop id after merging\n",
    "- Add weather info (temp_high/low, and OHE ICONs and Precipitates Types)\n",
    "- Convert to numpy matrix\n",
    "\n",
    "## Pipeline\n",
    "- OHE on date time (Remember column indices)\n",
    "- Scaling for `year, lon_ave, lat_ave, dp_max, temp_high, temp_low` (`MinMaxScaler`)\n",
    "- Regressor()\n",
    "\n",
    "## Test Preprocessing\n",
    "- Start with Pandas template (station_id, lon_ave, lat_ave, dp_max, OHE community area)\n",
    "- Add weather info (temp_high/low, and OHE ICONs and Precipitates Types)\n",
    "- Convert to numpy matrix\n",
    "\n",
    "## Post prediction\n",
    "- Rescale if trained on log\n",
    "- Hard cap negative (activation function)"
   ]
  },
  {
   "cell_type": "code",
   "execution_count": 2,
   "metadata": {},
   "outputs": [],
   "source": [
    "import numpy as np\n",
    "import pandas as pd\n",
    "# import matplotlib.pyplot as plt\n",
    "import os"
   ]
  },
  {
   "cell_type": "markdown",
   "metadata": {},
   "source": [
    "## Load data"
   ]
  },
  {
   "cell_type": "code",
   "execution_count": 3,
   "metadata": {},
   "outputs": [],
   "source": [
    "INFO_verbose = False"
   ]
  },
  {
   "cell_type": "code",
   "execution_count": 4,
   "metadata": {},
   "outputs": [
    {
     "name": "stdout",
     "output_type": "stream",
     "text": [
      "CPU times: user 4.94 ms, sys: 4.92 ms, total: 9.86 ms\n",
      "Wall time: 35.3 ms\n"
     ]
    }
   ],
   "source": [
    "%%time\n",
    "st_template = pd.read_pickle('../data/model_v1.0_template.pk')"
   ]
  },
  {
   "cell_type": "code",
   "execution_count": 5,
   "metadata": {},
   "outputs": [],
   "source": [
    "if INFO_verbose:\n",
    "    st_template.info()"
   ]
  },
  {
   "cell_type": "code",
   "execution_count": 6,
   "metadata": {},
   "outputs": [
    {
     "name": "stdout",
     "output_type": "stream",
     "text": [
      "Loading from previous pickle file.\n",
      "CPU times: user 223 ms, sys: 713 ms, total: 937 ms\n",
      "Wall time: 1.89 s\n"
     ]
    }
   ],
   "source": [
    "%%time\n",
    "## load preprocessed data\n",
    "\n",
    "if os.path.exists('../data/divvy_data_model_'+VERSION+'.pk'):\n",
    "    print(\"Loading from previous pickle file.\")\n",
    "    data = pd.read_pickle('../data/divvy_data_model_'+VERSION+'.pk')\n",
    "else:\n",
    "    print(\"Create data set for this model... \")\n",
    "    data_lst = []\n",
    "\n",
    "    for year in [2013, 2014, 2015, 2016, 2017, 2018]:\n",
    "        dt_tmp = pd.read_feather('../data/Final_Divvy_data_'+str(year)+'.feather')\n",
    "        data_lst.append(dt_tmp)\n",
    "\n",
    "    data = pd.concat(data_lst, ignore_index=True)\n",
    "\n",
    "\n",
    "    data.to_pickle('../data/divvy_data_model_'+VERSION+'.pk')\n",
    "    print(\"Data saved to pickle file\")"
   ]
  },
  {
   "cell_type": "code",
   "execution_count": 7,
   "metadata": {},
   "outputs": [],
   "source": [
    "if INFO_verbose:\n",
    "    data.info()"
   ]
  },
  {
   "cell_type": "markdown",
   "metadata": {},
   "source": [
    "## Get target value"
   ]
  },
  {
   "cell_type": "code",
   "execution_count": 8,
   "metadata": {},
   "outputs": [],
   "source": [
    "target_in = data.total_in\n",
    "target_out = data.total_out"
   ]
  },
  {
   "cell_type": "code",
   "execution_count": 9,
   "metadata": {},
   "outputs": [],
   "source": [
    "target_in_log = np.log(target_in+1)"
   ]
  },
  {
   "cell_type": "markdown",
   "metadata": {},
   "source": [
    "## Prepare features"
   ]
  },
  {
   "cell_type": "code",
   "execution_count": 10,
   "metadata": {},
   "outputs": [],
   "source": [
    "# Prescreening for useful features\n",
    "feats = pd.merge(data[['station_id', 'month', 'dayofweek', 'year',\n",
    "                       'icon_clear-day', 'icon_cloudy', 'icon_partly-cloudy-day', \n",
    "                       'icon_rain', 'icon_sleet', 'icon_snow',\n",
    "                       'precipType_None', 'precipType_rain',\n",
    "                       'precipType_sleet', 'precipType_snow',\n",
    "                       'temperatureHigh', 'temperatureLow' \n",
    "                         ]], st_template, \n",
    "                    left_on='station_id', right_on='id').drop(['station_id', 'id'], axis=1)"
   ]
  },
  {
   "cell_type": "markdown",
   "metadata": {},
   "source": [
    "## Reordering dataframe"
   ]
  },
  {
   "cell_type": "code",
   "execution_count": 11,
   "metadata": {},
   "outputs": [],
   "source": [
    "# Reordering\n",
    "cols = []\n",
    "cols.extend(feats.columns[15:])\n",
    "cols.extend(feats.columns[2:15])\n",
    "cols.extend(feats.columns[:2])"
   ]
  },
  {
   "cell_type": "code",
   "execution_count": 12,
   "metadata": {},
   "outputs": [],
   "source": [
    "feats_fnl = feats[cols]"
   ]
  },
  {
   "cell_type": "code",
   "execution_count": 25,
   "metadata": {},
   "outputs": [],
   "source": [
    "if INFO_verbose:\n",
    "    feats_fnl.info()"
   ]
  },
  {
   "cell_type": "code",
   "execution_count": 14,
   "metadata": {},
   "outputs": [],
   "source": [
    "feats_fnl = feats_fnl.fillna(0)"
   ]
  },
  {
   "cell_type": "markdown",
   "metadata": {},
   "source": [
    "## Get/Check indices for numerical columns "
   ]
  },
  {
   "cell_type": "code",
   "execution_count": 15,
   "metadata": {},
   "outputs": [],
   "source": [
    "num_col_in = [0, 1, 2, 50, 61, 62]"
   ]
  },
  {
   "cell_type": "code",
   "execution_count": 16,
   "metadata": {},
   "outputs": [
    {
     "name": "stdout",
     "output_type": "stream",
     "text": [
      "<class 'pandas.core.frame.DataFrame'>\n",
      "Int64Index: 947515 entries, 0 to 947514\n",
      "Data columns (total 6 columns):\n",
      "lon_ave            947515 non-null float64\n",
      "lat_ave            947515 non-null float64\n",
      "dp_max             947515 non-null float64\n",
      "year               947515 non-null float64\n",
      "temperatureHigh    947515 non-null float64\n",
      "temperatureLow     947515 non-null float64\n",
      "dtypes: float64(6)\n",
      "memory usage: 50.6 MB\n"
     ]
    }
   ],
   "source": [
    "feats_fnl.iloc[:, num_col_in].info()"
   ]
  },
  {
   "cell_type": "markdown",
   "metadata": {},
   "source": [
    "## Save model details into txt "
   ]
  },
  {
   "cell_type": "code",
   "execution_count": 17,
   "metadata": {},
   "outputs": [],
   "source": [
    "import io\n",
    "\n",
    "buffer = io.StringIO()\n",
    "feats_fnl.info(buf=buffer)\n",
    "s = buffer.getvalue()\n",
    "\n",
    "with open(\"../model_features_details/features_\"+str(VERSION)+'.txt', \"w\", encoding=\"utf-8\") as f: \n",
    "    f.write(s)"
   ]
  },
  {
   "cell_type": "markdown",
   "metadata": {},
   "source": [
    "## Convert to numpy matrix "
   ]
  },
  {
   "cell_type": "code",
   "execution_count": 18,
   "metadata": {},
   "outputs": [],
   "source": [
    "features_ = feats_fnl.to_numpy()"
   ]
  },
  {
   "cell_type": "code",
   "execution_count": 19,
   "metadata": {},
   "outputs": [
    {
     "data": {
      "text/plain": [
       "array([[-87.6277254 ,  41.87401502,  23.        , ...,  62.11      ,\n",
       "          7.        ,   0.        ],\n",
       "       [-87.6277254 ,  41.87401502,  23.        , ...,  61.23      ,\n",
       "          7.        ,   1.        ],\n",
       "       [-87.6277254 ,  41.87401502,  23.        , ...,  59.93      ,\n",
       "          7.        ,   2.        ],\n",
       "       ...,\n",
       "       [-87.683282  ,  41.939354  ,  16.        , ...,  28.51      ,\n",
       "         12.        ,   4.        ],\n",
       "       [-87.683282  ,  41.939354  ,  16.        , ...,  31.15      ,\n",
       "         12.        ,   6.        ],\n",
       "       [-87.683282  ,  41.939354  ,  16.        , ...,  29.96      ,\n",
       "         12.        ,   0.        ]])"
      ]
     },
     "execution_count": 19,
     "metadata": {},
     "output_type": "execute_result"
    }
   ],
   "source": [
    "features_"
   ]
  },
  {
   "cell_type": "markdown",
   "metadata": {},
   "source": [
    "## Building pipelines"
   ]
  },
  {
   "cell_type": "code",
   "execution_count": 20,
   "metadata": {},
   "outputs": [],
   "source": [
    "from sklearn.preprocessing import MinMaxScaler\n",
    "from sklearn.preprocessing import OneHotEncoder # deprecated in 0.20\n",
    "from sklearn.linear_model import Ridge\n",
    "from sklearn.ensemble import RandomForestRegressor\n",
    "\n",
    "from sklearn.model_selection import GridSearchCV\n",
    "from sklearn.pipeline import Pipeline\n",
    "\n",
    "from sklearn.model_selection import train_test_split"
   ]
  },
  {
   "cell_type": "code",
   "execution_count": 21,
   "metadata": {},
   "outputs": [],
   "source": [
    "# %%time\n",
    "# model = Pipeline([\n",
    "#     ('ohe', OneHotEncoder(categorical_features=[63, 64], sparse=False)),\n",
    "#     ('mms', MinMaxScaler(feature_range=(0, 1), copy=False)),\n",
    "#     ('rg', Ridge(alpha=10))\n",
    "# ])\n",
    "\n",
    "# # Train Test split\n",
    "# X_train, X_test, y_train, y_test = train_test_split(\n",
    "#     features_, \n",
    "#     target_out, \n",
    "#     test_size=0.2, \n",
    "#     random_state=42)\n",
    "\n",
    "# model_gs = GridSearchCV(\n",
    "#     model,\n",
    "#     {'rg__alpha': [0.001, 0.01, 0.1, 1, 10, 100]},\n",
    "#     cv=5,\n",
    "#     n_jobs=2\n",
    "# )\n",
    "\n",
    "# model_gs.fit(X_train, y_train)\n",
    "# print(\"Best params: \", model_gs.best_params_)"
   ]
  },
  {
   "cell_type": "code",
   "execution_count": 22,
   "metadata": {},
   "outputs": [
    {
     "name": "stdout",
     "output_type": "stream",
     "text": [
      "CPU times: user 1.37 s, sys: 836 ms, total: 2.2 s\n",
      "Wall time: 2.37 s\n"
     ]
    }
   ],
   "source": [
    "%%time\n",
    "model = Pipeline([\n",
    "    ('ohe', OneHotEncoder(categorical_features=[63, 64], sparse=False)),\n",
    "    ('mms', MinMaxScaler(feature_range=(0, 1), copy=False)),\n",
    "    ('rf', RandomForestRegressor(n_estimators=10))\n",
    "])\n",
    "\n",
    "# Train Test split\n",
    "X_train, X_test, y_train, y_test = train_test_split(\n",
    "    features_, \n",
    "    target_out, \n",
    "    test_size=0.2, \n",
    "    random_state=42)\n",
    "\n",
    "model_gs = GridSearchCV(\n",
    "    model,\n",
    "    {'rf__n_estimators': [50, 100, 200]},\n",
    "    cv=5,\n",
    "    n_jobs=2\n",
    ")"
   ]
  },
  {
   "cell_type": "code",
   "execution_count": 23,
   "metadata": {},
   "outputs": [],
   "source": [
    "# %%time\n",
    "# model_gs.fit(X_train, y_train)\n",
    "# # model_gs.fit(features_, target_out)\n",
    "# print(\"Best params: \", model_gs.best_params_)"
   ]
  },
  {
   "cell_type": "code",
   "execution_count": 26,
   "metadata": {},
   "outputs": [
    {
     "name": "stdout",
     "output_type": "stream",
     "text": [
      "<class 'pandas.core.frame.DataFrame'>\n",
      "Int64Index: 947515 entries, 0 to 947514\n",
      "Data columns (total 65 columns):\n",
      "lon_ave                                  947515 non-null float64\n",
      "lat_ave                                  947515 non-null float64\n",
      "dp_max                                   947515 non-null float64\n",
      "community_area_ALBANY_PARK               947515 non-null uint8\n",
      "community_area_ARMOUR_SQUARE             947515 non-null uint8\n",
      "community_area_AUSTIN                    947515 non-null uint8\n",
      "community_area_AVALON_PARK               947515 non-null uint8\n",
      "community_area_AVONDALE                  947515 non-null uint8\n",
      "community_area_BRIDGEPORT                947515 non-null uint8\n",
      "community_area_CHATHAM                   947515 non-null uint8\n",
      "community_area_DOUGLAS                   947515 non-null uint8\n",
      "community_area_EAST_GARFIELD_PARK        947515 non-null uint8\n",
      "community_area_EDGEWATER                 947515 non-null uint8\n",
      "community_area_ENGLEWOOD                 947515 non-null uint8\n",
      "community_area_Evanston                  947515 non-null uint8\n",
      "community_area_FULLER_PARK               947515 non-null uint8\n",
      "community_area_GRAND_BOULEVARD           947515 non-null uint8\n",
      "community_area_GREATER_GRAND_CROSSING    947515 non-null uint8\n",
      "community_area_HERMOSA                   947515 non-null uint8\n",
      "community_area_HUMBOLDT_PARK             947515 non-null uint8\n",
      "community_area_HYDE_PARK                 947515 non-null uint8\n",
      "community_area_IRVING_PARK               947515 non-null uint8\n",
      "community_area_KENWOOD                   947515 non-null uint8\n",
      "community_area_LAKE_VIEW                 947515 non-null uint8\n",
      "community_area_LINCOLN_PARK              947515 non-null uint8\n",
      "community_area_LINCOLN_SQUARE            947515 non-null uint8\n",
      "community_area_LOGAN_SQUARE              947515 non-null uint8\n",
      "community_area_LOOP                      947515 non-null uint8\n",
      "community_area_LOWER_WEST_SIDE           947515 non-null uint8\n",
      "community_area_MCKINLEY_PARK             947515 non-null uint8\n",
      "community_area_NEAR_NORTH_SIDE           947515 non-null uint8\n",
      "community_area_NEAR_SOUTH_SIDE           947515 non-null uint8\n",
      "community_area_NEAR_WEST_SIDE            947515 non-null uint8\n",
      "community_area_NEW_CITY                  947515 non-null uint8\n",
      "community_area_NORTH_CENTER              947515 non-null uint8\n",
      "community_area_NORTH_LAWNDALE            947515 non-null uint8\n",
      "community_area_NORTH_PARK                947515 non-null uint8\n",
      "community_area_Oak_Park                  947515 non-null uint8\n",
      "community_area_PORTAGE_PARK              947515 non-null uint8\n",
      "community_area_ROGERS_PARK               947515 non-null uint8\n",
      "community_area_SOUTH_CHICAGO             947515 non-null uint8\n",
      "community_area_SOUTH_LAWNDALE            947515 non-null uint8\n",
      "community_area_SOUTH_SHORE               947515 non-null uint8\n",
      "community_area_UPTOWN                    947515 non-null uint8\n",
      "community_area_WASHINGTON_PARK           947515 non-null uint8\n",
      "community_area_WEST_ENGLEWOOD            947515 non-null uint8\n",
      "community_area_WEST_GARFIELD_PARK        947515 non-null uint8\n",
      "community_area_WEST_RIDGE                947515 non-null uint8\n",
      "community_area_WEST_TOWN                 947515 non-null uint8\n",
      "community_area_WOODLAWN                  947515 non-null uint8\n",
      "year                                     947515 non-null float64\n",
      "icon_clear-day                           947515 non-null int64\n",
      "icon_cloudy                              947515 non-null int64\n",
      "icon_partly-cloudy-day                   947515 non-null int64\n",
      "icon_rain                                947515 non-null int64\n",
      "icon_sleet                               947515 non-null float64\n",
      "icon_snow                                947515 non-null float64\n",
      "precipType_None                          947515 non-null int64\n",
      "precipType_rain                          947515 non-null int64\n",
      "precipType_sleet                         947515 non-null float64\n",
      "precipType_snow                          947515 non-null int64\n",
      "temperatureHigh                          947515 non-null float64\n",
      "temperatureLow                           947515 non-null float64\n",
      "month                                    947515 non-null int64\n",
      "dayofweek                                947515 non-null int64\n",
      "dtypes: float64(9), int64(9), uint8(47)\n",
      "memory usage: 179.8 MB\n"
     ]
    }
   ],
   "source": [
    "feats_fnl.info()"
   ]
  },
  {
   "cell_type": "code",
   "execution_count": 58,
   "metadata": {},
   "outputs": [],
   "source": [
    "test = st_template.iloc[:, 1:]"
   ]
  },
  {
   "cell_type": "code",
   "execution_count": 59,
   "metadata": {},
   "outputs": [
    {
     "data": {
      "text/plain": [
       "(618, 50)"
      ]
     },
     "execution_count": 59,
     "metadata": {},
     "output_type": "execute_result"
    }
   ],
   "source": [
    "test.shape"
   ]
  },
  {
   "cell_type": "code",
   "execution_count": 60,
   "metadata": {},
   "outputs": [],
   "source": [
    "test['year'] = 2019"
   ]
  },
  {
   "cell_type": "code",
   "execution_count": 61,
   "metadata": {},
   "outputs": [
    {
     "data": {
      "text/plain": [
       "(618, 51)"
      ]
     },
     "execution_count": 61,
     "metadata": {},
     "output_type": "execute_result"
    }
   ],
   "source": [
    "test.shape"
   ]
  },
  {
   "cell_type": "code",
   "execution_count": 62,
   "metadata": {},
   "outputs": [],
   "source": [
    "icon_type = 1\n",
    "\n",
    "for i in range(6):\n",
    "    if i == icon_type:\n",
    "        test['icon'+str(i)] = 1\n",
    "    else:\n",
    "        test['icon'+str(i)] = 0"
   ]
  },
  {
   "cell_type": "code",
   "execution_count": 63,
   "metadata": {},
   "outputs": [],
   "source": [
    "test['prec0'] = 1\n",
    "test['prec1'] = 0\n",
    "test['prec2'] = 0\n",
    "test['prec3'] = 0"
   ]
  },
  {
   "cell_type": "code",
   "execution_count": 64,
   "metadata": {},
   "outputs": [],
   "source": [
    "test['hightmp'] = 50\n",
    "test['lowtmp'] = 30"
   ]
  },
  {
   "cell_type": "code",
   "execution_count": 66,
   "metadata": {},
   "outputs": [],
   "source": [
    "test['month'] = 1"
   ]
  },
  {
   "cell_type": "code",
   "execution_count": 68,
   "metadata": {},
   "outputs": [],
   "source": [
    "import calendar"
   ]
  },
  {
   "cell_type": "code",
   "execution_count": 69,
   "metadata": {},
   "outputs": [],
   "source": [
    "test['dayofweek'] = calendar.weekday(2019, 7, 17)"
   ]
  },
  {
   "cell_type": "code",
   "execution_count": 71,
   "metadata": {},
   "outputs": [
    {
     "data": {
      "text/plain": [
       "array([[-87.62235567,  41.87413767,  39.        , ...,  30.        ,\n",
       "          1.        ,   2.        ],\n",
       "       [-87.61535533,  41.86722597,  55.        , ...,  30.        ,\n",
       "          1.        ,   2.        ],\n",
       "       [-87.613348  ,  41.856268  ,  23.        , ...,  30.        ,\n",
       "          1.        ,   2.        ],\n",
       "       ...,\n",
       "       [-87.8025742 ,  41.87985   ,  11.        , ...,  30.        ,\n",
       "          1.        ,   2.        ],\n",
       "       [-87.8002935 ,  41.894213  ,  19.        , ...,  30.        ,\n",
       "          1.        ,   2.        ],\n",
       "       [-87.785236  ,  41.888085  ,  15.        , ...,  30.        ,\n",
       "          1.        ,   2.        ]])"
      ]
     },
     "execution_count": 71,
     "metadata": {},
     "output_type": "execute_result"
    }
   ],
   "source": [
    "test.to_numpy()"
   ]
  },
  {
   "cell_type": "code",
   "execution_count": 74,
   "metadata": {},
   "outputs": [],
   "source": [
    "import pickle"
   ]
  },
  {
   "cell_type": "code",
   "execution_count": 75,
   "metadata": {},
   "outputs": [
    {
     "name": "stdout",
     "output_type": "stream",
     "text": [
      "CPU times: user 345 ms, sys: 841 ms, total: 1.19 s\n",
      "Wall time: 2.43 s\n"
     ]
    }
   ],
   "source": [
    "%%time\n",
    "with open('../model_data/random_forest_'+VERSION+'.pk', 'rb') as f:\n",
    "    loaded_model = pickle.load(f)"
   ]
  },
  {
   "cell_type": "code",
   "execution_count": 76,
   "metadata": {},
   "outputs": [
    {
     "data": {
      "text/plain": [
       "array([5.540e+01, 4.530e+01, 6.380e+01, 1.097e+02, 2.860e+01, 1.090e+01,\n",
       "       1.040e+01, 1.010e+01, 2.200e+00, 3.740e+01, 9.210e+01, 5.180e+01,\n",
       "       7.000e+00, 0.000e+00, 6.000e+00, 0.000e+00, 0.000e+00, 0.000e+00,\n",
       "       0.000e+00, 0.000e+00, 0.000e+00, 0.000e+00, 0.000e+00, 0.000e+00,\n",
       "       0.000e+00, 0.000e+00, 0.000e+00, 0.000e+00, 0.000e+00, 0.000e+00,\n",
       "       3.700e+00, 5.200e+00, 4.230e+01, 1.940e+01, 8.300e+00, 4.000e+00,\n",
       "       4.250e+01, 5.980e+01, 7.770e+01, 2.000e+01, 2.110e+01, 3.580e+01,\n",
       "       5.000e+01, 2.920e+01, 1.450e+01, 2.000e+01, 1.591e+02, 9.500e+00,\n",
       "       5.100e+00, 4.200e+00, 1.190e+01, 2.000e+01, 1.340e+01, 6.530e+01,\n",
       "       1.560e+01, 4.090e+01, 6.080e+01, 4.000e+00, 2.120e+01, 6.900e+01,\n",
       "       1.330e+01, 3.100e+00, 2.700e+00, 1.140e+01, 9.200e+00, 2.200e+00,\n",
       "       9.400e+00, 1.900e+00, 1.340e+01, 1.650e+01, 1.870e+01, 1.490e+01,\n",
       "       8.800e+00, 9.600e+00, 1.450e+01, 2.010e+01, 2.950e+01, 2.530e+01,\n",
       "       1.540e+01, 1.880e+01, 7.400e+00, 4.400e+00, 2.190e+01, 1.340e+01,\n",
       "       6.500e+00, 1.540e+01, 9.000e-01, 1.300e+00, 0.000e+00, 3.050e+01,\n",
       "       2.400e+01, 6.100e+00, 0.000e+00, 9.100e+00, 0.000e+00, 0.000e+00,\n",
       "       1.720e+01, 2.590e+01, 6.300e+00, 1.330e+01, 5.290e+01, 4.900e+01,\n",
       "       1.010e+01, 4.390e+01, 2.770e+01, 4.840e+01, 9.300e+00, 7.590e+01,\n",
       "       1.380e+01, 8.300e+00, 1.092e+02, 4.700e+00, 1.730e+01, 8.700e+01,\n",
       "       3.000e+00, 2.640e+01, 2.780e+01, 4.100e+00, 1.690e+01, 1.220e+01,\n",
       "       1.080e+01, 1.600e+01, 2.360e+01, 3.700e+00, 1.104e+02, 6.200e+00,\n",
       "       4.270e+01, 3.680e+01, 2.390e+01, 4.300e+00, 5.870e+01, 5.690e+01,\n",
       "       1.260e+01, 3.910e+01, 1.260e+01, 1.750e+01, 2.530e+01, 3.700e+00,\n",
       "       3.300e+00, 1.920e+01, 2.450e+01, 9.000e+00, 4.300e+00, 4.770e+01,\n",
       "       2.000e+01, 2.420e+01, 1.000e+01, 8.300e+00, 1.360e+01, 1.690e+01,\n",
       "       9.500e+00, 3.500e+00, 5.450e+01, 1.300e+00, 2.560e+01, 9.000e+00,\n",
       "       3.580e+01, 1.540e+01, 2.000e+00, 1.900e+00, 1.300e+00, 5.400e+00,\n",
       "       2.500e+00, 1.490e+01, 1.040e+01, 2.000e+00, 2.490e+01, 4.600e+00,\n",
       "       2.200e+00, 4.900e+00, 8.300e+00, 1.040e+01, 1.200e+00, 2.000e+00,\n",
       "       1.000e+00, 0.000e+00, 0.000e+00, 0.000e+00, 0.000e+00, 0.000e+00,\n",
       "       0.000e+00, 0.000e+00, 0.000e+00, 0.000e+00, 0.000e+00, 0.000e+00,\n",
       "       0.000e+00, 0.000e+00, 0.000e+00, 9.200e+00, 2.110e+01, 2.170e+01,\n",
       "       5.220e+01, 1.820e+01, 5.940e+01, 3.700e+01, 5.170e+01, 3.420e+01,\n",
       "       4.830e+01, 4.100e+01, 2.230e+01, 6.950e+01, 1.360e+01, 7.510e+01,\n",
       "       2.940e+01, 2.240e+01, 1.020e+01, 3.150e+01, 2.430e+01, 4.180e+01,\n",
       "       2.700e+00, 4.680e+01, 9.700e+00, 3.100e+01, 1.420e+01, 2.200e+01,\n",
       "       5.820e+01, 4.800e+00, 1.870e+01, 1.420e+01, 1.130e+01, 3.600e+00,\n",
       "       2.700e+00, 2.480e+01, 3.270e+01, 2.500e+01, 1.780e+01, 2.060e+01,\n",
       "       6.000e+00, 4.720e+01, 1.320e+01, 3.590e+01, 1.030e+01, 2.500e+00,\n",
       "       1.900e+00, 5.360e+01, 2.450e+01, 8.300e+00, 2.620e+01, 2.800e+00,\n",
       "       8.570e+01, 1.400e+01, 2.310e+01, 2.450e+01, 2.700e+00, 6.850e+01,\n",
       "       2.790e+01, 2.400e+00, 1.400e+00, 1.600e+00, 5.100e+00, 3.600e+00,\n",
       "       1.300e+00, 1.300e+00, 9.100e+00, 1.800e+01, 5.500e+00, 1.900e+00,\n",
       "       1.630e+01, 1.010e+01, 2.080e+01, 2.500e+00, 3.600e+00, 2.800e+00,\n",
       "       5.100e+00, 2.400e+00, 8.700e+00, 1.480e+01, 2.800e+00, 1.900e+00,\n",
       "       1.900e+00, 1.010e+01, 1.500e+00, 1.400e+00, 1.800e+00, 0.000e+00,\n",
       "       0.000e+00, 0.000e+00, 0.000e+00, 0.000e+00, 0.000e+00, 0.000e+00,\n",
       "       0.000e+00, 0.000e+00, 0.000e+00, 0.000e+00, 0.000e+00, 0.000e+00,\n",
       "       0.000e+00, 0.000e+00, 0.000e+00, 1.680e+01, 1.760e+01, 3.340e+01,\n",
       "       3.490e+01, 4.730e+01, 2.140e+01, 9.900e+00, 9.670e+01, 1.580e+01,\n",
       "       3.360e+01, 3.710e+01, 2.120e+01, 3.090e+01, 3.370e+01, 7.300e+00,\n",
       "       6.420e+01, 2.350e+01, 5.800e+01, 5.440e+01, 2.320e+01, 4.030e+01,\n",
       "       3.780e+01, 6.590e+01, 1.890e+01, 3.010e+01, 2.710e+01, 2.640e+01,\n",
       "       7.700e+00, 1.470e+01, 2.350e+01, 1.160e+01, 2.300e+00, 5.110e+01,\n",
       "       1.400e+01, 4.110e+01, 1.300e+01, 9.500e+00, 2.120e+01, 3.750e+01,\n",
       "       8.600e+00, 9.200e+00, 1.740e+01, 2.900e+00, 4.500e+00, 5.100e+00,\n",
       "       1.000e+01, 9.000e-01, 1.700e+00, 9.500e+00, 1.800e+00, 6.600e+00,\n",
       "       3.100e+00, 1.590e+01, 1.100e+01, 4.200e+00, 6.800e+00, 3.900e+00,\n",
       "       4.400e+00, 1.100e+00, 7.600e+00, 2.400e+00, 4.900e+00, 8.300e+00,\n",
       "       3.000e+00, 2.300e+00, 1.900e+00, 9.000e-01, 1.200e+00, 1.000e+00,\n",
       "       4.900e+00, 2.400e+00, 1.400e+00, 5.740e+01, 1.200e+00, 1.000e+00,\n",
       "       1.400e+00, 1.600e+00, 4.020e+01, 1.400e+00, 0.000e+00, 0.000e+00,\n",
       "       0.000e+00, 0.000e+00, 0.000e+00, 0.000e+00, 0.000e+00, 0.000e+00,\n",
       "       0.000e+00, 0.000e+00, 0.000e+00, 0.000e+00, 0.000e+00, 0.000e+00,\n",
       "       0.000e+00, 0.000e+00, 0.000e+00, 0.000e+00, 0.000e+00, 0.000e+00,\n",
       "       0.000e+00, 0.000e+00, 0.000e+00, 0.000e+00, 0.000e+00, 0.000e+00,\n",
       "       2.280e+01, 1.500e+00, 1.150e+01, 2.360e+01, 4.040e+01, 1.500e+01,\n",
       "       4.480e+01, 2.057e+02, 2.270e+01, 1.938e+02, 8.130e+01, 3.420e+01,\n",
       "       9.400e+00, 7.360e+01, 6.180e+01, 4.930e+01, 1.960e+01, 7.160e+01,\n",
       "       1.030e+01, 4.120e+01, 3.700e+01, 3.930e+01, 2.880e+01, 3.590e+01,\n",
       "       1.220e+01, 2.730e+01, 5.900e+00, 3.400e+00, 1.030e+01, 1.100e+01,\n",
       "       8.100e+00, 2.820e+01, 4.300e+00, 1.610e+01, 1.160e+01, 2.620e+01,\n",
       "       5.300e+00, 7.500e+00, 5.490e+01, 1.360e+02, 7.420e+01, 9.600e+00,\n",
       "       7.580e+01, 4.770e+01, 6.900e+01, 8.100e+00, 1.900e+00, 6.000e+00,\n",
       "       8.200e+00, 1.150e+01, 1.970e+01, 2.600e+01, 7.100e+00, 1.510e+01,\n",
       "       1.870e+01, 1.090e+01, 8.500e+00, 6.090e+01, 8.400e+00, 8.700e+00,\n",
       "       2.000e+00, 3.500e+00, 7.000e+00, 5.060e+01, 6.260e+01, 3.740e+01,\n",
       "       2.800e+01, 5.090e+01, 5.160e+01, 1.860e+01, 1.090e+01, 8.700e+00,\n",
       "       1.380e+01, 1.170e+01, 1.570e+01, 3.990e+01, 3.500e+00, 2.100e+01,\n",
       "       1.190e+01, 1.700e+00, 5.500e+00, 6.000e+00, 1.820e+01, 2.500e+00,\n",
       "       2.400e+00, 1.170e+01, 1.300e+00, 2.400e+00, 1.680e+01, 5.000e+00,\n",
       "       1.150e+01, 1.200e+00, 2.470e+01, 2.170e+01, 1.860e+01, 3.430e+01,\n",
       "       5.730e+01, 2.700e+00, 1.300e+00, 1.000e+00, 2.700e+00, 7.800e+00,\n",
       "       5.100e+00, 1.800e+00, 1.210e+01, 1.400e+01, 1.480e+01, 3.400e+00,\n",
       "       2.200e+00, 4.500e+00, 7.200e+00, 2.700e+00, 7.200e+00, 3.100e+00,\n",
       "       9.700e+00, 8.300e+00, 5.600e+00, 6.000e+00, 4.900e+00, 6.800e+00,\n",
       "       2.480e+01, 3.800e+00, 7.600e+00, 9.300e+00, 1.800e+00, 6.000e-01,\n",
       "       2.100e+00, 1.400e+00, 1.300e+00, 4.700e+00, 1.100e+00, 2.500e+00,\n",
       "       3.400e+00, 1.120e+01, 6.100e+00, 1.620e+01, 8.100e+00, 4.000e+00,\n",
       "       3.400e+00, 1.800e+00, 1.300e+00, 1.700e+00, 1.000e+00, 1.200e+00,\n",
       "       2.000e+00, 1.100e+00, 1.200e+00, 1.000e-01, 0.000e+00, 0.000e+00,\n",
       "       0.000e+00, 0.000e+00, 0.000e+00, 0.000e+00, 0.000e+00, 0.000e+00,\n",
       "       0.000e+00, 0.000e+00, 0.000e+00, 0.000e+00, 0.000e+00, 0.000e+00,\n",
       "       0.000e+00, 0.000e+00, 0.000e+00, 0.000e+00, 0.000e+00, 0.000e+00,\n",
       "       0.000e+00, 0.000e+00, 0.000e+00, 0.000e+00, 0.000e+00, 0.000e+00,\n",
       "       0.000e+00, 0.000e+00, 0.000e+00, 1.000e+00, 0.000e+00, 0.000e+00,\n",
       "       0.000e+00, 2.200e+00, 0.000e+00, 0.000e+00, 1.300e+00, 0.000e+00,\n",
       "       0.000e+00, 0.000e+00, 0.000e+00, 0.000e+00, 0.000e+00, 0.000e+00,\n",
       "       0.000e+00, 0.000e+00, 0.000e+00, 1.710e+01, 3.630e+01, 0.000e+00,\n",
       "       2.500e+00, 0.000e+00, 0.000e+00, 0.000e+00, 1.190e+01, 0.000e+00,\n",
       "       0.000e+00, 0.000e+00, 5.800e+00, 9.000e+00, 1.370e+01, 0.000e+00,\n",
       "       0.000e+00, 0.000e+00, 0.000e+00, 0.000e+00, 0.000e+00, 0.000e+00,\n",
       "       0.000e+00, 0.000e+00, 0.000e+00, 0.000e+00, 0.000e+00, 0.000e+00])"
      ]
     },
     "execution_count": 76,
     "metadata": {},
     "output_type": "execute_result"
    }
   ],
   "source": [
    "loaded_model.predict(test)"
   ]
  },
  {
   "cell_type": "code",
   "execution_count": 77,
   "metadata": {},
   "outputs": [],
   "source": [
    "fdf = pd.DataFrame()"
   ]
  },
  {
   "cell_type": "code",
   "execution_count": 81,
   "metadata": {},
   "outputs": [],
   "source": [
    "fdf['lon_ave'] = test.lon_ave\n",
    "fdf['lat_ave'] = test.lat_ave\n",
    "fdf['dp_max'] = test.dp_max"
   ]
  },
  {
   "cell_type": "code",
   "execution_count": 82,
   "metadata": {},
   "outputs": [],
   "source": [
    "fdf['total_in'] = loaded_model.predict(test)"
   ]
  },
  {
   "cell_type": "code",
   "execution_count": 83,
   "metadata": {},
   "outputs": [
    {
     "data": {
      "text/html": [
       "<div>\n",
       "<style scoped>\n",
       "    .dataframe tbody tr th:only-of-type {\n",
       "        vertical-align: middle;\n",
       "    }\n",
       "\n",
       "    .dataframe tbody tr th {\n",
       "        vertical-align: top;\n",
       "    }\n",
       "\n",
       "    .dataframe thead th {\n",
       "        text-align: right;\n",
       "    }\n",
       "</style>\n",
       "<table border=\"1\" class=\"dataframe\">\n",
       "  <thead>\n",
       "    <tr style=\"text-align: right;\">\n",
       "      <th></th>\n",
       "      <th>lon_ave</th>\n",
       "      <th>lat_ave</th>\n",
       "      <th>dp_max</th>\n",
       "      <th>total_in</th>\n",
       "    </tr>\n",
       "  </thead>\n",
       "  <tbody>\n",
       "    <tr>\n",
       "      <th>0</th>\n",
       "      <td>-87.622356</td>\n",
       "      <td>41.874138</td>\n",
       "      <td>39.0</td>\n",
       "      <td>55.4</td>\n",
       "    </tr>\n",
       "    <tr>\n",
       "      <th>1</th>\n",
       "      <td>-87.615355</td>\n",
       "      <td>41.867226</td>\n",
       "      <td>55.0</td>\n",
       "      <td>45.3</td>\n",
       "    </tr>\n",
       "    <tr>\n",
       "      <th>2</th>\n",
       "      <td>-87.613348</td>\n",
       "      <td>41.856268</td>\n",
       "      <td>23.0</td>\n",
       "      <td>63.8</td>\n",
       "    </tr>\n",
       "    <tr>\n",
       "      <th>3</th>\n",
       "      <td>-87.627725</td>\n",
       "      <td>41.874015</td>\n",
       "      <td>23.0</td>\n",
       "      <td>109.7</td>\n",
       "    </tr>\n",
       "    <tr>\n",
       "      <th>4</th>\n",
       "      <td>-87.612798</td>\n",
       "      <td>41.885364</td>\n",
       "      <td>39.0</td>\n",
       "      <td>28.6</td>\n",
       "    </tr>\n",
       "    <tr>\n",
       "      <th>5</th>\n",
       "      <td>-87.617517</td>\n",
       "      <td>41.886349</td>\n",
       "      <td>19.0</td>\n",
       "      <td>10.9</td>\n",
       "    </tr>\n",
       "    <tr>\n",
       "      <th>6</th>\n",
       "      <td>-87.680604</td>\n",
       "      <td>41.828792</td>\n",
       "      <td>19.0</td>\n",
       "      <td>10.4</td>\n",
       "    </tr>\n",
       "    <tr>\n",
       "      <th>7</th>\n",
       "      <td>-87.576450</td>\n",
       "      <td>41.766638</td>\n",
       "      <td>11.0</td>\n",
       "      <td>10.1</td>\n",
       "    </tr>\n",
       "    <tr>\n",
       "      <th>8</th>\n",
       "      <td>-87.565688</td>\n",
       "      <td>41.766409</td>\n",
       "      <td>15.0</td>\n",
       "      <td>2.2</td>\n",
       "    </tr>\n",
       "    <tr>\n",
       "      <th>9</th>\n",
       "      <td>-87.652695</td>\n",
       "      <td>41.932451</td>\n",
       "      <td>35.0</td>\n",
       "      <td>37.4</td>\n",
       "    </tr>\n",
       "    <tr>\n",
       "      <th>10</th>\n",
       "      <td>-87.651073</td>\n",
       "      <td>41.858086</td>\n",
       "      <td>15.0</td>\n",
       "      <td>92.1</td>\n",
       "    </tr>\n",
       "    <tr>\n",
       "      <th>11</th>\n",
       "      <td>-87.656490</td>\n",
       "      <td>41.857999</td>\n",
       "      <td>15.0</td>\n",
       "      <td>51.8</td>\n",
       "    </tr>\n",
       "    <tr>\n",
       "      <th>12</th>\n",
       "      <td>-87.671050</td>\n",
       "      <td>41.910334</td>\n",
       "      <td>15.0</td>\n",
       "      <td>7.0</td>\n",
       "    </tr>\n",
       "    <tr>\n",
       "      <th>13</th>\n",
       "      <td>-87.672971</td>\n",
       "      <td>41.903280</td>\n",
       "      <td>23.0</td>\n",
       "      <td>0.0</td>\n",
       "    </tr>\n",
       "    <tr>\n",
       "      <th>14</th>\n",
       "      <td>-87.637316</td>\n",
       "      <td>41.883225</td>\n",
       "      <td>19.0</td>\n",
       "      <td>6.0</td>\n",
       "    </tr>\n",
       "    <tr>\n",
       "      <th>15</th>\n",
       "      <td>-87.660810</td>\n",
       "      <td>41.869372</td>\n",
       "      <td>16.0</td>\n",
       "      <td>0.0</td>\n",
       "    </tr>\n",
       "    <tr>\n",
       "      <th>16</th>\n",
       "      <td>-87.653262</td>\n",
       "      <td>41.910150</td>\n",
       "      <td>15.0</td>\n",
       "      <td>0.0</td>\n",
       "    </tr>\n",
       "    <tr>\n",
       "      <th>17</th>\n",
       "      <td>-87.654787</td>\n",
       "      <td>41.877726</td>\n",
       "      <td>23.0</td>\n",
       "      <td>0.0</td>\n",
       "    </tr>\n",
       "    <tr>\n",
       "      <th>18</th>\n",
       "      <td>-87.655486</td>\n",
       "      <td>41.869482</td>\n",
       "      <td>15.0</td>\n",
       "      <td>0.0</td>\n",
       "    </tr>\n",
       "    <tr>\n",
       "      <th>19</th>\n",
       "      <td>-87.637715</td>\n",
       "      <td>41.902924</td>\n",
       "      <td>16.0</td>\n",
       "      <td>0.0</td>\n",
       "    </tr>\n",
       "    <tr>\n",
       "      <th>20</th>\n",
       "      <td>-87.620628</td>\n",
       "      <td>41.891924</td>\n",
       "      <td>15.0</td>\n",
       "      <td>0.0</td>\n",
       "    </tr>\n",
       "    <tr>\n",
       "      <th>21</th>\n",
       "      <td>-87.623510</td>\n",
       "      <td>41.897660</td>\n",
       "      <td>23.0</td>\n",
       "      <td>0.0</td>\n",
       "    </tr>\n",
       "    <tr>\n",
       "      <th>22</th>\n",
       "      <td>-87.617346</td>\n",
       "      <td>41.890888</td>\n",
       "      <td>31.0</td>\n",
       "      <td>0.0</td>\n",
       "    </tr>\n",
       "    <tr>\n",
       "      <th>23</th>\n",
       "      <td>-87.643500</td>\n",
       "      <td>41.910210</td>\n",
       "      <td>19.0</td>\n",
       "      <td>0.0</td>\n",
       "    </tr>\n",
       "    <tr>\n",
       "      <th>24</th>\n",
       "      <td>-87.643320</td>\n",
       "      <td>41.914680</td>\n",
       "      <td>15.0</td>\n",
       "      <td>0.0</td>\n",
       "    </tr>\n",
       "    <tr>\n",
       "      <th>25</th>\n",
       "      <td>-87.662600</td>\n",
       "      <td>41.900680</td>\n",
       "      <td>15.0</td>\n",
       "      <td>0.0</td>\n",
       "    </tr>\n",
       "    <tr>\n",
       "      <th>26</th>\n",
       "      <td>-87.667700</td>\n",
       "      <td>41.899643</td>\n",
       "      <td>15.0</td>\n",
       "      <td>0.0</td>\n",
       "    </tr>\n",
       "    <tr>\n",
       "      <th>27</th>\n",
       "      <td>-87.635636</td>\n",
       "      <td>41.896789</td>\n",
       "      <td>23.0</td>\n",
       "      <td>0.0</td>\n",
       "    </tr>\n",
       "    <tr>\n",
       "      <th>28</th>\n",
       "      <td>-87.657030</td>\n",
       "      <td>41.874640</td>\n",
       "      <td>19.0</td>\n",
       "      <td>0.0</td>\n",
       "    </tr>\n",
       "    <tr>\n",
       "      <th>29</th>\n",
       "      <td>-87.627844</td>\n",
       "      <td>41.877181</td>\n",
       "      <td>27.0</td>\n",
       "      <td>0.0</td>\n",
       "    </tr>\n",
       "    <tr>\n",
       "      <th>...</th>\n",
       "      <td>...</td>\n",
       "      <td>...</td>\n",
       "      <td>...</td>\n",
       "      <td>...</td>\n",
       "    </tr>\n",
       "    <tr>\n",
       "      <th>588</th>\n",
       "      <td>-87.634774</td>\n",
       "      <td>41.779835</td>\n",
       "      <td>12.0</td>\n",
       "      <td>0.0</td>\n",
       "    </tr>\n",
       "    <tr>\n",
       "      <th>589</th>\n",
       "      <td>-87.635876</td>\n",
       "      <td>41.768898</td>\n",
       "      <td>12.0</td>\n",
       "      <td>0.0</td>\n",
       "    </tr>\n",
       "    <tr>\n",
       "      <th>590</th>\n",
       "      <td>-87.621748</td>\n",
       "      <td>41.765286</td>\n",
       "      <td>7.0</td>\n",
       "      <td>0.0</td>\n",
       "    </tr>\n",
       "    <tr>\n",
       "      <th>591</th>\n",
       "      <td>-87.584846</td>\n",
       "      <td>41.780595</td>\n",
       "      <td>11.0</td>\n",
       "      <td>17.1</td>\n",
       "    </tr>\n",
       "    <tr>\n",
       "      <th>592</th>\n",
       "      <td>-87.656952</td>\n",
       "      <td>41.883073</td>\n",
       "      <td>12.0</td>\n",
       "      <td>36.3</td>\n",
       "    </tr>\n",
       "    <tr>\n",
       "      <th>593</th>\n",
       "      <td>-87.681932</td>\n",
       "      <td>41.979851</td>\n",
       "      <td>15.0</td>\n",
       "      <td>0.0</td>\n",
       "    </tr>\n",
       "    <tr>\n",
       "      <th>594</th>\n",
       "      <td>-87.677009</td>\n",
       "      <td>41.885951</td>\n",
       "      <td>16.0</td>\n",
       "      <td>2.5</td>\n",
       "    </tr>\n",
       "    <tr>\n",
       "      <th>595</th>\n",
       "      <td>-87.672200</td>\n",
       "      <td>41.899181</td>\n",
       "      <td>15.0</td>\n",
       "      <td>0.0</td>\n",
       "    </tr>\n",
       "    <tr>\n",
       "      <th>596</th>\n",
       "      <td>-87.683825</td>\n",
       "      <td>41.902997</td>\n",
       "      <td>16.0</td>\n",
       "      <td>0.0</td>\n",
       "    </tr>\n",
       "    <tr>\n",
       "      <th>597</th>\n",
       "      <td>-87.682017</td>\n",
       "      <td>41.895501</td>\n",
       "      <td>15.0</td>\n",
       "      <td>0.0</td>\n",
       "    </tr>\n",
       "    <tr>\n",
       "      <th>598</th>\n",
       "      <td>-87.661406</td>\n",
       "      <td>42.004583</td>\n",
       "      <td>15.0</td>\n",
       "      <td>11.9</td>\n",
       "    </tr>\n",
       "    <tr>\n",
       "      <th>599</th>\n",
       "      <td>-87.686554</td>\n",
       "      <td>42.057044</td>\n",
       "      <td>15.0</td>\n",
       "      <td>0.0</td>\n",
       "    </tr>\n",
       "    <tr>\n",
       "      <th>600</th>\n",
       "      <td>-87.699595</td>\n",
       "      <td>42.023463</td>\n",
       "      <td>15.0</td>\n",
       "      <td>0.0</td>\n",
       "    </tr>\n",
       "    <tr>\n",
       "      <th>601</th>\n",
       "      <td>-87.715297</td>\n",
       "      <td>42.064854</td>\n",
       "      <td>15.0</td>\n",
       "      <td>0.0</td>\n",
       "    </tr>\n",
       "    <tr>\n",
       "      <th>602</th>\n",
       "      <td>-87.683282</td>\n",
       "      <td>41.939354</td>\n",
       "      <td>16.0</td>\n",
       "      <td>5.8</td>\n",
       "    </tr>\n",
       "    <tr>\n",
       "      <th>603</th>\n",
       "      <td>-87.702882</td>\n",
       "      <td>41.900146</td>\n",
       "      <td>15.0</td>\n",
       "      <td>9.0</td>\n",
       "    </tr>\n",
       "    <tr>\n",
       "      <th>604</th>\n",
       "      <td>-87.560115</td>\n",
       "      <td>41.758746</td>\n",
       "      <td>11.0</td>\n",
       "      <td>13.7</td>\n",
       "    </tr>\n",
       "    <tr>\n",
       "      <th>605</th>\n",
       "      <td>-87.783055</td>\n",
       "      <td>41.898168</td>\n",
       "      <td>11.0</td>\n",
       "      <td>0.0</td>\n",
       "    </tr>\n",
       "    <tr>\n",
       "      <th>606</th>\n",
       "      <td>-87.788938</td>\n",
       "      <td>41.871312</td>\n",
       "      <td>19.0</td>\n",
       "      <td>0.0</td>\n",
       "    </tr>\n",
       "    <tr>\n",
       "      <th>607</th>\n",
       "      <td>-87.789247</td>\n",
       "      <td>41.880113</td>\n",
       "      <td>15.0</td>\n",
       "      <td>0.0</td>\n",
       "    </tr>\n",
       "    <tr>\n",
       "      <th>608</th>\n",
       "      <td>-87.800255</td>\n",
       "      <td>41.888910</td>\n",
       "      <td>15.0</td>\n",
       "      <td>0.0</td>\n",
       "    </tr>\n",
       "    <tr>\n",
       "      <th>609</th>\n",
       "      <td>-87.777418</td>\n",
       "      <td>41.890394</td>\n",
       "      <td>11.0</td>\n",
       "      <td>0.0</td>\n",
       "    </tr>\n",
       "    <tr>\n",
       "      <th>610</th>\n",
       "      <td>-87.778876</td>\n",
       "      <td>41.870669</td>\n",
       "      <td>19.0</td>\n",
       "      <td>0.0</td>\n",
       "    </tr>\n",
       "    <tr>\n",
       "      <th>611</th>\n",
       "      <td>-87.779425</td>\n",
       "      <td>41.879810</td>\n",
       "      <td>15.0</td>\n",
       "      <td>0.0</td>\n",
       "    </tr>\n",
       "    <tr>\n",
       "      <th>612</th>\n",
       "      <td>-87.802870</td>\n",
       "      <td>41.886810</td>\n",
       "      <td>19.0</td>\n",
       "      <td>0.0</td>\n",
       "    </tr>\n",
       "    <tr>\n",
       "      <th>613</th>\n",
       "      <td>-87.793945</td>\n",
       "      <td>41.872987</td>\n",
       "      <td>19.0</td>\n",
       "      <td>0.0</td>\n",
       "    </tr>\n",
       "    <tr>\n",
       "      <th>614</th>\n",
       "      <td>-87.793899</td>\n",
       "      <td>41.886923</td>\n",
       "      <td>19.0</td>\n",
       "      <td>0.0</td>\n",
       "    </tr>\n",
       "    <tr>\n",
       "      <th>615</th>\n",
       "      <td>-87.802574</td>\n",
       "      <td>41.879850</td>\n",
       "      <td>11.0</td>\n",
       "      <td>0.0</td>\n",
       "    </tr>\n",
       "    <tr>\n",
       "      <th>616</th>\n",
       "      <td>-87.800294</td>\n",
       "      <td>41.894213</td>\n",
       "      <td>19.0</td>\n",
       "      <td>0.0</td>\n",
       "    </tr>\n",
       "    <tr>\n",
       "      <th>617</th>\n",
       "      <td>-87.785236</td>\n",
       "      <td>41.888085</td>\n",
       "      <td>15.0</td>\n",
       "      <td>0.0</td>\n",
       "    </tr>\n",
       "  </tbody>\n",
       "</table>\n",
       "<p>618 rows × 4 columns</p>\n",
       "</div>"
      ],
      "text/plain": [
       "       lon_ave    lat_ave  dp_max  total_in\n",
       "0   -87.622356  41.874138    39.0      55.4\n",
       "1   -87.615355  41.867226    55.0      45.3\n",
       "2   -87.613348  41.856268    23.0      63.8\n",
       "3   -87.627725  41.874015    23.0     109.7\n",
       "4   -87.612798  41.885364    39.0      28.6\n",
       "5   -87.617517  41.886349    19.0      10.9\n",
       "6   -87.680604  41.828792    19.0      10.4\n",
       "7   -87.576450  41.766638    11.0      10.1\n",
       "8   -87.565688  41.766409    15.0       2.2\n",
       "9   -87.652695  41.932451    35.0      37.4\n",
       "10  -87.651073  41.858086    15.0      92.1\n",
       "11  -87.656490  41.857999    15.0      51.8\n",
       "12  -87.671050  41.910334    15.0       7.0\n",
       "13  -87.672971  41.903280    23.0       0.0\n",
       "14  -87.637316  41.883225    19.0       6.0\n",
       "15  -87.660810  41.869372    16.0       0.0\n",
       "16  -87.653262  41.910150    15.0       0.0\n",
       "17  -87.654787  41.877726    23.0       0.0\n",
       "18  -87.655486  41.869482    15.0       0.0\n",
       "19  -87.637715  41.902924    16.0       0.0\n",
       "20  -87.620628  41.891924    15.0       0.0\n",
       "21  -87.623510  41.897660    23.0       0.0\n",
       "22  -87.617346  41.890888    31.0       0.0\n",
       "23  -87.643500  41.910210    19.0       0.0\n",
       "24  -87.643320  41.914680    15.0       0.0\n",
       "25  -87.662600  41.900680    15.0       0.0\n",
       "26  -87.667700  41.899643    15.0       0.0\n",
       "27  -87.635636  41.896789    23.0       0.0\n",
       "28  -87.657030  41.874640    19.0       0.0\n",
       "29  -87.627844  41.877181    27.0       0.0\n",
       "..         ...        ...     ...       ...\n",
       "588 -87.634774  41.779835    12.0       0.0\n",
       "589 -87.635876  41.768898    12.0       0.0\n",
       "590 -87.621748  41.765286     7.0       0.0\n",
       "591 -87.584846  41.780595    11.0      17.1\n",
       "592 -87.656952  41.883073    12.0      36.3\n",
       "593 -87.681932  41.979851    15.0       0.0\n",
       "594 -87.677009  41.885951    16.0       2.5\n",
       "595 -87.672200  41.899181    15.0       0.0\n",
       "596 -87.683825  41.902997    16.0       0.0\n",
       "597 -87.682017  41.895501    15.0       0.0\n",
       "598 -87.661406  42.004583    15.0      11.9\n",
       "599 -87.686554  42.057044    15.0       0.0\n",
       "600 -87.699595  42.023463    15.0       0.0\n",
       "601 -87.715297  42.064854    15.0       0.0\n",
       "602 -87.683282  41.939354    16.0       5.8\n",
       "603 -87.702882  41.900146    15.0       9.0\n",
       "604 -87.560115  41.758746    11.0      13.7\n",
       "605 -87.783055  41.898168    11.0       0.0\n",
       "606 -87.788938  41.871312    19.0       0.0\n",
       "607 -87.789247  41.880113    15.0       0.0\n",
       "608 -87.800255  41.888910    15.0       0.0\n",
       "609 -87.777418  41.890394    11.0       0.0\n",
       "610 -87.778876  41.870669    19.0       0.0\n",
       "611 -87.779425  41.879810    15.0       0.0\n",
       "612 -87.802870  41.886810    19.0       0.0\n",
       "613 -87.793945  41.872987    19.0       0.0\n",
       "614 -87.793899  41.886923    19.0       0.0\n",
       "615 -87.802574  41.879850    11.0       0.0\n",
       "616 -87.800294  41.894213    19.0       0.0\n",
       "617 -87.785236  41.888085    15.0       0.0\n",
       "\n",
       "[618 rows x 4 columns]"
      ]
     },
     "execution_count": 83,
     "metadata": {},
     "output_type": "execute_result"
    }
   ],
   "source": [
    "fdf"
   ]
  },
  {
   "cell_type": "code",
   "execution_count": 84,
   "metadata": {},
   "outputs": [],
   "source": [
    "import pickle"
   ]
  },
  {
   "cell_type": "code",
   "execution_count": 88,
   "metadata": {},
   "outputs": [
    {
     "ename": "AttributeError",
     "evalue": "module 'pickle' has no attribute 'VERSION'",
     "output_type": "error",
     "traceback": [
      "\u001b[0;31m---------------------------------------------------------------------------\u001b[0m",
      "\u001b[0;31mAttributeError\u001b[0m                            Traceback (most recent call last)",
      "\u001b[0;32m<ipython-input-88-fe20f018e3d0>\u001b[0m in \u001b[0;36m<module>\u001b[0;34m\u001b[0m\n\u001b[0;32m----> 1\u001b[0;31m \u001b[0mpickle\u001b[0m\u001b[0;34m.\u001b[0m\u001b[0mVERSION\u001b[0m\u001b[0;34m\u001b[0m\u001b[0;34m\u001b[0m\u001b[0m\n\u001b[0m",
      "\u001b[0;31mAttributeError\u001b[0m: module 'pickle' has no attribute 'VERSION'"
     ]
    }
   ],
   "source": [
    "pickle.VERSION"
   ]
  },
  {
   "cell_type": "code",
   "execution_count": null,
   "metadata": {},
   "outputs": [],
   "source": []
  }
 ],
 "metadata": {
  "kernelspec": {
   "display_name": "Python 3",
   "language": "python",
   "name": "python3"
  },
  "language_info": {
   "codemirror_mode": {
    "name": "ipython",
    "version": 3
   },
   "file_extension": ".py",
   "mimetype": "text/x-python",
   "name": "python",
   "nbconvert_exporter": "python",
   "pygments_lexer": "ipython3",
   "version": "3.7.3"
  }
 },
 "nbformat": 4,
 "nbformat_minor": 2
}
