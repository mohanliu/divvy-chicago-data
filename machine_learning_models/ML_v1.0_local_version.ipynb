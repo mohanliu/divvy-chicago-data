{
 "cells": [
  {
   "cell_type": "code",
   "execution_count": 1,
   "metadata": {},
   "outputs": [],
   "source": [
    "VERSION = 'v1.0'"
   ]
  },
  {
   "cell_type": "markdown",
   "metadata": {},
   "source": [
    "# Model Details\n",
    "## Features:\n",
    "- One hot encoded **day of week** and **month** (not year)\n",
    "- Weather feature (OHE):\n",
    "    - Icons (cloudy, partial cloudy, ...)\n",
    "    - Precipitates Type (None, Snow, Sleet, Rain)\n",
    "- Station info:\n",
    "    - community area (OHE)\n",
    "    - capacity\n",
    "    - long, lat\n",
    "    \n",
    "## Target\n",
    "- Log scale/normal scale\n",
    "    \n",
    "# Work Flow\n",
    "## Training Preprocessing\n",
    "- Merge station community area (Join tables)\n",
    "- Drop id after merging\n",
    "- Add weather info (temp_high/low, and OHE ICONs and Precipitates Types)\n",
    "- Convert to numpy matrix\n",
    "\n",
    "## Pipeline\n",
    "- OHE on date time (Remember column indices)\n",
    "- Scaling for `year, lon_ave, lat_ave, dp_max, temp_high, temp_low` (`MinMaxScaler`)\n",
    "- Regressor()\n",
    "\n",
    "## Test Preprocessing\n",
    "- Start with Pandas template (station_id, lon_ave, lat_ave, dp_max, OHE community area)\n",
    "- Add weather info (temp_high/low, and OHE ICONs and Precipitates Types)\n",
    "- Convert to numpy matrix\n",
    "\n",
    "## Post prediction\n",
    "- Rescale if trained on log\n",
    "- Hard cap negative (activation function)"
   ]
  },
  {
   "cell_type": "code",
   "execution_count": 2,
   "metadata": {},
   "outputs": [
    {
     "ename": "ModuleNotFoundError",
     "evalue": "No module named 'matplotlib'",
     "output_type": "error",
     "traceback": [
      "\u001b[0;31m---------------------------------------------------------------------------\u001b[0m",
      "\u001b[0;31mModuleNotFoundError\u001b[0m                       Traceback (most recent call last)",
      "\u001b[0;32m<ipython-input-2-c2351e4cbb8d>\u001b[0m in \u001b[0;36m<module>\u001b[0;34m\u001b[0m\n\u001b[1;32m      1\u001b[0m \u001b[0;32mimport\u001b[0m \u001b[0mnumpy\u001b[0m \u001b[0;32mas\u001b[0m \u001b[0mnp\u001b[0m\u001b[0;34m\u001b[0m\u001b[0;34m\u001b[0m\u001b[0m\n\u001b[1;32m      2\u001b[0m \u001b[0;32mimport\u001b[0m \u001b[0mpandas\u001b[0m \u001b[0;32mas\u001b[0m \u001b[0mpd\u001b[0m\u001b[0;34m\u001b[0m\u001b[0;34m\u001b[0m\u001b[0m\n\u001b[0;32m----> 3\u001b[0;31m \u001b[0;32mimport\u001b[0m \u001b[0mmatplotlib\u001b[0m\u001b[0;34m.\u001b[0m\u001b[0mpyplot\u001b[0m \u001b[0;32mas\u001b[0m \u001b[0mplt\u001b[0m\u001b[0;34m\u001b[0m\u001b[0;34m\u001b[0m\u001b[0m\n\u001b[0m\u001b[1;32m      4\u001b[0m \u001b[0;32mimport\u001b[0m \u001b[0mos\u001b[0m\u001b[0;34m\u001b[0m\u001b[0;34m\u001b[0m\u001b[0m\n",
      "\u001b[0;31mModuleNotFoundError\u001b[0m: No module named 'matplotlib'"
     ]
    }
   ],
   "source": [
    "import numpy as np\n",
    "import pandas as pd\n",
    "# import matplotlib.pyplot as plt\n",
    "import os"
   ]
  },
  {
   "cell_type": "markdown",
   "metadata": {},
   "source": [
    "## Load data"
   ]
  },
  {
   "cell_type": "code",
   "execution_count": 3,
   "metadata": {},
   "outputs": [],
   "source": [
    "INFO_verbose = False"
   ]
  },
  {
   "cell_type": "code",
   "execution_count": 4,
   "metadata": {},
   "outputs": [
    {
     "name": "stdout",
     "output_type": "stream",
     "text": [
<<<<<<< HEAD
      "CPU times: user 8.85 ms, sys: 6.35 ms, total: 15.2 ms\n",
      "Wall time: 24.6 ms\n"
=======
      "CPU times: user 3.12 ms, sys: 456 µs, total: 3.58 ms\n",
      "Wall time: 5.37 ms\n"
>>>>>>> 0d212b59575faf96ae7f05d97076aa57b46d9006
     ]
    }
   ],
   "source": [
    "%%time\n",
    "st_template = pd.read_pickle('../data/model_v1.0_template.pk')"
   ]
  },
  {
   "cell_type": "code",
   "execution_count": 5,
   "metadata": {},
   "outputs": [],
   "source": [
    "if INFO_verbose:\n",
    "    st_template.info()"
   ]
  },
  {
   "cell_type": "code",
   "execution_count": 6,
   "metadata": {},
   "outputs": [
    {
     "name": "stdout",
     "output_type": "stream",
     "text": [
      "Loading from previous pickle file.\n",
<<<<<<< HEAD
      "CPU times: user 232 ms, sys: 713 ms, total: 946 ms\n",
      "Wall time: 2.05 s\n"
=======
      "CPU times: user 288 ms, sys: 284 ms, total: 572 ms\n",
      "Wall time: 2.76 s\n"
>>>>>>> 0d212b59575faf96ae7f05d97076aa57b46d9006
     ]
    }
   ],
   "source": [
    "%%time\n",
    "## load preprocessed data\n",
    "\n",
    "if os.path.exists('../data/divvy_data_model_'+VERSION+'.pk'):\n",
    "    print(\"Loading from previous pickle file.\")\n",
    "    data = pd.read_pickle('../data/divvy_data_model_'+VERSION+'.pk')\n",
    "else:\n",
    "    print(\"Create data set for this model... \")\n",
    "    data_lst = []\n",
    "\n",
    "    for year in [2013, 2014, 2015, 2016, 2017, 2018]:\n",
    "        dt_tmp = pd.read_feather('../data/Final_Divvy_data_'+str(year)+'.feather')\n",
    "        data_lst.append(dt_tmp)\n",
    "\n",
    "    data = pd.concat(data_lst, ignore_index=True)\n",
    "\n",
    "\n",
    "    data.to_pickle('../data/divvy_data_model_'+VERSION+'.pk')\n",
    "    print(\"Data saved to pickle file\")"
   ]
  },
  {
   "cell_type": "code",
   "execution_count": 7,
   "metadata": {},
   "outputs": [],
   "source": [
    "if INFO_verbose:\n",
    "    data.info()"
   ]
  },
  {
   "cell_type": "markdown",
   "metadata": {},
   "source": [
    "## Get target value"
   ]
  },
  {
   "cell_type": "code",
   "execution_count": 8,
   "metadata": {},
   "outputs": [],
   "source": [
    "target_in = data.total_in\n",
    "target_out = data.total_out"
   ]
  },
  {
   "cell_type": "code",
   "execution_count": 9,
   "metadata": {},
   "outputs": [],
   "source": [
    "target_in_log = np.log(target_in+1)"
   ]
  },
  {
   "cell_type": "markdown",
   "metadata": {},
   "source": [
    "## Prepare features"
   ]
  },
  {
   "cell_type": "code",
   "execution_count": 10,
   "metadata": {},
   "outputs": [],
   "source": [
    "# Prescreening for useful features\n",
    "feats = pd.merge(data[['station_id', 'month', 'dayofweek', 'year',\n",
    "                       'icon_clear-day', 'icon_cloudy', 'icon_partly-cloudy-day', \n",
    "                       'icon_rain', 'icon_sleet', 'icon_snow',\n",
    "                       'precipType_None', 'precipType_rain',\n",
    "                       'precipType_sleet', 'precipType_snow',\n",
    "                       'temperatureHigh', 'temperatureLow' \n",
    "                         ]], st_template, \n",
    "                    left_on='station_id', right_on='id').drop(['station_id', 'id'], axis=1)"
   ]
  },
  {
   "cell_type": "markdown",
   "metadata": {},
   "source": [
    "## Reordering dataframe"
   ]
  },
  {
   "cell_type": "code",
   "execution_count": 11,
   "metadata": {},
   "outputs": [],
   "source": [
    "# Reordering\n",
    "cols = []\n",
    "cols.extend(feats.columns[15:])\n",
    "cols.extend(feats.columns[2:15])\n",
    "cols.extend(feats.columns[:2])"
   ]
  },
  {
   "cell_type": "code",
   "execution_count": 12,
   "metadata": {},
   "outputs": [],
   "source": [
    "feats_fnl = feats[cols]"
   ]
  },
  {
   "cell_type": "code",
   "execution_count": 13,
   "metadata": {},
   "outputs": [
    {
     "name": "stdout",
     "output_type": "stream",
     "text": [
      "<class 'pandas.core.frame.DataFrame'>\n",
      "Int64Index: 947515 entries, 0 to 947514\n",
      "Data columns (total 65 columns):\n",
      "lon_ave                                  947515 non-null float64\n",
      "lat_ave                                  947515 non-null float64\n",
      "dp_max                                   947515 non-null float64\n",
      "community_area_ALBANY_PARK               947515 non-null uint8\n",
      "community_area_ARMOUR_SQUARE             947515 non-null uint8\n",
      "community_area_AUSTIN                    947515 non-null uint8\n",
      "community_area_AVALON_PARK               947515 non-null uint8\n",
      "community_area_AVONDALE                  947515 non-null uint8\n",
      "community_area_BRIDGEPORT                947515 non-null uint8\n",
      "community_area_CHATHAM                   947515 non-null uint8\n",
      "community_area_DOUGLAS                   947515 non-null uint8\n",
      "community_area_EAST_GARFIELD_PARK        947515 non-null uint8\n",
      "community_area_EDGEWATER                 947515 non-null uint8\n",
      "community_area_ENGLEWOOD                 947515 non-null uint8\n",
      "community_area_Evanston                  947515 non-null uint8\n",
      "community_area_FULLER_PARK               947515 non-null uint8\n",
      "community_area_GRAND_BOULEVARD           947515 non-null uint8\n",
      "community_area_GREATER_GRAND_CROSSING    947515 non-null uint8\n",
      "community_area_HERMOSA                   947515 non-null uint8\n",
      "community_area_HUMBOLDT_PARK             947515 non-null uint8\n",
      "community_area_HYDE_PARK                 947515 non-null uint8\n",
      "community_area_IRVING_PARK               947515 non-null uint8\n",
      "community_area_KENWOOD                   947515 non-null uint8\n",
      "community_area_LAKE_VIEW                 947515 non-null uint8\n",
      "community_area_LINCOLN_PARK              947515 non-null uint8\n",
      "community_area_LINCOLN_SQUARE            947515 non-null uint8\n",
      "community_area_LOGAN_SQUARE              947515 non-null uint8\n",
      "community_area_LOOP                      947515 non-null uint8\n",
      "community_area_LOWER_WEST_SIDE           947515 non-null uint8\n",
      "community_area_MCKINLEY_PARK             947515 non-null uint8\n",
      "community_area_NEAR_NORTH_SIDE           947515 non-null uint8\n",
      "community_area_NEAR_SOUTH_SIDE           947515 non-null uint8\n",
      "community_area_NEAR_WEST_SIDE            947515 non-null uint8\n",
      "community_area_NEW_CITY                  947515 non-null uint8\n",
      "community_area_NORTH_CENTER              947515 non-null uint8\n",
      "community_area_NORTH_LAWNDALE            947515 non-null uint8\n",
      "community_area_NORTH_PARK                947515 non-null uint8\n",
      "community_area_Oak_Park                  947515 non-null uint8\n",
      "community_area_PORTAGE_PARK              947515 non-null uint8\n",
      "community_area_ROGERS_PARK               947515 non-null uint8\n",
      "community_area_SOUTH_CHICAGO             947515 non-null uint8\n",
      "community_area_SOUTH_LAWNDALE            947515 non-null uint8\n",
      "community_area_SOUTH_SHORE               947515 non-null uint8\n",
      "community_area_UPTOWN                    947515 non-null uint8\n",
      "community_area_WASHINGTON_PARK           947515 non-null uint8\n",
      "community_area_WEST_ENGLEWOOD            947515 non-null uint8\n",
      "community_area_WEST_GARFIELD_PARK        947515 non-null uint8\n",
      "community_area_WEST_RIDGE                947515 non-null uint8\n",
      "community_area_WEST_TOWN                 947515 non-null uint8\n",
      "community_area_WOODLAWN                  947515 non-null uint8\n",
      "year                                     947515 non-null float64\n",
      "icon_clear-day                           947515 non-null int64\n",
      "icon_cloudy                              947515 non-null int64\n",
      "icon_partly-cloudy-day                   947515 non-null int64\n",
      "icon_rain                                947515 non-null int64\n",
      "icon_sleet                               566687 non-null float64\n",
      "icon_snow                                735051 non-null float64\n",
      "precipType_None                          947515 non-null int64\n",
      "precipType_rain                          947515 non-null int64\n",
      "precipType_sleet                         566687 non-null float64\n",
      "precipType_snow                          947515 non-null int64\n",
      "temperatureHigh                          947515 non-null float64\n",
      "temperatureLow                           947515 non-null float64\n",
      "month                                    947515 non-null int64\n",
      "dayofweek                                947515 non-null int64\n",
      "dtypes: float64(9), int64(9), uint8(47)\n",
      "memory usage: 179.8 MB\n"
     ]
    }
   ],
   "source": [
    "if INFO_verbose:\n",
    "    feats_fnl.info()\n",
    "feats_fnl.info()"
   ]
  },
  {
   "cell_type": "code",
   "execution_count": 14,
   "metadata": {},
   "outputs": [],
   "source": [
    "feats_fnl = feats_fnl.fillna(0)"
   ]
  },
  {
   "cell_type": "markdown",
   "metadata": {},
   "source": [
    "## Get/Check indices for numerical columns "
   ]
  },
  {
   "cell_type": "code",
   "execution_count": 15,
   "metadata": {},
   "outputs": [],
   "source": [
    "num_col_in = [0, 1, 2, 50, 61, 62]"
   ]
  },
  {
   "cell_type": "code",
   "execution_count": 16,
   "metadata": {},
   "outputs": [
    {
     "name": "stdout",
     "output_type": "stream",
     "text": [
      "<class 'pandas.core.frame.DataFrame'>\n",
      "Int64Index: 947515 entries, 0 to 947514\n",
      "Data columns (total 6 columns):\n",
      "lon_ave            947515 non-null float64\n",
      "lat_ave            947515 non-null float64\n",
      "dp_max             947515 non-null float64\n",
      "year               947515 non-null float64\n",
      "temperatureHigh    947515 non-null float64\n",
      "temperatureLow     947515 non-null float64\n",
      "dtypes: float64(6)\n",
      "memory usage: 50.6 MB\n"
     ]
    }
   ],
   "source": [
    "feats_fnl.iloc[:, num_col_in].info()"
   ]
  },
  {
   "cell_type": "markdown",
   "metadata": {},
   "source": [
    "## Save model details into txt "
   ]
  },
  {
   "cell_type": "code",
   "execution_count": 17,
   "metadata": {},
   "outputs": [],
   "source": [
    "import io\n",
    "\n",
    "buffer = io.StringIO()\n",
    "feats_fnl.info(buf=buffer)\n",
    "s = buffer.getvalue()\n",
    "\n",
    "with open(\"../model_features_details/features_\"+str(VERSION)+'.txt', \"w\", encoding=\"utf-8\") as f: \n",
    "    f.write(s)"
   ]
  },
  {
   "cell_type": "markdown",
   "metadata": {},
   "source": [
    "## Convert to numpy matrix "
   ]
  },
  {
   "cell_type": "code",
   "execution_count": 18,
   "metadata": {},
   "outputs": [],
   "source": [
    "features_ = feats_fnl.to_numpy()"
   ]
  },
  {
   "cell_type": "code",
   "execution_count": 19,
   "metadata": {},
   "outputs": [
    {
     "data": {
      "text/plain": [
       "array([[-87.6277254 ,  41.87401502,  23.        , ...,  62.11      ,\n",
       "          7.        ,   0.        ],\n",
       "       [-87.6277254 ,  41.87401502,  23.        , ...,  61.23      ,\n",
       "          7.        ,   1.        ],\n",
       "       [-87.6277254 ,  41.87401502,  23.        , ...,  59.93      ,\n",
       "          7.        ,   2.        ],\n",
       "       ...,\n",
       "       [-87.683282  ,  41.939354  ,  16.        , ...,  28.51      ,\n",
       "         12.        ,   4.        ],\n",
       "       [-87.683282  ,  41.939354  ,  16.        , ...,  31.15      ,\n",
       "         12.        ,   6.        ],\n",
       "       [-87.683282  ,  41.939354  ,  16.        , ...,  29.96      ,\n",
       "         12.        ,   0.        ]])"
      ]
     },
     "execution_count": 19,
     "metadata": {},
     "output_type": "execute_result"
    }
   ],
   "source": [
    "features_"
   ]
  },
  {
   "cell_type": "markdown",
   "metadata": {},
   "source": [
    "## Building pipelines"
   ]
  },
  {
   "cell_type": "code",
   "execution_count": 20,
   "metadata": {},
<<<<<<< HEAD
   "outputs": [
    {
     "name": "stderr",
     "output_type": "stream",
     "text": [
      "/anaconda3/lib/python3.7/site-packages/sklearn/ensemble/weight_boosting.py:29: DeprecationWarning: numpy.core.umath_tests is an internal NumPy module and should not be imported. It will be removed in a future NumPy release.\n",
      "  from numpy.core.umath_tests import inner1d\n"
     ]
    }
   ],
=======
   "outputs": [],
>>>>>>> 0d212b59575faf96ae7f05d97076aa57b46d9006
   "source": [
    "from sklearn.preprocessing import MinMaxScaler\n",
    "from sklearn.preprocessing import OneHotEncoder # deprecated in 0.20\n",
    "from sklearn.linear_model import Ridge\n",
    "from sklearn.ensemble import RandomForestRegressor\n",
    "\n",
    "from sklearn.model_selection import GridSearchCV\n",
    "from sklearn.pipeline import Pipeline\n",
    "\n",
    "from sklearn.model_selection import train_test_split"
   ]
  },
  {
   "cell_type": "code",
   "execution_count": 21,
   "metadata": {},
   "outputs": [],
   "source": [
    "# %%time\n",
    "# model = Pipeline([\n",
    "#     ('ohe', OneHotEncoder(categorical_features=[63, 64], sparse=False)),\n",
    "#     ('mms', MinMaxScaler(feature_range=(0, 1), copy=False)),\n",
    "#     ('rg', Ridge(alpha=10))\n",
    "# ])\n",
    "\n",
    "# # Train Test split\n",
    "# X_train, X_test, y_train, y_test = train_test_split(\n",
    "#     features_, \n",
    "#     target_out, \n",
    "#     test_size=0.2, \n",
    "#     random_state=42)\n",
    "\n",
    "# model_gs = GridSearchCV(\n",
    "#     model,\n",
    "#     {'rg__alpha': [0.001, 0.01, 0.1, 1, 10, 100]},\n",
    "#     cv=5,\n",
    "#     n_jobs=2\n",
    "# )\n",
    "\n",
    "# model_gs.fit(X_train, y_train)\n",
    "# print(\"Best params: \", model_gs.best_params_)"
   ]
  },
  {
   "cell_type": "code",
   "execution_count": 23,
   "metadata": {},
   "outputs": [
    {
     "name": "stdout",
     "output_type": "stream",
     "text": [
<<<<<<< HEAD
      "CPU times: user 1.36 s, sys: 969 ms, total: 2.33 s\n",
      "Wall time: 2.76 s\n"
=======
      "CPU times: user 747 ms, sys: 612 ms, total: 1.36 s\n",
      "Wall time: 1.36 s\n"
>>>>>>> 0d212b59575faf96ae7f05d97076aa57b46d9006
     ]
    }
   ],
   "source": [
    "%%time\n",
    "model = Pipeline([\n",
    "    ('ohe', OneHotEncoder(categorical_features=[63, 64], sparse=False)),\n",
    "    ('mms', MinMaxScaler(feature_range=(0, 1), copy=False)),\n",
    "    ('rf', RandomForestRegressor(n_estimators=10))\n",
    "])\n",
    "\n",
    "# Train Test split\n",
    "X_train, X_test, y_train, y_test = train_test_split(\n",
    "    features_, \n",
    "    target_out, \n",
    "    test_size=0.2, \n",
    "    random_state=42)\n",
    "\n",
    "model_gs = GridSearchCV(\n",
    "    model,\n",
<<<<<<< HEAD
    "    {'rf__n_estimators': [50, 100, 200]},\n",
    "    cv=5,\n",
=======
    "    {'rf__n_estimators': [10]},\n",
    "    cv=2,\n",
>>>>>>> 0d212b59575faf96ae7f05d97076aa57b46d9006
    "    n_jobs=2\n",
    ")"
   ]
  },
  {
   "cell_type": "code",
<<<<<<< HEAD
   "execution_count": null,
=======
   "execution_count": 24,
>>>>>>> 0d212b59575faf96ae7f05d97076aa57b46d9006
   "metadata": {},
   "outputs": [
    {
     "name": "stderr",
     "output_type": "stream",
     "text": [
<<<<<<< HEAD
      "\n",
      "KeyboardInterrupt\n",
      "ERROR:root:Internal Python error in the inspect module.\n",
      "Below is the traceback from this internal error.\n",
      "\n",
      "\n",
      "KeyboardInterrupt\n",
      "\n"
=======
      "/home/ec2-user/anaconda3/envs/datascience/lib/python3.7/site-packages/sklearn/preprocessing/_encoders.py:415: FutureWarning: The handling of integer data will change in version 0.22. Currently, the categories are determined based on the range [0, max(values)], while in the future they will be determined based on the unique values.\n",
      "If you want the future behaviour and silence this warning, you can specify \"categories='auto'\".\n",
      "In case you used a LabelEncoder before this OneHotEncoder to convert the categories to integers, then you can now use the OneHotEncoder directly.\n",
      "  warnings.warn(msg, FutureWarning)\n",
      "/home/ec2-user/anaconda3/envs/datascience/lib/python3.7/site-packages/sklearn/preprocessing/_encoders.py:451: DeprecationWarning: The 'categorical_features' keyword is deprecated in version 0.20 and will be removed in 0.22. You can use the ColumnTransformer instead.\n",
      "  \"use the ColumnTransformer instead.\", DeprecationWarning)\n"
>>>>>>> 0d212b59575faf96ae7f05d97076aa57b46d9006
     ]
    },
    {
     "name": "stdout",
     "output_type": "stream",
     "text": [
<<<<<<< HEAD
      "Traceback (most recent call last):\n",
      "  File \"/anaconda3/lib/python3.7/site-packages/sklearn/externals/joblib/parallel.py\", line 699, in retrieve\n",
      "    self._output.extend(job.get(timeout=self.timeout))\n",
      "  File \"/anaconda3/lib/python3.7/multiprocessing/pool.py\", line 651, in get\n",
      "    self.wait(timeout)\n",
      "  File \"/anaconda3/lib/python3.7/multiprocessing/pool.py\", line 648, in wait\n",
      "    self._event.wait(timeout)\n",
      "  File \"/anaconda3/lib/python3.7/threading.py\", line 552, in wait\n",
      "    signaled = self._cond.wait(timeout)\n",
      "  File \"/anaconda3/lib/python3.7/threading.py\", line 296, in wait\n",
      "    waiter.acquire()\n",
      "KeyboardInterrupt\n",
      "\n",
      "During handling of the above exception, another exception occurred:\n",
      "\n",
      "Traceback (most recent call last):\n",
      "  File \"/anaconda3/lib/python3.7/site-packages/IPython/core/magics/execution.py\", line 1237, in time\n",
      "    exec(code, glob, local_ns)\n",
      "  File \"<timed exec>\", line 1, in <module>\n",
      "  File \"/anaconda3/lib/python3.7/site-packages/sklearn/model_selection/_search.py\", line 640, in fit\n",
      "    cv.split(X, y, groups)))\n",
      "  File \"/anaconda3/lib/python3.7/site-packages/sklearn/externals/joblib/parallel.py\", line 789, in __call__\n",
      "    self.retrieve()\n",
      "  File \"/anaconda3/lib/python3.7/site-packages/sklearn/externals/joblib/parallel.py\", line 721, in retrieve\n",
      "    backend.abort_everything(ensure_ready=ensure_ready)\n",
      "  File \"/anaconda3/lib/python3.7/site-packages/sklearn/externals/joblib/_parallel_backends.py\", line 145, in abort_everything\n",
      "    self.terminate()\n",
      "  File \"/anaconda3/lib/python3.7/site-packages/sklearn/externals/joblib/_parallel_backends.py\", line 323, in terminate\n",
      "    super(MultiprocessingBackend, self).terminate()\n",
      "  File \"/anaconda3/lib/python3.7/site-packages/sklearn/externals/joblib/_parallel_backends.py\", line 136, in terminate\n",
      "    self._pool.terminate()  # terminate does a join()\n",
      "  File \"/anaconda3/lib/python3.7/site-packages/sklearn/externals/joblib/pool.py\", line 606, in terminate\n",
      "    super(MemmapingPool, self).terminate()\n",
      "  File \"/anaconda3/lib/python3.7/multiprocessing/pool.py\", line 548, in terminate\n",
      "    self._terminate()\n",
      "  File \"/anaconda3/lib/python3.7/multiprocessing/util.py\", line 189, in __call__\n",
      "    res = self._callback(*self._args, **self._kwargs)\n",
      "  File \"/anaconda3/lib/python3.7/multiprocessing/pool.py\", line 581, in _terminate_pool\n",
      "    cls._help_stuff_finish(inqueue, task_handler, len(pool))\n",
      "  File \"/anaconda3/lib/python3.7/multiprocessing/pool.py\", line 568, in _help_stuff_finish\n",
      "    inqueue._reader.recv()\n",
      "  File \"/anaconda3/lib/python3.7/multiprocessing/connection.py\", line 251, in recv\n",
      "    return _ForkingPickler.loads(buf.getbuffer())\n",
      "  File \"/anaconda3/lib/python3.7/site-packages/sklearn/externals/joblib/numpy_pickle.py\", line 578, in load\n",
      "    obj = _unpickle(fobj, filename, mmap_mode)\n",
      "  File \"/anaconda3/lib/python3.7/site-packages/sklearn/externals/joblib/numpy_pickle.py\", line 508, in _unpickle\n",
      "    obj = unpickler.load()\n",
      "  File \"/anaconda3/lib/python3.7/pickle.py\", line 1085, in load\n",
      "    dispatch[key[0]](self)\n",
      "  File \"/anaconda3/lib/python3.7/site-packages/sklearn/externals/joblib/numpy_pickle.py\", line 341, in load_build\n",
      "    self.stack.append(array_wrapper.read(self))\n",
      "  File \"/anaconda3/lib/python3.7/site-packages/sklearn/externals/joblib/numpy_pickle.py\", line 182, in read\n",
      "    array = self.read_mmap(unpickler)\n",
      "  File \"/anaconda3/lib/python3.7/site-packages/sklearn/externals/joblib/numpy_pickle.py\", line 160, in read_mmap\n",
      "    offset=offset)\n",
      "  File \"/anaconda3/lib/python3.7/site-packages/sklearn/externals/joblib/backports.py\", line 23, in make_memmap\n",
      "    shape=shape, order=order)\n",
      "  File \"/anaconda3/lib/python3.7/site-packages/numpy/core/memmap.py\", line 264, in __new__\n",
      "    mm = mmap.mmap(fid.fileno(), bytes, access=acc, offset=start)\n",
      "KeyboardInterrupt\n",
      "\n",
      "During handling of the above exception, another exception occurred:\n",
      "\n",
      "Traceback (most recent call last):\n",
      "  File \"/anaconda3/lib/python3.7/site-packages/IPython/core/interactiveshell.py\", line 1863, in showtraceback\n",
      "    stb = value._render_traceback_()\n",
      "AttributeError: 'KeyboardInterrupt' object has no attribute '_render_traceback_'\n",
      "\n",
      "During handling of the above exception, another exception occurred:\n",
      "\n",
      "Traceback (most recent call last):\n",
      "  File \"/anaconda3/lib/python3.7/site-packages/IPython/core/interactiveshell.py\", line 1865, in showtraceback\n",
      "    stb = self.InteractiveTB.structured_traceback(etype,\n",
      "KeyboardInterrupt\n",
      "\n",
      "During handling of the above exception, another exception occurred:\n",
      "\n",
      "Traceback (most recent call last):\n",
      "  File \"/anaconda3/lib/python3.7/site-packages/IPython/core/interactiveshell.py\", line 2961, in run_code\n",
      "    exec(code_obj, self.user_global_ns, self.user_ns)\n",
      "  File \"<ipython-input-24-89f4fdd7fc6b>\", line 1, in <module>\n",
      "    get_ipython().run_cell_magic('time', '', 'model_gs.fit(X_train, y_train)\\n# model_gs.fit(features_, target_out)\\nprint(\"Best params: \", model_gs.best_params_)')\n",
      "  File \"/anaconda3/lib/python3.7/site-packages/IPython/core/interactiveshell.py\", line 2167, in run_cell_magic\n",
      "    result = fn(magic_arg_s, cell)\n",
      "  File \"<decorator-gen-62>\", line 2, in time\n",
      "  File \"/anaconda3/lib/python3.7/site-packages/IPython/core/magic.py\", line 187, in <lambda>\n",
      "    call = lambda f, *a, **k: f(*a, **k)\n",
      "  File \"/anaconda3/lib/python3.7/site-packages/IPython/core/magics/execution.py\", line 1239, in time\n",
      "    self.shell.showtraceback()\n",
      "  File \"/anaconda3/lib/python3.7/site-packages/IPython/core/interactiveshell.py\", line 1878, in showtraceback\n",
      "    print('\\n' + self.get_exception_only(), file=sys.stderr)\n",
      "  File \"/anaconda3/lib/python3.7/site-packages/ipykernel/iostream.py\", line 400, in write\n",
      "    self.pub_thread.schedule(lambda : self._buffer.write(string))\n",
      "  File \"/anaconda3/lib/python3.7/site-packages/ipykernel/iostream.py\", line 203, in schedule\n",
      "    self._event_pipe.send(b'')\n",
      "  File \"/anaconda3/lib/python3.7/site-packages/zmq/sugar/socket.py\", line 334, in send\n",
      "    def send(self, data, flags=0, copy=True, track=False, routing_id=None, group=None):\n",
      "KeyboardInterrupt\n",
      "\n",
      "During handling of the above exception, another exception occurred:\n",
      "\n",
      "Traceback (most recent call last):\n",
      "  File \"/anaconda3/lib/python3.7/site-packages/IPython/core/interactiveshell.py\", line 1863, in showtraceback\n",
      "    stb = value._render_traceback_()\n"
     ]
    },
    {
     "name": "stderr",
     "output_type": "stream",
     "text": [
      "ERROR:tornado.general:Uncaught exception in ZMQStream callback\n",
      "Traceback (most recent call last):\n",
      "  File \"/anaconda3/lib/python3.7/site-packages/zmq/eventloop/zmqstream.py\", line 432, in _run_callback\n",
      "    callback(*args, **kwargs)\n",
      "  File \"/anaconda3/lib/python3.7/site-packages/tornado/stack_context.py\", line 300, in null_wrapper\n",
      "    return fn(*args, **kwargs)\n",
      "  File \"/anaconda3/lib/python3.7/site-packages/ipykernel/kernelbase.py\", line 283, in dispatcher\n",
      "    return self.dispatch_shell(stream, msg)\n",
      "  File \"/anaconda3/lib/python3.7/site-packages/ipykernel/kernelbase.py\", line 233, in dispatch_shell\n",
      "    handler(stream, idents, msg)\n",
      "  File \"/anaconda3/lib/python3.7/site-packages/ipykernel/kernelbase.py\", line 421, in execute_request\n",
      "    self._abort_queues()\n",
      "  File \"/anaconda3/lib/python3.7/site-packages/ipykernel/kernelbase.py\", line 636, in _abort_queues\n",
      "    self._abort_queue(stream)\n",
      "  File \"/anaconda3/lib/python3.7/site-packages/ipykernel/kernelbase.py\", line 654, in _abort_queue\n",
      "    self._publish_status('busy', parent=msg)\n",
      "  File \"/anaconda3/lib/python3.7/site-packages/ipykernel/kernelbase.py\", line 327, in _publish_status\n",
      "    ident=self._topic('status'),\n",
      "  File \"/anaconda3/lib/python3.7/site-packages/jupyter_client/session.py\", line 748, in send\n",
      "    stream.send_multipart(to_send, copy=copy)\n",
      "  File \"/anaconda3/lib/python3.7/site-packages/ipykernel/iostream.py\", line 262, in send_multipart\n",
      "    return self.io_thread.send_multipart(*args, **kwargs)\n",
      "  File \"/anaconda3/lib/python3.7/site-packages/ipykernel/iostream.py\", line 212, in send_multipart\n",
      "    self.schedule(lambda : self._really_send(*args, **kwargs))\n",
      "  File \"/anaconda3/lib/python3.7/site-packages/ipykernel/iostream.py\", line 203, in schedule\n",
      "    self._event_pipe.send(b'')\n",
      "  File \"/anaconda3/lib/python3.7/site-packages/zmq/sugar/socket.py\", line 392, in send\n",
      "    return super(Socket, self).send(data, flags=flags, copy=copy, track=track)\n",
      "  File \"zmq/backend/cython/socket.pyx\", line 725, in zmq.backend.cython.socket.Socket.send\n",
      "  File \"zmq/backend/cython/socket.pyx\", line 772, in zmq.backend.cython.socket.Socket.send\n",
      "  File \"zmq/backend/cython/socket.pyx\", line 242, in zmq.backend.cython.socket._send_copy\n",
      "  File \"zmq/backend/cython/checkrc.pxd\", line 12, in zmq.backend.cython.checkrc._check_rc\n",
      "KeyboardInterrupt\n"
=======
      "Best params:  {'rf__n_estimators': 10}\n"
>>>>>>> 0d212b59575faf96ae7f05d97076aa57b46d9006
     ]
    }
   ],
   "source": [
    "%%time\n",
    "model_gs.fit(X_train, y_train)\n",
    "# model_gs.fit(features_, target_out)\n",
    "print(\"Best params: \", model_gs.best_params_)"
   ]
  },
  {
   "cell_type": "code",
   "execution_count": 25,
   "metadata": {},
   "outputs": [],
   "source": [
    "y_pred = model_gs.predict(X_test)"
   ]
  },
  {
   "cell_type": "code",
   "execution_count": 27,
   "metadata": {},
   "outputs": [
    {
     "data": {
      "text/plain": [
       "[<matplotlib.lines.Line2D at 0x7f1b09fe5940>]"
      ]
     },
     "execution_count": 27,
     "metadata": {},
     "output_type": "execute_result"
    },
    {
     "data": {
      "image/png": "iVBORw0KGgoAAAANSUhEUgAAAYUAAAD4CAYAAAAD6PrjAAAABHNCSVQICAgIfAhkiAAAAAlwSFlzAAALEgAACxIB0t1+/AAAADh0RVh0U29mdHdhcmUAbWF0cGxvdGxpYiB2ZXJzaW9uMy4xLjEsIGh0dHA6Ly9tYXRwbG90bGliLm9yZy8QZhcZAAAgAElEQVR4nOy9WYxkWXqY9527L7FkZFbWkrV0dff0cHpEmuawTdOgYROiIUu0YOpBlgUb1lggMG+2YT6Y9JMML4AFGKAlGCBAmLZJw5AsEALIB8E2wQU2bHCoHo3ImekZznRVT21Zucd+93uOH+6NqMjszKyszKjKyKjzAYXKuHkj77nb+f/zr0IphUaj0Wg0AMZlD0Cj0Wg0i4MWChqNRqOZooWCRqPRaKZooaDRaDSaKVooaDQajWaKddkDOI1r166p+/fvX/YwNBqN5krxjW98Y08ptX6e7y60ULh//z4ff/zxZQ9Do9ForhRCiEfn/a42H2k0Go1mihYKGo1Go5mihYJGo9FopmihoNFoNJopWihoNBqNZspCRx9p3l6SvGR/lJIWEtcyWGu4eLZ52cPSaJYevVLQLBxJXvKsGyEVBI6JVPCsG5Hk5WUPTaNZerRQ0Cwc+6MUxzJxLAMhBI5l4Fgm+6P0soem0Sw9WihoFo60kNimOLTNNgVpIS9pRBrN24MWCpqFw7UM8vJw86e8VLiWflw1mteNfss0C8dawyUrSrJCopQiKyRZUbLWcC97aBrN0qOFgmbh8GyT250AQ0CUlRgCbncCHX2k0bwBdEiqZiGZCAaNRvNm0ULhFHSsvEajedvQ5qMT0LHyGo3mbUQLhRPQsfIajeZtRAuFE9Cx8hqN5m1E+xROYBIr71gvBIOOlddoNPNm0XyXeoY7AR0rr9FoXjeL6LvUQuEEdKy8RqN53Syi71Kbj05Bx8prNJrXSVpIAuewommbgijTKwWNRqN561jEOl9aKGg0Gs0lsYi+Sy0UNBqN5pJYRN/lS4WCEOJ/EkLsCCG+PbNtVQjxe0KIH9T/d+rtQgjx94UQnwoh/kwI8ZWZ73y13v8HQoivvp7T0Wg0mqvFRDC8t964dIEAZ1sp/C/AXz6y7VeA31dKfQD8fv0Z4K8AH9T/vgb8GlRCBPg7wL8M/BTwdyaCRKPRaDSLw0uFglLq/wYOjmz+BeA3659/E/hrM9t/S1X8MbAihLgF/JvA7ymlDpRSXeD3+Lyg0Wg0Gs0lc16fwg2l1PP65y3gRv3zbeDJzH5P620nbf8cQoivCSE+FkJ8vLu7e87haTQajeY8XNjRrJRSgHrpjmf/e7+ulPpIKfXR+vr6vP6sRqPRaM7AeYXCdm0Wov5/p97+DLg7s9+dettJ2zUajUazQJxXKPwuMIkg+irwOzPb/1YdhfTTQL82M/2fwF8SQnRqB/NfqrdpNBqNZoF4aZkLIcQ/AH4WuCaEeEoVRfTfAv9ICPGLwCPgb9S7/xPg54FPgQj42wBKqQMhxH8F/NN6v/9SKXXUea3RaDSaS0ZULoHF5KOPPlIff/zxZQ9Do9ForhRCiG8opT46z3d1RrNGo9FopmihoNFoNJopWihoNBqNZooWChqNRqOZooWCRqPRaKZooaDRaDSaKVooaDQajWaKFgoajUajmaKFgkaj0WimaKGg0Wg0milaKGg0Go1mihYKGo1Go5mihYJGo9FopmihoNFoNJopWihoNBqNZooWChqNRqOZooWCRqPRaKZooaDRaDSaKS/t0byMJHnJ/iglLSSuZbDWcPFs87KHpdFoNJfOW7dSSPKSZ90IqSBwTKSCZ92IJC8ve2gajUZz6bx1QmF/lOJYJo5lIITAsQwcy2R/lF720DQajebSeeuEQlpIbFMc2mabgrSQlzQijUajWRzeOqHgWgZ5qQ5ty0uFa711l0Kj0Wg+x1vlaE7ykrSQPN4fE3oW6w0X0zDIipLbneCyh6fRLA06mOPq8taoxxMHs20a3L8WgoIf7o3Ja4GgH1iNZj7oYI6rzVuzUph1MIPBvTWLrJAYAi0QNJo5cvhdA8cS0+16Rb74vDUrBe1g1mjeDPpdu9pcSCgIIf5TIcR3hBDfFkL8AyGEJ4R4VwjxdSHEp0KI/10I4dT7uvXnT+vf35/HCZwV7WDWaN4M+l272pz7LgkhbgP/MfCRUupHARP4m8DfBX5VKfUFoAv8Yv2VXwS69fZfrfd7Y6w1XLKiJCskSimyQpIVJWsN900OQ6NZevS7drW5qOi2AF8IYQEB8Bz4i8Bv17//TeCv1T//Qv2Z+vc/J4Q4vMZ8jXi2ye1OgCEgykoMgXYwa94IE8frw93RW+Fw1e/a6Sz683BuR7NS6pkQ4r8DHgMx8H8B3wB6Sqmi3u0pcLv++TbwpP5uIYToA2vA3uzfFUJ8DfgawL179847vGOZPKwazZtiMgE4lkngmOSl4lk3WvpJUr9rx3MVnoeLmI86VNr/u8AGEAJ/+aIDUkr9ulLqI6XUR+vr6xf9cxrNpaLLqmhmuQrPw0XMR/8G8JlSalcplQP/GPgZYKU2JwHcAZ7VPz8D7gLUv28D+xc4vkaz8OhIHM0sV+F5uIhQeAz8tBAiqH0DPwd8Avwh8Nfrfb4K/E798+/Wn6l//wdKqcMhChrNkqEjcTSzXIXn4dwjUUp9ncph/M+Ab9V/69eBXwZ+SQjxKZXP4Dfqr/wGsFZv/yXgVy4wbo3mSqAjcebHojtoz8JVeB7EIivrH330kfr4448vexgazYXQdYAuzqyD1jYFeammNcuu2rV8E8+DEOIbSqmPzvPdt6bMhUZzXi76EutInIuzTKUzFv15WBxDlkazgOjibovBVXDQLgtaKGg0p3AVQgjfBq6Cg3ZZ0OYjzUt5m23iaSEJnMPnapuCKFv8lcIy3be1hsuzbgTwOZ+CZr5oMas5lbfdfHJVNdRlu2+6dMabQ68UNKeyTA6+szKrYaMUcSFpefaV0lCX8b4tuoN2WdBCQXMqV8V8Mi9TyXG1aZK8JC8leVmtHK6ChnpV7ptm8dBCQXMqE/PJRNOExTOfzLPI2HEadtN3puaKq8JVuG+axUQ/IUvGvLM+r0IG5jwjhJYl9PEq3DfNYqKFwhLxOpyLV8HBN8+J/Ko6lo9yFe6bZjHR5qMl4nU5FxfdwTdPU8kyhT4u+n3TLCZXS/3RnMqymD5elXmaSrSGrXnb0SuFJeJNOxcXJTlqMpHvj1KirLxwhJDWsDVvM1ooLBFv0vSxaG0F9USu0cwHbT5aIt6k6UPXBNJolhMtFJaIN2nOeVv9FxrNsqOFwpLwpmvdLEvopkajOYx+g5eEN23O0clR52MZWkpqlhstFJaEN23O0aGbr86yVC7Vgm250dFHC8Z5/QKXUetGR/y8GstQuXTRos4080evFBaIi2iS2pyz+CyDc15HnS0/WigsEBd54bQ5Z/FZBuf8Mgg2zelo89EcuWhI6EVr4GtzzmKzDHWVdEnu5UffyTkxDyfiMmiSi8xlO0iXYTWnzZTLj14pzIl5OBGXQZNcVBbFQXrVV3PzrjM1y6LU0nrb0UJhTsyj/eE8Xzj9gh1mGSJ/FoXXIdgWRWhrtFCYG/Oytc7jhTvvC7ZogmSe49E9ixcbLbQXhwsZq4UQK0KI3xZCfE8I8V0hxL8ihFgVQvyeEOIH9f+del8hhPj7QohPhRB/JoT4ynxOYTFYJFvreaKYFi2xat7jOc1fc9m+Bo2OalokLurB/HvA/6GU+hLw48B3gV8Bfl8p9QHw+/VngL8CfFD/+xrwaxc89kKxSE7E87xgixZ/Pu/xnCS0Q9daKGH4tqKDLBaHc5uPhBBt4F8D/kMApVQGZEKIXwB+tt7tN4E/An4Z+AXgt5RSCvjjepVxSyn1/NyjXzAWxYl4HlPWoplX5jmeiRkqKyS9OCNwbFqeNfXfaLPF53nTpsTzBlksmslzGbiIGH4X2AX+ZyHEN4UQ/6MQIgRuzEz0W8CN+ufbwJOZ7z+ttx1CCPE1IcTHQoiPd3d3LzC8t5fzmLIuoqm9DvPLvDTHWTNUJ3S43vRxTDGdPLTZ4vNchinxPCvtRTN5LgsXEQoW8BXg15RSPwGMeWEqAqBeFahjvnsiSqlfV0p9pJT6aH19/QLDe3s5zwt2Xp/I63ox5+WjeZkZSpstPs9lmRInz+17640zmV4XzeS5LFzkyX8KPFVKfb3+/NtUQmJbCHELoP5/p/79M+DuzPfv1Ns0r4FXfcHO6xN5XS/mvHw0L1sJLFKAwKJwVVZPV2WcV41zCwWl1BbwRAjxI/WmnwM+AX4X+Gq97avA79Q//y7wt+oopJ8G+svkT1gGXlWQwOt9Mc8znqO8bCWwSAECi8JVWT1dlXFeNS6ap/AfAf+bEMIBHgJ/m0rQ/CMhxC8Cj4C/Ue/7T4CfBz4FonpfzRVn0WvhnMWBuSgBAovCvDLrX7cTWFcAeD2Iyuy/mHz00Ufq448/vuxhaE5hNlHu6Iu5KNr2VYpQSfKSzW7EzjBFKcWNts/Giv/Gx3vRa/amnourdG/fJEKIbyilPjrPd3VGs+ZCvM5aOPPiqqwEkrzk4c6QgyivwnEVbPYi4rzk/fXGlarR9KZCfa/Kvb1KaKGguTDL8GIugsa5P0oZ51VCnW1Wk6kQgigtrlzexKLlvWjOzmIYfueMLlugeRUWJd49LSRSKizjhX/GMgVSqSsXUaOdwFeXpbtDkxc8zkoGccajvTHffHRAL8oue2iaOTJPwb8o8e6uZWAYgkK+mEyLUmEIceUmUx3qe3W5Wk/aGdgfpSgF++MMhaDp25iGwSebfb1iuOJMBMF3nw/45qMD4qyci2a/KPHuaw2X0DYZp0U1oeYl4ywncK0rN5m+jlBfbQF4MyydUEgLySjNcSwD26w0P98xUaAzHa8wsyaeJCswDYP9cUZayAtr9oti6vBsk/euN9loe2SFJC1KNlaCN+5knhfzyDOZsCgmvreBpXM0u5ZBlJY0fXu6rSgVQV3nRnM1mTXx5FLhOyaFVPSijJtt/0JOzEWKd58IhveuN9/4sRcZXbjwzbF0K4W1hosQEGclSinyQpKVJQ3PXki7rF4Sn41ZE49jGhRl5ZCdCPqLaPavK6tZ39v5sSgmvreBpVspeLbJhxttPtnsM0gkgW2yGroYgoWzy+oWhGdnNnO6Ezps9WPyUqCQPNge8rwfc63pMYjzSjjUztmzhpa+LKz2VUNW9b2dL4ueOb9MLOUVXQkcvvLOKvfXQtqBQ+CYC/kyLkrUy1VgNprFtQxWQ5coK9gdpuwME26t+DiW4FvPevxwP8IQzM3ufB57tr6380VHM705lm6lMOEqJFQtS4LPcVo0MNdksKOZ04Fjcm8tZH+UYhkGtmWwM0hoeQ6FVPTjnJttfzqON52de9q9XYREuavGVcicXxaWVihcBZZhSXycmeTB7gihFE3fmYvp5OgkOqkF9HB3hFQKyxSkRcnzfoJAoRAEjsnN9nyE7HmE90n3FjjVrKQFxslcBUVvGbg6s88b4k06B5dhSXycmSRKC8Z5ORfTyWmmG9cyKKTih3tjvvW0zyipWm4KoejHGUlezkXInidk9aR7i1InmpV02KVmEXhrhMJZJvs3/VK+zlr+b0q4DZKCvWHCo/0xz3sxSV4ilULKw5PoeSNFjhM6SsF3NnvsjlIe7Y151osASVJIvrvZpx9lNByTnWEyFyF7HuF90r1FiBOjaObph9CRT5rz8lYIhbNO9pfhHJxngs+ENyHckrzk4e6IT5712OwlGAKUgq1+TFFKDOPwxHdejf1oKGKSl+yNUpJcoqTi3mpIUUp2BimmMPnSRovAtdkfZ0RpMZdrel7hfdy9PW3VcVLY5SDOX2mC1ysOzUV4K3wKZ3UULovj93Un+kwmnYNxxsaKz+4o43k/4VbbQ1Alf3UCk6ye5I5LBjur7fyobb4XZRhC4NkmWSlpBzZrDZdVCbdXA5RSJIVkNXAwTeaSa3CcP+O8HJcoN4wzPMdiux9jWQbXm970GKOkoBtlNDz7zP4ZneiluQhvxUrhrIkvi1Lu4KK87HwvalqYTDoKaHg2tzs+jmWwPUhxLMGNlsd715tTzTovSoQQbPZinnUjelF2Zk32qOlmnBQkWU5WSnYHCZv9GNswSMuSvJQUUiEESKUI7IvpPK9D4z666siLEiUEtmlwa8UnzUueHETEWUFWSHaHCetN75VWrzrRS3MRrtZsd05Om+xnJ8i0kAzj7Eo7fuFs53vcRHdWYTGZdCaZxa5lstH2WW+6rDU8Wr49nfw2VnwUYJvG9Hjf3ewjFWea6I4z3eQKbMPgRtsjy0t6cU7LtZEKhknBSmBzreHSmil1ch5elzlx1qzk2iYtz8axDHzH4u5qiGsZbPUrk9xK6NL0Dgu3l03wy6LcaC6Ht8J8dFJtm8n22fDAWAjyoiQvxamx0IscOnhaLZ+TTAub3QgFZ8rAdS2DUVKQliWb3ZjQsWn6JpZpfM5MdNzxlIJRkh+atE8z0x0KRVSKzX4CAlzTZL3lkeSSTEo6oc0XbzQwDWMuwvys5sTZZ2EyxrNmVB89hmeb3F0NiLL6OnajVw5bXqRaTvNkkd+5ZeKtUB1OchSO0+JzmmDLs3Ft81TH76I78k5zjJ5kWtgZnl0rDl2LJwdjhBLc6fhkZclnu2Ma9uczx487XuCaREeu1Zk1WVEd0xAQ5yW+bfIvvbvKv3hvlY22j1TMLYrrJI0bmK6oHu4MebA7mh53sxexWWv5Z3kuXqbVzzPy6SqXrZ7HO3fZ53BVeCtWCnB84st5HcuX5ch7FU3ppESfk5KqlFLHCovjrsU4LbizGlZ1/0vJnU5AeNMicMxjVxVHj9dwbaKsPNURfRKuZSAV02xlgKyQtDxj7tf+OI17kOQIpbDNKjHvSTcizUsarkUvygkdGwRnzqh+mVZ/3kzeeSZ6LUIdp4u+c4twDleFpRUKZ5lAz5tR/KailI6aJZKsuHCW8EmT0I22f+ZrkRaSpmcdMv8opY49/+OOJwR8eaPNwTjj6UGMEILrTfdM9+xNmkY822St4fJgd8goKWh4FoFl0vCd6eSkFAS2RXeckZUSvx5vXGuhL3suzjLpX3Ym7yJEM130nVuEc7gqLKX56KxLzZctzU9abr4JR97Rc9gfpRxEOVKpCzk9TzItbKz4ZEXJIM7Z7EZ8ujPkwfaAQZxf6PxPM2UopbizGnL/WohU8M1HB9O6Rifds9eZ8HeUiZC63vT5kZstrjd9tocppXzh5K0qskJWyqnjvZAvrsVZnovXkasyTxYhmumi79winMNVYSmFwlmiRiYv/DAt+M5mj2897bEzjKfa6WmC5U2Upzh6DopqHLO9ps/7UM9OQmsNl/1RymYvJiskzw6q/taWIZAI9sfp5+zjr3r+x016R89vnBWErs04Lc4ckfS6J9HZMU4yjntRxifPB1NhtRI4RFmJAFYCm3GWM04L2r59ZaPXjrII0UwXfecW4RyuCkt5Rc4apx9lJUlWsBq4ND2btudMa9CcJljehLZ69Bwc0wDFISFw0Yf6qOAbpQWWZXB7tTqXTugQOja9KJ/7+R89v7SQeLZBVr44v9NyKya5Dq/iNHxVR+NkjElestWPUQpud3zGST7NJTCEYLVOoJMKNlYCNtreIYc3cKUdnItQo+uiz9winMNVYSl9Ci/zFUwm/P1RimtZ2JZBXkrGWcFq6E7t2qfZMF+3nffoOXRChycHY9za7DIPW/qs4Evykp1hipKKJC/xbIO27wCH7ePdKIdudOEM36PnV+VQyKnNFw7nVjzcGTLOS6RUFKVilOS8f71Jw7PO5F85r6Pxwc6Qz/YipFKst1w6gcO9ayEGgq1+wt3VgPeuN+d+3OP+zmWFYy5K2eqLvHOLcg5XgQsLBSGECXwMPFNK/VUhxLvAPwTWgG8A/4FSKhNCuMBvAT8J7AP/rlLqhxc9/nGErsUnm/3K5GKbNDz7kNY2mfBnHYOWIYjzcjrxn8UJfZEX9eh3Q9dinBaHPk9MJ7YpMISgE7r4lnHsQ32esUyuQ6UJJ1iGwKivQ5JLLNPANc1qlUKVGNYbpzRc61wT3CHHuVLEhaTl2dimIHQsDkZjOmH4OaG32Y04iHJC18KyqszoKJMcRClN3z6T0/BVHY1JXtKPUp71EvKyJLRNtnox/SjnK/c6tHz7RS7BKczDwXlZkTPLlhdw2Q77q8I8zEf/CfDdmc9/F/hVpdQXgC7wi/X2XwS69fZfrfebOy+cgx6hYxJnJXvD5NADPZ3wa8cgMHUOTib+yXJzGOc870U82B7y9GBM6FrT45w3bvrod6Os5JuPDohnnKz7o5S1hntoufz+eqNq6n7Eln7esUzOtxdlOJbBtaZLUlQlr9caNs/7CeMsZyWwz11yYTK+h7sj/vjBHpv9GEOAbZkIpchLSZSV+I7JT7yzOr0es+aBnWFK4JjY5gv/SuiZ7A7P7l95FUdjkpd8Z7PH425M4Fi4tkmmBKFrEzoW8SuU5J6Hg/MyCjUuei6O5vVxoZWCEOIO8G8B/w3wS0IIAfxF4N+rd/lN4L8Afg34hfpngN8G/gchhFBKHfb+XJDZF6hZh0xmhWScFqwElTlkEtZYaeMJeWkgleJaLQgmk9Faw32x4nCqFcfEpn6aBjhx3p6kYR397jitnaxZcUjzHddVPl/lnI+O5bTvT67DuA63RAnagYNnGShg1bfZWAmQCmwBncCp9pvhZWGBs8XzWp6NMATbg5SbbY+m7xxawQHTezSLUgrU4c87g4xMSrb6MSuBg1FnEM8ed/YeUK8+XhZyOxlvkktsoypzHbrVtQldk6woq+vlWmfOq7hoI6XLKNSoQzjfXi5qPvrvgf8MaNaf14CeUqqoPz8Fbtc/3waeACilCiFEv95/b/YPCiG+BnwN4N69e688oLO8QLP2xSJwibKcpm3jO+ahCXycFtxdDQ/ZubM6CuWk43THVXOX05b6R7+blZWTNSkOO1lnx3zaUv68k8bkOvTijGFaoKRiFOccyMq2/+61Bu+tN2a+8eolF2aL59m1pgtVtdMbLe/UkhETM5oAHuwOafkOTddknBUMk5Q7nZBSKp4cRKwGNu9db07/xufKlxSSJC9p+s6p+Q2T8YaOxSgtMAyD0BEUUlHWDkrXObs9eh55FZfRoe+yKwYvm+nqKnHup0oI8VeBHaXUN+Y4HpRSv66U+kgp9dH6+vorf/+soWeTCfHDWy1+8p01Ptxon6lEw2Tpf9JxovzzpTOOLvWPftcxKyfr7Bhnx/yypfxFwu082+QvbKwQOBabvQghBIFjkWaKx3tjelE2Pf4gKXh6MGYY52eO4DhaPA8q/01ayGN9NMeZ1Zq+zfWWRy4lnzwfYArBB7daXG97U7Of51jTe3ecuWWyStkZxvz51oCdYTz128xGBU3G2wkdAqvqIqeUoigkoWPywc0Wf2Fj5cwT1DwitS4jcuYyQzi16epyuchK4WeAf1sI8fOAB7SAvwesCCGserVwB3hW7/8MuAs8FUJYQJvK4TxXTipN4FsGD3dHr6R1nKahnaQBBo790nIRR78buhbd8ZjVY5ys8PKl/OTvJXnJKMmJ8ipu/ssbbeDlWpdnm8R5Qeg6CENgGQb3rrmUpeKT531uND0cy6QT2FiGYGeYkJcOLd9+6QQ3uYad0GGrHwNUXZQF0z4Ck/uSFvJYs1ohFfevNSoBlZaEjsUH11vT4x7Npp51oPeijLSeTPtRzocbbdZCybNuzB98d5v7ayEbHX868QhR3UvPNrmx4jNMhvxwb4xjGrx/vcG7640T62Ft9mK2+y8ytDdm7t9FNN7LiJy5zKJ62nR1uZxb7Cul/nOl1B2l1H3gbwJ/oJT694E/BP56vdtXgd+pf/7d+jP17/9g3v4EOKZefSmrWjW1KeFVtI7TNLSTNMBWHSI5y1EN6+h3g9rJ6h/jZIXTVyyzSXjf2+zTi3NCx+R605smW51F68oLyd1VnzudgOstD9cy8WyD5934kNbd8m2uNz2ivJgmdJ12LSfX0BBVn4VCSgZxTsM2p30EJuN6vD8+lC08MatVOQwmN9s+X7jRIPSsQxPi0es7qeK61U+QCnzbZHeYMs5L4qxge5AySgs6gcOw/izr3skoNc3sPhilXGt6/NidFX7mg/VDZsRZkrzkwe6IzV6EW1+rzX7CJ8/7PNwZzkXjfdNZz687F+e0nBGdfXy5vI48hV8G/qEQ4r8Gvgn8Rr39N4D/VQjxKXBAJUheCxMn8f4o5fH+GMsyCD2FEMYrax2C6kVWSnGj7R96MY4LcTurhnXcd49zssKLSW6czYSsOhaGYGo7V7IanwI6YSW0skLyYHfI9aY/zUXojjPGWUEvzg6ZQRqeRZJLAnfWnFP5Fo5rh1kqdabwyFktN1ewseJP782kpwJU2mDoWewOU+6t1Y+lUjzuRggqJ/JK4JypmN5aw+Wbjw4wDQPLEBRlFeV0s+3x+CBireGiAM8x69WJMfVx5KXg9orPdzZ7SAm+Vx13cj2Pe272RylRWhA6NnZ9PkIInvdi1lsua82rqfG+rhDOl4XYXoYPRfOCuQgFpdQfAX9U//wQ+Klj9kmAf2cex3sZsw+dYQhMUSUa3WxXbQ7P4jCb/Rv3r4XTyedlvI6lfuhafPtpj0JCIUv6SeUUrkwfAY5lkEuF75gUsgoxvdn2sU3BKCm4vfIiK9cxTZquxSgpDr2I7683+eajA7JCkhYlw6SgkCVfuN48sR1mZa9/+UR3dHJJ6u5iQlS/m0y6Ldfi20/7ZKXEEtCNC6K04G4nOORQ/vJGm3FanFpAbiV0SbKCOC9xTIPbKz6WYbCdpqwENsM4ZzsrCV2Taw2HXL2YeDzbpBO4BCvm1DEOJzta00IilcKaEZ6V36RKtpvlKrZ3nTdnNYfCcvWDuCosZUbz7EPnWiZKVQ/eZLI8i9ZxEbvmvDWsg1GKZRlkacF2PyGXEkMI/nx7iEDhWM2pI9cyxTQDOS/VNOO3O85QCrpRRpyVuLaBUi/OZyVw+HCjzdc/2ycvSlq+zcZKAwMYJPk0yWx/nBElOSuBw/NelWnt1gl18HL/xUTYmnbYxnwAACAASURBVLWwlgq2+gmdwGZ3lHKj4xM6Jo8OIpRUfLjRoiwrU5IQMIhzPCc7NZs6yUuiLCfJJaFj0QmrFdiTgzGGgmfdGMc2GCYZjmXzrBuzPhOODKf7kz4X7goYolqR2PX+lQO8Ukpm0RrvyyOb5q1Y6UimV2MphcLsQxc4Jt9+1meY5JRS8cWbLTqhw/uHQi1P/xsTLkvL2xmmdAKHrJAEro1nG0gpedKN+cHOmIMo51bHJ8tlbdMWU//H++tN9kdpLQyqEEshKnPR3iil7dvc7lTHKaXiK/dWkapabURZWe1rmxgCulHOOM5ZCR3agUNRKrb6MauhO3XsnmYWmCSFJbnENg3GaU7Dq0JEP90Z0fJt7tb7ZqXCEoKyhFsrPkle8mh3yF5SIAxBLhU/2BpyY8Wn5VmfK2TY9hzyIiUrJM97EWsNj07oUkjF7iCl5dt86VaLYVL5DzAO28xfpVtfkhWUUvGsO8I0Kj+JbRmsNhyipODB9pDANWm4NuJIXsbbyFnMQ/NSrHQfhVdnKYXC5KGTSrI1SFBKYhhVG8jdUUrovFxTWxS7ZpKX7A4TAB4fRKwEDpZpEJUSicAwqoYu99ZCRmU1OTU975Bj0LNNfrAzJMslrdCi7du4lkmUFkR5MdWkPt0ZYgjB3rBamQS2SeCabCcF79Y5AB9utNkfZxSyWpXkpWB3mPCVd1ZfmtD3YHfE04MY2xSVvd80yMsSVZ/nlzdeRBS5lkEp1bRA3nY/Zm+c0/BsTKPqFDdOC0Zpzmro8nh/zIe1WWkyBrv2FYwTySCpfCi+bXJ/LaQf56SF5Gbb5kduNpGKY3sYHNVWj56jVJKDOOfp3hjPsSikQkmJEALXFKx1AkZJzjgribKSL2+0L1SaZBl4k+YhHcn06iylUJg8dAdRRneckuRQSrix4tEJHAp19mxfuDy75kTLWQtdNvsRO/2EH+6OKi1dKu6vBqw3Pbr1JN3yqmqd7x1ZBXm2yTtrDfpRVQDQMgV5IZFK4ghrqkl5tsm3n/YwDYONjg9UAmK14fLZ7ogHOyNyWa1GWp6FY5soqgJ1k3DMWys+s0Ftk9XVZi+mO07xbQshFIYwiNKcpmex0faxakExYSVweHIQ4VoGSime9xMsU7DWcOhHOaYQ5KXkYCx551qDOCv5ZLNPJ3TpBPb0vG+2fVSrClmdODGPdm4bxDmDJOPhLocm5+O01dkV5KRm1DgpCDyLu52QrCy52fbZGSQUClq+PW1GNJtZ/zZrsG8yxHaRVvxXhaUUCpOH7ulBxPNeTCd0WW95mIbBwSij6ZknhrfNam9CCPKiJC/FpVRVnETolErx5CBmmOQUUhGlBVJBWhTERckXb7V4Zy08sfsZQMuzsAzBOH3hfF1reAyS7JAmpRC4tsEgyekELiBIkpxv7o1p+TYNx6IEdoYZH9wI6ccFvlNNbJZl8LQbcb3lEaVl5QegErDb/ZjAtvAd2Bmk2KbCs0w2uxFroTM1cwGUUrI7SumPUxSVL6g3zrh/LcS1TLIyJcoKbCEojSrSx3dM9kYFj/ZHdEc2oWdNHdhHex7PCvthnZB3dzUkcEyGScGjRwd0gioP46j2PruCnNSMKgpF6FjTyKPuOEPOlOaY5EskeYlSTKOv3mYN9k0Vp1uUFf9VYimFAlQPXcO3uLMa4tvWNDIkNwTDtDz2oThOe8uKktvnLA99UQZJQT9KiTPJetPBMqooKsc2aLs2cakwgRstDzjcVH7WJAGVxvSsGxF6FtebLqZhVMl2tjXtGbA3TDGNarKzTYPV0OXWise3nvZZb7ncqjXgLFds9sf86ZMD7q+F/NjdNtuDhDSXbPUSnvdi3l9vYhli2rMiKxWuDa5lcr3l0o9yoqLEMoxDZq7NbsSnuyOirCDNSmyrqmbr2Abf2x7woaiyo8dpiSEU661K4x+nBaMkp+FaGAakueR5L+Zawz1kxz+qpQ6SjLurIU3fJslLDsYplmFUkUPK/pz2PitUkrqU90GUEpZWncdhIWXleEa8WE04loFtGJSqWhFkhZw6wCe8Tg32OFMVXDyxbtFZhBX/VWOpxWVgWzQ9i3GWk9eO1ywvsYQ4tkTARapRnrWBy6s0eomyHEMYSBSmYXBnNeBLt1rcavu8e71Bw7GxTIM/fz7g//n+Dl9/uMv2MD6ULPVwZ8iD3RG2aXD/WggKfrg3Jq9fjJZvM0wKtvoxErAtwTiVjLICzxRIWfWGvtF0cS0T3zH5/naf7jijO0rJpeT/e7BPP84rX4Vt0I1yorzANAR3V4Oq3pAlpsmEjmkQuCa5VLR8e5oA59kmCEHgmPiORaMuT92PM2xTIJXi6w/32R0mJHmJbRlVOGkhK6d54NAJXW6tVGG6pVL0k+zYkNVJIlgncKdF/rrjDMeszjEr1bH3fzapK8lKtgcJ99ZC/DqPYbMbkZeSwLUIbZOdYVLleSjIpeR6q8oOj/LijZWROK5sxIPd0dwS6xaZ152E9zp41WZQ82ZpVwpQ2XNt08BzUvYGGQhYbbgnhjKe1/54Vvvwq9qRA9uiX+QYQiBENT7LMLjVdrizGuBblQM5sE3sOvM33RnRcK1pGOfeMKUd2FxruIDBvTWLrJAY4kWS3w8e7NEd5+yOEkZZQcMzcU2Dbz0b8O61gNWGy7ef9HEci71hjGkK1lyP0LEoS0FRSp52I1ZDFwPBvdVKC9sdpny2NyZ0TFq+VbWrzEtGScH+KKPtO9xbC6YT0u1OMDUzjdKqp4NnGwjg6UHMBzeb7A4SPNvk3TUbRJXlGtiCwLVw6ppFnm1ya8WfmtPOUobDscS0v8Zsj+Xj7v9koknzEtOsivaFrsnBOCctqtXbJLrtm48OkIbAtSr/hmdXTZICx57mvVyGszVKCxBc2cS6V+Eq9VFYBF/TUgqFyVJ5UDeFWW96vLP6IgFtY8U/9nuvEps+2xSnG6W0Peel9uGz2JFnjxPlBU2vMof0IkGUSlZDG6UUj/bGPD6oavLc6PgEtsnTbsQoLvinDw/4iXur+LaJlIrtfsydmYfq6ESXFZKkyPHtSksupWI1rDTwrFSUUrI1iAk8iwfbI9q+TcOH9abD44MYzxQ860Z8eLMNojKdfPvpgPvrIW2vmuD7Ucy/+sUGbal4vD/m9mpA26tafU58D0JUobSDJGd/lNOLMtabDuOswDINPMuamnputX3yUk5rJkkULc85tfzFcaw13GlXt91+AnUpjxstl+e9mHFWVBVs82MUCSG40/Hpxznjut7UzbY3rfLt2Sb31sJDmduTcU3CaC/L2Trr85gwD/PV2xpRNS8Wwde0dEJhVtIeV8DttF4Hk7DJypGrMESlgd5e8Q9J71FS8P2tAXdWQ5qexfO+JC9S7DobFo5/wU4rt50WIx7sDPnh7piGW03OcV7SjXK+dKvNj99ZYX+U8fhgjEJwb9VnexjTci36UY7dNPBdi36UEY2LqdPTsU0wKtPIrVoYzvoeHu+PKaTCM206bRshqjLRhZSYoprs7601aPkOT3sR47zEMAQrDZdW4HCrVOwOY8ZxSV6WfHCzyf/7/V08x8CzDEoJliloBx7PehE/+c4aab1S2R4klbnGNskLyafbQ1CKKJOsBBZ7o4Sn3ZiikNxa8cnKcposV2nXzAhTf2qrf1XNW4nKvNMKKlPWKAXVl3i2hSkEbc85VlubRDJNoonCho1CTf0GL8vOvUxn68TnMcu8en6/jRFV82IRoqWWTigclbQt38ark6+OSzw6+tAKpaqXRQGi+nwwPhyhM87qpjhpQcuvunFlhZxmTMPnS1/vj1K2+zGWZXC9WTmGtwYxT/YidoYJ7dAmSgoMQ/C4G5EUkqZr4dkGf/qkS5Q2+fLtNjdXfGzTwLEMPturJxvLmGYdP0hLDFOw3Y+J8pK8kLVfpZhWYB0keVUk0HQwDEEntPlOb0CpFAhFklf+F982MA2DXpzSHecg4IvXGzzpViUqDBSWCVEm2Vjx6cUZndDFtAyuBTZJUfkPrrc8bEPQjapOaa5lsNmrSm5MawUZgkIp2r6N7yriTHJ7xefR/phCKVYCm07oIBCsBM6JyU6vqnnvj1Ja3sS89qLrWm+c8866c2rdo2no8zjDNgwQkBeKm20PQ4jp/pfdG/g4wRS4FqIu8jgv89UiaLlXnUWIllo6oXCapJ2EeO6PUkZJTlxHv0yKw+2PUpq+M7WzQmVaeXow5t2Z2P+qaqfBIM553oNRWpmpQs+ui6q9eMFmtadbKz5PuxEPdoaUshI2W72ITFZJdbZpsBY6lEqR5GUd018lqD3rx1xrVJnEk/O7vxbw3ecDGohKQ7UtHNvAtgRJJgldi6BhEmUFpnihbfTjjDQredaPGacFpmHg2YJ//uSAtZZLyzYRhsG3N/sUhcSp6xMFtolpGoDAhKrkRVrw4a0Waw2HQVSw2Y0IbZO0VLQdg3bwIlFu4tBda7j8YHtIy69MYeOsYG+YEWU5Sio+uNkkSktWQps7HZ9hWmIbAtMQrDdcDCHOXGTwVZ8XzzZZCysBMZvLcJpvYXeYIoXCM81pfa3Z8ODLtmkfJzAnPo95CqtF0HKvOosQLbV0QuEkSQvw6faQ/XGKbZokeUFWQFrktDwH3zKn8e6P9qNp/99rjUornf2brmXQj3MGcU7o2rR9uyoNMc7ojrNpnwFgWtYhdKpm97Zl8IOdIQfDlFbg0gpc0lqjH9WlOPKiipCSUrFX95u2DMX3toY0PZsbbY+7qwF310KSomSzm1DIqpDdauhgGQaWVYVHmoZBIVVV3782g6V51RfZNAyKXPJsHJNlJTfaLrKE722PeO9a1TdgJy6RSpI7JXt5Wa0gPJNWYNMJHMw68ayotc84Lykl7AwT+nHOSmTS8B1645wv3GhUyXgNl3urAftRRhTn9OOMa02X/liQS0l3nE2dshOn+MTsN4hzojwlcOxppvRFJrKLmlY82+TuanCs32CRYuFPEkzznGwWQcu96lxG74yjLJ1QOKnJjlCKcV7iOxb7o5ztQcy1pkuaSzbTGKsOk5RSsT1MMBDYlmCUZHR8h2GcTVs5ho7Fp1tD1tteNSFKhUBwreHSiyqhMHW4ZZX5Jsqq5vUbHZ8bTY+dfsowzhgmBQfjjKIsKBSocY5jCALHYJxLLCFo+5JRolhvWWx0PLb7KaC40wm4v9ZAKkF3lPKsF2MZgi9cDyhKeHIQsdHxuVM3kZks70upME0D3zYZxIK2Z7OVlgxGGTfaAT96p02aVaaf0DXwXZPNfkqcFdiG4P0bDbJCsTtMMQ0wTRNLgGka9KOc9abDv3B3hScHET88iGm4OV95pyqw9GhvzOP9auWlgIMo45bjIxAErkRhIhDTXgaz9vfQtXi0P0YBBgWWIUguaLOeh2llEbS7RUBfh/lw2SvLpRMKkwu62Yt5uDtmb5CyM0owDYO8rDT2bpLhmrDZjWn5Jg3XZJTk/OmzLkoqWn5lKpEJgOJ6y8Or+xdEWYnvmLx/swlK1RVJFQqF51jkpUQq+GSzz/WmR+hZlGrSTMciSkukqrqOCaN6cSwD9kYFspSshC6lVDztplxrOLxzvUE/yVFSck059KIcUFDX618JHZSU2LbBWmiz3Uv4+oM9PrjZwrcsBlFBwylIiioUtO3bGEKgpCQvJUlRsDdK2R4luBhkpaRj2QySgpZnExcS2zCwrZKG62DbFo5Z+WT+2aN9HNviC9cbBIHNJ8+H+GYVPvvOtQY/enuFFd9mlBbkJSgkSVE12dkdpvzUe2vsDJJpyOa9tRCA7jilH+dcb3mHiul983G3NndVJcGHacGttn8hm/U8TCuLoN0tAvo6LAdLJxQmVGaMymw0TEpcqyQpFAfDlB8ejMnyEtM0ubNSTfj3VkPyXCKlJLaqB9qxDAyqHgLvrH1+qR1nJQdRyp9vDQFBx7dZb7k4loECRmlOJ3TZ6ifEWYnvGERZQV6UNDyH/SjBESa2Y9PyJVlZEtoW1xoOo7BaQTzajxFAO7SnFThzKemNU1zLpJ/koAQPt4fEuaSf5OyPMnbHGT/7xXW6Uc7OMObH73YwPEFWKHpxhpIwGqZ8f2uIaQiuBTalhEGckeUlnmPg2iaeaeDYBq4haHk2iiqpb3+ccmvFJ60rs252Y4pCkamqfMj3Nge0/KoHcqngDoruOMc2BW3fYmeY8icP92n7NoH3orx11QSopDFT+RRgsxezN0zoBC6WKSgl9KOqhLZpeBd6VuZhWrls7e403mSY6CJfB83ZWEqhMOmENU5LdkcppZREGYyTnF5SECUlu+OU0DEpyqqMxfO+WfUmMI2qrHNWOXotQ9Af58Dh8hGmIXiwMyTKJEoqLEPwvB9j1u/aTj+ml+R8cL2FbQqUUAyinNC3WPFtSgWjxzmlUkipeGc1wBCC9bbH/jBGlNDwbRqexSAuSJKSOCsZZwUCgaJy7P351oDvbfYZppXQaboWoWUyiHI+eT7kdsfnnbWQUipCz+I7T3s8Ohiz1UvojjN2BimubXBvLeRHbjSJ8pKtfsr7QYOWZ5GVCkPA4yImGcS8e71B4JgM0gKlqpXO3igBJQjdajWW5CXNukNaoSDNC7rjqnSGbRrTukiOZVTdz/KST3eG2IY4MQx0ux/T8pwqIkwILBN82+J5r8rB0ByPDhPVvCpLKRQGScFnO0O+szkgKUo6gc3eKGV3WBUli4sSxxSErl11GctK1gyFa1kkRUGWF1iGQV4UbI9zXNvk0+0hndCh5Vnsj1Me742RVM41JQSDNMcU8MmzASuhQ5pXk/iWG7GxEmAJwX6SUyjFVlZp1bdXAlqBzcE4pR/lpEWBExls9atIprWwyjgexH26SUa5W5WrNoRBWhbsD1O+82xIL0mxhUGaS/ZGGU23qvW0N0xoehZZXrIvJWFuoRDEccbTg4iklDRcE8OocgYCS/DBrTbXGg5pqYjyEssQ2IbgJ+92SEtJw7V4uDPkIMpwzCqPIy+rctGFVKR5iRUIDqJKM73edIlzwZ896fHeekjg2vSilKZn03Sr6Kq7qyHf2ezRjUtWGgrPNqqwX8eamoaEELQCi15UABLLqJzSpWRaskQnTn0eHSaqeVWWTigkecl2L+ZJP8Zzqgm7G+f0opKkKEnyAscwaYWVjyAvIUoLBlFGIWHFr0pCZ4VkmBT0k5y2qDTzOCunzluhYLMXYZkQp5XJJC2r0sj9JOedtZDbKyG9OOVpN0ZROd9cy6A3LnnWTwgck9AzcMxqQm+4NlkpGaSVZu1YBo8ORjQcm47noJTBziDlZstluxfz/d0xAsU4yckKRdO1GecFB6OEjldFRfWjnB/uRQyTjA9utDgYp2yPCnzbpB06KASeZTCMM8ZSsT9KMU3Be+sNvnyrzdNuzGYv5mbLrUuRZ+wME3zXYrXh0XBMPtsbkpeKQlad3h4ejLnb8bnRcnEti3VD8GCc8mRvjGEauJZBw7Xq0hRVwl/TtUkyyVrDrfoq15FXkyZA15sum/2ETmgTpSUHUUZ/nHOnU/kUQteaToCLqhFfhtDSYaKaV2XphML+KMWyDQLbwkRQyoKDUUFR5liGwDAEjcDGquP/DQFpXY/ng5tVZc+DUUE7sNgeZaw2HBq1k/lJN6LhWvTGOVFZkktFPy5wTJOGb7K1l4JSeFYVfroS2oSuyfN+zPWWxzithEvLdzHMKj/i8V7EjbbPzRWPwLZ42h+DhLyUZIUklwq3ZTIoJF/aaLIWujzcHfJge8T+KCUvJGVZhbF2ywLTMAlci8BzOBhnDKKqNHQnsMlLyWY/phflVba3ZbIzSEgEWAbIQlbO6KDS4D/dGXEwzjAFPNqP8Oyq5PjdtQDDMHj3WoPdYULoWjzZi7m3FlKokiiVPNodsd706IQO46RgreHjOwZKKsZ5Vb67KEo6dZb1MCmqHAvzRc2hvC71AbDRCejHGc8HVY5JP8ppuCaeY7LZixmlBXfqftVwfo34dU3cl2XGmQ0TTfKy9tmcUrpD89azdEIhLSS2Ibh/LWRrEDNOc3KpMIVglJUoDEZxUdmkLRPftQgdWAmqOHgpFeO0pJcYrAUON1oew6Qglwqlqsl6nBU0XZs9s9ofs2odiRDcarn4rjV1ciOqfr15IYmyAhB4tsGKb2MbBgMz50s3GiRS8Xg/YhAV9KKUYVJUYZiOSVxUbTFtIdjqJjzYHjFMq1VPKavka6kgyxWBpyhKyTjLSEaKdmCRFhaFlDwfZDRdg2FSkBWShm+hVFXmwTRNMAS2aXKz5bM3SFlvedX1K0pMYfLhRovAttjsjxGicppHWYltGLyzHmCbBmUmaToGCIsfbA1Z8RwGScb1lsM71xr0o4y9UZUrMlk1ZIXENAUN0yAvJJZZ9X3YGya4TtUEKHQtHNtivQFpVmAIcCwL3zExhcHesFp5TRrawKtrxK9z4r4sM84kTLQSdgmGME4t3aHRLF1WiWsZlKUiygr2hjlN3+Z228N1HHzX4AurHq4tKKUkV9VEH/oWX7jRqLRUYdDybRyjqtGfZpK7q0HV+B7Fk17VuOdgnOIaJgjoJzmZVNxsuXRCF9swK3NTXhKlBauBXSWXZSWuJbBMA0kVulmUkj/8/i6P9yI+edbnyUHEIMlxbYNRmtNNcoZRzo2WS1IobnV8Gp6NkpVwSrIqxFWgSPOqnHOaVWWZfdcgykqGSc4gKdjqRxzEOQjJ/jhl8yBClgUouNly+MrdDh/eblKqunGNbWIbBlEm8V2TQVygBNNCg1KqegVVdVVrehYbnYAbnYBOWK1M+klG4Fq0AwfXMukELvevNbjVdtnqxXy2OyIvJR9cb3KrEyJEFVW0P0ppBQ7rDWca4uualUPcsapOcu3AZhBXdZ5ansPzXnzoWXjVxKmLlE5/GWmd8zCLbYoTmz3Ni0kl3Ae7Q54exAySnNXQoenbczs3zXKxdCuF0LUYJjl7wwyB5NF+QneU4TkG76yGOLZFI3DYHmYEjolpCr6w3qAb5wgMDEOSlZJCQie02OrHdaZuTpJJ4qTgesslK0rSQnKt6ZAXkOWSa00XSwjGZYFrVWYj3xJ86VabpJB893mfzX4MArJCYQrFuG4Gs9WL63yBmCyRqIbDRieglKqKvhlkPN5P+O5mj51BUplVlKgc5WnJRCF2DANhmvSjHAUopQhdm4MoAQT9tKDt2TRdG9uq/C032jY3VwI2Vnxavs0/f9yj4VoopVBA4Jp0QptBkqNU3ZuZahLdGaaMk5yG6+FYVS+FcVoSuiY3Wy5KKQyqHgl5IRmmVSKha1u8f73BWqNKUJtkLK81qu84ViVYO+HhEF+7PoYiw3dM3DrcqxVYjLrVCqiUkt26h/O91eBFr4aXcFH7+2mmp9eZ7XvacSe/a3o2G22fUkE3qoInXMvQvgXN51g6oTBOC26vBny2NyYpJCuBg5QwTDKyUtGLY1ZCm/fXfKJCMYgLtgaV4PjC9QZxIRinihzoxzllKdkfx9Wqw7P41z+8Tm9UsNWLcW3YPIhoBi5pUTBKDHzLwLctDGFwu+1WTmlR2XN91+Lh9qhqmiHAswy2BilSSnqjlJ1hQpxLXAuGcZWk5tk2gygnkyV3VwNQgqws2eymGEBaVuajoj7/nVgS1o5v24ZSgSGqUhVlqcglmAqchgmF5M5qwI/faXOz5ROl5bT+km0ZJIXEMmEjCLjZrhqVfLY7xjdNPEshFdxZ8Wn7Jt/fHvFgZwxUvaJNIeg0Kkfz/TWfXlxgGRLXFAhxeMKf3rc68WmQVA17OuGLyS2wTQ6inLSQtH27am+ZlSSUjNKcUsKXbzXJS8nj/TGhZ3H/WohpGGc2k1xk4n6Z6el1Zfu+7LiT1U/oWJSSaQHCXpSxGrq6BIXmcyydUEjr5ujtwGaYFkRpRiElZSlJyhLHNpESMiWwDLiz6lOUki6K3VGKUlV4piGqXsUCiDPFvbWA9YZLd5Sz4tushC3+5OEeSgmkLAkdC6UESgh6cYrEIS8lhiGql3OYcrPh0h/lJEXJ4+6YrW5GqsBCMUgqv4EpIMmgVAWlLMnLBNc26fguAoOtYUKUV1nT0QmWh1TWQiIFByjKAmTldzCsakLwbBPTMAjqMNaNFUWcS54/j/nCjQYm4Dk2vm1QSsU4LbjT8enGGZYluLtW9VQWVM183ltrooRilOR0o5Qfu9thxXd451pIJ3D40ka1Evh0Z0jbNw9N+BNtfDbx6WgtoYZn8+QgouFY3FrxyMqScVLScC0Oxhn3VwPevV6N6f3rzUPfhbPZ7i8ycb/MZ/C6sn1fdtzJ6qcTOmz1K/OaacAoKWi41sKFpeqw4stn6YQCwOP9MW3P4UExZHuQAQrHsdgfZKAUlmlwb03w5dttbNPkTz7b4+D/b+9MYyzL7sL++59z7vbW2quruqd7ps3YnjECPBkWBxShEMA4CCsSQhCU2ITIUhKkkERK7PAp30wSoTgSAiwgIpHDEiDBcogQIfAhUuJgGwO2x2PP0jO9115vvfvJh3NfdXVPVXdVd3XXMvfXKvV7991695536v3/5/zXYcraIMVWyWRJ4ZzT33JxmueW2gyTkiQv2RhkDNMMTwx5ARfnm8y3A/pxzpevb3J7O2W66TPbzMgt/Pmbm64WUprje4ZxXjBOCtZ6CaMspyiciWaY5CicQkCBLkEZhdEQaO3yEgYJ2+OU3iB9S4OU3ZTcqf6dAriNCRpQBeQKRmlOw9NsDhO+nBXkRcl8J0RZ6I9ylBasFUQJWoERF5LbCQwW5zgfJDm3t8eU1rI01WC64fHG2pBhWrA9zpiOfDYGCbrqwzzbCnhjY8ibayOub8XMtX3OdSKngHcJ8b2EsxK4OOsEWFpYLsw0dj6DsrRcXmjvREc9rAlod4mUaxtjRISF9lvbtu7FQa77OLJ9H3Tdye4n9Fznt81hSj/JCf2TV4KiTrQ7GZw9pWBtFdkigRPMrwAAIABJREFUeEoxiDMGcb7T/N2IUGApSsvtXoxWQn+cYa0zF40zt4rDOonTi1PeWB+6tp6ewRjojzK+dnsDrVyzl6tZycYgZr2XUFrLOM15fZxhjEJhubo5YpwWdJs+o9jVOMrKklGSMUycwE2KO4JcWcgyGEqBLaE3dF/w1Z4rTzEsnODfj3tfU9WxvHpvTyDOC9qhR1FYBknGqyuuh29eWkolzDYDLHCuE+40HCqB55c6XNkYcX1zTK9yCDeMcg3sBxl5CZfnWygRQl+zPnCfQ5wVvLbSZ5wWWLEURclL13u8cnvAhamIb744vXO/e62qZ1sBW+OUJC1phoaphiuLsdKPKav8itlWcCQhmNZaLsw0dxTSQQTT/arzXt8cVdVdcxq+t9N17SgE3YNMXrsV7ORzbOfmRAraOtHuZPDQSkFEngL+I7CIk2WftNZ+QkRmgN8EngauAD9ird0UEQE+AXwAGAEfttZ+4dFuf88b4/J8g//z2jpfvdlnlGSkZUlaWtrGo+m7ekEr/Zgrq0N6WUZZut1DVpRoJQRaE+c5gyTn82+sc2Ul4OJ8i+nI9TroNDy6DY9R7La6jcDgeYq4KMkKyyhLSLKSrChQImyNM0JPsd6PSUtLnOVI6ez9eQlxdesapxjEQgaMkjsCHSDOHu4jmfz+ROkA+FqTlpaGMVgpKG3BIClY6AYM4owkK3hjvWT+3edoBoa8sGwOneBV4gptLHQjN+6spCxK+knObMtHK8Eo2ekFkWWuQc3mKCMvLHkJt7ZdK1G/isZaHySEnt4RVLtX1ZMVZCf0Wc9jkqzkytqAonSC48L0nT7PE4f1w4ZgPqxgul913rLUbI9dr+3tUXIk1V3vd93dJq/TVKSuTrQ7GTzKTiEH/pm19gsi0gY+LyJ/CHwY+CNr7cdF5KPAR4F/AfwA8Gz18+3AL1T/Hy3WsjbI0KJY7IYkecF24mLY24FmdZAwjAs2+wmj3JVxmI58itK6rOai4HZZ1UAyitXtnFtbCYM0Y67T4MJUyLs7ba4VJaUVupHHmxtDhnFOL3EmHltatBbGWc5gaDEGRi561WVR5y6TGut2CfnEDAJ43FESk2MPi+GOA9rgrh967k2tLWl4iiTPSbJiZ2XfDj3GccFKL2ahHfLa2qD6WIV2oCkKS2gU52caZLlFK+ejyErL2jBhvhUQZwUzzQARdswvvTjndq+qXwTMNt0OpBUYvF2hn3sJ3t2C2jeKzWHKze0MTysuTLdY6ces9p3vaLEV8O7lLq+u9ilLiEJ13+5p97KXYCrKkuvb8X3t3HsJ38goPKNd+LKnXTHDyuc1UV6PugI+iNA/LUXq6n4MJ4OHVgrW2pvAzepxX0ReAs4DHwS+uzrt14A/wSmFDwL/0Vprgf8rIlMislS9z9EhQm/sGuR0QlcDqOEb8qLk6uZ4J3plogDyQpP5FiswzkuyzCIKRmVJkZQoQGvYGGaUxM5uvjHEaMUoySkKF1IaZwVZnjNK3HLeFIrB2FKAE8I4hVAU7CScFYCxd/q5aI42cSTf9VgDUeAinvLSOgVkFMYoWr4hLgo2+s7RnhclK/0x47Tg2uaIxU5EJzL0x8IwDTg/FVURQDndhk+WW7bHqfOJ5DlTjRBPC1vDlDdGKRdmmmzHA1w1O5cA6PIRMtYGMY3AsNAOyPbxk+wW1KHnOtgleUGal9zuJWyNU0Kj8LXm6uaIdsOn4RnOT/m4DarjIKvOewXT9ijlKzd6iEDoKVqBt++O417h+9rqYCcXIarONVoYZ8WRroBPi9B/EHU/hpPBkfgURORp4L3AZ4HFXYL+Fs68BE5hXN31a9eqY3cpBRH5CPARgIsXLz7U/bRDw2trQzaGGeO0xJauZMQgyQDFKE5JixKDoEzJSt9FG42TkrRamrd8YCLELQS6JMsK1vsJ1zbGrhhc5NHyDA1P048zbm7F9BIngAtKBIiM2xUkuTt+b6rQRCyo6nHO48EKtKrchCRzrTo7oWFjmJFmBVlhWR3E3OqPXQ2mNKcohNmmQSthO84QhNl2gC0tL93so3BF6QKjmWoGLE81yEtXM2owTjHGNejxjdAfWW73xtzuxRRVl7hJhvjrawNeWx3wznNtlqfeavffrztaP3GFC6NqFZ4XrhfGKMlRClqFt6+Nf79V/27BVJQlX77Zw9qSizNNLML6MGW26R9olT+576BSxF7Voc7Xql4B78FpMnWdZR5ZKYhIC/gd4Kettb3dKzNrrRWR+8TJvBVr7SeBTwK8+OKLh/pdcF/EYVy4UNKsYHOc0B+mFNYlpAkFsetBT2AseWzJKsetwgnuFOil1f3gwjr7SQmkJHnJbDugLGGclqwRY5TQj3OSxL3PbpPPYJeUv9+68HHktXo4JWMAT8EwyfAKhRbFOCu4subs+rm1bCcJawOX/FfmBYhimCVYSoZZj5mGz0zTI85c/aTeOMXXmkGaExnNUjfk0lyDa+sjutMRN7bGLE03mGsFLncgdjuOUVKw0o9ZGaS0fBc/3/JdG8+1XsJrK/2dSKIJ+3VHM8OENHOJcnlhSYuC+bZrUuQpzbWNIda65LtW4JEUJWItnvb3jW7ZLZiub8eItTw12yT07nxVBkmGUvf069yDyX03fcNaVaeqtOVOwl69An4rZ2XXc5p5JKUgIh5OIXzKWvu71eHbE7OQiCwBK9Xx68BTu379QnXsSJltBWzHGTe3hgzjlLKw5LhEq6xwK38BEguj9O7fDXAx3Lq8W4CngFfAMC1RqtgxV8y1Am5vj4mLklGcU+z2Cu/BoTXcI+L2RQ7PQFaCKS39LGe64eFpYZg6h3rVGwelYJhZrM1JS4tSrmBg0zesDVPKcsALT88y1fTZGCakRUk79GhFPlqcDX2hHVJaWO66xL2tUUozMISVX6AdGRSWa1sx7dBDlHBhxsXUD6s49d2CYb/uaJGn+erNHoPU3d9CJ0QhxEVOUebMt0MGccYwLRilBdORu88HOZEn15vsJnY3bDZK6I9z5tsPXuXvvu9u5DHKctp+QMPXdfx9zYnlUaKPBPgV4CVr7c/teunTwIeAj1f//96u4z8lIr+BczBvH7k/AfdFbPiGYVKyPkpJihIjipySsrDEdmLeeSsJ7CvUM5yDOB4UNLOC+WbAjd6YtV5SJbhVOQEnjInzOjSatChBKVqBpZ9k5KVhMM4ZFW4n0QoEI4rAU6z0XMc31fDpRj5xmjMagzGKxW6AiJAWJVlestKL2RjEbM00iYxma5wy1/IZJjmjakfSjgytwKc/ccYrYanr/BN56fwsDd/1yN6rHtBeK8jlqYjtUcKVjTGDJCMtCnwliFJcmG7QibydAnlpXnJ9c8R06+68g/vZ9gOjaIWu3wVU/oDUJRnOtg6WvzC57/PTDz63puYk8Cg7he8E/g7wlyLyxerYv8Qpg98SkZ8E3gB+pHrt93HhqK/gQlJ/4hGufV86kaE3TrG5JdCKwShjnN0R2g/e+O+PBZIEriTJTrjoaQiYi7MCz0CcFBTW5UUkWU5Z7YqkxIWdjjOCrGAcu0ilQZrTKXxya2mHBgPc3nY9F9KsxGjXEMc3rlLpUjdimBZ0Gx5XVwf4xuAbhUaxNkhY6ITMtgJevtmjH7suciKWjWHCOxZaKCX3tbXvznjFWhDFfCtga5S61qCRx3TDpx3e/aftacFae6joltlWQLw5YqbpwnR7cY4Azy9361V+zZnlUaKP/jf7y9fv2eN8C/yjh73eYWgHro3msMjZGmVk9m4H7qM4c0vuOItPgzJQVKW1gTSFUQ6Rdsey0u2aguqctASxlqIoKHDjCz2FYGmFPhpL6Bs2RwlX10dsxRl54XZgz53vYLRyHdyqjmnnuiFaFOeDBqPUlQJ/fXVIFGiSNKcoS95YH7LQDmiELheiE5h9V+H3Zrxe3RyRZAVPzTR5drENuB3BSn+8p/Bf7EakuZu1g0S37Db/aCUsHHF/hcOWc6hLQNQ8Cc5eRjOQWVem4tZW6vIBePL2/JNAAPjG5UFk+Z3ktax0JiXBhdsWFnwFeeFqDnkedEKqOlHuk1NYenFOFGTEWcnqMAFxvaiXpiKub8V0QpdzUJQlq4OUTmg4P9NgOvK53Yt5+Vaftf6YmVbAuekGpbWUJaz2XVjqcjdk+T7RJvcmllkLDc+wOUxZqpr1eFpoeOa+wv8w0S0Pcnw+rHA/bDmHugREzZPizCmFW9tjPn9lg9Ja0uJ0rOYfFwlO+GvlsqSTHALtzEKTfIlOwzXaUQJbgxytod308EThiSDA1jjFM4pGYJhuBPzZ1Q18peg0PAaBoeE7u/32KOPCdINBmlMUBZFnWOklXN8Y42vF+ekIzyjSrMBo14a0sJaFzhTL3ZDLC+37j+eexLLAuGJ9aXHHB5EVlk7k7SSH7SX8jyq65WEF9UGzpncrnM1RQjd8sJO8puZROXNK4YtXN7FVf9+3s0KYkOXQDCHwDabqkiYKlOdak0ZGU1jrkqsUTIc+nWZAnpf0koQ4LfEtNAKDFhfWOo5zLiy2KcX5Ilb6YzTORDXb9sHCYreBBW5vj4k8zRv9hLlWSCswRM2AraETdlujjKdnmhSlve8uAd6arzDV8Lm6MSIwasdfMNkRHEVo44N2AQ9bEuMg5RzuVTg3t0uyPMEz6i3VZWtqjpIzpxS2Rhkv3dhic/j27ig1KXEhApGnsWUVilsUNLTC/QPfE6aCgFIELTDXDPE8xY1hgrWKTujR8BWh1gzTjLSwaCWsDTOemo6IIsM4yTFG06ga4JzrhFyYadDwNL04dyVDtHKNcOIcrWBY9W5YngoJfVet9aWbPbqhgapq6v0SyzwtKBFmGh6hb/bcETyKDf4gu4CHrdVzkHIO9yqcpm9I85KtUcq5brTn7+w3jifth6h9H6ebM6cUfCV86UaPbL+aCW8TclzSnVEuqkhpt9ovCovRznfQjQzvWp6iE3hEvuLK6pCb2zGR1Uw1PZQotkcpvjEEvmKUKYZJznTTpxdnpEXIVGjQCKHRzHd9BFeAbiryWBskPLvQwtOaha7zAbRCeH11AAKznk8nck7lZmD44hsbtCJvp3/1m96Q55a7OxVR98pXuDfRbcKj2uAPsgt42Fo9BynncK/CmW763NwaMYxLbMc+0El+FJ/Bw1D7Pk4/Z04piHLlD/qPq17EKUGqn05DMc5Lutoj9DVxXrLQjmj4rrjdTMNnoR2yWpWeNloxSEqKIufphSb9cUhe5Xp4GrCCbzSLbUUvzmj6rox1K/JIdtpeCloJ3cigleLW9pjlqQZGC+v9FGuhG3p0Ip/AU4Se4tWVAXleMohz2qFHXvkdvnJjmxcuzexZPXUvJqvUN9eHGKNYaIeIqEPb4A+yC3jYWj0HKedwr8Jx3dtCenF6YCf5cZSirstfn37OnFL4+u0e6UnMInvCeNXiNSssbc/VSC0LWOo0mG4ErAxiLJatYcr6oOo5YDRZWRL6QtMLafs+naiK788LRplClKIbecx3QorC9TZwPSqcs3pzlLpV/vqQvCwJPcNUI6CfZERGM9Pyed875tBaMMqZlVZ6MUVhKcXSCDSRp8kK1ys7UOrAAmX3KjUvLb1ByrWNMcvTIec60aF6Eh9kF/AotXoepNz2azT0nuWpA6+4j6MU9Wkuf12bvRxnriLXF65svqXo3NsNX5ypJrUwTC3tpkfDN6AVhYVBklZlu11ntXGWk2cFozRjpqowmpUlr672aHkahWWcFix2Ip4/1yH0DWlWYoE314ZsjjLirODa2ojX10YM4oJb2zE3t8dc2xyilWW2EYA4E9a7lzo0Pc0wyUnzglGSA5bSCtOVqcgoYZwUNKpuagdhskotrWW7apzUDg1bo4xb2zGDOD9wEbrZVkBaVWK11pLmJWlevCWHYiLcL8+3HqgQJkrrtdUB1zdHrlf3PkzeVwmM0gIlHNoEM1Fsu3nchfiO45pHwWRuSltl1lf9Oe43R2eVkz1TD8Grq73jvoVjxQOwd3wKLR+SrMQYTdvX5HnBxigl8oVn5lsU1pJmJY1AIwhWFBdmIpq+M/0oJXSjgFbocXm+xUIn4sJ0xKX5JpdmXeXQfpLz2uqQpChZaodYsby+PmI6Cmj4Hm+ujxllOYGniYzrb3B5oc1yN9wRupfmmq7LW+k6n8VZiRVLK/QOLFCSvHQlu0cpc+0AiwXr2nUKLh/isOUpHkUo7+ZhhM5hFM5eHFSxHSXHcc2jYLfZS0Sq3h2ux8fbjTNnPorf5g7mgjsVXwXnUE5yoRtBO9CMc0syLok8Q+hpbAZTDY9bvbgqPe2xOQKthHPdiNlWwDNzLW73xjt9IJamIjytuLE5JvJdi9ORAj/w8LWLatKSk1tLwzd0AkMr8DjXDXfMCKGnubzQ5vJCe0dgzrcLrqwOuD6MWe8ndJsBX72xzbdenj3Q2Cer1CQvafoGTyvWqh4Rnhba0eHMAUdZsfM4bO3HUYr6tJa/Ps1mr6PmzCkF/SiFjU45BqcUJm09LZBmMN0sWevHbI1cieu5lsdKL2GY5jy/3KEVhlzbiPGNcyLnWYnSwvJUhBJIi4JxWnBre8x8J0SLj0KYigwXZ5t89cY2KGG64bE1LFCqZKblMUoKl5cQuGJ8+5kRdguSzYbPS7f6NHwhNEIUaF66sU3o6Z0opP2Y2OGlauSjEKYaHue6EUqEA1S7fmwcl9A5jlLUp7H8dd317Q5nTil4hpNZrvQJILgJ1QKThZlVUFoBcWGjSQYLHR/jFYRac30jZq5ZEhrFVNOnFUy20AoR2BxlWATPU3zj+S79NOfK2oiLsw0uzrW4iKs3NBhn5NaS2ZymNkxFHpvDDKOFyNMIPLDO0Gwr4AtXNnj3uQ7t0FCUTiH5gebV1T5/5dL9dwwTYSTAmxsjmoFhsROiRI69f0EtdE42dde3O5w5pVDN69sOAcKqEXNp3f9VdCi2gDDQaG2ZbnkopYhUleBmhVFWcHG+QZZZfKM4P92kN0q5vhXz1HRUtfAssSJ8w0KblV68U800KyzPLnbYHqVYoBN5vL4yYCW3fMN8g9lGQJKXLHajPbuq7WYS+THbcm00jQbQpFmBq6f4YCZmqeVq55HkJd4j+gOOglronGxOq9nrcXDmlMLbNT3B4mobhZ4rgtcMDEmao40iDAxzLY/e2PWQ9o0i1IrAM7RCTTPwmGr6XNsY4RlFM9BcXc8YxRnXNy1GKS4vNAmNYZQUXJhucHNrvPPleW6pA8CNzRECLLZDRklOL8m5sjHguaXOnivie0MAe+OMbsMjKSxRdbpWsDnKWQqj+7bRvJfHUcjuUaiFzsnnNJq9HgdnTim8nbFURe5Cg28MntG0A8NU5DPOCkRBK/KYiTwEizJCw/fwtaAQ5hoGK+JMQaXlW5+ZZZDkrAxiRmnOhemIduQz2wq4ONt8yxcoqL5UG8OE0DeISihKj9VeymwzvCuzda/M181RymzL58ra2L2fFgaJ82cERnYidx41S/a4sm5roVNzGqgNmmcIT0HgCUYrlLgVe+B7ZKWlEwU8O9+mYYyL+1fC+akGnnbnz7Z8zk030Uox1Qr4pqemCXyNBbQIeVGyNkxZ68f04mzPEMMkLxnEGb7WbI1SBnHBIMnYHGdsjJK7Qvz2CgGcb4ckWcm7zrXQAuuDFKzl+aU2c+3oyMIF6/DDmpr9qXcKZwQF+L5rUSlKsTwV0W14xGmBFld2ogSemo3oRj63t0euY5py5afHaY6I4tJsi05k0Er40vVtxonrNna7l7A5ynjnuTbb4709+YFRjDJnGrndS2hW4apKLNc3YxbaIZOI4b2icdqhIS8DOqEh8s2OWefG1hjvnrCyR4ncqcMPa2r2p1YKpxxNNYkKPCU0I4+itBitMChX/K4smWkGXJiJyEvLWi8hzS0thO1Rwmw7Ynucs9QN8bWQF9Y14ylcu82syLG2xNcaTwurvYSXbmzRbbjdwkR4z7YC3lgfcqsXExrZyWuYagQoBauDhOWqwud+0Tid0LzVLHXEkTt1JFBNzf7U34JTxiRSX1WPBZes1gmE6UaAQmgHBsES5zlaLO3Qc1mmRck4Lbjdi8lKS4ml2ww51404P91gpuVzfrpBVpS8seZaXY6znI1hSuBpFjoR47RAifD1lSE3t0Z3ZeeC618cp66YXV66DOP1QcxwnPHm2pBm4NYhh8l8Peos2dOadXvcHKZMR83ppd4pnEJ8XPG5yY8xEPgeUehxfjpiqRsxzvLKaapQ1uJ7mt4oo58UzLQ82oFHAS7UFMtSN2ScFbRC4zKct2NCo+gnBRaIfINnhDgvmWoqjBZWBynNICYtSleVVYTL8y1euDTD+iChH+dc3xzRDA0NT9MOPdYHCaGnDxWNc9SRO4/6fm/Hwml1Sey3D7VSOCVM2moqnEnGaIg80NqFlF6YajA/FXK+E7E9TrndS1jshFyY9mmGhm7D52s3ezSMMMwsvbSgYRSFwGurQxY6ISJwdXPErc0xnYbh6bkmnlF89tV1srJgO3Zd0gCKomRjkHBppumqmuYlb64PWZ5y+QiTvIL3LHcRJaR5ybmuSySblHY4TDTO7nOPQigfNhJocs3eOGNzlDLfDmmH5m0jHOuS2G8favPRKcBQ9VkW0Nq112wFitD3WexEfOPSFO+5MMULF6YpcZ3RmoFmqmHYjDNubMfkucXXwjAvaUeGbmjwPc12nBJnOVfWBry5PuLK6sDVLPI0N7ZGZHnJM/NN2oGHEWGu7UxUt3sxi+0Qr4rgESU0Q7OzEzg/3aAoLVlZogTOdUNCz/kkDlr1dC+Oo5rl7msmeYFRio2qnejbJXJpUmxwN486lzUnk1opnHDU5MdCJ1K0IldcrhX6zDUDmqHHuamQsij52u0+N7fHtCKPv/qOOawVNIIRWOnFrA9TxLoy1oHWDMc5SWoRLCu9mMjTPDPfohl49GJnY98YJKR5yTjN0UoxTgsagcbTipm2X/VGLknzkvlWsCMkQk/z1EyD5akG57p3Mpkf1aF7HOGku6+ZFpbI1/haszl0UVhvB+F4Wkti1xyeekZPMAJEBpo+iIHQUyy2QubaESLOkNSoVt+5hXGa4yvBlpY/eXmVzXGGp6Es3Js9t9Ql8jSvrQ5YH8a0Qs07Fls0A5/lbsSl2SahZ6oyE7A9zojzgqVuxDvPdZhu+lzbHGOU8E0XuhitGGfFzk5AK3WXkHgcDt3jWLHuvmZgFHlpMVpIC3fNoxCOJ92JWzvnHx8nbe5rpXCCaXnuy9hp+jQMWKvQWsjykqmGh28UZWn5+sqAuZbHTDOgN86J05Jm4FbmG6OMbtNjOgq4vjUiyUp8IwSeQSlFJ/TwjRD5hrxaCQbGVVNdH6RorUAsgae5NNvkXYtttBI8z9D0NEvd6K6ic7uFxFH3JHD3dryNY6YafrVzKvAqX8mjCsf7mcROisB4HHNZczKb+9SO5hOGxmUmW1v1WVYwHQUExnVNi4xhquOxMUqxVjHXCsisZWOYocTSDTwya/GNJs0LtG8q04rgaUU79Jhu+wziHK2EcVbw3FKXvLSkhftDNFooS5dM9s0XptgeZ3jamYyssuRZQSf0XHnqSkjsF8Fz1KUdjqOw3O5rBkYx2/RZ7ce0o+BIhON+TtwbmyMsnJiIn7pMx9FzEh34tVI4YXQCUEqR5SVGQ17kjFLN+W6DqYbH1jjnxvaYmabHUqfB0nSEiOuutjZIeedyh1FWcGtrTGlhpuExzkqK0tIOPC5Me4yyAi2KwAhLUxHnOhEr/ZiZZsAgzujFLov5PUsdtFIkeUlUCaG8sPhaVQKZY6vVf5yNYyJf895LM0d2zf0yrK9vOsFwkgRGzdFyErPrn7hSEJH3A5/ALYp/2Vr78Sd9DycNDxdm6mtnuol8TVoWtH0PUcL5qQilhLl2xLmu5bW1ES1fc3G+ScMzpEVBkpU0fEUn8pjrhARGM9P0GcQZ8fYYXwsX5xo0A4+VXoyn1E6LTBGXdDZM3O5hoQrzBO5qWiMIaVFwrhsdq5PxrDWO2S/D2lp7pOU9ak4eJzG7/okqBRHRwM8D3wtcA/5URD5trf3Kk7yP4ySsEs60QGGhGQpzTWcCMlrxVBX372tFJzTc6Md0Qx9PCaJAlGK+4zPXDnnvxWnWBymjtODSbIuiLFntJxijeOdCk81xjojwbU/PMtMOGCYuG3m+HXBrOybLLbMNn+Vqpb1XZ7OT2rTmLLGfSWyxUr4nSWDUHC0nsc/Gk94pfBvwirX2NQAR+Q3gg8CZVgohrs9DN4RWI+Dd823CQBNoYW2U8a7FNmleooCFbkRpS2ZbAUopzvVjRkmJUhaL8K7FDli42R+TZiWLnYBW4CGVbTvOCl5d7TOIc5amQr7r2XlCT3N9c0RoNIMkI81KZps+zy13H9ji8qQ2rTlL7GcSA06cwKg5Wk5in40nrRTOA1d3Pb8GfPvuE0TkI8BHAC5evPjk7uwRMdzJKTCe63pW5qA9aPiGpu/xrsU2LzwzRysw5KUrM30hzfm2Z+ZYaAfMtAKGSc6b60OMUSy0Q5K84EvXtvC0cza2Q49hkvED37hEUdq3ZPWGnt6zbeXkD08pYb59+Czg2sn4eNnv8z1pAqPm6Dlp360T52i21n4S+CTAiy++eLAejE8YU/0oBZEPi1MRz8y0uDTf5FY/ZTBKMUphjFBaS6A13/rMDCv9BKwlTjOiwBD5mh/85vOcqyqHggt5nGwplQid0OOd5zq8ujqgtBat4b2XZh64wr+Xk/aHV3Mw6nmredI8aaVwHXhq1/ML1bETx3JT8dzyFJFv6Mc5G8OEuVbAO8+1mO1EZLlrdm+0Ii0K5lohRWn5pguGyNPc2B6zMUxZ7IS8+PQMnlZc2xw64V4KzcDwnd8wf5dCmHDvlnK64fP971mqV4g1NTWPHTloQ/QjuZiIAb4GfA9OGfwp8LettV/e6/wdrrugAAAGGklEQVQXX3zRfu5znzv0dZ7+6H9/4DkKuDTj894L01xebDHfiXhqpsHluRZFaemNM0ZZjhZFYUu0CIW1NHzPOfqsBZG7TDdxVnBja8zt7TEiwkI72HHi1tTU1DwpROTz1toXH+Z3n+hOwVqbi8hPAX+AC0n91f0UwqNw5eN/85Hf4/z04X8n9DSX51tcnm898vVrampqjoMn7lOw1v4+8PtP+ro1NTU1NQ+mDniuqampqdmhVgo1NTU1NTvUSqGmpqamZodaKdTU1NTU7PBEQ1IPi4isAm88wlvMAWtHdDsngbM2Hjh7Yzpr44GzN6azNh5465guWWvnH+aNTrRSeFRE5HMPG6t7Ejlr44GzN6azNh44e2M6a+OBox1TbT6qqampqdmhVgo1NTU1NTucdaXwyeO+gSPmrI0Hzt6Yztp44OyN6ayNB45wTGfap1BTU1NTczjO+k6hpqampuYQ1EqhpqampmaHM6kUROT9IvKyiLwiIh897vs5CCLylIj8sYh8RUS+LCL/uDo+IyJ/KCJfr/6fro6LiPz7aox/ISIvHO8I9kdEtIj8mYh8pnr+jIh8trr33xQRvzoeVM9fqV5/+jjvez9EZEpEfltEvioiL4nI+07zPInIP6n+5r4kIr8uIuFpmyMR+VURWRGRL+06dug5EZEPVed/XUQ+dBxjqe5jr/H8m+pv7i9E5L+KyNSu1z5WjedlEfn+XccPLwuttWfqB1eS+1XgMuADfw48f9z3dYD7XgJeqB63cX0nngf+NfDR6vhHgZ+tHn8A+B+AAN8BfPa4x3Cfsf1T4D8Dn6me/xbwo9XjXwT+QfX4HwK/WD3+UeA3j/ve9xnPrwF/v3rsA1OndZ5wLXJfB6Jdc/Ph0zZHwF8DXgC+tOvYoeYEmAFeq/6frh5Pn6DxfB9gqsc/u2s8z1dyLgCeqeSfflhZeOyT+Rg+zPcBf7Dr+ceAjx33fT3EOH4P+F7gZWCpOrYEvFw9/iXgx3adv3PeSfrBddf7I+CvA5+pvohru/64d+YL12fjfdVjU50nxz2Ge8bTrYSo3HP8VM4Td/qmz1Sf+WeA7z+NcwQ8fY8QPdScAD8G/NKu43edd9zjuee1vwV8qnp8l4ybzNHDysKzaD6a/JFPuFYdOzVUW/L3Ap8FFq21N6uXbgGL1ePTMs5/B/xzoKyezwJb1tq8er77vnfGVL2+XZ1/kngGWAX+Q2US+2URaXJK58laex34t8CbwE3cZ/55TvccTTjsnJzoubqHv4fb7cARj+csKoVTjYi0gN8Bftpa29v9mnXq/tTEEIvIDwIr1trPH/e9HCEGt63/BWvte4EhzjSxw2map8rO/kGcslsGmsD7j/WmHgOnaU4ehIj8DJADn3oc738WlcJ14Kldzy9Ux048IuLhFMKnrLW/Wx2+LSJL1etLwEp1/DSM8zuBHxKRK8Bv4ExInwCmxPXrhrvve2dM1etdYP1J3vABuAZcs9Z+tnr+2zglcVrn6W8Ar1trV621GfC7uHk7zXM04bBzctLnChH5MPCDwI9Xig6OeDxnUSn8KfBsFT3h45xhnz7me3ogIiLArwAvWWt/btdLnwYmURAfwvkaJsf/bhVJ8R3A9q6t8onAWvsxa+0Fa+3TuHn4X9baHwf+GPjh6rR7xzQZ6w9X55+o1Z219hZwVUTeVR36HuArnN55ehP4DhFpVH+Dk/Gc2jnaxWHn5A+A7xOR6WoH9X3VsROBiLwfZ4r9IWvtaNdLnwZ+tIoMewZ4Fvh/PKwsPG7n0GNy0HwAF73zKvAzx30/B7zn78Jtb/8C+GL18wGcvfaPgK8D/xOYqc4X4OerMf4l8OJxj+EB4/tu7kQfXa7+aF8B/gsQVMfD6vkr1euXj/u+9xnLtwCfq+bqv+EiVU7tPAH/Cvgq8CXgP+GiWE7VHAG/jvOJZLjd3E8+zJzgbPWvVD8/ccLG8wrORzCRD7+46/yfqcbzMvADu44fWhbWZS5qampqanY4i+ajmpqampqHpFYKNTU1NTU71EqhpqampmaHWinU1NTU1OxQK4Wampqamh1qpVBTU1NTs0OtFGpqampqdvj/KjlXIZ8OfWUAAAAASUVORK5CYII=\n",
      "text/plain": [
       "<Figure size 432x288 with 1 Axes>"
      ]
     },
     "metadata": {
      "needs_background": "light"
     },
     "output_type": "display_data"
    }
   ],
   "source": [
    "plt.plot(y_test, y_pred, 'o', alpha=0.1)"
   ]
  },
  {
   "cell_type": "code",
   "execution_count": 28,
   "metadata": {},
   "outputs": [
    {
     "data": {
      "text/plain": [
       "0.6611033661523691"
      ]
     },
     "execution_count": 28,
     "metadata": {},
     "output_type": "execute_result"
    }
   ],
   "source": [
    "model_gs.score(X_test, y_test)"
   ]
  },
  {
   "cell_type": "markdown",
   "metadata": {},
   "source": [
    "## Save model and check reload"
   ]
  },
  {
   "cell_type": "code",
   "execution_count": 30,
   "metadata": {},
   "outputs": [],
   "source": [
    "import pickle"
   ]
  },
  {
   "cell_type": "code",
   "execution_count": 33,
   "metadata": {},
   "outputs": [],
   "source": [
    "with open('../model_data/random_forest_'+VERSION+'.pk', 'wb') as p:\n",
    "    pickle.dump(model_gs, p)"
   ]
  },
  {
   "cell_type": "code",
   "execution_count": 35,
   "metadata": {},
   "outputs": [
    {
     "name": "stdout",
     "output_type": "stream",
     "text": [
      "CPU times: user 242 ms, sys: 537 ms, total: 780 ms\n",
      "Wall time: 779 ms\n"
     ]
    }
   ],
   "source": [
    "%%time\n",
    "with open('../model_data/random_forest_'+VERSION+'.pk', 'rb') as pp:\n",
    "    loaded_model = pickle.load(pp)"
   ]
  },
  {
   "cell_type": "code",
   "execution_count": 38,
   "metadata": {},
   "outputs": [],
   "source": [
    "with open('../model_data/test_feature_'+VERSION+'.pk', 'wb') as ptf:\n",
    "    pickle.dump(X_test, ptf)"
   ]
  },
  {
   "cell_type": "code",
   "execution_count": 39,
   "metadata": {},
   "outputs": [],
   "source": [
    "with open('../model_data/test_feature_'+VERSION+'.pk', 'rb') as ptfl:\n",
    "    loaded_test_feature = pickle.load(ptfl)"
   ]
  },
  {
   "cell_type": "code",
   "execution_count": 40,
   "metadata": {},
   "outputs": [],
   "source": [
    "with open('../model_data/test_target_'+VERSION+'.pk', 'wb') as ptg:\n",
    "    pickle.dump(y_test, ptg)"
   ]
  },
  {
   "cell_type": "code",
   "execution_count": 41,
   "metadata": {},
   "outputs": [],
   "source": [
    "with open('../model_data/test_target_'+VERSION+'.pk', 'rb') as ptgl:\n",
    "    loaded_test_target = pickle.load(ptgl)"
   ]
  },
  {
   "cell_type": "code",
   "execution_count": 42,
   "metadata": {},
   "outputs": [
    {
     "data": {
      "text/plain": [
       "0.6611033661523691"
      ]
     },
     "execution_count": 42,
     "metadata": {},
     "output_type": "execute_result"
    }
   ],
   "source": [
    "loaded_model.score(loaded_test_feature, loaded_test_target)"
   ]
  },
  {
   "cell_type": "code",
   "execution_count": null,
   "metadata": {},
   "outputs": [],
   "source": [
    "%%time\n",
    "y_pred = model_gs.predict(X_test)\n",
    "plt.plot(y_test, y_pred, 'o', alpha=0.01)"
   ]
  }
 ],
 "metadata": {
  "kernelspec": {
   "display_name": "Python 3",
   "language": "python",
   "name": "python3"
  },
  "language_info": {
   "codemirror_mode": {
    "name": "ipython",
    "version": 3
   },
   "file_extension": ".py",
   "mimetype": "text/x-python",
   "name": "python",
   "nbconvert_exporter": "python",
   "pygments_lexer": "ipython3",
   "version": "3.7.3"
  }
 },
 "nbformat": 4,
 "nbformat_minor": 2
}
