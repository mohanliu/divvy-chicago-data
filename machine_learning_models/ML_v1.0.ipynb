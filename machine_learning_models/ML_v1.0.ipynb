{
 "cells": [
  {
   "cell_type": "code",
   "execution_count": 1,
   "metadata": {},
   "outputs": [],
   "source": [
    "# Major version: the feature setup\n",
    "# Minor version: model hypertunning\n",
    "VERSION = 'v1.1'\n",
    "major_VERSION = VERSION.split('.')[0]+'.0'"
   ]
  },
  {
   "cell_type": "markdown",
   "metadata": {},
   "source": [
    "# Model Details\n",
    "## Features:\n",
    "- One hot encoded **day of week** and **month** (not year)\n",
    "- Weather feature (OHE):\n",
    "    - Icons (cloudy, partial cloudy, ...)\n",
    "    - Precipitates Type (None, Snow, Sleet, Rain)\n",
    "- Station info:\n",
    "    - community area (OHE)\n",
    "    - capacity\n",
    "    - long, lat\n",
    "    \n",
    "## Target\n",
    "- Log scale/normal scale\n",
    "    \n",
    "# Work Flow\n",
    "## Training Preprocessing\n",
    "- Merge station community area (Join tables)\n",
    "- Drop id after merging\n",
    "- Add weather info (temp_high/low, and OHE ICONs and Precipitates Types)\n",
    "- Convert to numpy matrix\n",
    "\n",
    "## Pipeline\n",
    "- OHE on date time (Remember column indices)\n",
    "- Scaling for `year, lon_ave, lat_ave, dp_max, temp_high, temp_low` (`MinMaxScaler`)\n",
    "- Regressor()\n",
    "\n",
    "## Test Preprocessing\n",
    "- Start with Pandas template (station_id, lon_ave, lat_ave, dp_max, OHE community area)\n",
    "- Add weather info (temp_high/low, and OHE ICONs and Precipitates Types)\n",
    "- Convert to numpy matrix\n",
    "\n",
    "## Post prediction\n",
    "- Rescale if trained on log\n",
    "- Hard cap negative (activation function)"
   ]
  },
  {
   "cell_type": "code",
   "execution_count": 59,
   "metadata": {},
   "outputs": [],
   "source": [
    "import numpy as np\n",
    "import pandas as pd\n",
    "import matplotlib.pyplot as plt\n",
    "import os\n",
    "import pickle"
   ]
  },
  {
   "cell_type": "markdown",
   "metadata": {},
   "source": [
    "## Load data"
   ]
  },
  {
   "cell_type": "code",
   "execution_count": 3,
   "metadata": {},
   "outputs": [],
   "source": [
    "INFO_verbose = False"
   ]
  },
  {
   "cell_type": "code",
   "execution_count": 4,
   "metadata": {},
   "outputs": [
    {
     "name": "stdout",
     "output_type": "stream",
     "text": [
      "CPU times: user 3.21 ms, sys: 405 µs, total: 3.61 ms\n",
      "Wall time: 2.34 ms\n"
     ]
    }
   ],
   "source": [
    "%%time\n",
    "st_template = pd.read_pickle('../data/model_v1.0_template.pk')"
   ]
  },
  {
   "cell_type": "code",
   "execution_count": 5,
   "metadata": {},
   "outputs": [],
   "source": [
    "if INFO_verbose:\n",
    "    st_template.info()"
   ]
  },
  {
   "cell_type": "code",
   "execution_count": 6,
   "metadata": {},
   "outputs": [
    {
     "name": "stdout",
     "output_type": "stream",
     "text": [
      "Loading from previous pickle file.\n",
      "CPU times: user 140 ms, sys: 386 ms, total: 526 ms\n",
      "Wall time: 523 ms\n"
     ]
    }
   ],
   "source": [
    "%%time\n",
    "## load preprocessed data\n",
    "\n",
    "if os.path.exists('../data/divvy_data_model_'+major_VERSION+'.pk'):\n",
    "    print(\"Loading from previous pickle file.\")\n",
    "    data = pd.read_pickle('../data/divvy_data_model_'+major_VERSION+'.pk')\n",
    "else:\n",
    "    print(\"Create data set for this model... \")\n",
    "    data_lst = []\n",
    "\n",
    "    for year in [2013, 2014, 2015, 2016, 2017, 2018]:\n",
    "        dt_tmp = pd.read_feather('../data/Final_Divvy_data_'+str(year)+'.feather')\n",
    "        data_lst.append(dt_tmp)\n",
    "\n",
    "    data = pd.concat(data_lst, ignore_index=True)\n",
    "\n",
    "\n",
    "    data.to_pickle('../data/divvy_data_model_'+major_VERSION+'.pk')\n",
    "    print(\"Data saved to pickle file\")"
   ]
  },
  {
   "cell_type": "code",
   "execution_count": 7,
   "metadata": {},
   "outputs": [],
   "source": [
    "if INFO_verbose:\n",
    "    data.info()"
   ]
  },
  {
   "cell_type": "markdown",
   "metadata": {},
   "source": [
    "## Get target value"
   ]
  },
  {
   "cell_type": "code",
   "execution_count": 8,
   "metadata": {},
   "outputs": [],
   "source": [
    "target_in = data.total_in\n",
    "target_out = data.total_out"
   ]
  },
  {
   "cell_type": "code",
   "execution_count": 9,
   "metadata": {},
   "outputs": [],
   "source": [
    "target_in_log = np.log(target_in+1)"
   ]
  },
  {
   "cell_type": "markdown",
   "metadata": {},
   "source": [
    "## Prepare features"
   ]
  },
  {
   "cell_type": "code",
   "execution_count": 10,
   "metadata": {},
   "outputs": [],
   "source": [
    "# Prescreening for useful features\n",
    "feats = pd.merge(data[['station_id', 'month', 'dayofweek', 'year',\n",
    "                       'icon_clear-day', 'icon_cloudy', 'icon_partly-cloudy-day', \n",
    "                       'icon_rain', 'icon_sleet', 'icon_snow',\n",
    "                       'precipType_None', 'precipType_rain',\n",
    "                       'precipType_sleet', 'precipType_snow',\n",
    "                       'temperatureHigh', 'temperatureLow' \n",
    "                         ]], st_template, \n",
    "                    left_on='station_id', right_on='id').drop(['station_id', 'id'], axis=1)"
   ]
  },
  {
   "cell_type": "markdown",
   "metadata": {},
   "source": [
    "## Reordering dataframe"
   ]
  },
  {
   "cell_type": "code",
   "execution_count": 11,
   "metadata": {},
   "outputs": [],
   "source": [
    "# Reordering\n",
    "cols = []\n",
    "cols.extend(feats.columns[15:])\n",
    "cols.extend(feats.columns[2:15])\n",
    "cols.extend(feats.columns[:2])"
   ]
  },
  {
   "cell_type": "code",
   "execution_count": 12,
   "metadata": {},
   "outputs": [],
   "source": [
    "feats_ro = feats[cols]"
   ]
  },
  {
   "cell_type": "code",
   "execution_count": 13,
   "metadata": {},
   "outputs": [],
   "source": [
    "if INFO_verbose:\n",
    "    feats_ro.info()"
   ]
  },
  {
   "cell_type": "code",
   "execution_count": 14,
   "metadata": {},
   "outputs": [],
   "source": [
    "feats_ro = feats_ro.fillna(0)"
   ]
  },
  {
   "cell_type": "markdown",
   "metadata": {},
   "source": [
    "## Get/Check indices for numerical columns "
   ]
  },
  {
   "cell_type": "code",
   "execution_count": 15,
   "metadata": {},
   "outputs": [],
   "source": [
    "num_col_in = [0, 1, 2, 50, 61, 62]"
   ]
  },
  {
   "cell_type": "code",
   "execution_count": 16,
   "metadata": {},
   "outputs": [
    {
     "name": "stdout",
     "output_type": "stream",
     "text": [
      "<class 'pandas.core.frame.DataFrame'>\n",
      "Int64Index: 947515 entries, 0 to 947514\n",
      "Data columns (total 6 columns):\n",
      "lon_ave            947515 non-null float64\n",
      "lat_ave            947515 non-null float64\n",
      "dp_max             947515 non-null float64\n",
      "year               947515 non-null float64\n",
      "temperatureHigh    947515 non-null float64\n",
      "temperatureLow     947515 non-null float64\n",
      "dtypes: float64(6)\n",
      "memory usage: 50.6 MB\n"
     ]
    }
   ],
   "source": [
    "feats_ro.iloc[:, num_col_in].info()"
   ]
  },
  {
   "cell_type": "markdown",
   "metadata": {},
   "source": [
    "## One hot encoding date"
   ]
  },
  {
   "cell_type": "code",
   "execution_count": 21,
   "metadata": {},
   "outputs": [],
   "source": [
    "feats_fnl = pd.get_dummies(feats_ro, columns=['month', 'dayofweek'])"
   ]
  },
  {
   "cell_type": "markdown",
   "metadata": {},
   "source": [
    "## Save model details into txt "
   ]
  },
  {
   "cell_type": "code",
   "execution_count": 22,
   "metadata": {},
   "outputs": [],
   "source": [
    "import io\n",
    "\n",
    "buffer = io.StringIO()\n",
    "feats_fnl.info(buf=buffer)\n",
    "s = buffer.getvalue()\n",
    "\n",
    "with open(\"../model_features_details/features_\"+major_VERSION+'.txt', \"w\", encoding=\"utf-8\") as f: \n",
    "    f.write(s)"
   ]
  },
  {
   "cell_type": "markdown",
   "metadata": {},
   "source": [
    "## Convert to numpy matrix "
   ]
  },
  {
   "cell_type": "code",
   "execution_count": 23,
   "metadata": {},
   "outputs": [],
   "source": [
    "features_ = feats_fnl.to_numpy()"
   ]
  },
  {
   "cell_type": "code",
   "execution_count": 40,
   "metadata": {},
   "outputs": [
    {
     "data": {
      "text/plain": [
       "(947515, 82)"
      ]
     },
     "execution_count": 40,
     "metadata": {},
     "output_type": "execute_result"
    }
   ],
   "source": [
    "features_.shape"
   ]
  },
  {
   "cell_type": "markdown",
   "metadata": {},
   "source": [
    "## Building pipelines"
   ]
  },
  {
   "cell_type": "code",
   "execution_count": 25,
   "metadata": {},
   "outputs": [],
   "source": [
    "import sklearn\n",
    "from sklearn.preprocessing import MinMaxScaler\n",
    "from sklearn.preprocessing import OneHotEncoder \n",
    "from sklearn.linear_model import Ridge\n",
    "from sklearn.ensemble import RandomForestRegressor\n",
    "\n",
    "from sklearn.model_selection import GridSearchCV\n",
    "from sklearn.pipeline import Pipeline\n",
    "\n",
    "from sklearn.model_selection import train_test_split"
   ]
  },
  {
   "cell_type": "code",
   "execution_count": 38,
   "metadata": {},
   "outputs": [
    {
     "data": {
      "text/plain": [
       "'0.21.2'"
      ]
     },
     "execution_count": 38,
     "metadata": {},
     "output_type": "execute_result"
    }
   ],
   "source": [
    "sklearn.__version__"
   ]
  },
  {
   "cell_type": "code",
   "execution_count": 68,
   "metadata": {},
   "outputs": [
    {
     "name": "stdout",
     "output_type": "stream",
     "text": [
      "CPU times: user 987 ms, sys: 788 ms, total: 1.78 s\n",
      "Wall time: 1.77 s\n"
     ]
    }
   ],
   "source": [
    "%%time\n",
    "model = Pipeline([\n",
    "    ('mms', MinMaxScaler(feature_range=(0, 1), copy=False)),\n",
    "    ('rf', RandomForestRegressor(n_estimators=10, min_samples_split=5))\n",
    "])\n",
    "\n",
    "# Train Test split\n",
    "X_train, X_test, y_train, y_test = train_test_split(\n",
    "    features_, \n",
    "    target_out, \n",
    "    test_size=0.2, \n",
    "    random_state=42)"
   ]
  },
  {
   "cell_type": "code",
   "execution_count": 69,
   "metadata": {},
   "outputs": [
    {
     "name": "stdout",
     "output_type": "stream",
     "text": [
      "CPU times: user 2min 11s, sys: 167 ms, total: 2min 11s\n",
      "Wall time: 2min 11s\n"
     ]
    },
    {
     "data": {
      "text/plain": [
       "Pipeline(memory=None,\n",
       "         steps=[('mms', MinMaxScaler(copy=False, feature_range=(0, 1))),\n",
       "                ('rf',\n",
       "                 RandomForestRegressor(bootstrap=True, criterion='mse',\n",
       "                                       max_depth=None, max_features='auto',\n",
       "                                       max_leaf_nodes=None,\n",
       "                                       min_impurity_decrease=0.0,\n",
       "                                       min_impurity_split=None,\n",
       "                                       min_samples_leaf=1, min_samples_split=5,\n",
       "                                       min_weight_fraction_leaf=0.0,\n",
       "                                       n_estimators=10, n_jobs=None,\n",
       "                                       oob_score=False, random_state=None,\n",
       "                                       verbose=0, warm_start=False))],\n",
       "         verbose=False)"
      ]
     },
     "execution_count": 69,
     "metadata": {},
     "output_type": "execute_result"
    }
   ],
   "source": [
    "%%time\n",
    "model.fit(X_train, y_train)"
   ]
  },
  {
   "cell_type": "code",
   "execution_count": 70,
   "metadata": {},
   "outputs": [
    {
     "data": {
      "text/plain": [
       "[<matplotlib.lines.Line2D at 0x7efd9764c630>]"
      ]
     },
     "execution_count": 70,
     "metadata": {},
     "output_type": "execute_result"
    },
    {
     "data": {
      "image/png": "[encoded data removed]",
      "text/plain": [
       "<Figure size 432x288 with 1 Axes>"
      ]
     },
     "metadata": {
      "needs_background": "light"
     },
     "output_type": "display_data"
    }
   ],
   "source": [
    "# First check\n",
    "y_pred = model.predict(X_test)\n",
    "plt.plot(y_test, y_pred, 'o', alpha=0.1)"
   ]
  },
  {
   "cell_type": "code",
   "execution_count": 74,
   "metadata": {},
   "outputs": [],
   "source": [
    "import plotly.graph_objects as go\n",
    "from plotly.offline import download_plotlyjs, init_notebook_mode, plot, iplot"
   ]
  },
  {
   "cell_type": "code",
   "execution_count": 77,
   "metadata": {},
   "outputs": [],
   "source": [
    "fig = go.Figure()\n",
    "fig.add_trace(go.Scatter(x=y_test, y=y_pred,\n",
    "                    mode='markers',\n",
    "                    name='markers'))\n",
    "fig.show()"
   ]
  },
  {
   "cell_type": "code",
   "execution_count": 73,
   "metadata": {},
   "outputs": [],
   "source": [
    "# Save model, features and targets\n",
    "Model_name = 'random_forest_'\n",
    "\n",
    "with open('../model_data/'+Model_name+'model_'+VERSION+'.pk', 'wb') as p:\n",
    "    pickle.dump(model, p)\n",
    "\n",
    "with open('../model_data/'+Model_name+'testfeature_'+VERSION+'.pk', 'wb') as ptf:\n",
    "    pickle.dump(X_test, ptf)\n",
    "\n",
    "with open('../model_data/'+Model_name+'testraget_'+VERSION+'.pk', 'wb') as ptg:\n",
    "    pickle.dump(y_test, ptg)"
   ]
  },
  {
   "cell_type": "markdown",
   "metadata": {},
   "source": [
    "## Grid Search "
   ]
  },
  {
   "cell_type": "code",
   "execution_count": 29,
   "metadata": {},
   "outputs": [
    {
     "name": "stdout",
     "output_type": "stream",
     "text": [
      "Best params:  {'rf__max_depth': 5, 'rf__n_estimators': 20}\n",
      "CPU times: user 1min 37s, sys: 663 ms, total: 1min 38s\n",
      "Wall time: 2min 23s\n"
     ]
    }
   ],
   "source": [
    "%%time\n",
    "# Train Test split\n",
    "X_train, X_test, y_train, y_test = train_test_split(\n",
    "    features_, \n",
    "    target_out, \n",
    "    test_size=0.2, \n",
    "    random_state=42)\n",
    "print(\"Train/Test splitted...\")\n",
    "\n",
    "model_gs = GridSearchCV(\n",
    "    model,\n",
    "    {'rf__n_estimators': [20, 50], 'rf__max_depth':[5, 10, 20]},\n",
    "    cv=5,\n",
    "    n_jobs=4\n",
    ")\n",
    "\n",
    "\n",
    "model_gs.fit(X_train, y_train)\n",
    "print(\"Best params: \", model_gs.best_params_)"
   ]
  },
  {
   "cell_type": "code",
   "execution_count": 30,
   "metadata": {},
   "outputs": [],
   "source": [
    "y_pred = model_gs.predict(X_test)\n",
    "plt.plot(y_test, y_pred, 'o', alpha=0.1)"
   ]
  },
  {
   "cell_type": "code",
   "execution_count": null,
   "metadata": {},
   "outputs": [],
   "source": [
    "# Save model, features and targets\n",
    "Model_name = 'random_forest_'\n",
    "\n",
    "with open('../model_data/'+Model_name+'model_'+VERSION+'.pk', 'wb') as p:\n",
    "    pickle.dump(model_gs, p)\n",
    "\n",
    "with open('../model_data/'+Model_name+'testfeature_'+VERSION+'.pk', 'wb') as ptf:\n",
    "    pickle.dump(X_test, ptf)\n",
    "\n",
    "with open('../model_data/'+Model_name+'testraget_'+VERSION+'.pk', 'wb') as ptg:\n",
    "    pickle.dump(y_test, ptg)"
   ]
  },
  {
   "cell_type": "markdown",
   "metadata": {},
   "source": [
    "## Reload model"
   ]
  },
  {
   "cell_type": "code",
   "execution_count": 61,
   "metadata": {},
   "outputs": [
    {
     "name": "stdout",
     "output_type": "stream",
     "text": [
      "CPU times: user 122 ms, sys: 292 ms, total: 414 ms\n",
      "Wall time: 413 ms\n"
     ]
    }
   ],
   "source": [
    "%%time\n",
    "# Load previous data\n",
    "Model_name = 'r'\n",
    "with open('../model_data/random_forest_'+VERSION+'.pk', 'rb') as pp:\n",
    "    loaded_model = pickle.load(pp)\n",
    "\n",
    "with open('../model_data/test_feature_'+VERSION+'.pk', 'rb') as ptfl:\n",
    "    loaded_test_feature = pickle.load(ptfl)\n",
    "\n",
    "with open('../model_data/test_target_'+VERSION+'.pk', 'rb') as ptgl:\n",
    "    loaded_test_target = pickle.load(ptgl)"
   ]
  },
  {
   "cell_type": "code",
   "execution_count": 62,
   "metadata": {},
   "outputs": [
    {
     "data": {
      "text/plain": [
       "-0.25869879895693404"
      ]
     },
     "execution_count": 62,
     "metadata": {},
     "output_type": "execute_result"
    }
   ],
   "source": [
    "loaded_model.score(loaded_test_feature, loaded_test_target)"
   ]
  }
 ],
 "metadata": {
  "kernelspec": {
   "display_name": "Python 3",
   "language": "python",
   "name": "python3"
  },
  "language_info": {
   "codemirror_mode": {
    "name": "ipython",
    "version": 3
   },
   "file_extension": ".py",
   "mimetype": "text/x-python",
   "name": "python",
   "nbconvert_exporter": "python",
   "pygments_lexer": "ipython3",
   "version": "3.7.3"
  }
 },
 "nbformat": 4,
 "nbformat_minor": 2
}
