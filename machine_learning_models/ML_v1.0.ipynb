{
 "cells": [
  {
   "cell_type": "code",
   "execution_count": 1,
   "metadata": {},
   "outputs": [],
   "source": [
    "VERSION = 'v1.0'"
   ]
  },
  {
   "cell_type": "markdown",
   "metadata": {},
   "source": [
    "# Model Details\n",
    "## Features:\n",
    "- One hot encoded **day of week** and **month** (not year)\n",
    "- Weather feature (OHE):\n",
    "    - Icons (cloudy, partial cloudy, ...)\n",
    "    - Precipitates Type (None, Snow, Sleet, Rain)\n",
    "- Station info:\n",
    "    - community area (OHE)\n",
    "    - capacity\n",
    "    - long, lat\n",
    "    \n",
    "## Target\n",
    "- Log scale/normal scale\n",
    "    \n",
    "# Work Flow\n",
    "## Training Preprocessing\n",
    "- Merge station community area (Join tables)\n",
    "- Drop id after merging\n",
    "- Add weather info (temp_high/low, and OHE ICONs and Precipitates Types)\n",
    "- Convert to numpy matrix\n",
    "\n",
    "## Pipeline\n",
    "- OHE on date time (Remember column indices)\n",
    "- Scaling for `year, lon_ave, lat_ave, dp_max, temp_high, temp_low` (`MinMaxScaler`)\n",
    "- Regressor()\n",
    "\n",
    "## Test Preprocessing\n",
    "- Start with Pandas template (station_id, lon_ave, lat_ave, dp_max, OHE community area)\n",
    "- Add weather info (temp_high/low, and OHE ICONs and Precipitates Types)\n",
    "- Convert to numpy matrix\n",
    "\n",
    "## Post prediction\n",
    "- Rescale if trained on log\n",
    "- Hard cap negative (activation function)"
   ]
  },
  {
   "cell_type": "code",
   "execution_count": 2,
   "metadata": {},
   "outputs": [],
   "source": [
    "import numpy as np\n",
    "import pandas as pd\n",
    "import matplotlib.pyplot as plt\n",
    "import os"
   ]
  },
  {
   "cell_type": "markdown",
   "metadata": {},
   "source": [
    "## Load data"
   ]
  },
  {
   "cell_type": "code",
   "execution_count": 10,
   "metadata": {},
   "outputs": [],
   "source": [
    "INFO_verbose = False"
   ]
  },
  {
   "cell_type": "code",
   "execution_count": 4,
   "metadata": {},
   "outputs": [
    {
     "name": "stdout",
     "output_type": "stream",
     "text": [
      "CPU times: user 8.1 ms, sys: 5.91 ms, total: 14 ms\n",
      "Wall time: 22.3 ms\n"
     ]
    }
   ],
   "source": [
    "%%time\n",
    "st_template = pd.read_pickle('../data/model_v1.0_template.pk')"
   ]
  },
  {
   "cell_type": "code",
   "execution_count": 5,
   "metadata": {},
   "outputs": [],
   "source": [
    "if INFO_verbose:\n",
    "    st_template.info()"
   ]
  },
  {
   "cell_type": "code",
   "execution_count": 6,
   "metadata": {},
   "outputs": [
    {
     "name": "stdout",
     "output_type": "stream",
     "text": [
      "Loading from previous pickle file.\n",
      "CPU times: user 210 ms, sys: 563 ms, total: 774 ms\n",
      "Wall time: 1.21 s\n"
     ]
    }
   ],
   "source": [
    "%%time\n",
    "## load preprocessed data\n",
    "\n",
    "if os.path.exists('../data/divvy_data_model_'+VERSION+'.pk'):\n",
    "    print(\"Loading from previous pickle file.\")\n",
    "    data = pd.read_pickle('../data/divvy_data_model_'+VERSION+'.pk')\n",
    "else:\n",
    "    print(\"Create data set for this model... \")\n",
    "    data_lst = []\n",
    "\n",
    "    for year in [2013, 2014, 2015, 2016, 2017, 2018]:\n",
    "        dt_tmp = pd.read_feather('../data/Final_Divvy_data_'+str(year)+'.feather')\n",
    "        data_lst.append(dt_tmp)\n",
    "\n",
    "    data = pd.concat(data_lst, ignore_index=True)\n",
    "\n",
    "\n",
    "    data.to_pickle('../data/divvy_data_model_'+VERSION+'.pk')\n",
    "    print(\"Data saved to pickle file\")"
   ]
  },
  {
   "cell_type": "code",
   "execution_count": 11,
   "metadata": {},
   "outputs": [],
   "source": [
    "if INFO_verbose:\n",
    "    data.info()"
   ]
  },
  {
   "cell_type": "markdown",
   "metadata": {},
   "source": [
    "## Get target value"
   ]
  },
  {
   "cell_type": "code",
   "execution_count": 14,
   "metadata": {},
   "outputs": [],
   "source": [
    "target_in = data.total_in\n",
    "target_out = data.total_out"
   ]
  },
  {
   "cell_type": "code",
   "execution_count": 15,
   "metadata": {},
   "outputs": [],
   "source": [
    "target_in_log = np.log(target_in+1)"
   ]
  },
  {
   "cell_type": "markdown",
   "metadata": {},
   "source": [
    "## Prepare features"
   ]
  },
  {
   "cell_type": "code",
   "execution_count": 16,
   "metadata": {},
   "outputs": [],
   "source": [
    "# Prescreening for useful features\n",
    "feats = pd.merge(data[['station_id', 'month', 'dayofweek', 'year',\n",
    "                       'icon_clear-day', 'icon_cloudy', 'icon_partly-cloudy-day', \n",
    "                       'icon_rain', 'icon_sleet', 'icon_snow',\n",
    "                       'precipType_None', 'precipType_rain',\n",
    "                       'precipType_sleet', 'precipType_snow',\n",
    "                       'temperatureHigh', 'temperatureLow' \n",
    "                         ]], st_template, \n",
    "                    left_on='station_id', right_on='id').drop(['station_id', 'id'], axis=1)"
   ]
  },
  {
   "cell_type": "markdown",
   "metadata": {},
   "source": [
    "## Reordering dataframe"
   ]
  },
  {
   "cell_type": "code",
   "execution_count": 17,
   "metadata": {},
   "outputs": [],
   "source": [
    "# Reordering\n",
    "cols = []\n",
    "cols.extend(feats.columns[15:])\n",
    "cols.extend(feats.columns[2:15])\n",
    "cols.extend(feats.columns[:2])"
   ]
  },
  {
   "cell_type": "code",
   "execution_count": 18,
   "metadata": {},
   "outputs": [],
   "source": [
    "feats_fnl = feats[cols]"
   ]
  },
  {
   "cell_type": "code",
   "execution_count": 33,
   "metadata": {},
   "outputs": [
    {
     "name": "stdout",
     "output_type": "stream",
     "text": [
      "<class 'pandas.core.frame.DataFrame'>\n",
      "Int64Index: 947515 entries, 0 to 947514\n",
      "Data columns (total 65 columns):\n",
      "lon_ave                                  947515 non-null float64\n",
      "lat_ave                                  947515 non-null float64\n",
      "dp_max                                   947515 non-null float64\n",
      "community_area_ALBANY_PARK               947515 non-null uint8\n",
      "community_area_ARMOUR_SQUARE             947515 non-null uint8\n",
      "community_area_AUSTIN                    947515 non-null uint8\n",
      "community_area_AVALON_PARK               947515 non-null uint8\n",
      "community_area_AVONDALE                  947515 non-null uint8\n",
      "community_area_BRIDGEPORT                947515 non-null uint8\n",
      "community_area_CHATHAM                   947515 non-null uint8\n",
      "community_area_DOUGLAS                   947515 non-null uint8\n",
      "community_area_EAST_GARFIELD_PARK        947515 non-null uint8\n",
      "community_area_EDGEWATER                 947515 non-null uint8\n",
      "community_area_ENGLEWOOD                 947515 non-null uint8\n",
      "community_area_Evanston                  947515 non-null uint8\n",
      "community_area_FULLER_PARK               947515 non-null uint8\n",
      "community_area_GRAND_BOULEVARD           947515 non-null uint8\n",
      "community_area_GREATER_GRAND_CROSSING    947515 non-null uint8\n",
      "community_area_HERMOSA                   947515 non-null uint8\n",
      "community_area_HUMBOLDT_PARK             947515 non-null uint8\n",
      "community_area_HYDE_PARK                 947515 non-null uint8\n",
      "community_area_IRVING_PARK               947515 non-null uint8\n",
      "community_area_KENWOOD                   947515 non-null uint8\n",
      "community_area_LAKE_VIEW                 947515 non-null uint8\n",
      "community_area_LINCOLN_PARK              947515 non-null uint8\n",
      "community_area_LINCOLN_SQUARE            947515 non-null uint8\n",
      "community_area_LOGAN_SQUARE              947515 non-null uint8\n",
      "community_area_LOOP                      947515 non-null uint8\n",
      "community_area_LOWER_WEST_SIDE           947515 non-null uint8\n",
      "community_area_MCKINLEY_PARK             947515 non-null uint8\n",
      "community_area_NEAR_NORTH_SIDE           947515 non-null uint8\n",
      "community_area_NEAR_SOUTH_SIDE           947515 non-null uint8\n",
      "community_area_NEAR_WEST_SIDE            947515 non-null uint8\n",
      "community_area_NEW_CITY                  947515 non-null uint8\n",
      "community_area_NORTH_CENTER              947515 non-null uint8\n",
      "community_area_NORTH_LAWNDALE            947515 non-null uint8\n",
      "community_area_NORTH_PARK                947515 non-null uint8\n",
      "community_area_Oak_Park                  947515 non-null uint8\n",
      "community_area_PORTAGE_PARK              947515 non-null uint8\n",
      "community_area_ROGERS_PARK               947515 non-null uint8\n",
      "community_area_SOUTH_CHICAGO             947515 non-null uint8\n",
      "community_area_SOUTH_LAWNDALE            947515 non-null uint8\n",
      "community_area_SOUTH_SHORE               947515 non-null uint8\n",
      "community_area_UPTOWN                    947515 non-null uint8\n",
      "community_area_WASHINGTON_PARK           947515 non-null uint8\n",
      "community_area_WEST_ENGLEWOOD            947515 non-null uint8\n",
      "community_area_WEST_GARFIELD_PARK        947515 non-null uint8\n",
      "community_area_WEST_RIDGE                947515 non-null uint8\n",
      "community_area_WEST_TOWN                 947515 non-null uint8\n",
      "community_area_WOODLAWN                  947515 non-null uint8\n",
      "year                                     947515 non-null float64\n",
      "icon_clear-day                           947515 non-null int64\n",
      "icon_cloudy                              947515 non-null int64\n",
      "icon_partly-cloudy-day                   947515 non-null int64\n",
      "icon_rain                                947515 non-null int64\n",
      "icon_sleet                               566687 non-null float64\n",
      "icon_snow                                735051 non-null float64\n",
      "precipType_None                          947515 non-null int64\n",
      "precipType_rain                          947515 non-null int64\n",
      "precipType_sleet                         566687 non-null float64\n",
      "precipType_snow                          947515 non-null int64\n",
      "temperatureHigh                          947515 non-null float64\n",
      "temperatureLow                           947515 non-null float64\n",
      "month                                    947515 non-null int64\n",
      "dayofweek                                947515 non-null int64\n",
      "dtypes: float64(9), int64(9), uint8(47)\n",
      "memory usage: 179.8 MB\n"
     ]
    }
   ],
   "source": [
    "if INFO_verbose:\n",
    "    feats_fnl.info()\n",
    "feats_fnl.info()"
   ]
  },
  {
   "cell_type": "code",
   "execution_count": 36,
   "metadata": {},
   "outputs": [],
   "source": [
    "feats_fnl = feats_fnl.fillna(0)"
   ]
  },
  {
   "cell_type": "markdown",
   "metadata": {},
   "source": [
    "## Get/Check indices for numerical columns "
   ]
  },
  {
   "cell_type": "code",
   "execution_count": 37,
   "metadata": {},
   "outputs": [],
   "source": [
    "num_col_in = [0, 1, 2, 50, 61, 62]"
   ]
  },
  {
   "cell_type": "code",
   "execution_count": 38,
   "metadata": {},
   "outputs": [
    {
     "name": "stdout",
     "output_type": "stream",
     "text": [
      "<class 'pandas.core.frame.DataFrame'>\n",
      "Int64Index: 947515 entries, 0 to 947514\n",
      "Data columns (total 6 columns):\n",
      "lon_ave            947515 non-null float64\n",
      "lat_ave            947515 non-null float64\n",
      "dp_max             947515 non-null float64\n",
      "year               947515 non-null float64\n",
      "temperatureHigh    947515 non-null float64\n",
      "temperatureLow     947515 non-null float64\n",
      "dtypes: float64(6)\n",
      "memory usage: 50.6 MB\n"
     ]
    }
   ],
   "source": [
    "feats_fnl.iloc[:, num_col_in].info()"
   ]
  },
  {
   "cell_type": "markdown",
   "metadata": {},
   "source": [
    "## Save model details into txt "
   ]
  },
  {
   "cell_type": "code",
   "execution_count": 39,
   "metadata": {},
   "outputs": [],
   "source": [
    "import io\n",
    "\n",
    "buffer = io.StringIO()\n",
    "feats_fnl.info(buf=buffer)\n",
    "s = buffer.getvalue()\n",
    "\n",
    "with open(\"../model_features_details/features_\"+str(VERSION)+'.txt', \"w\", encoding=\"utf-8\") as f: \n",
    "    f.write(s)"
   ]
  },
  {
   "cell_type": "markdown",
   "metadata": {},
   "source": [
    "## Convert to numpy matrix "
   ]
  },
  {
   "cell_type": "code",
   "execution_count": 40,
   "metadata": {},
   "outputs": [],
   "source": [
    "features_ = feats_fnl.to_numpy()"
   ]
  },
  {
   "cell_type": "code",
   "execution_count": 41,
   "metadata": {},
   "outputs": [
    {
     "data": {
      "text/plain": [
       "array([[-87.6277254 ,  41.87401502,  23.        , ...,  62.11      ,\n",
       "          7.        ,   0.        ],\n",
       "       [-87.6277254 ,  41.87401502,  23.        , ...,  61.23      ,\n",
       "          7.        ,   1.        ],\n",
       "       [-87.6277254 ,  41.87401502,  23.        , ...,  59.93      ,\n",
       "          7.        ,   2.        ],\n",
       "       ...,\n",
       "       [-87.683282  ,  41.939354  ,  16.        , ...,  28.51      ,\n",
       "         12.        ,   4.        ],\n",
       "       [-87.683282  ,  41.939354  ,  16.        , ...,  31.15      ,\n",
       "         12.        ,   6.        ],\n",
       "       [-87.683282  ,  41.939354  ,  16.        , ...,  29.96      ,\n",
       "         12.        ,   0.        ]])"
      ]
     },
     "execution_count": 41,
     "metadata": {},
     "output_type": "execute_result"
    }
   ],
   "source": [
    "features_"
   ]
  },
  {
   "cell_type": "markdown",
   "metadata": {},
   "source": [
    "## Building pipelines"
   ]
  },
  {
   "cell_type": "code",
   "execution_count": 42,
   "metadata": {},
   "outputs": [],
   "source": [
    "from sklearn.preprocessing import MinMaxScaler\n",
    "from sklearn.preprocessing import OneHotEncoder # deprecated in 0.20\n",
    "from sklearn.linear_model import Ridge\n",
    "from sklearn.ensemble import RandomForestRegressor\n",
    "\n",
    "from sklearn.model_selection import GridSearchCV\n",
    "from sklearn.pipeline import Pipeline\n",
    "\n",
    "from sklearn.model_selection import train_test_split"
   ]
  },
  {
   "cell_type": "code",
   "execution_count": 43,
   "metadata": {},
   "outputs": [
    {
     "name": "stdout",
     "output_type": "stream",
     "text": [
      "Best params:  {'rg__alpha': 0.1}\n",
      "CPU times: user 35.1 s, sys: 13.6 s, total: 48.7 s\n",
      "Wall time: 4min 10s\n"
     ]
    }
   ],
   "source": [
    "%%time\n",
    "model = Pipeline([\n",
    "    ('ohe', OneHotEncoder(categorical_features=[63, 64], sparse=False)),\n",
    "    ('mms', MinMaxScaler(feature_range=(0, 1), copy=False)),\n",
    "    ('rg', Ridge(alpha=10))\n",
    "])\n",
    "\n",
    "# Train Test split\n",
    "X_train, X_test, y_train, y_test = train_test_split(\n",
    "    features_, \n",
    "    target_out, \n",
    "    test_size=0.2, \n",
    "    random_state=42)\n",
    "\n",
    "model_gs = GridSearchCV(\n",
    "    model,\n",
    "    {'rg__alpha': [0.001, 0.01, 0.1, 1, 10, 100]},\n",
    "    cv=5,\n",
    "    n_jobs=2\n",
    ")\n",
    "\n",
    "model_gs.fit(X_train, y_train)\n",
    "print(\"Best params: \", model_gs.best_params_)"
   ]
  },
  {
   "cell_type": "code",
   "execution_count": 44,
   "metadata": {},
   "outputs": [
    {
     "data": {
      "text/plain": [
       "[<matplotlib.lines.Line2D at 0x12583ffd0>]"
      ]
     },
     "execution_count": 44,
     "metadata": {},
     "output_type": "execute_result"
    },
    {
     "data": {
      "image/png": "[encoded data removed]",
      "text/plain": [
       "<Figure size 432x288 with 1 Axes>"
      ]
     },
     "metadata": {
      "needs_background": "light"
     },
     "output_type": "display_data"
    }
   ],
   "source": [
    "y_pred = model_gs.predict(X_test)\n",
    "\n",
    "\n",
    "plt.plot(y_test, y_pred, 'o', alpha=0.01)"
   ]
  },
  {
   "cell_type": "code",
   "execution_count": 45,
   "metadata": {},
   "outputs": [
    {
     "name": "stdout",
     "output_type": "stream",
     "text": [
      "CPU times: user 1.32 s, sys: 1.67 s, total: 2.99 s\n",
      "Wall time: 3.71 s\n"
     ]
    }
   ],
   "source": [
    "%%time\n",
    "model = Pipeline([\n",
    "    ('ohe', OneHotEncoder(categorical_features=[63, 64], sparse=False)),\n",
    "    ('mms', MinMaxScaler(feature_range=(0, 1), copy=False)),\n",
    "    ('rf', RandomForestRegressor(n_estimators=10))\n",
    "])\n",
    "\n",
    "# Train Test split\n",
    "X_train, X_test, y_train, y_test = train_test_split(\n",
    "    features_, \n",
    "    target_out, \n",
    "    test_size=0.2, \n",
    "    random_state=42)\n",
    "\n",
    "model_gs = GridSearchCV(\n",
    "    model,\n",
    "    {'rf__n_estimators': [10, 50, 100]},\n",
    "    cv=5,\n",
    "    n_jobs=2\n",
    ")"
   ]
  },
  {
   "cell_type": "code",
   "execution_count": 46,
   "metadata": {},
   "outputs": [],
   "source": [
    "model_gs.fit(X_train, y_train)\n",
    "print(\"Best params: \", model_gs.best_params_)\n",
    "\n",
    "y_pred = model_gs.predict(X_test)\n",
    "plt.plot(y_test, y_pred, 'o', alpha=0.01)"
   ]
  },
  {
   "cell_type": "code",
   "execution_count": null,
   "metadata": {},
   "outputs": [],
   "source": []
  }
 ],
 "metadata": {
  "kernelspec": {
   "display_name": "Python 3",
   "language": "python",
   "name": "python3"
  },
  "language_info": {
   "codemirror_mode": {
    "name": "ipython",
    "version": 3
   },
   "file_extension": ".py",
   "mimetype": "text/x-python",
   "name": "python",
   "nbconvert_exporter": "python",
   "pygments_lexer": "ipython3",
   "version": "3.7.0"
  }
 },
 "nbformat": 4,
 "nbformat_minor": 2
}
