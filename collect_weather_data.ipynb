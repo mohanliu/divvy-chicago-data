{
 "cells": [
  {
   "cell_type": "code",
   "execution_count": 1,
   "metadata": {},
   "outputs": [],
   "source": [
    "import requests\n",
    "import datetime\n",
    "import time\n",
    "import json"
   ]
  },
  {
   "cell_type": "code",
   "execution_count": 2,
   "metadata": {},
   "outputs": [],
   "source": [
    "# Number of days in a month\n",
    "def days_in_month(year, month):\n",
    "    \"\"\"\n",
    "    Input:\n",
    "        :int year\n",
    "        :int month\n",
    "    Output: \n",
    "        :int :number of days in a month\n",
    "    \"\"\"\n",
    "    if month in [1, 3, 5, 7, 8, 10, 12]:\n",
    "        return 31\n",
    "    elif month in [4, 6, 9, 11]:\n",
    "        return 30\n",
    "    elif (year % 4 == 0) and (year % 100 != 0) or (year % 400 == 0):\n",
    "        return 29\n",
    "    else:\n",
    "        return 28"
   ]
  },
  {
   "cell_type": "code",
   "execution_count": 3,
   "metadata": {},
   "outputs": [],
   "source": [
    "# Query daily weather data of Chicago\n",
    "# API link: https://darksky.net/dev/docs\n",
    "\n",
    "# Get API key (registration needed)\n",
    "with open(\"api_key_darksky\", 'r') as f:\n",
    "    api_key = f.readline().strip()\n",
    "\n",
    "# GPS coordinates of Chicago\n",
    "lat = '41.836944'\n",
    "long = '-87.684722'\n",
    "\n",
    "def get_weather_from_darksky(year, month, day):\n",
    "    \"\"\"\n",
    "    Input:\n",
    "        :int year\n",
    "        :int month\n",
    "        :int day\n",
    "    Output:\n",
    "        :dict :dictionary of weather data from web api\n",
    "    \"\"\"\n",
    "    # Get unixtime\n",
    "    dt = datetime.datetime(year, month, day)\n",
    "    unixtime = str(int(time.mktime(dt.timetuple())))\n",
    "    \n",
    "    # Request darksky.net for data\n",
    "    r = requests.get('https://api.darksky.net/forecast/'+api_key+'/'+lat+','+long+','+unixtime)\n",
    "\n",
    "    return json.loads(r.text)    "
   ]
  },
  {
   "cell_type": "code",
   "execution_count": 4,
   "metadata": {},
   "outputs": [],
   "source": [
    "# Query data for a month and save to file\n",
    "\n",
    "def save_weather_per_month(year, month):\n",
    "    \"\"\"\n",
    "    Input:\n",
    "        :int year\n",
    "        :int month\n",
    "    Output:\n",
    "        :void\n",
    "    \"\"\"\n",
    "    month_dict = {}\n",
    "    \n",
    "    days = days_in_month(year, month)\n",
    "    \n",
    "    for day in range(1, days+2):\n",
    "        daily_dict = get_weather_from_darksky(year, month, day)\n",
    "        month_dict[str(year)+'-'+str(month)+'-'+str(day)] = daily_dict\n",
    "        \n",
    "    with open(\"weather_data/\"+str(year)+'-'+str(month)+'.json', 'w') as jf:\n",
    "        json.dump(month_dict, jf)"
   ]
  },
  {
   "cell_type": "code",
   "execution_count": 10,
   "metadata": {},
   "outputs": [],
   "source": [
    "# # Save year 2017 weather data\n",
    "\n",
    "# for m in range(1, 13):\n",
    "#     save_weather_per_month(2017, m)"
   ]
  },
  {
   "cell_type": "code",
   "execution_count": 11,
   "metadata": {},
   "outputs": [],
   "source": [
    "# Read data from saved file\n",
    "\n",
    "with open(\"weather_data/2017-4.json\", \"r\") as jf:\n",
    "    data = json.load(jf)"
   ]
  },
  {
   "cell_type": "code",
   "execution_count": 12,
   "metadata": {},
   "outputs": [
    {
     "data": {
      "text/plain": [
       "dict_keys(['2017-4-1', '2017-4-2', '2017-4-3', '2017-4-4', '2017-4-5', '2017-4-6', '2017-4-7', '2017-4-8', '2017-4-9', '2017-4-10', '2017-4-11', '2017-4-12', '2017-4-13', '2017-4-14', '2017-4-15', '2017-4-16', '2017-4-17', '2017-4-18', '2017-4-19', '2017-4-20', '2017-4-21', '2017-4-22', '2017-4-23', '2017-4-24', '2017-4-25', '2017-4-26', '2017-4-27', '2017-4-28', '2017-4-29', '2017-4-30'])"
      ]
     },
     "execution_count": 12,
     "metadata": {},
     "output_type": "execute_result"
    }
   ],
   "source": [
    "data.keys()"
   ]
  },
  {
   "cell_type": "code",
   "execution_count": null,
   "metadata": {},
   "outputs": [],
   "source": []
  }
 ],
 "metadata": {
  "kernelspec": {
   "display_name": "Python 3",
   "language": "python",
   "name": "python3"
  },
  "language_info": {
   "codemirror_mode": {
    "name": "ipython",
    "version": 3
   },
   "file_extension": ".py",
   "mimetype": "text/x-python",
   "name": "python",
   "nbconvert_exporter": "python",
   "pygments_lexer": "ipython3",
   "version": "3.6.8"
  }
 },
 "nbformat": 4,
 "nbformat_minor": 2
}
