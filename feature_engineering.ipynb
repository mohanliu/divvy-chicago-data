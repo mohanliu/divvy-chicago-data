{
 "cells": [
  {
   "cell_type": "code",
   "execution_count": 1,
   "metadata": {},
   "outputs": [
    {
     "name": "stderr",
     "output_type": "stream",
     "text": [
      "/home/mohan/miniconda3/envs/datascience/lib/python3.6/importlib/_bootstrap.py:219: RuntimeWarning: numpy.dtype size changed, may indicate binary incompatibility. Expected 96, got 88\n",
      "  return f(*args, **kwds)\n",
      "/home/mohan/miniconda3/envs/datascience/lib/python3.6/importlib/_bootstrap.py:219: RuntimeWarning: numpy.dtype size changed, may indicate binary incompatibility. Expected 96, got 88\n",
      "  return f(*args, **kwds)\n"
     ]
    }
   ],
   "source": [
    "import numpy as np\n",
    "import pandas as pd\n",
    "from multiprocessing import Pool, cpu_count\n",
    "import gc\n",
    "import time\n",
    "gc.enable()\n",
    "import seaborn as sns\n",
    "import matplotlib.pyplot as plt\n",
    "import warnings\n",
    "import folium\n",
    "import branca.colormap as cm\n",
    "\n",
    "warnings.filterwarnings('ignore')"
   ]
  },
  {
   "cell_type": "code",
   "execution_count": 2,
   "metadata": {},
   "outputs": [],
   "source": [
    "# Collect preprocessed data\n",
    "data1 = pd.read_feather('data/Divvy_data_2017_Q1.feather')\n",
    "data2 = pd.read_feather('data/Divvy_data_2017_Q2.feather')\n",
    "data3 = pd.read_feather('data/Divvy_data_2017_Q3.feather')\n",
    "data4 = pd.read_feather('data/Divvy_data_2017_Q4.feather')\n",
    "\n",
    "data = pd.concat([data1, data2, data3, data4], ignore_index=True)"
   ]
  },
  {
   "cell_type": "code",
   "execution_count": 4,
   "metadata": {},
   "outputs": [
    {
     "name": "stdout",
     "output_type": "stream",
     "text": [
      "<class 'pandas.core.frame.DataFrame'>\n",
      "RangeIndex: 3829036 entries, 0 to 3829035\n",
      "Data columns (total 25 columns):\n",
      "trip_id              int64\n",
      "bikeid               int64\n",
      "tripduration         int64\n",
      "from_station_id      int64\n",
      "from_station_name    object\n",
      "to_station_id        int64\n",
      "to_station_name      object\n",
      "usertype             object\n",
      "gender               object\n",
      "year                 int64\n",
      "day                  int64\n",
      "month                int64\n",
      "hour                 int64\n",
      "minute               int64\n",
      "second               int64\n",
      "dayofweek            int64\n",
      "Age                  float64\n",
      "from_city            object\n",
      "from_latitude        float64\n",
      "from_longitude       float64\n",
      "from_dpcapacity      int64\n",
      "to_city              object\n",
      "to_latitude          float64\n",
      "to_longitude         float64\n",
      "to_dpcapacity        int64\n",
      "dtypes: float64(5), int64(14), object(6)\n",
      "memory usage: 730.3+ MB\n"
     ]
    }
   ],
   "source": [
    "data.info()"
   ]
  },
  {
   "cell_type": "code",
   "execution_count": 6,
   "metadata": {},
   "outputs": [
    {
     "data": {
      "text/plain": [
       "trip_id                           13518905\n",
       "bikeid                                5292\n",
       "tripduration                           857\n",
       "from_station_id                         66\n",
       "from_station_name     Clinton St & Lake St\n",
       "to_station_id                          171\n",
       "to_station_name      May St & Cullerton St\n",
       "usertype                        Subscriber\n",
       "gender                                Male\n",
       "year                                  2017\n",
       "day                                     31\n",
       "month                                    3\n",
       "hour                                    23\n",
       "minute                                  59\n",
       "second                                   7\n",
       "dayofweek                                4\n",
       "Age                                     28\n",
       "from_city                          Chicago\n",
       "from_latitude                      41.8856\n",
       "from_longitude                    -87.6418\n",
       "from_dpcapacity                         23\n",
       "to_city                           Chicago \n",
       "to_latitude                        41.8551\n",
       "to_longitude                      -87.6541\n",
       "to_dpcapacity                           11\n",
       "Name: 0, dtype: object"
      ]
     },
     "execution_count": 6,
     "metadata": {},
     "output_type": "execute_result"
    }
   ],
   "source": [
    "data.iloc[0]"
   ]
  },
  {
   "cell_type": "code",
   "execution_count": null,
   "metadata": {},
   "outputs": [],
   "source": []
  }
 ],
 "metadata": {
  "kernelspec": {
   "display_name": "Python 3",
   "language": "python",
   "name": "python3"
  },
  "language_info": {
   "codemirror_mode": {
    "name": "ipython",
    "version": 3
   },
   "file_extension": ".py",
   "mimetype": "text/x-python",
   "name": "python",
   "nbconvert_exporter": "python",
   "pygments_lexer": "ipython3",
   "version": "3.6.8"
  }
 },
 "nbformat": 4,
 "nbformat_minor": 2
}
