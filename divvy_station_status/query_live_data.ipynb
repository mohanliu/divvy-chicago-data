{
 "cells": [
  {
   "cell_type": "code",
   "execution_count": 153,
   "metadata": {},
   "outputs": [],
   "source": [
    "import requests, json, os\n",
    "import psycopg2\n",
    "from datetime import datetime\n",
    "from dateutil import tz"
   ]
  },
  {
   "cell_type": "code",
   "execution_count": 136,
   "metadata": {},
   "outputs": [
    {
     "data": {
      "text/plain": [
       "'2.22.0'"
      ]
     },
     "execution_count": 136,
     "metadata": {},
     "output_type": "execute_result"
    }
   ],
   "source": [
    "requests.__version__"
   ]
  },
  {
   "cell_type": "code",
   "execution_count": 117,
   "metadata": {},
   "outputs": [],
   "source": [
    "DIVVY_URL = 'https://gbfs.divvybikes.com/gbfs/en/station_status.json'"
   ]
  },
  {
   "cell_type": "markdown",
   "metadata": {},
   "source": [
    "# Make Connection to postgres"
   ]
  },
  {
   "cell_type": "markdown",
   "metadata": {},
   "source": [
    "## Initialize connection"
   ]
  },
  {
   "cell_type": "code",
   "execution_count": 182,
   "metadata": {},
   "outputs": [],
   "source": [
    "gcp_sql_username = os.environ.get('gcp_sql_username')\n",
    "gcp_sql_password = os.environ.get('gcp_sql_password')\n",
    "\n",
    "conn = psycopg2.connect(user=gcp_sql_username, password=gcp_sql_password,\n",
    "                        host='localhost', port='5432')"
   ]
  },
  {
   "cell_type": "markdown",
   "metadata": {},
   "source": [
    "## Query data "
   ]
  },
  {
   "cell_type": "code",
   "execution_count": 183,
   "metadata": {},
   "outputs": [
    {
     "name": "stdout",
     "output_type": "stream",
     "text": [
      "Total rows: 0\n",
      "Displayed rows: 5\n",
      "\n"
     ]
    }
   ],
   "source": [
    "DISPLAY_ROWS = 5\n",
    "\n",
    "cur = conn.cursor()\n",
    "cur.execute('SELECT * FROM divvylivedata;')\n",
    "print(\"Total rows: {}\\nDisplayed rows: {}\\n\".format(cur.rowcount, DISPLAY_ROWS))\n",
    "\n",
    "row_counter = 1\n",
    "row = cur.fetchone()\n",
    "while row is not None and row_counter <= DISPLAY_ROWS:\n",
    "    print(','.join([str(v) for v in row]))\n",
    "    row = cur.fetchone()\n",
    "    row_counter += 1\n",
    " \n",
    "cur.close()"
   ]
  },
  {
   "cell_type": "markdown",
   "metadata": {},
   "source": [
    "### Convert unix timestamps into timestamps and consider timezone"
   ]
  },
  {
   "cell_type": "code",
   "execution_count": 165,
   "metadata": {},
   "outputs": [
    {
     "name": "stdout",
     "output_type": "stream",
     "text": [
      "2019-08-08 06:47:15\n"
     ]
    }
   ],
   "source": [
    "utc_timestamp = datetime.utcfromtimestamp(1565246835).strftime('%Y-%m-%d %H:%M:%S')\n",
    "print(utc_timestamp)"
   ]
  },
  {
   "cell_type": "code",
   "execution_count": 167,
   "metadata": {},
   "outputs": [
    {
     "name": "stdout",
     "output_type": "stream",
     "text": [
      "Local time in Chicago:  2019-08-08 01:47:15-05:00\n"
     ]
    }
   ],
   "source": [
    "# METHOD 1: Hardcode zones:\n",
    "from_zone = tz.gettz('UTC')\n",
    "to_zone = tz.gettz('America/Chicago')\n",
    "\n",
    "# # METHOD 2: Auto-detect zones:\n",
    "# from_zone = tz.tzutc()\n",
    "# to_zone = tz.tzlocal()\n",
    "\n",
    "# utc = datetime.utcnow()\n",
    "\n",
    "utc = datetime.strptime(utc_timestamp, '%Y-%m-%d %H:%M:%S')\n",
    "\n",
    "# Tell the datetime object that it's in UTC time zone since \n",
    "# datetime objects are 'naive' by default\n",
    "utc = utc.replace(tzinfo=from_zone)\n",
    "\n",
    "# Convert time zone\n",
    "central = utc.astimezone(to_zone)\n",
    "\n",
    "print(\"Local time in Chicago: \", central)"
   ]
  },
  {
   "cell_type": "markdown",
   "metadata": {},
   "source": [
    "## Writing data"
   ]
  },
  {
   "cell_type": "code",
   "execution_count": 186,
   "metadata": {},
   "outputs": [],
   "source": [
    "def get_live_divvy_data():\n",
    "    # query data from divvy feeds\n",
    "    res = requests.get(DIVVY_URL)\n",
    "    \n",
    "    # serialize data\n",
    "    jsonres = res.json()\n",
    "    \n",
    "    # prepare data\n",
    "    lst_updt = datetime.utcfromtimestamp(int(jsonres['last_updated'])).strftime('%Y-%m-%d %H:%M:%S')\n",
    "    \n",
    "    output_lst = []\n",
    "    for station_dict in jsonres['data']['stations']:\n",
    "        try:\n",
    "            lst_rprt = datetime.utcfromtimestamp(int(station_dict['last_reported'])).strftime('%Y-%m-%d %H:%M:%S')\n",
    "            stid = int(station_dict['station_id'])\n",
    "            \n",
    "            nba = int(station_dict['num_bikes_available'])\n",
    "            nda = int(station_dict['num_docks_available'])\n",
    "            nea = int(station_dict['num_ebikes_available'])\n",
    "            nbd = int(station_dict['num_bikes_disabled'])\n",
    "            ndd = int(station_dict['num_docks_disabled'])\n",
    "            \n",
    "            ifinstl = bool(int(station_dict['is_installed']))\n",
    "            ifrent = bool(int(station_dict['is_renting']))\n",
    "            ifrtrn = bool(int(station_dict['is_returning']))\n",
    "            \n",
    "            output_lst.append((lst_updt, lst_rprt, stid, \n",
    "                               nba, nda, nea, nbd, ndd, \n",
    "                               ifinstl, ifrent, ifrtrn))\n",
    "        except (ValueError, KeyError):\n",
    "            continue\n",
    "    \n",
    "    return output_lst"
   ]
  },
  {
   "cell_type": "code",
   "execution_count": 187,
   "metadata": {},
   "outputs": [
    {
     "name": "stdout",
     "output_type": "stream",
     "text": [
      "CPU times: user 125 ms, sys: 60 ms, total: 185 ms\n",
      "Wall time: 36.5 s\n"
     ]
    }
   ],
   "source": [
    "%%time\n",
    "sql = \"\"\"\n",
    "INSERT INTO divvylivedata (\n",
    "    last_updated,\n",
    "    last_reported,\n",
    "    stationid,\n",
    "    num_bikes_available,\n",
    "    num_docks_available,\n",
    "    num_ebikes_available,\n",
    "    num_bikes_disabled,\n",
    "    num_docks_disabled,\n",
    "    is_installed,\n",
    "    is_renting, \n",
    "    is_returning\n",
    ")\n",
    "VALUES(%s, %s, %s, %s, %s, %s, %s, %s, %s, %s, %s);\n",
    "\"\"\"\n",
    "\n",
    "cur = conn.cursor()\n",
    "# execute the INSERT statement\n",
    "cur.executemany(sql, get_live_divvy_data())\n",
    "# commit the changes to the database\n",
    "conn.commit()\n",
    "# close communication with the database\n",
    "cur.close()"
   ]
  },
  {
   "cell_type": "markdown",
   "metadata": {},
   "source": [
    "## Close connection"
   ]
  },
  {
   "cell_type": "code",
   "execution_count": 50,
   "metadata": {},
   "outputs": [],
   "source": [
    "if conn:\n",
    "    conn.close()"
   ]
  },
  {
   "cell_type": "markdown",
   "metadata": {},
   "source": [
    "# PostgreSQL table creation"
   ]
  },
  {
   "cell_type": "markdown",
   "metadata": {},
   "source": [
    "```SQL\n",
    "CREATE TABLE divvylivedata (\n",
    "    id SERIAL PRIMARY KEY,\n",
    "    last_updated TIMESTAMP,\n",
    "    last_reported TIMESTAMP,\n",
    "    stationid INTEGER,\n",
    "    num_bikes_available INTEGER,\n",
    "    num_docks_available INTEGER,\n",
    "    num_ebikes_available INTEGER,\n",
    "    num_bikes_disabled INTEGER,\n",
    "    num_docks_disabled INTEGER,\n",
    "    is_installed BOOLEAN,\n",
    "    is_renting BOOLEAN, \n",
    "    is_returning BOOLEAN,\n",
    "    created_at TIMESTAMP NOT NULL DEFAULT NOW()\n",
    ");\n",
    "```"
   ]
  },
  {
   "cell_type": "markdown",
   "metadata": {},
   "source": [
    "### SQL useful command examples"
   ]
  },
  {
   "cell_type": "markdown",
   "metadata": {},
   "source": [
    "Create postgres table\n",
    "```SQL\n",
    "CREATE TABLE divvytemplate (\n",
    "    id SERIAL PRIMARY KEY,\n",
    "    feedid INTEGER,\n",
    "    stationid INTEGER,\n",
    "    num_bikes_available INTEGER,\n",
    "    num_docks_available INTEGER\n",
    ");\n",
    "```\n",
    "\n",
    "Add column\n",
    "```SQL\n",
    "ALTER TABLE divvytemplate\n",
    "ADD COLUMN time DATE;\n",
    "```\n",
    "\n",
    "Delete column\n",
    "```SQL\n",
    "ALTER TABLE divvytemplate DROP COLUMN time;\n",
    "```\n",
    "\n",
    "Insert new data into \n",
    "```SQL\n",
    "INSERT INTO divvytemplate (feedid, stationid, num_bikes_available, num_docks_available) \n",
    "VALUES\n",
    "    (1565243017, 2, 20, 19), \n",
    "    (1565243017, 3, 4, 48);\n",
    "```"
   ]
  },
  {
   "cell_type": "code",
   "execution_count": null,
   "metadata": {},
   "outputs": [],
   "source": []
  }
 ],
 "metadata": {
  "kernelspec": {
   "display_name": "Python 3",
   "language": "python",
   "name": "python3"
  },
  "language_info": {
   "codemirror_mode": {
    "name": "ipython",
    "version": 3
   },
   "file_extension": ".py",
   "mimetype": "text/x-python",
   "name": "python",
   "nbconvert_exporter": "python",
   "pygments_lexer": "ipython3",
   "version": "3.7.3"
  }
 },
 "nbformat": 4,
 "nbformat_minor": 2
}
