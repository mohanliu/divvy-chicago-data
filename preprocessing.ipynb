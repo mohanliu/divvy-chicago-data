{
 "cells": [
  {
   "cell_type": "markdown",
   "metadata": {},
   "source": [
    "## Chicago Divvy Bicycle Sharing Data\n",
    "\n",
    "Other data to be considered:\n",
    "- crimes reports within a week\n",
    "- weather \n",
    "- other transportation (bus, metra, cta and etc.)"
   ]
  },
  {
   "cell_type": "code",
   "execution_count": 1,
   "metadata": {},
   "outputs": [],
   "source": [
    "import numpy as np\n",
    "import pandas as pd\n",
    "from multiprocessing import Pool, cpu_count\n",
    "import gc\n",
    "import time\n",
    "gc.enable()"
   ]
  },
  {
   "cell_type": "code",
   "execution_count": 2,
   "metadata": {},
   "outputs": [],
   "source": [
    "station_file = 'Divvy_Stations_2017_Q3Q4.csv'\n",
    "trip_file = 'Divvy_Trips_2017_Q4.csv'\n",
    "output_file = 'Divvy_data_2017_Q4.feather'"
   ]
  },
  {
   "cell_type": "code",
   "execution_count": 3,
   "metadata": {},
   "outputs": [
    {
     "name": "stdout",
     "output_type": "stream",
     "text": [
      "station data loaded! 0.01 seconds\n",
      "trip data loaded! 1.94 seconds\n"
     ]
    }
   ],
   "source": [
    "# Load data\n",
    "s = time.time()\n",
    "\n",
    "station = pd.read_csv(f'data/{station_file}')\n",
    "print(f'station data loaded! {time.time()-s:.2f} seconds')\n",
    "\n",
    "trip = pd.read_csv(f'data/{trip_file}')\n",
    "print(f'trip data loaded! {time.time()-s:.2f} seconds')"
   ]
  },
  {
   "cell_type": "code",
   "execution_count": 4,
   "metadata": {},
   "outputs": [],
   "source": [
    "def parse_start_time(arg):\n",
    "    \"\"\"\n",
    "    Function to parse `start_time` data into:\n",
    "    - year\n",
    "    - day\n",
    "    - month\n",
    "    - hour\n",
    "    - minute\n",
    "    - second\n",
    "    - dayofweek\n",
    "    \"\"\"\n",
    "    raw = pd.to_datetime(arg['start_time'])\n",
    "    time_df = pd.DataFrame()\n",
    "    time_df['trip_id'] = arg['trip_id']\n",
    "    for t in ['year', 'day', 'month', 'hour', 'minute', 'second', 'dayofweek']:\n",
    "        time_df[t] = raw.apply(lambda x: getattr(x, t))\n",
    "    return time_df"
   ]
  },
  {
   "cell_type": "code",
   "execution_count": 5,
   "metadata": {},
   "outputs": [
    {
     "name": "stdout",
     "output_type": "stream",
     "text": [
      "start_time data processed! 30.85 seconds\n"
     ]
    }
   ],
   "source": [
    "# Process start_time data with mutiple processors\n",
    "n_thread = cpu_count()\n",
    "time_df_raw = trip[['trip_id', 'start_time']]\n",
    "args = np.array_split(time_df_raw, n_thread)\n",
    "\n",
    "with Pool(processes=n_thread) as p:\n",
    "    result = p.map(parse_start_time, args)\n",
    "\n",
    "time_df = pd.concat(list(result), ignore_index=True)\n",
    "\n",
    "# Merge postprocessed data into main dataframe\n",
    "trip = pd.merge(left=trip, right=time_df, on='trip_id', how='left')\n",
    "\n",
    "print(f'start_time data processed! {time.time()-s:.2f} seconds')"
   ]
  },
  {
   "cell_type": "code",
   "execution_count": 6,
   "metadata": {},
   "outputs": [
    {
     "name": "stdout",
     "output_type": "stream",
     "text": [
      "data process done! 33.86 seconds\n"
     ]
    }
   ],
   "source": [
    "# Convert birthyear into age of each customer\n",
    "trip['Age'] = trip['year'] - trip['birthyear']\n",
    "\n",
    "# Merge station data into trip data (start)\n",
    "trip = (pd.merge(left=trip, right=station, left_on='from_station_id', right_on='id', how='left')\n",
    "          .drop(['id', 'name', 'online_date'], axis=1)\n",
    "          .rename(columns={'city': 'from_city', \n",
    "                           'latitude': 'from_latitude',\n",
    "                           'longitude': 'from_longitude',\n",
    "                           'dpcapacity': 'from_dpcapacity'})\n",
    "    )\n",
    "\n",
    "# Merge station data into trip data (end)\n",
    "trip = (pd.merge(left=trip, right=station, left_on='to_station_id', right_on='id', how='left')\n",
    "          .drop(['id', 'name', 'online_date'], axis=1)\n",
    "          .rename(columns={'city': 'to_city', \n",
    "                           'latitude': 'to_latitude',\n",
    "                           'longitude': 'to_longitude',\n",
    "                           'dpcapacity': 'to_dpcapacity'})\n",
    "    )\n",
    "\n",
    "# Drop useless columns\n",
    "trip = trip.drop(['start_time', 'end_time', 'birthyear'], axis=1)\n",
    "\n",
    "print(f'data process done! {time.time()-s:.2f} seconds')"
   ]
  },
  {
   "cell_type": "code",
   "execution_count": 7,
   "metadata": {},
   "outputs": [
    {
     "name": "stdout",
     "output_type": "stream",
     "text": [
      "Data saved to feather file! 37.89 seconds\n"
     ]
    }
   ],
   "source": [
    "# Saving to feather file\n",
    "trip.to_feather(f'data/{output_file}')\n",
    "print(f'Data saved to feather file! {time.time()-s:.2f} seconds')"
   ]
  },
  {
   "cell_type": "code",
   "execution_count": null,
   "metadata": {},
   "outputs": [],
   "source": []
  }
 ],
 "metadata": {
  "kernelspec": {
   "display_name": "Python 3",
   "language": "python",
   "name": "python3"
  },
  "language_info": {
   "codemirror_mode": {
    "name": "ipython",
    "version": 3
   },
   "file_extension": ".py",
   "mimetype": "text/x-python",
   "name": "python",
   "nbconvert_exporter": "python",
   "pygments_lexer": "ipython3",
   "version": "3.6.6"
  }
 },
 "nbformat": 4,
 "nbformat_minor": 2
}
