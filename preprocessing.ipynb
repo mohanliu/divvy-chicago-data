{
 "cells": [
  {
   "cell_type": "markdown",
   "metadata": {},
   "source": [
    "## Preprocessing\n",
    "\n",
    "- Clean up divvy bike trip data from 2013 to 2018"
   ]
  },
  {
   "cell_type": "code",
   "execution_count": 1,
   "metadata": {},
   "outputs": [],
   "source": [
    "import numpy as np\n",
    "import pandas as pd\n",
    "import re\n",
    "from multiprocessing import Pool, cpu_count\n",
    "import gc\n",
    "import os\n",
    "import time\n",
    "gc.enable()"
   ]
  },
  {
   "cell_type": "code",
   "execution_count": 2,
   "metadata": {},
   "outputs": [],
   "source": [
    "# Deal with year data with different filenames\n",
    "\n",
    "TRIP_FILE = 'data/Divvy_Trips'\n",
    "YEAR = 2018\n",
    "\n",
    "raw_file_name = {\n",
    "    '2013': ['all'],\n",
    "    '2014': ['Q1Q2', 'Q3-07', 'Q3-0809', 'Q4'],\n",
    "    '2015': ['Q1', 'Q2', '07', '08', '09', 'Q4'],\n",
    "    '2016': ['Q1', '04', '05', '06', 'Q3', 'Q4'],\n",
    "    '2017': ['Q1', 'Q2', 'Q3', 'Q4'],\n",
    "    '2018': ['Q1', 'Q2', 'Q3', 'Q4']\n",
    "}"
   ]
  },
  {
   "cell_type": "code",
   "execution_count": 3,
   "metadata": {},
   "outputs": [
    {
     "name": "stdout",
     "output_type": "stream",
     "text": [
      "Loading from data/Divvy_Trips_2018_Q1.csv...\n",
      "data/Divvy_Trips_2018_Q1.csv loaded!\n",
      "Loading from data/Divvy_Trips_2018_Q2.csv...\n",
      "data/Divvy_Trips_2018_Q2.csv loaded!\n",
      "Loading from data/Divvy_Trips_2018_Q3.csv...\n",
      "data/Divvy_Trips_2018_Q3.csv loaded!\n",
      "Loading from data/Divvy_Trips_2018_Q4.csv...\n",
      "data/Divvy_Trips_2018_Q4.csv loaded!\n",
      "CPU times: user 12.9 s, sys: 1.09 s, total: 14 s\n",
      "Wall time: 12.6 s\n"
     ]
    }
   ],
   "source": [
    "%%time\n",
    "# Load data\n",
    "\n",
    "df_lst = []\n",
    "for q in raw_file_name[str(YEAR)]:\n",
    "    print(f'Loading from {TRIP_FILE}_{YEAR}_{q}.csv...')\n",
    "    df_tmp = pd.read_csv(TRIP_FILE+'_'+str(YEAR)+'_'+q+'.csv')\n",
    "    \n",
    "    if YEAR == 2018 and q == 'Q1':\n",
    "        df_tmp.rename(\n",
    "            columns={\n",
    "                \"01 - Rental Details Rental ID\": \"trip_id\",\n",
    "                \"01 - Rental Details Local Start Time\": \"start_time\",\n",
    "                \"01 - Rental Details Local End Time\": \"end_time\",\n",
    "                \"01 - Rental Details Bike ID\": \"bikeid\",\n",
    "                \"01 - Rental Details Duration In Seconds Uncapped\": \"tripduration\",\n",
    "                \"03 - Rental Start Station ID\": \"from_station_id\",\n",
    "                \"03 - Rental Start Station Name\": \"from_station_name\", \n",
    "                \"02 - Rental End Station ID\": \"to_station_id\",\n",
    "                \"02 - Rental End Station Name\": \"to_station_name\", \n",
    "                \"User Type\": \"usertype\",\n",
    "                \"Member Gender\": \"gender\",\n",
    "                \"05 - Member Details Member Birthday Year\": \"birthyear\"\n",
    "                    }, \n",
    "            inplace=True\n",
    "        )\n",
    "    print(f'{TRIP_FILE}_{YEAR}_{q}.csv loaded!')\n",
    "    df_lst.append(df_tmp)\n",
    "    \n",
    "trip = pd.concat(df_lst, ignore_index=True)\n",
    "\n",
    "# Clean up\n",
    "del df_lst\n",
    "del df_tmp\n",
    "gc.collect()"
   ]
  },
  {
   "cell_type": "code",
   "execution_count": 4,
   "metadata": {},
   "outputs": [],
   "source": [
    "# Rename column names from `startime` to `start_time` for consistency\n",
    "if 'starttime' in trip.columns:\n",
    "    trip.rename(columns={\"starttime\": \"start_time\"}, inplace=True)"
   ]
  },
  {
   "cell_type": "code",
   "execution_count": 5,
   "metadata": {},
   "outputs": [
    {
     "name": "stdout",
     "output_type": "stream",
     "text": [
      "<class 'pandas.core.frame.DataFrame'>\n",
      "RangeIndex: 3603082 entries, 0 to 3603081\n",
      "Data columns (total 12 columns):\n",
      "trip_id              int64\n",
      "start_time           object\n",
      "end_time             object\n",
      "bikeid               int64\n",
      "tripduration         object\n",
      "from_station_id      int64\n",
      "from_station_name    object\n",
      "to_station_id        int64\n",
      "to_station_name      object\n",
      "usertype             object\n",
      "gender               object\n",
      "birthyear            float64\n",
      "dtypes: float64(1), int64(4), object(7)\n",
      "memory usage: 329.9+ MB\n"
     ]
    }
   ],
   "source": [
    "trip.info()"
   ]
  },
  {
   "cell_type": "code",
   "execution_count": 6,
   "metadata": {},
   "outputs": [],
   "source": [
    "def _get_time(string, tp):\n",
    "    index_dict = {\n",
    "        'month': 0,\n",
    "        'day': 1,\n",
    "        'hour': 2\n",
    "    }\n",
    "    if '-' in string:\n",
    "        return int(re.match(r'[0-9]+-([0-9]+)-([0-9]+) ([0-9]+):', string).groups()[index_dict[tp]])\n",
    "    else:\n",
    "        return int(re.match(r'([0-9]+)/([0-9]+)/[0-9]+ ([0-9]+):', string).groups()[index_dict[tp]])\n",
    "    \n",
    "def parse_start_time(args):\n",
    "    \"\"\"\n",
    "    Function to parse `start_time` data into:\n",
    "    - day\n",
    "    - month\n",
    "    - hour\n",
    "    \"\"\"\n",
    "    args['year'] = YEAR\n",
    "    for t in ['day', 'month', 'hour']:\n",
    "        args[t] = args.apply(lambda x: _get_time(x.start_time, t), axis=1)\n",
    "    return args.drop('start_time', axis=1)"
   ]
  },
  {
   "cell_type": "code",
   "execution_count": 7,
   "metadata": {},
   "outputs": [
    {
     "name": "stdout",
     "output_type": "stream",
     "text": [
      "start_time data processed!\n",
      "CPU times: user 5.32 s, sys: 2.79 s, total: 8.11 s\n",
      "Wall time: 1min 57s\n"
     ]
    }
   ],
   "source": [
    "%%time\n",
    "# Process start_time data with mutiple processors\n",
    "n_thread = 4\n",
    "time_df_raw = trip[['trip_id', 'start_time']]\n",
    "args = np.array_split(time_df_raw, n_thread)\n",
    "\n",
    "with Pool(processes=n_thread) as p:\n",
    "    result = p.map(parse_start_time, args)\n",
    "\n",
    "time_df = pd.concat(list(result), ignore_index=True)\n",
    "\n",
    "# Merge postprocessed data into main dataframe\n",
    "trip = pd.merge(left=trip, right=time_df, on='trip_id', how='left')\n",
    "\n",
    "print(f'start_time data processed!')"
   ]
  },
  {
   "cell_type": "code",
   "execution_count": 8,
   "metadata": {},
   "outputs": [
    {
     "name": "stdout",
     "output_type": "stream",
     "text": [
      "data process done!\n"
     ]
    }
   ],
   "source": [
    "# Convert birthyear into age of each customer\n",
    "if 'birthyear' in trip.columns:\n",
    "    trip['Age'] = trip['year'] - trip['birthyear']\n",
    "else:\n",
    "    trip['Age'] = np.nan\n",
    "\n",
    "# # Merge station data into trip data (start)\n",
    "# trip = (pd.merge(left=trip, right=station, left_on='from_station_id', right_on='id', how='left')\n",
    "#           .drop(['id', 'name', 'online_date'], axis=1)\n",
    "#           .rename(columns={'city': 'from_city', \n",
    "#                            'latitude': 'from_latitude',\n",
    "#                            'longitude': 'from_longitude',\n",
    "#                            'dpcapacity': 'from_dpcapacity'})\n",
    "#     )\n",
    "\n",
    "# # Merge station data into trip data (end)\n",
    "# trip = (pd.merge(left=trip, right=station, left_on='to_station_id', right_on='id', how='left')\n",
    "#           .drop(['id', 'name', 'online_date'], axis=1)\n",
    "#           .rename(columns={'city': 'to_city', \n",
    "#                            'latitude': 'to_latitude',\n",
    "#                            'longitude': 'to_longitude',\n",
    "#                            'dpcapacity': 'to_dpcapacity'})\n",
    "#     )\n",
    "\n",
    "# Drop useless columns\n",
    "for uc in ['start_time', 'end_time', 'stoptime', 'birthyear']:\n",
    "    if uc in trip.columns:\n",
    "        trip = trip.drop(uc, axis=1)\n",
    "    \n",
    "for c in trip.columns:   \n",
    "    if 'Unnamed' in c:\n",
    "        trip = trip.drop([c], axis=1)\n",
    "\n",
    "print(f'data process done!')"
   ]
  },
  {
   "cell_type": "code",
   "execution_count": 9,
   "metadata": {},
   "outputs": [
    {
     "name": "stdout",
     "output_type": "stream",
     "text": [
      "<class 'pandas.core.frame.DataFrame'>\n",
      "Int64Index: 3603082 entries, 0 to 3603081\n",
      "Data columns (total 14 columns):\n",
      "trip_id              int64\n",
      "bikeid               int64\n",
      "tripduration         object\n",
      "from_station_id      int64\n",
      "from_station_name    object\n",
      "to_station_id        int64\n",
      "to_station_name      object\n",
      "usertype             object\n",
      "gender               object\n",
      "year                 int64\n",
      "day                  int64\n",
      "month                int64\n",
      "hour                 int64\n",
      "Age                  float64\n",
      "dtypes: float64(1), int64(8), object(5)\n",
      "memory usage: 412.3+ MB\n"
     ]
    }
   ],
   "source": [
    "trip.info()"
   ]
  },
  {
   "cell_type": "code",
   "execution_count": 10,
   "metadata": {},
   "outputs": [
    {
     "name": "stdout",
     "output_type": "stream",
     "text": [
      "Data saved to feather file!\n"
     ]
    }
   ],
   "source": [
    "# Saving to feather file\n",
    "trip.to_feather(f'data/Divvy_data_{YEAR}.feather')\n",
    "print(f'Data saved to feather file!')"
   ]
  },
  {
   "cell_type": "code",
   "execution_count": null,
   "metadata": {},
   "outputs": [],
   "source": []
  }
 ],
 "metadata": {
  "kernelspec": {
   "display_name": "Python 3",
   "language": "python",
   "name": "python3"
  },
  "language_info": {
   "codemirror_mode": {
    "name": "ipython",
    "version": 3
   },
   "file_extension": ".py",
   "mimetype": "text/x-python",
   "name": "python",
   "nbconvert_exporter": "python",
   "pygments_lexer": "ipython3",
   "version": "3.7.0"
  }
 },
 "nbformat": 4,
 "nbformat_minor": 2
}
