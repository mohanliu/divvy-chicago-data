{
 "cells": [
  {
   "cell_type": "code",
   "execution_count": 44,
   "metadata": {},
   "outputs": [],
   "source": [
    "import numpy as np\n",
    "import pandas as pd\n",
    "from multiprocessing import Pool, cpu_count\n",
    "import gc\n",
    "import time\n",
    "gc.enable()\n",
    "import seaborn as sns\n",
    "import matplotlib.pyplot as plt\n",
    "import warnings\n",
    "import re\n",
    "\n",
    "from useful_functions import *\n",
    "\n",
    "warnings.filterwarnings('ignore')"
   ]
  },
  {
   "cell_type": "markdown",
   "metadata": {},
   "source": [
    "# Group data into stations and days"
   ]
  },
  {
   "cell_type": "code",
   "execution_count": 45,
   "metadata": {},
   "outputs": [],
   "source": [
    "# set global variable \n",
    "YEAR = 2016"
   ]
  },
  {
   "cell_type": "code",
   "execution_count": 46,
   "metadata": {},
   "outputs": [
    {
     "name": "stdout",
     "output_type": "stream",
     "text": [
      "CPU times: user 1.21 s, sys: 1.42 s, total: 2.63 s\n",
      "Wall time: 4.87 s\n"
     ]
    }
   ],
   "source": [
    "%%time\n",
    "# Load data\n",
    "data = pd.read_feather(f'data/Divvy_data_{YEAR}.feather')"
   ]
  },
  {
   "cell_type": "code",
   "execution_count": 47,
   "metadata": {},
   "outputs": [
    {
     "name": "stdout",
     "output_type": "stream",
     "text": [
      "<class 'pandas.core.frame.DataFrame'>\n",
      "RangeIndex: 3595483 entries, 0 to 3595482\n",
      "Data columns (total 14 columns):\n",
      "trip_id              int64\n",
      "bikeid               int64\n",
      "tripduration         int64\n",
      "from_station_id      int64\n",
      "from_station_name    object\n",
      "to_station_id        int64\n",
      "to_station_name      object\n",
      "usertype             object\n",
      "gender               object\n",
      "year                 int64\n",
      "day                  int64\n",
      "month                int64\n",
      "hour                 int64\n",
      "Age                  float64\n",
      "dtypes: float64(1), int64(9), object(4)\n",
      "memory usage: 384.0+ MB\n"
     ]
    }
   ],
   "source": [
    "data.info()"
   ]
  },
  {
   "cell_type": "code",
   "execution_count": 48,
   "metadata": {},
   "outputs": [
    {
     "name": "stdout",
     "output_type": "stream",
     "text": [
      "CPU times: user 1.2 s, sys: 519 ms, total: 1.72 s\n",
      "Wall time: 1.51 s\n"
     ]
    }
   ],
   "source": [
    "%%time\n",
    "# For inward/outward data: Group data --> flatten data --> rename columns\n",
    "\n",
    "# Inward trips collection\n",
    "data_in = data[['from_station_id', 'month', 'day', 'trip_id']].groupby(['from_station_id', 'month', 'day']).count().reset_index()\n",
    "data_in.rename(columns={'trip_id': 'total_in', 'from_station_id': 'station_id'}, inplace=True)\n",
    "\n",
    "# Outward trips collection\n",
    "data_out = data[['to_station_id', 'month', 'day', 'trip_id']].groupby(['to_station_id', 'month', 'day']).count().reset_index()\n",
    "data_out.rename(columns={'trip_id': 'total_out', 'to_station_id': 'station_id'}, inplace=True)\n",
    "\n",
    "# Merge data together\n",
    "data_station = data_in.merge(data_out, on=['station_id', 'month', 'day'], how='outer').fillna(0)\n",
    "\n",
    "# Add year\n",
    "data_station['year'] = int(YEAR)\n",
    "\n",
    "# clean up\n",
    "del data_in\n",
    "del data_out\n",
    "gc.collect()"
   ]
  },
  {
   "cell_type": "code",
   "execution_count": 49,
   "metadata": {},
   "outputs": [
    {
     "name": "stdout",
     "output_type": "stream",
     "text": [
      "<class 'pandas.core.frame.DataFrame'>\n",
      "Int64Index: 167337 entries, 0 to 167336\n",
      "Data columns (total 6 columns):\n",
      "station_id    167337 non-null int64\n",
      "month         167337 non-null int64\n",
      "day           167337 non-null int64\n",
      "total_in      167337 non-null float64\n",
      "total_out     167337 non-null float64\n",
      "year          167337 non-null int64\n",
      "dtypes: float64(2), int64(4)\n",
      "memory usage: 8.9 MB\n"
     ]
    }
   ],
   "source": [
    "data_station.info()"
   ]
  },
  {
   "cell_type": "markdown",
   "metadata": {},
   "source": [
    "# Combine with station data \n",
    "## Load station data and parse online date"
   ]
  },
  {
   "cell_type": "code",
   "execution_count": 50,
   "metadata": {},
   "outputs": [],
   "source": [
    "def _get_online_time(string, tp):\n",
    "    index_dict = {\n",
    "        'month': 0,\n",
    "        'day': 1,\n",
    "        'year': 2\n",
    "    }\n",
    "\n",
    "    return int(re.match(r'([0-9]+)/([0-9]+)/([0-9]+) [0-9]+:', string).groups()[index_dict[tp]])\n",
    "\n",
    "# load data from csv\n",
    "df_station_only = pd.read_csv('data/Divvy_Stations_2017_Q3Q4.csv', usecols=['id', 'city', 'latitude', 'longitude', 'dpcapacity', 'online_date'])\n",
    "\n",
    "# parse online_month/day/year\n",
    "df_station_only['online_month'] = df_station_only.apply(lambda x: _get_online_time(x.online_date, 'month'), axis=1)\n",
    "df_station_only['online_day'] = df_station_only.apply(lambda x: _get_online_time(x.online_date, 'day'), axis=1)\n",
    "df_station_only['online_year'] = df_station_only.apply(lambda x: _get_online_time(x.online_date, 'year'), axis=1)\n",
    "\n",
    "df_station_only\n",
    "\n",
    "df_station_only.drop('online_date', inplace=True, axis=1)"
   ]
  },
  {
   "cell_type": "code",
   "execution_count": 51,
   "metadata": {},
   "outputs": [],
   "source": [
    "df_station_only['city'] = df_station_only.apply(lambda x: '_'.join(x.city.strip().split()), axis=1)"
   ]
  },
  {
   "cell_type": "markdown",
   "metadata": {},
   "source": [
    "## One-hot encoding the city for each station"
   ]
  },
  {
   "cell_type": "code",
   "execution_count": 52,
   "metadata": {},
   "outputs": [],
   "source": [
    "# Apply OHE using pd.get_dummies()\n",
    "df_station_only = pd.get_dummies(df_station_only, columns=['city'])"
   ]
  },
  {
   "cell_type": "code",
   "execution_count": 53,
   "metadata": {},
   "outputs": [
    {
     "data": {
      "text/plain": [
       "2013    332\n",
       "2015    140\n",
       "2016    105\n",
       "2017      5\n",
       "2014      3\n",
       "Name: online_year, dtype: int64"
      ]
     },
     "execution_count": 53,
     "metadata": {},
     "output_type": "execute_result"
    }
   ],
   "source": [
    "df_station_only.online_year.value_counts()"
   ]
  },
  {
   "cell_type": "markdown",
   "metadata": {},
   "source": [
    "## Zero-padding for days without any trip record"
   ]
  },
  {
   "cell_type": "code",
   "execution_count": 54,
   "metadata": {},
   "outputs": [],
   "source": [
    "# Zero padding \n",
    "import itertools\n",
    "\n",
    "record_lst = []\n",
    "for m in range(1, 13):\n",
    "    for s, d in itertools.product(data_station.station_id.unique(), range(1, days_in_month(YEAR, m)+1)):\n",
    "        record_lst.append((s, m, d))\n",
    "\n",
    "zero_pad = pd.DataFrame(record_lst, columns=['station_id', 'month', 'day'])"
   ]
  },
  {
   "cell_type": "code",
   "execution_count": 12,
   "metadata": {},
   "outputs": [],
   "source": [
    "zero_pad = zero_pad.merge(df_station_only, left_on='station_id', right_on='id', how='left').drop('id', axis=1)"
   ]
  },
  {
   "cell_type": "code",
   "execution_count": 13,
   "metadata": {},
   "outputs": [
    {
     "name": "stdout",
     "output_type": "stream",
     "text": [
      "<class 'pandas.core.frame.DataFrame'>\n",
      "Int64Index: 212646 entries, 0 to 212645\n",
      "Data columns (total 12 columns):\n",
      "station_id       212646 non-null int64\n",
      "month            212646 non-null int64\n",
      "day              212646 non-null int64\n",
      "latitude         212280 non-null float64\n",
      "longitude        212280 non-null float64\n",
      "dpcapacity       212280 non-null float64\n",
      "online_month     212280 non-null float64\n",
      "online_day       212280 non-null float64\n",
      "online_year      212280 non-null float64\n",
      "city_Chicago     212280 non-null float64\n",
      "city_Evanston    212280 non-null float64\n",
      "city_Oak_Park    212280 non-null float64\n",
      "dtypes: float64(9), int64(3)\n",
      "memory usage: 21.1 MB\n"
     ]
    }
   ],
   "source": [
    "zero_pad.info()"
   ]
  },
  {
   "cell_type": "code",
   "execution_count": 14,
   "metadata": {},
   "outputs": [
    {
     "data": {
      "text/plain": [
       "station_id    581\n",
       "month          12\n",
       "day            31\n",
       "total_in      509\n",
       "total_out     525\n",
       "year            1\n",
       "dtype: int64"
      ]
     },
     "execution_count": 14,
     "metadata": {},
     "output_type": "execute_result"
    }
   ],
   "source": [
    "data_station.nunique()"
   ]
  },
  {
   "cell_type": "markdown",
   "metadata": {},
   "source": [
    "## Merge zero-padding data into station-trips dataset"
   ]
  },
  {
   "cell_type": "code",
   "execution_count": 15,
   "metadata": {},
   "outputs": [],
   "source": [
    "# Join zero_pad info into data_station\n",
    "data_station = data_station.merge(zero_pad, on=['station_id', 'month', 'day'], how='right')"
   ]
  },
  {
   "cell_type": "markdown",
   "metadata": {},
   "source": [
    "## Fill nan data after adding zero-padding"
   ]
  },
  {
   "cell_type": "code",
   "execution_count": 16,
   "metadata": {},
   "outputs": [],
   "source": [
    "# Fill year\n",
    "data_station['year'].fillna(YEAR, inplace=True)\n",
    "\n",
    "# Fill inward and outward number of trips\n",
    "data_station['total_in'].fillna(0, inplace=True)\n",
    "data_station['total_out'].fillna(0, inplace=True)"
   ]
  },
  {
   "cell_type": "code",
   "execution_count": 43,
   "metadata": {},
   "outputs": [
    {
     "name": "stdout",
     "output_type": "stream",
     "text": [
      "There are 366 stations without station information.\n"
     ]
    }
   ],
   "source": [
    "# Number of entries without station information\n",
    "diff = data_station.station_id.count() - data_station.dpcapacity.count()\n",
    "print(f'There are {diff} stations without station information.')"
   ]
  },
  {
   "cell_type": "markdown",
   "metadata": {},
   "source": [
    "## Add days_online feature and drop rows with negative days online"
   ]
  },
  {
   "cell_type": "code",
   "execution_count": 42,
   "metadata": {},
   "outputs": [
    {
     "name": "stdout",
     "output_type": "stream",
     "text": [
      "<class 'pandas.core.frame.DataFrame'>\n",
      "Int64Index: 212646 entries, 0 to 212645\n",
      "Data columns (total 15 columns):\n",
      "station_id       212646 non-null int64\n",
      "month            212646 non-null int64\n",
      "day              212646 non-null int64\n",
      "total_in         212646 non-null float64\n",
      "total_out        212646 non-null float64\n",
      "year             212646 non-null float64\n",
      "latitude         212280 non-null float64\n",
      "longitude        212280 non-null float64\n",
      "dpcapacity       212280 non-null float64\n",
      "online_month     212280 non-null float64\n",
      "online_day       212280 non-null float64\n",
      "online_year      212280 non-null float64\n",
      "city_Chicago     212280 non-null float64\n",
      "city_Evanston    212280 non-null float64\n",
      "city_Oak_Park    212280 non-null float64\n",
      "dtypes: float64(12), int64(3)\n",
      "memory usage: 26.0 MB\n"
     ]
    }
   ],
   "source": [
    "data_station.info()"
   ]
  },
  {
   "cell_type": "code",
   "execution_count": 18,
   "metadata": {},
   "outputs": [
    {
     "ename": "ValueError",
     "evalue": "('cannot convert float NaN to integer', 'occurred at index 118556')",
     "output_type": "error",
     "traceback": [
      "\u001b[0;31m---------------------------------------------------------------------------\u001b[0m",
      "\u001b[0;31mValueError\u001b[0m                                Traceback (most recent call last)",
      "\u001b[0;32m<timed exec>\u001b[0m in \u001b[0;36m<module>\u001b[0;34m()\u001b[0m\n",
      "\u001b[0;32m/anaconda3/lib/python3.7/site-packages/pandas/core/frame.py\u001b[0m in \u001b[0;36mapply\u001b[0;34m(self, func, axis, broadcast, raw, reduce, result_type, args, **kwds)\u001b[0m\n\u001b[1;32m   6485\u001b[0m                          \u001b[0margs\u001b[0m\u001b[0;34m=\u001b[0m\u001b[0margs\u001b[0m\u001b[0;34m,\u001b[0m\u001b[0;34m\u001b[0m\u001b[0m\n\u001b[1;32m   6486\u001b[0m                          kwds=kwds)\n\u001b[0;32m-> 6487\u001b[0;31m         \u001b[0;32mreturn\u001b[0m \u001b[0mop\u001b[0m\u001b[0;34m.\u001b[0m\u001b[0mget_result\u001b[0m\u001b[0;34m(\u001b[0m\u001b[0;34m)\u001b[0m\u001b[0;34m\u001b[0m\u001b[0m\n\u001b[0m\u001b[1;32m   6488\u001b[0m \u001b[0;34m\u001b[0m\u001b[0m\n\u001b[1;32m   6489\u001b[0m     \u001b[0;32mdef\u001b[0m \u001b[0mapplymap\u001b[0m\u001b[0;34m(\u001b[0m\u001b[0mself\u001b[0m\u001b[0;34m,\u001b[0m \u001b[0mfunc\u001b[0m\u001b[0;34m)\u001b[0m\u001b[0;34m:\u001b[0m\u001b[0;34m\u001b[0m\u001b[0m\n",
      "\u001b[0;32m/anaconda3/lib/python3.7/site-packages/pandas/core/apply.py\u001b[0m in \u001b[0;36mget_result\u001b[0;34m(self)\u001b[0m\n\u001b[1;32m    149\u001b[0m             \u001b[0;32mreturn\u001b[0m \u001b[0mself\u001b[0m\u001b[0;34m.\u001b[0m\u001b[0mapply_raw\u001b[0m\u001b[0;34m(\u001b[0m\u001b[0;34m)\u001b[0m\u001b[0;34m\u001b[0m\u001b[0m\n\u001b[1;32m    150\u001b[0m \u001b[0;34m\u001b[0m\u001b[0m\n\u001b[0;32m--> 151\u001b[0;31m         \u001b[0;32mreturn\u001b[0m \u001b[0mself\u001b[0m\u001b[0;34m.\u001b[0m\u001b[0mapply_standard\u001b[0m\u001b[0;34m(\u001b[0m\u001b[0;34m)\u001b[0m\u001b[0;34m\u001b[0m\u001b[0m\n\u001b[0m\u001b[1;32m    152\u001b[0m \u001b[0;34m\u001b[0m\u001b[0m\n\u001b[1;32m    153\u001b[0m     \u001b[0;32mdef\u001b[0m \u001b[0mapply_empty_result\u001b[0m\u001b[0;34m(\u001b[0m\u001b[0mself\u001b[0m\u001b[0;34m)\u001b[0m\u001b[0;34m:\u001b[0m\u001b[0;34m\u001b[0m\u001b[0m\n",
      "\u001b[0;32m/anaconda3/lib/python3.7/site-packages/pandas/core/apply.py\u001b[0m in \u001b[0;36mapply_standard\u001b[0;34m(self)\u001b[0m\n\u001b[1;32m    255\u001b[0m \u001b[0;34m\u001b[0m\u001b[0m\n\u001b[1;32m    256\u001b[0m         \u001b[0;31m# compute the result using the series generator\u001b[0m\u001b[0;34m\u001b[0m\u001b[0;34m\u001b[0m\u001b[0m\n\u001b[0;32m--> 257\u001b[0;31m         \u001b[0mself\u001b[0m\u001b[0;34m.\u001b[0m\u001b[0mapply_series_generator\u001b[0m\u001b[0;34m(\u001b[0m\u001b[0;34m)\u001b[0m\u001b[0;34m\u001b[0m\u001b[0m\n\u001b[0m\u001b[1;32m    258\u001b[0m \u001b[0;34m\u001b[0m\u001b[0m\n\u001b[1;32m    259\u001b[0m         \u001b[0;31m# wrap results\u001b[0m\u001b[0;34m\u001b[0m\u001b[0;34m\u001b[0m\u001b[0m\n",
      "\u001b[0;32m/anaconda3/lib/python3.7/site-packages/pandas/core/apply.py\u001b[0m in \u001b[0;36mapply_series_generator\u001b[0;34m(self)\u001b[0m\n\u001b[1;32m    284\u001b[0m             \u001b[0;32mtry\u001b[0m\u001b[0;34m:\u001b[0m\u001b[0;34m\u001b[0m\u001b[0m\n\u001b[1;32m    285\u001b[0m                 \u001b[0;32mfor\u001b[0m \u001b[0mi\u001b[0m\u001b[0;34m,\u001b[0m \u001b[0mv\u001b[0m \u001b[0;32min\u001b[0m \u001b[0menumerate\u001b[0m\u001b[0;34m(\u001b[0m\u001b[0mseries_gen\u001b[0m\u001b[0;34m)\u001b[0m\u001b[0;34m:\u001b[0m\u001b[0;34m\u001b[0m\u001b[0m\n\u001b[0;32m--> 286\u001b[0;31m                     \u001b[0mresults\u001b[0m\u001b[0;34m[\u001b[0m\u001b[0mi\u001b[0m\u001b[0;34m]\u001b[0m \u001b[0;34m=\u001b[0m \u001b[0mself\u001b[0m\u001b[0;34m.\u001b[0m\u001b[0mf\u001b[0m\u001b[0;34m(\u001b[0m\u001b[0mv\u001b[0m\u001b[0;34m)\u001b[0m\u001b[0;34m\u001b[0m\u001b[0m\n\u001b[0m\u001b[1;32m    287\u001b[0m                     \u001b[0mkeys\u001b[0m\u001b[0;34m.\u001b[0m\u001b[0mappend\u001b[0m\u001b[0;34m(\u001b[0m\u001b[0mv\u001b[0m\u001b[0;34m.\u001b[0m\u001b[0mname\u001b[0m\u001b[0;34m)\u001b[0m\u001b[0;34m\u001b[0m\u001b[0m\n\u001b[1;32m    288\u001b[0m             \u001b[0;32mexcept\u001b[0m \u001b[0mException\u001b[0m \u001b[0;32mas\u001b[0m \u001b[0me\u001b[0m\u001b[0;34m:\u001b[0m\u001b[0;34m\u001b[0m\u001b[0m\n",
      "\u001b[0;32m<timed exec>\u001b[0m in \u001b[0;36m<lambda>\u001b[0;34m(x)\u001b[0m\n",
      "\u001b[0;32m<timed exec>\u001b[0m in \u001b[0;36mget_days\u001b[0;34m(row)\u001b[0m\n",
      "\u001b[0;31mValueError\u001b[0m: ('cannot convert float NaN to integer', 'occurred at index 118556')"
     ]
    }
   ],
   "source": [
    "%%time\n",
    "from datetime import date\n",
    "\n",
    "def get_days(row):\n",
    "    d0 = date(int(row.year), int(row.month), int(row.day))\n",
    "    d1 = date(int(row.online_year), int(row.online_month), int(row.online_day))\n",
    "    return (d0-d1).days\n",
    "\n",
    "data_station['days_online'] = data_station.apply(lambda x: get_days(x), axis=1)"
   ]
  },
  {
   "cell_type": "code",
   "execution_count": 19,
   "metadata": {},
   "outputs": [
    {
     "ename": "AttributeError",
     "evalue": "'DataFrame' object has no attribute 'days_online'",
     "output_type": "error",
     "traceback": [
      "\u001b[0;31m---------------------------------------------------------------------------\u001b[0m",
      "\u001b[0;31mAttributeError\u001b[0m                            Traceback (most recent call last)",
      "\u001b[0;32m<ipython-input-19-916be1876eaf>\u001b[0m in \u001b[0;36m<module>\u001b[0;34m()\u001b[0m\n\u001b[1;32m      1\u001b[0m \u001b[0;31m## Drop rows with negative days_online\u001b[0m\u001b[0;34m\u001b[0m\u001b[0;34m\u001b[0m\u001b[0m\n\u001b[0;32m----> 2\u001b[0;31m \u001b[0mdata_station\u001b[0m \u001b[0;34m=\u001b[0m \u001b[0mdata_station\u001b[0m\u001b[0;34m[\u001b[0m\u001b[0mdata_station\u001b[0m\u001b[0;34m.\u001b[0m\u001b[0mdays_online\u001b[0m \u001b[0;34m>=\u001b[0m \u001b[0;36m0\u001b[0m\u001b[0;34m]\u001b[0m\u001b[0;34m.\u001b[0m\u001b[0mcopy\u001b[0m\u001b[0;34m(\u001b[0m\u001b[0;34m)\u001b[0m\u001b[0;34m\u001b[0m\u001b[0m\n\u001b[0m",
      "\u001b[0;32m/anaconda3/lib/python3.7/site-packages/pandas/core/generic.py\u001b[0m in \u001b[0;36m__getattr__\u001b[0;34m(self, name)\u001b[0m\n\u001b[1;32m   5065\u001b[0m             \u001b[0;32mif\u001b[0m \u001b[0mself\u001b[0m\u001b[0;34m.\u001b[0m\u001b[0m_info_axis\u001b[0m\u001b[0;34m.\u001b[0m\u001b[0m_can_hold_identifiers_and_holds_name\u001b[0m\u001b[0;34m(\u001b[0m\u001b[0mname\u001b[0m\u001b[0;34m)\u001b[0m\u001b[0;34m:\u001b[0m\u001b[0;34m\u001b[0m\u001b[0m\n\u001b[1;32m   5066\u001b[0m                 \u001b[0;32mreturn\u001b[0m \u001b[0mself\u001b[0m\u001b[0;34m[\u001b[0m\u001b[0mname\u001b[0m\u001b[0;34m]\u001b[0m\u001b[0;34m\u001b[0m\u001b[0m\n\u001b[0;32m-> 5067\u001b[0;31m             \u001b[0;32mreturn\u001b[0m \u001b[0mobject\u001b[0m\u001b[0;34m.\u001b[0m\u001b[0m__getattribute__\u001b[0m\u001b[0;34m(\u001b[0m\u001b[0mself\u001b[0m\u001b[0;34m,\u001b[0m \u001b[0mname\u001b[0m\u001b[0;34m)\u001b[0m\u001b[0;34m\u001b[0m\u001b[0m\n\u001b[0m\u001b[1;32m   5068\u001b[0m \u001b[0;34m\u001b[0m\u001b[0m\n\u001b[1;32m   5069\u001b[0m     \u001b[0;32mdef\u001b[0m \u001b[0m__setattr__\u001b[0m\u001b[0;34m(\u001b[0m\u001b[0mself\u001b[0m\u001b[0;34m,\u001b[0m \u001b[0mname\u001b[0m\u001b[0;34m,\u001b[0m \u001b[0mvalue\u001b[0m\u001b[0;34m)\u001b[0m\u001b[0;34m:\u001b[0m\u001b[0;34m\u001b[0m\u001b[0m\n",
      "\u001b[0;31mAttributeError\u001b[0m: 'DataFrame' object has no attribute 'days_online'"
     ]
    }
   ],
   "source": [
    "## Drop rows with negative days_online\n",
    "data_station = data_station[data_station.days_online >= 0].copy()"
   ]
  },
  {
   "cell_type": "code",
   "execution_count": null,
   "metadata": {},
   "outputs": [],
   "source": [
    "## Remove columns won't be needed\n",
    "data_station.drop(['online_day', 'online_month', 'online_year'], axis=1, inplace=True)"
   ]
  },
  {
   "cell_type": "markdown",
   "metadata": {},
   "source": [
    "## Add day of week"
   ]
  },
  {
   "cell_type": "code",
   "execution_count": null,
   "metadata": {},
   "outputs": [],
   "source": [
    "%%time\n",
    "## Add day_of_week for each datetime\n",
    "import calendar\n",
    "\n",
    "def _get_dayofweek(row):\n",
    "    return calendar.weekday(int(row.year), int(row.month), int(row.day))\n",
    "\n",
    "data_station['dayofweek'] = data_station.apply(lambda x: _get_dayofweek(x), axis=1)"
   ]
  },
  {
   "cell_type": "markdown",
   "metadata": {},
   "source": [
    "## Add weather data"
   ]
  },
  {
   "cell_type": "code",
   "execution_count": null,
   "metadata": {},
   "outputs": [],
   "source": [
    "%%time\n",
    "## Load weather data\n",
    "df_weather = pd.read_csv(f'weather_data/weather_{YEAR}_chicago.csv')"
   ]
  },
  {
   "cell_type": "code",
   "execution_count": null,
   "metadata": {},
   "outputs": [],
   "source": [
    "data_station = data_station.merge(df_weather, on=['month', 'day', 'year'], how='left')"
   ]
  },
  {
   "cell_type": "code",
   "execution_count": null,
   "metadata": {},
   "outputs": [],
   "source": [
    "%%time\n",
    "## Save data\n",
    "data_station.to_feather(f'data/Final_Divvy_data_{YEAR}.feather')\n",
    "print(f'Data saved to feather file!')"
   ]
  },
  {
   "cell_type": "markdown",
   "metadata": {},
   "source": [
    "## To-dos\n",
    "- [X] Add number of days being on\n",
    "- [ ] Add weather data\n",
    "- [X] Add station data \n",
    "    - number of docks\n",
    "    - lat\n",
    "    - long\n",
    "- [ ] **Add network adj**\n",
    "- [X] Add day of week\n"
   ]
  }
 ],
 "metadata": {
  "kernelspec": {
   "display_name": "Python 3",
   "language": "python",
   "name": "python3"
  },
  "language_info": {
   "codemirror_mode": {
    "name": "ipython",
    "version": 3
   },
   "file_extension": ".py",
   "mimetype": "text/x-python",
   "name": "python",
   "nbconvert_exporter": "python",
   "pygments_lexer": "ipython3",
   "version": "3.7.0"
  }
 },
 "nbformat": 4,
 "nbformat_minor": 2
}
