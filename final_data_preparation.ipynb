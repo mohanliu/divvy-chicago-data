{
 "cells": [
  {
   "cell_type": "code",
   "execution_count": 1,
   "metadata": {},
   "outputs": [],
   "source": [
    "import numpy as np\n",
    "import pandas as pd\n",
    "from multiprocessing import Pool, cpu_count\n",
    "import gc\n",
    "import time\n",
    "gc.enable()\n",
    "import seaborn as sns\n",
    "import matplotlib.pyplot as plt\n",
    "import warnings\n",
    "import re\n",
    "\n",
    "from useful_functions import *\n",
    "\n",
    "warnings.filterwarnings('ignore')"
   ]
  },
  {
   "cell_type": "markdown",
   "metadata": {},
   "source": [
    "# Group data into stations and days"
   ]
  },
  {
   "cell_type": "code",
   "execution_count": 46,
   "metadata": {},
   "outputs": [],
   "source": [
    "# set global variable \n",
    "YEAR = 2014"
   ]
  },
  {
   "cell_type": "code",
   "execution_count": 47,
   "metadata": {},
   "outputs": [
    {
     "name": "stdout",
     "output_type": "stream",
     "text": [
      "CPU times: user 720 ms, sys: 758 ms, total: 1.48 s\n",
      "Wall time: 2.83 s\n"
     ]
    }
   ],
   "source": [
    "%%time\n",
    "# Load data\n",
    "data = pd.read_feather(f'data/Divvy_data_{YEAR}.feather')"
   ]
  },
  {
   "cell_type": "code",
   "execution_count": 48,
   "metadata": {},
   "outputs": [
    {
     "name": "stdout",
     "output_type": "stream",
     "text": [
      "<class 'pandas.core.frame.DataFrame'>\n",
      "RangeIndex: 2454634 entries, 0 to 2454633\n",
      "Data columns (total 14 columns):\n",
      "trip_id              int64\n",
      "bikeid               int64\n",
      "tripduration         int64\n",
      "from_station_id      int64\n",
      "from_station_name    object\n",
      "to_station_id        int64\n",
      "to_station_name      object\n",
      "usertype             object\n",
      "gender               object\n",
      "year                 int64\n",
      "day                  int64\n",
      "month                int64\n",
      "hour                 int64\n",
      "Age                  float64\n",
      "dtypes: float64(1), int64(9), object(4)\n",
      "memory usage: 262.2+ MB\n"
     ]
    }
   ],
   "source": [
    "data.info()"
   ]
  },
  {
   "cell_type": "code",
   "execution_count": 49,
   "metadata": {},
   "outputs": [
    {
     "name": "stdout",
     "output_type": "stream",
     "text": [
      "CPU times: user 739 ms, sys: 247 ms, total: 986 ms\n",
      "Wall time: 685 ms\n"
     ]
    }
   ],
   "source": [
    "%%time\n",
    "# For inward/outward data: Group data --> flatten data --> rename columns\n",
    "\n",
    "# Inward trips collection\n",
    "data_in = data[['from_station_id', 'month', 'day', 'trip_id']].groupby(['from_station_id', 'month', 'day']).count().reset_index()\n",
    "data_in.rename(columns={'trip_id': 'total_in', 'from_station_id': 'station_id'}, inplace=True)\n",
    "\n",
    "# Outward trips collection\n",
    "data_out = data[['to_station_id', 'month', 'day', 'trip_id']].groupby(['to_station_id', 'month', 'day']).count().reset_index()\n",
    "data_out.rename(columns={'trip_id': 'total_out', 'to_station_id': 'station_id'}, inplace=True)\n",
    "\n",
    "# Merge data together\n",
    "data_station = data_in.merge(data_out, on=['station_id', 'month', 'day'], how='outer').fillna(0)\n",
    "\n",
    "# Add year\n",
    "data_station['year'] = int(YEAR)\n",
    "\n",
    "# clean up\n",
    "del data_in\n",
    "del data_out\n",
    "gc.collect()"
   ]
  },
  {
   "cell_type": "code",
   "execution_count": 50,
   "metadata": {},
   "outputs": [
    {
     "name": "stdout",
     "output_type": "stream",
     "text": [
      "<class 'pandas.core.frame.DataFrame'>\n",
      "Int64Index: 102216 entries, 0 to 102215\n",
      "Data columns (total 6 columns):\n",
      "station_id    102216 non-null int64\n",
      "month         102216 non-null int64\n",
      "day           102216 non-null int64\n",
      "total_in      102216 non-null float64\n",
      "total_out     102216 non-null float64\n",
      "year          102216 non-null int64\n",
      "dtypes: float64(2), int64(4)\n",
      "memory usage: 5.5 MB\n"
     ]
    }
   ],
   "source": [
    "data_station.info()"
   ]
  },
  {
   "cell_type": "markdown",
   "metadata": {},
   "source": [
    "# Combine with station data \n",
    "## Load station data "
   ]
  },
  {
   "cell_type": "code",
   "execution_count": 51,
   "metadata": {},
   "outputs": [
    {
     "name": "stdout",
     "output_type": "stream",
     "text": [
      "CPU times: user 4.51 ms, sys: 987 µs, total: 5.5 ms\n",
      "Wall time: 6.6 ms\n"
     ]
    }
   ],
   "source": [
    "%%time\n",
    "# load data from feather\n",
    "df_station_only = pd.read_feather('data/final_station_data.feather')"
   ]
  },
  {
   "cell_type": "code",
   "execution_count": 52,
   "metadata": {},
   "outputs": [
    {
     "name": "stdout",
     "output_type": "stream",
     "text": [
      "<class 'pandas.core.frame.DataFrame'>\n",
      "RangeIndex: 618 entries, 0 to 617\n",
      "Data columns (total 12 columns):\n",
      "index            618 non-null int64\n",
      "id               618 non-null int64\n",
      "lon_ave          618 non-null float64\n",
      "lat_ave          618 non-null float64\n",
      "dp_max           618 non-null float64\n",
      "dp_min           618 non-null float64\n",
      "online_month     618 non-null float64\n",
      "online_day       618 non-null float64\n",
      "online_year      618 non-null float64\n",
      "city_Chicago     618 non-null uint8\n",
      "city_Evanston    618 non-null uint8\n",
      "city_Oak_Park    618 non-null uint8\n",
      "dtypes: float64(7), int64(2), uint8(3)\n",
      "memory usage: 45.3 KB\n"
     ]
    }
   ],
   "source": [
    "df_station_only.info()"
   ]
  },
  {
   "cell_type": "markdown",
   "metadata": {},
   "source": [
    "## Zero-padding for days without any trip record"
   ]
  },
  {
   "cell_type": "code",
   "execution_count": 53,
   "metadata": {},
   "outputs": [],
   "source": [
    "# Zero padding \n",
    "import itertools\n",
    "\n",
    "record_lst = []\n",
    "for m in range(1, 13):\n",
    "    for s, d in itertools.product(data_station.station_id.unique(), range(1, days_in_month(YEAR, m)+1)):\n",
    "        record_lst.append((s, m, d))\n",
    "\n",
    "zero_pad = pd.DataFrame(record_lst, columns=['station_id', 'month', 'day'])"
   ]
  },
  {
   "cell_type": "code",
   "execution_count": 54,
   "metadata": {},
   "outputs": [],
   "source": [
    "zero_pad = zero_pad.merge(df_station_only, left_on='station_id', right_on='id', how='left').drop('id', axis=1)"
   ]
  },
  {
   "cell_type": "code",
   "execution_count": 55,
   "metadata": {},
   "outputs": [
    {
     "name": "stdout",
     "output_type": "stream",
     "text": [
      "<class 'pandas.core.frame.DataFrame'>\n",
      "Int64Index: 109500 entries, 0 to 109499\n",
      "Data columns (total 14 columns):\n",
      "station_id       109500 non-null int64\n",
      "month            109500 non-null int64\n",
      "day              109500 non-null int64\n",
      "index            109500 non-null int64\n",
      "lon_ave          109500 non-null float64\n",
      "lat_ave          109500 non-null float64\n",
      "dp_max           109500 non-null float64\n",
      "dp_min           109500 non-null float64\n",
      "online_month     109500 non-null float64\n",
      "online_day       109500 non-null float64\n",
      "online_year      109500 non-null float64\n",
      "city_Chicago     109500 non-null uint8\n",
      "city_Evanston    109500 non-null uint8\n",
      "city_Oak_Park    109500 non-null uint8\n",
      "dtypes: float64(7), int64(4), uint8(3)\n",
      "memory usage: 10.3 MB\n"
     ]
    }
   ],
   "source": [
    "zero_pad.info()"
   ]
  },
  {
   "cell_type": "markdown",
   "metadata": {},
   "source": [
    "## Merge zero-padding data into station-trips dataset"
   ]
  },
  {
   "cell_type": "code",
   "execution_count": 56,
   "metadata": {},
   "outputs": [],
   "source": [
    "# Join zero_pad info into data_station\n",
    "data_station = data_station.merge(zero_pad, on=['station_id', 'month', 'day'], how='right')"
   ]
  },
  {
   "cell_type": "markdown",
   "metadata": {},
   "source": [
    "## Fill nan data after adding zero-padding"
   ]
  },
  {
   "cell_type": "code",
   "execution_count": 57,
   "metadata": {},
   "outputs": [],
   "source": [
    "# Fill year\n",
    "data_station['year'].fillna(YEAR, inplace=True)\n",
    "\n",
    "# Fill inward and outward number of trips\n",
    "data_station['total_in'].fillna(0, inplace=True)\n",
    "data_station['total_out'].fillna(0, inplace=True)"
   ]
  },
  {
   "cell_type": "markdown",
   "metadata": {},
   "source": [
    "## Add days_online feature and drop rows with negative days online"
   ]
  },
  {
   "cell_type": "code",
   "execution_count": 58,
   "metadata": {},
   "outputs": [
    {
     "name": "stdout",
     "output_type": "stream",
     "text": [
      "<class 'pandas.core.frame.DataFrame'>\n",
      "Int64Index: 109500 entries, 0 to 109499\n",
      "Data columns (total 17 columns):\n",
      "station_id       109500 non-null int64\n",
      "month            109500 non-null int64\n",
      "day              109500 non-null int64\n",
      "total_in         109500 non-null float64\n",
      "total_out        109500 non-null float64\n",
      "year             109500 non-null float64\n",
      "index            109500 non-null int64\n",
      "lon_ave          109500 non-null float64\n",
      "lat_ave          109500 non-null float64\n",
      "dp_max           109500 non-null float64\n",
      "dp_min           109500 non-null float64\n",
      "online_month     109500 non-null float64\n",
      "online_day       109500 non-null float64\n",
      "online_year      109500 non-null float64\n",
      "city_Chicago     109500 non-null uint8\n",
      "city_Evanston    109500 non-null uint8\n",
      "city_Oak_Park    109500 non-null uint8\n",
      "dtypes: float64(10), int64(4), uint8(3)\n",
      "memory usage: 12.8 MB\n"
     ]
    }
   ],
   "source": [
    "data_station.info()"
   ]
  },
  {
   "cell_type": "code",
   "execution_count": 59,
   "metadata": {},
   "outputs": [],
   "source": [
    "# Clean up data without station information\n",
    "data_station = data_station.dropna()\n",
    "\n",
    "# Drop useless column\n",
    "data_station = data_station.drop('index', axis=1)"
   ]
  },
  {
   "cell_type": "code",
   "execution_count": 60,
   "metadata": {},
   "outputs": [
    {
     "name": "stdout",
     "output_type": "stream",
     "text": [
      "CPU times: user 7.22 s, sys: 51.4 ms, total: 7.27 s\n",
      "Wall time: 7.17 s\n"
     ]
    }
   ],
   "source": [
    "%%time\n",
    "from datetime import date\n",
    "\n",
    "def get_days(row):\n",
    "    d0 = date(int(row.year), int(row.month), int(row.day))\n",
    "    d1 = date(int(row.online_year), int(row.online_month), int(row.online_day))\n",
    "    return (d0-d1).days\n",
    "\n",
    "data_station['days_online'] = data_station.apply(lambda x: get_days(x), axis=1)"
   ]
  },
  {
   "cell_type": "code",
   "execution_count": 61,
   "metadata": {},
   "outputs": [],
   "source": [
    "## Drop rows with negative days_online\n",
    "data_station = data_station[data_station.days_online >= 0].copy()"
   ]
  },
  {
   "cell_type": "code",
   "execution_count": 62,
   "metadata": {},
   "outputs": [],
   "source": [
    "## Remove columns won't be needed\n",
    "data_station.drop(['online_day', 'online_month', 'online_year'], axis=1, inplace=True)"
   ]
  },
  {
   "cell_type": "markdown",
   "metadata": {},
   "source": [
    "## Add day of week"
   ]
  },
  {
   "cell_type": "code",
   "execution_count": 63,
   "metadata": {},
   "outputs": [
    {
     "name": "stdout",
     "output_type": "stream",
     "text": [
      "CPU times: user 5.24 s, sys: 58.3 ms, total: 5.3 s\n",
      "Wall time: 5.4 s\n"
     ]
    }
   ],
   "source": [
    "%%time\n",
    "## Add day_of_week for each datetime\n",
    "import calendar\n",
    "\n",
    "def _get_dayofweek(row):\n",
    "    return calendar.weekday(int(row.year), int(row.month), int(row.day))\n",
    "\n",
    "data_station['dayofweek'] = data_station.apply(lambda x: _get_dayofweek(x), axis=1)"
   ]
  },
  {
   "cell_type": "markdown",
   "metadata": {},
   "source": [
    "## Add weather data"
   ]
  },
  {
   "cell_type": "code",
   "execution_count": 64,
   "metadata": {},
   "outputs": [
    {
     "name": "stdout",
     "output_type": "stream",
     "text": [
      "CPU times: user 11.2 ms, sys: 3.21 ms, total: 14.4 ms\n",
      "Wall time: 14 ms\n"
     ]
    }
   ],
   "source": [
    "%%time\n",
    "## Load weather data\n",
    "df_weather = pd.read_csv(f'weather_data/weather_{YEAR}_chicago.csv')"
   ]
  },
  {
   "cell_type": "code",
   "execution_count": 65,
   "metadata": {},
   "outputs": [],
   "source": [
    "data_station = data_station.merge(df_weather, on=['month', 'day', 'year'], how='left')"
   ]
  },
  {
   "cell_type": "code",
   "execution_count": 66,
   "metadata": {},
   "outputs": [
    {
     "name": "stdout",
     "output_type": "stream",
     "text": [
      "<class 'pandas.core.frame.DataFrame'>\n",
      "Int64Index: 109500 entries, 0 to 109499\n",
      "Data columns (total 57 columns):\n",
      "station_id                     109500 non-null int64\n",
      "month                          109500 non-null int64\n",
      "day                            109500 non-null int64\n",
      "total_in                       109500 non-null float64\n",
      "total_out                      109500 non-null float64\n",
      "year                           109500 non-null float64\n",
      "lon_ave                        109500 non-null float64\n",
      "lat_ave                        109500 non-null float64\n",
      "dp_max                         109500 non-null float64\n",
      "dp_min                         109500 non-null float64\n",
      "city_Chicago                   109500 non-null uint8\n",
      "city_Evanston                  109500 non-null uint8\n",
      "city_Oak_Park                  109500 non-null uint8\n",
      "days_online                    109500 non-null int64\n",
      "dayofweek                      109500 non-null int64\n",
      "apparentTemperatureHigh        109500 non-null float64\n",
      "apparentTemperatureHighTime    109500 non-null float64\n",
      "apparentTemperatureLow         109500 non-null float64\n",
      "apparentTemperatureLowTime     109500 non-null float64\n",
      "apparentTemperatureMax         109500 non-null float64\n",
      "apparentTemperatureMaxTime     109500 non-null float64\n",
      "apparentTemperatureMin         109500 non-null float64\n",
      "apparentTemperatureMinTime     109500 non-null float64\n",
      "cloudCover                     109500 non-null float64\n",
      "dewPoint                       109500 non-null float64\n",
      "humidity                       109500 non-null float64\n",
      "moonPhase                      109500 non-null float64\n",
      "precipIntensity                109500 non-null float64\n",
      "precipIntensityMax             109500 non-null float64\n",
      "precipProbability              109500 non-null float64\n",
      "pressure                       109500 non-null float64\n",
      "sunriseTime                    109500 non-null float64\n",
      "sunsetTime                     109500 non-null float64\n",
      "temperatureHigh                109500 non-null float64\n",
      "temperatureHighTime            109500 non-null float64\n",
      "temperatureLow                 109500 non-null float64\n",
      "temperatureLowTime             109500 non-null float64\n",
      "uvIndex                        109500 non-null float64\n",
      "uvIndexTime                    109500 non-null float64\n",
      "visibility                     109500 non-null float64\n",
      "windBearing                    109500 non-null float64\n",
      "windGust                       109500 non-null float64\n",
      "windGustTime                   109500 non-null float64\n",
      "windSpeed                      109500 non-null float64\n",
      "precipIntensityMaxTime         109500 non-null float64\n",
      "precipAccumulation             109500 non-null float64\n",
      "daylight_duration              109500 non-null float64\n",
      "icon_clear-day                 109500 non-null int64\n",
      "icon_cloudy                    109500 non-null int64\n",
      "icon_partly-cloudy-day         109500 non-null int64\n",
      "icon_rain                      109500 non-null int64\n",
      "icon_sleet                     109500 non-null int64\n",
      "icon_snow                      109500 non-null int64\n",
      "precipType_None                109500 non-null int64\n",
      "precipType_rain                109500 non-null int64\n",
      "precipType_sleet               109500 non-null int64\n",
      "precipType_snow                109500 non-null int64\n",
      "dtypes: float64(39), int64(15), uint8(3)\n",
      "memory usage: 46.3 MB\n"
     ]
    }
   ],
   "source": [
    "data_station.info()"
   ]
  },
  {
   "cell_type": "code",
   "execution_count": 67,
   "metadata": {},
   "outputs": [
    {
     "name": "stdout",
     "output_type": "stream",
     "text": [
      "Data saved to feather file!\n",
      "CPU times: user 74.1 ms, sys: 26.4 ms, total: 101 ms\n",
      "Wall time: 49 ms\n"
     ]
    }
   ],
   "source": [
    "%%time\n",
    "## Save data\n",
    "data_station.to_feather(f'data/Final_Divvy_data_{YEAR}.feather')\n",
    "print(f'Data saved to feather file!')"
   ]
  },
  {
   "cell_type": "markdown",
   "metadata": {},
   "source": [
    "## To-dos\n",
    "- [X] Add number of days being on\n",
    "- [ ] Add weather data\n",
    "- [X] Add station data \n",
    "    - number of docks\n",
    "    - lat\n",
    "    - long\n",
    "- [ ] **Add network adj**\n",
    "- [X] Add day of week\n"
   ]
  }
 ],
 "metadata": {
  "kernelspec": {
   "display_name": "Python 3",
   "language": "python",
   "name": "python3"
  },
  "language_info": {
   "codemirror_mode": {
    "name": "ipython",
    "version": 3
   },
   "file_extension": ".py",
   "mimetype": "text/x-python",
   "name": "python",
   "nbconvert_exporter": "python",
   "pygments_lexer": "ipython3",
   "version": "3.7.0"
  }
 },
 "nbformat": 4,
 "nbformat_minor": 2
}
