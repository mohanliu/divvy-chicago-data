{
 "cells": [
  {
   "cell_type": "code",
   "execution_count": 1,
   "metadata": {},
   "outputs": [],
   "source": [
    "import numpy as np\n",
    "import pandas as pd\n",
    "from multiprocessing import Pool, cpu_count\n",
    "import gc\n",
    "import time\n",
    "gc.enable()\n",
    "import seaborn as sns\n",
    "import matplotlib.pyplot as plt\n",
    "import warnings\n",
    "import re\n",
    "\n",
    "from useful_functions import *\n",
    "\n",
    "warnings.filterwarnings('ignore')"
   ]
  },
  {
   "cell_type": "markdown",
   "metadata": {},
   "source": [
    "# Group data into stations and days"
   ]
  },
  {
   "cell_type": "code",
   "execution_count": 2,
   "metadata": {},
   "outputs": [],
   "source": [
    "# set global variable \n",
    "YEAR = 2013"
   ]
  },
  {
   "cell_type": "code",
   "execution_count": 3,
   "metadata": {},
   "outputs": [
    {
     "name": "stdout",
     "output_type": "stream",
     "text": [
      "CPU times: user 246 ms, sys: 330 ms, total: 576 ms\n",
      "Wall time: 1.19 s\n"
     ]
    }
   ],
   "source": [
    "%%time\n",
    "# Load data\n",
    "data = pd.read_feather(f'data/Divvy_data_{YEAR}.feather')"
   ]
  },
  {
   "cell_type": "code",
   "execution_count": 4,
   "metadata": {},
   "outputs": [
    {
     "name": "stdout",
     "output_type": "stream",
     "text": [
      "<class 'pandas.core.frame.DataFrame'>\n",
      "RangeIndex: 759788 entries, 0 to 759787\n",
      "Data columns (total 15 columns):\n",
      "trip_id              759788 non-null int64\n",
      "bikeid               759788 non-null int64\n",
      "tripduration         759788 non-null int64\n",
      "from_station_id      759788 non-null int64\n",
      "from_station_name    759788 non-null object\n",
      "to_station_id        759788 non-null int64\n",
      "to_station_name      759788 non-null object\n",
      "usertype             759788 non-null object\n",
      "gender               403046 non-null object\n",
      "birthday             402909 non-null float64\n",
      "year                 759788 non-null int64\n",
      "day                  759788 non-null int64\n",
      "month                759788 non-null int64\n",
      "hour                 759788 non-null int64\n",
      "Age                  0 non-null float64\n",
      "dtypes: float64(2), int64(9), object(4)\n",
      "memory usage: 87.0+ MB\n"
     ]
    }
   ],
   "source": [
    "data.info()"
   ]
  },
  {
   "cell_type": "code",
   "execution_count": 5,
   "metadata": {},
   "outputs": [
    {
     "name": "stdout",
     "output_type": "stream",
     "text": [
      "CPU times: user 183 ms, sys: 67.2 ms, total: 251 ms\n",
      "Wall time: 256 ms\n"
     ]
    }
   ],
   "source": [
    "%%time\n",
    "# For inward/outward data: Group data --> flatten data --> rename columns\n",
    "\n",
    "# Inward trips collection\n",
    "data_in = data[['from_station_id', 'month', 'day', 'trip_id']].groupby(['from_station_id', 'month', 'day']).count().reset_index()\n",
    "data_in.rename(columns={'trip_id': 'total_in', 'from_station_id': 'station_id'}, inplace=True)\n",
    "\n",
    "# Outward trips collection\n",
    "data_out = data[['to_station_id', 'month', 'day', 'trip_id']].groupby(['to_station_id', 'month', 'day']).count().reset_index()\n",
    "data_out.rename(columns={'trip_id': 'total_out', 'to_station_id': 'station_id'}, inplace=True)\n",
    "\n",
    "# Merge data together\n",
    "data_station = data_in.merge(data_out, on=['station_id', 'month', 'day'], how='outer').fillna(0)\n",
    "\n",
    "# Add year\n",
    "data_station['year'] = int(YEAR)\n",
    "\n",
    "# clean up\n",
    "del data_in\n",
    "del data_out\n",
    "gc.collect()"
   ]
  },
  {
   "cell_type": "code",
   "execution_count": 6,
   "metadata": {},
   "outputs": [
    {
     "name": "stdout",
     "output_type": "stream",
     "text": [
      "<class 'pandas.core.frame.DataFrame'>\n",
      "Int64Index: 15403 entries, 0 to 15402\n",
      "Data columns (total 6 columns):\n",
      "station_id    15403 non-null int64\n",
      "month         15403 non-null int64\n",
      "day           15403 non-null int64\n",
      "total_in      15403 non-null float64\n",
      "total_out     15403 non-null float64\n",
      "year          15403 non-null int64\n",
      "dtypes: float64(2), int64(4)\n",
      "memory usage: 842.4 KB\n"
     ]
    }
   ],
   "source": [
    "data_station.info()"
   ]
  },
  {
   "cell_type": "markdown",
   "metadata": {},
   "source": [
    "# Combine with station data \n",
    "## Load station data "
   ]
  },
  {
   "cell_type": "code",
   "execution_count": 7,
   "metadata": {},
   "outputs": [
    {
     "name": "stdout",
     "output_type": "stream",
     "text": [
      "CPU times: user 4.45 ms, sys: 2.43 ms, total: 6.88 ms\n",
      "Wall time: 8.22 ms\n"
     ]
    }
   ],
   "source": [
    "%%time\n",
    "# load data from feather\n",
    "df_station_only = pd.read_feather('data/final_station_data.feather')"
   ]
  },
  {
   "cell_type": "code",
   "execution_count": 8,
   "metadata": {},
   "outputs": [
    {
     "name": "stdout",
     "output_type": "stream",
     "text": [
      "<class 'pandas.core.frame.DataFrame'>\n",
      "RangeIndex: 618 entries, 0 to 617\n",
      "Data columns (total 12 columns):\n",
      "index            618 non-null int64\n",
      "id               618 non-null int64\n",
      "lon_ave          618 non-null float64\n",
      "lat_ave          618 non-null float64\n",
      "dp_max           618 non-null float64\n",
      "dp_min           618 non-null float64\n",
      "online_month     618 non-null float64\n",
      "online_day       618 non-null float64\n",
      "online_year      618 non-null float64\n",
      "city_Chicago     618 non-null uint8\n",
      "city_Evanston    618 non-null uint8\n",
      "city_Oak_Park    618 non-null uint8\n",
      "dtypes: float64(7), int64(2), uint8(3)\n",
      "memory usage: 45.3 KB\n"
     ]
    }
   ],
   "source": [
    "df_station_only.info()"
   ]
  },
  {
   "cell_type": "markdown",
   "metadata": {},
   "source": [
    "## Zero-padding for days without any trip record"
   ]
  },
  {
   "cell_type": "code",
   "execution_count": 9,
   "metadata": {},
   "outputs": [],
   "source": [
    "# Zero padding \n",
    "import itertools\n",
    "\n",
    "record_lst = []\n",
    "for m in range(1, 13):\n",
    "    for s, d in itertools.product(data_station.station_id.unique(), range(1, days_in_month(YEAR, m)+1)):\n",
    "        record_lst.append((s, m, d))\n",
    "\n",
    "zero_pad = pd.DataFrame(record_lst, columns=['station_id', 'month', 'day'])"
   ]
  },
  {
   "cell_type": "code",
   "execution_count": 10,
   "metadata": {},
   "outputs": [],
   "source": [
    "zero_pad = zero_pad.merge(df_station_only, left_on='station_id', right_on='id', how='left').drop('id', axis=1)"
   ]
  },
  {
   "cell_type": "code",
   "execution_count": 11,
   "metadata": {},
   "outputs": [
    {
     "name": "stdout",
     "output_type": "stream",
     "text": [
      "<class 'pandas.core.frame.DataFrame'>\n",
      "Int64Index: 109500 entries, 0 to 109499\n",
      "Data columns (total 14 columns):\n",
      "station_id       109500 non-null int64\n",
      "month            109500 non-null int64\n",
      "day              109500 non-null int64\n",
      "index            109500 non-null int64\n",
      "lon_ave          109500 non-null float64\n",
      "lat_ave          109500 non-null float64\n",
      "dp_max           109500 non-null float64\n",
      "dp_min           109500 non-null float64\n",
      "online_month     109500 non-null float64\n",
      "online_day       109500 non-null float64\n",
      "online_year      109500 non-null float64\n",
      "city_Chicago     109500 non-null uint8\n",
      "city_Evanston    109500 non-null uint8\n",
      "city_Oak_Park    109500 non-null uint8\n",
      "dtypes: float64(7), int64(4), uint8(3)\n",
      "memory usage: 10.3 MB\n"
     ]
    }
   ],
   "source": [
    "zero_pad.info()"
   ]
  },
  {
   "cell_type": "markdown",
   "metadata": {},
   "source": [
    "## Merge zero-padding data into station-trips dataset"
   ]
  },
  {
   "cell_type": "code",
   "execution_count": 12,
   "metadata": {},
   "outputs": [],
   "source": [
    "# Join zero_pad info into data_station\n",
    "data_station = data_station.merge(zero_pad, on=['station_id', 'month', 'day'], how='right')"
   ]
  },
  {
   "cell_type": "markdown",
   "metadata": {},
   "source": [
    "## Fill nan data after adding zero-padding"
   ]
  },
  {
   "cell_type": "code",
   "execution_count": 13,
   "metadata": {},
   "outputs": [],
   "source": [
    "# Fill year\n",
    "data_station['year'].fillna(YEAR, inplace=True)\n",
    "\n",
    "# Fill inward and outward number of trips\n",
    "data_station['total_in'].fillna(0, inplace=True)\n",
    "data_station['total_out'].fillna(0, inplace=True)"
   ]
  },
  {
   "cell_type": "markdown",
   "metadata": {},
   "source": [
    "## Add days_online feature and drop rows with negative days online"
   ]
  },
  {
   "cell_type": "code",
   "execution_count": 14,
   "metadata": {},
   "outputs": [
    {
     "name": "stdout",
     "output_type": "stream",
     "text": [
      "<class 'pandas.core.frame.DataFrame'>\n",
      "Int64Index: 109500 entries, 0 to 109499\n",
      "Data columns (total 17 columns):\n",
      "station_id       109500 non-null int64\n",
      "month            109500 non-null int64\n",
      "day              109500 non-null int64\n",
      "total_in         109500 non-null float64\n",
      "total_out        109500 non-null float64\n",
      "year             109500 non-null float64\n",
      "index            109500 non-null int64\n",
      "lon_ave          109500 non-null float64\n",
      "lat_ave          109500 non-null float64\n",
      "dp_max           109500 non-null float64\n",
      "dp_min           109500 non-null float64\n",
      "online_month     109500 non-null float64\n",
      "online_day       109500 non-null float64\n",
      "online_year      109500 non-null float64\n",
      "city_Chicago     109500 non-null uint8\n",
      "city_Evanston    109500 non-null uint8\n",
      "city_Oak_Park    109500 non-null uint8\n",
      "dtypes: float64(10), int64(4), uint8(3)\n",
      "memory usage: 12.8 MB\n"
     ]
    }
   ],
   "source": [
    "data_station.info()"
   ]
  },
  {
   "cell_type": "code",
   "execution_count": 15,
   "metadata": {},
   "outputs": [],
   "source": [
    "# Clean up data without station information\n",
    "data_station = data_station.dropna()\n",
    "\n",
    "# Drop useless column\n",
    "data_station = data_station.drop('index', axis=1)"
   ]
  },
  {
   "cell_type": "code",
   "execution_count": 16,
   "metadata": {},
   "outputs": [
    {
     "name": "stdout",
     "output_type": "stream",
     "text": [
      "CPU times: user 8.93 s, sys: 109 ms, total: 9.04 s\n",
      "Wall time: 9.4 s\n"
     ]
    }
   ],
   "source": [
    "%%time\n",
    "from datetime import date\n",
    "\n",
    "def get_days(row):\n",
    "    d0 = date(int(row.year), int(row.month), int(row.day))\n",
    "    d1 = date(int(row.online_year), int(row.online_month), int(row.online_day))\n",
    "    return (d0-d1).days\n",
    "\n",
    "data_station['days_online'] = data_station.apply(lambda x: get_days(x), axis=1)"
   ]
  },
  {
   "cell_type": "code",
   "execution_count": 17,
   "metadata": {},
   "outputs": [],
   "source": [
    "## Drop rows with negative days_online\n",
    "data_station = data_station[data_station.days_online >= 0].copy()"
   ]
  },
  {
   "cell_type": "code",
   "execution_count": 18,
   "metadata": {},
   "outputs": [],
   "source": [
    "## Remove columns won't be needed\n",
    "data_station.drop(['online_day', 'online_month', 'online_year'], axis=1, inplace=True)"
   ]
  },
  {
   "cell_type": "markdown",
   "metadata": {},
   "source": [
    "## Add day of week"
   ]
  },
  {
   "cell_type": "code",
   "execution_count": 19,
   "metadata": {},
   "outputs": [
    {
     "name": "stdout",
     "output_type": "stream",
     "text": [
      "CPU times: user 1.76 s, sys: 16.7 ms, total: 1.77 s\n",
      "Wall time: 1.86 s\n"
     ]
    }
   ],
   "source": [
    "%%time\n",
    "## Add day_of_week for each datetime\n",
    "import calendar\n",
    "\n",
    "def _get_dayofweek(row):\n",
    "    return calendar.weekday(int(row.year), int(row.month), int(row.day))\n",
    "\n",
    "data_station['dayofweek'] = data_station.apply(lambda x: _get_dayofweek(x), axis=1)"
   ]
  },
  {
   "cell_type": "markdown",
   "metadata": {},
   "source": [
    "## Add weather data"
   ]
  },
  {
   "cell_type": "code",
   "execution_count": 20,
   "metadata": {},
   "outputs": [
    {
     "name": "stdout",
     "output_type": "stream",
     "text": [
      "CPU times: user 10 ms, sys: 3.91 ms, total: 13.9 ms\n",
      "Wall time: 15 ms\n"
     ]
    }
   ],
   "source": [
    "%%time\n",
    "## Load weather data\n",
    "df_weather = pd.read_csv(f'weather_data/weather_{YEAR}_chicago.csv')"
   ]
  },
  {
   "cell_type": "code",
   "execution_count": 21,
   "metadata": {},
   "outputs": [],
   "source": [
    "data_station = data_station.merge(df_weather, on=['month', 'day', 'year'], how='left')"
   ]
  },
  {
   "cell_type": "code",
   "execution_count": 22,
   "metadata": {},
   "outputs": [
    {
     "name": "stdout",
     "output_type": "stream",
     "text": [
      "<class 'pandas.core.frame.DataFrame'>\n",
      "Int64Index: 44036 entries, 0 to 44035\n",
      "Data columns (total 57 columns):\n",
      "station_id                     44036 non-null int64\n",
      "month                          44036 non-null int64\n",
      "day                            44036 non-null int64\n",
      "total_in                       44036 non-null float64\n",
      "total_out                      44036 non-null float64\n",
      "year                           44036 non-null float64\n",
      "lon_ave                        44036 non-null float64\n",
      "lat_ave                        44036 non-null float64\n",
      "dp_max                         44036 non-null float64\n",
      "dp_min                         44036 non-null float64\n",
      "city_Chicago                   44036 non-null uint8\n",
      "city_Evanston                  44036 non-null uint8\n",
      "city_Oak_Park                  44036 non-null uint8\n",
      "days_online                    44036 non-null int64\n",
      "dayofweek                      44036 non-null int64\n",
      "apparentTemperatureHigh        44036 non-null float64\n",
      "apparentTemperatureHighTime    44036 non-null float64\n",
      "apparentTemperatureLow         44036 non-null float64\n",
      "apparentTemperatureLowTime     44036 non-null float64\n",
      "apparentTemperatureMax         44036 non-null float64\n",
      "apparentTemperatureMaxTime     44036 non-null float64\n",
      "apparentTemperatureMin         44036 non-null float64\n",
      "apparentTemperatureMinTime     44036 non-null float64\n",
      "cloudCover                     44036 non-null float64\n",
      "dewPoint                       44036 non-null float64\n",
      "humidity                       44036 non-null float64\n",
      "moonPhase                      44036 non-null float64\n",
      "precipIntensity                44036 non-null float64\n",
      "precipIntensityMax             44036 non-null float64\n",
      "precipProbability              44036 non-null float64\n",
      "pressure                       44036 non-null float64\n",
      "sunriseTime                    44036 non-null float64\n",
      "sunsetTime                     44036 non-null float64\n",
      "temperatureHigh                44036 non-null float64\n",
      "temperatureHighTime            44036 non-null float64\n",
      "temperatureLow                 44036 non-null float64\n",
      "temperatureLowTime             44036 non-null float64\n",
      "uvIndex                        44036 non-null float64\n",
      "uvIndexTime                    44036 non-null float64\n",
      "visibility                     44036 non-null float64\n",
      "windBearing                    44036 non-null float64\n",
      "windGust                       44036 non-null float64\n",
      "windGustTime                   44036 non-null float64\n",
      "windSpeed                      44036 non-null float64\n",
      "precipAccumulation             44036 non-null float64\n",
      "precipIntensityMaxTime         44036 non-null float64\n",
      "daylight_duration              44036 non-null float64\n",
      "icon_clear-day                 44036 non-null int64\n",
      "icon_cloudy                    44036 non-null int64\n",
      "icon_partly-cloudy-day         44036 non-null int64\n",
      "icon_rain                      44036 non-null int64\n",
      "icon_sleet                     44036 non-null int64\n",
      "icon_snow                      44036 non-null int64\n",
      "precipType_None                44036 non-null int64\n",
      "precipType_rain                44036 non-null int64\n",
      "precipType_sleet               44036 non-null int64\n",
      "precipType_snow                44036 non-null int64\n",
      "dtypes: float64(39), int64(15), uint8(3)\n",
      "memory usage: 18.6 MB\n"
     ]
    }
   ],
   "source": [
    "data_station.info()"
   ]
  },
  {
   "cell_type": "code",
   "execution_count": 23,
   "metadata": {},
   "outputs": [
    {
     "name": "stdout",
     "output_type": "stream",
     "text": [
      "Data saved to feather file!\n",
      "CPU times: user 22.6 ms, sys: 11.2 ms, total: 33.9 ms\n",
      "Wall time: 22.9 ms\n"
     ]
    }
   ],
   "source": [
    "%%time\n",
    "## Save data\n",
    "data_station.to_feather(f'data/Final_Divvy_data_{YEAR}.feather')\n",
    "print(f'Data saved to feather file!')"
   ]
  },
  {
   "cell_type": "markdown",
   "metadata": {},
   "source": [
    "## To-dos\n",
    "- [X] Add number of days being on\n",
    "- [ ] Add weather data\n",
    "- [X] Add station data \n",
    "    - number of docks\n",
    "    - lat\n",
    "    - long\n",
    "- [ ] **Add network adj**\n",
    "- [X] Add day of week\n"
   ]
  }
 ],
 "metadata": {
  "kernelspec": {
   "display_name": "Python 3",
   "language": "python",
   "name": "python3"
  },
  "language_info": {
   "codemirror_mode": {
    "name": "ipython",
    "version": 3
   },
   "file_extension": ".py",
   "mimetype": "text/x-python",
   "name": "python",
   "nbconvert_exporter": "python",
   "pygments_lexer": "ipython3",
   "version": "3.7.0"
  }
 },
 "nbformat": 4,
 "nbformat_minor": 2
}
