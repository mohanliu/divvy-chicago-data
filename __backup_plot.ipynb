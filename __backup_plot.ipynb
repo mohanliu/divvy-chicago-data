{
 "cells": [
  {
   "cell_type": "code",
   "execution_count": null,
   "metadata": {},
   "outputs": [],
   "source": [
    "import numpy as np\n",
    "import pandas as pd\n",
    "from multiprocessing import Pool, cpu_count\n",
    "import gc\n",
    "import time\n",
    "gc.enable()\n",
    "import seaborn as sns\n",
    "import matplotlib.pyplot as plt\n",
    "import warnings\n",
    "import folium\n",
    "import branca.colormap as cm\n",
    "\n",
    "warnings.filterwarnings('ignore')"
   ]
  },
  {
   "cell_type": "code",
   "execution_count": null,
   "metadata": {},
   "outputs": [],
   "source": [
    "# Collect preprocessed data\n",
    "data1 = pd.read_feather('data/Divvy_data_2017_Q1.feather')\n",
    "data2 = pd.read_feather('data/Divvy_data_2017_Q2.feather')\n",
    "data3 = pd.read_feather('data/Divvy_data_2017_Q3.feather')\n",
    "data4 = pd.read_feather('data/Divvy_data_2017_Q4.feather')\n",
    "\n",
    "data = pd.concat([data1, data2, data3, data4], ignore_index=True)"
   ]
  },
  {
   "cell_type": "code",
   "execution_count": null,
   "metadata": {},
   "outputs": [],
   "source": [
    "# Collect number of trips for each station during weekdays/weekends\n",
    "station_start_wd = data[data['dayofweek'] < 5][['from_longitude', 'from_latitude', 'tripduration']]\n",
    "station_start_wd = station_start_wd.groupby(['from_longitude', 'from_latitude'])\n",
    "station_start_wd = station_start_wd.count().reset_index()\n",
    "\n",
    "station_end_wd = data[data['dayofweek'] < 5][['to_longitude', 'to_latitude', 'tripduration']]\n",
    "station_end_wd = station_end_wd.groupby(['to_longitude', 'to_latitude'])\n",
    "station_end_wd = station_end_wd.count().reset_index()\n",
    "\n",
    "station_start_we = data[data['dayofweek'] > 4 ][['from_longitude', 'from_latitude', 'tripduration']]\n",
    "station_start_we = station_start_we.groupby(['from_longitude', 'from_latitude'])\n",
    "station_start_we = station_start_we.count().reset_index()\n",
    "\n",
    "station_end_we = data[data['dayofweek'] > 4][['to_longitude', 'to_latitude', 'tripduration']]\n",
    "station_end_we = station_end_we.groupby(['to_longitude', 'to_latitude'])\n",
    "station_end_we = station_end_we.count().reset_index()"
   ]
  },
  {
   "cell_type": "code",
   "execution_count": null,
   "metadata": {},
   "outputs": [],
   "source": [
    "# Visualize data over GPS coordinates\n",
    "fig, ax = plt.subplots(nrows=2, ncols=2, figsize=(14, 18))\n",
    "x = station_start_wd['from_longitude']\n",
    "y = station_start_wd['from_latitude']\n",
    "s = station_start_wd['tripduration'] / 100 \n",
    "ax[0, 0].scatter(x, y, s=s, alpha=0.2, c='b')\n",
    "ax[0, 0].set_title('Trip Start Stations (Weekdays)', fontsize=20)\n",
    "ax[0, 0].set_xlabel('Longitude', fontsize=18)\n",
    "ax[0, 0].set_ylabel('Latitude', fontsize=18)\n",
    "ax[0, 0].set_aspect('equal')\n",
    "\n",
    "x = station_end_wd['to_longitude']\n",
    "y = station_end_wd['to_latitude']\n",
    "s = station_end_wd['tripduration'] / 100 \n",
    "ax[1, 0].scatter(x, y, s=s, alpha=0.2, c='red')\n",
    "ax[1, 0].set_title('Trip End Stations (Weekdays)', fontsize=20)\n",
    "ax[1, 0].set_xlabel('Longitude', fontsize=18)\n",
    "ax[1, 0].set_ylabel('Latitude', fontsize=18)\n",
    "ax[1, 0].set_aspect('equal')\n",
    "\n",
    "x = station_start_we['from_longitude']\n",
    "y = station_start_we['from_latitude']\n",
    "s = station_start_we['tripduration'] / 40\n",
    "ax[0, 1].scatter(x, y, s=s, alpha=0.2, c='b')\n",
    "ax[0, 1].set_title('Trip Start Stations (Weekends)', fontsize=20)\n",
    "ax[0, 1].set_xlabel('Longitude', fontsize=18)\n",
    "ax[0, 1].set_aspect('equal')\n",
    "\n",
    "x = station_end_we['to_longitude']\n",
    "y = station_end_we['to_latitude']\n",
    "s = station_end_we['tripduration'] / 40\n",
    "ax[1, 1].scatter(x, y, s=s, alpha=0.2, c='red')\n",
    "ax[1, 1].set_title('Trip End Stations (Weekends)', fontsize=20)\n",
    "ax[1, 1].set_xlabel('Longitude', fontsize=18)\n",
    "ax[1, 1].set_aspect('equal')\n",
    "\n",
    "plt.show()"
   ]
  }
 ],
 "metadata": {
  "kernelspec": {
   "display_name": "Python 3",
   "language": "python",
   "name": "python3"
  },
  "language_info": {
   "codemirror_mode": {
    "name": "ipython",
    "version": 3
   },
   "file_extension": ".py",
   "mimetype": "text/x-python",
   "name": "python",
   "nbconvert_exporter": "python",
   "pygments_lexer": "ipython3",
   "version": "3.6.8"
  }
 },
 "nbformat": 4,
 "nbformat_minor": 2
}
