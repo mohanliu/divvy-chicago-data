{
 "cells": [
  {
   "cell_type": "code",
   "execution_count": 1,
   "metadata": {},
   "outputs": [
    {
     "name": "stdout",
     "output_type": "stream",
     "text": [
      "/bin/sh: aws: command not found\r\n"
     ]
    }
   ],
   "source": [
    "!aws s3 cp data/Divvy_data_2013.feather s3://divvyexploration/Divvy_data_2013.feather"
   ]
  },
  {
   "cell_type": "code",
   "execution_count": 2,
   "metadata": {},
   "outputs": [
    {
     "name": "stdout",
     "output_type": "stream",
     "text": [
      "LICENSE\r\n",
      "README.md\r\n",
      "\u001b[1m\u001b[36m__pycache__\u001b[m\u001b[m\r\n",
      "api_key_darksky\r\n",
      "\u001b[1m\u001b[36mbackup\u001b[m\u001b[m\r\n",
      "collect_most_recent_station_info.ipynb\r\n",
      "collect_weather_data.ipynb\r\n",
      "collecting_event_data.ipynb\r\n",
      "\u001b[1m\u001b[36mdata\u001b[m\u001b[m\r\n",
      "\u001b[1m\u001b[36mdata_visualization_collection\u001b[m\u001b[m\r\n",
      "\u001b[1m\u001b[36mdocs\u001b[m\u001b[m\r\n",
      "\u001b[1m\u001b[36mevent_data\u001b[m\u001b[m\r\n",
      "exploratory_data_analysis.ipynb\r\n",
      "file_management_aws.ipynb\r\n",
      "final_data_preparation.ipynb\r\n",
      "\u001b[1m\u001b[36mgeo_data\u001b[m\u001b[m\r\n",
      "\u001b[1m\u001b[36mmachine_learning_models\u001b[m\u001b[m\r\n",
      "merge_station_data_with_community_area.ipynb\r\n",
      "\u001b[1m\u001b[36mmodel_data\u001b[m\u001b[m\r\n",
      "\u001b[1m\u001b[36mmodel_features_details\u001b[m\u001b[m\r\n",
      "preprocessing.ipynb\r\n",
      "requirements.txt\r\n",
      "useful_functions.py\r\n",
      "\u001b[1m\u001b[36mweather_data\u001b[m\u001b[m\r\n"
     ]
    }
   ],
   "source": []
  },
  {
   "cell_type": "code",
   "execution_count": null,
   "metadata": {},
   "outputs": [],
   "source": []
  }
 ],
 "metadata": {
  "kernelspec": {
   "display_name": "Python 3",
   "language": "python",
   "name": "python3"
  },
  "language_info": {
   "codemirror_mode": {
    "name": "ipython",
    "version": 3
   },
   "file_extension": ".py",
   "mimetype": "text/x-python",
   "name": "python",
   "nbconvert_exporter": "python",
   "pygments_lexer": "ipython3",
   "version": "3.7.0"
  }
 },
 "nbformat": 4,
 "nbformat_minor": 2
}
