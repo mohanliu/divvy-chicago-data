{
 "cells": [
  {
   "cell_type": "code",
   "execution_count": null,
   "metadata": {},
   "outputs": [],
   "source": [
    "import requests\n",
    "import base64\n",
    "\n",
    "## Enter user's API key, secret, and Stubhub login\n",
    "app_token = input('Enter app token: ')\n",
    "consumer_key = input('Enter consumer key: ')\n",
    "consumer_secret = input('Enter consumer secret: ')\n",
    "stubhub_username = input('Enter Stubhub username (email): ')\n",
    "stubhub_password = input('Enter Stubhub password: ')"
   ]
  },
  {
   "cell_type": "code",
   "execution_count": 8,
   "metadata": {},
   "outputs": [],
   "source": [
    "combo = consumer_key + ':' + consumer_secret\n",
    "basic_authorization_token = base64.b64encode(combo.encode('utf-8'))\n",
    "# basic_authorization_token = combo"
   ]
  },
  {
   "cell_type": "code",
   "execution_count": 10,
   "metadata": {},
   "outputs": [
    {
     "name": "stdout",
     "output_type": "stream",
     "text": [
      "ZKdV5UU0MIzgGPry2GdH80AQXhqbBGT6:PbsuR30aOuGXV8Qh\n"
     ]
    }
   ],
   "source": [
    "print(combo)"
   ]
  },
  {
   "cell_type": "code",
   "execution_count": 11,
   "metadata": {},
   "outputs": [
    {
     "name": "stdout",
     "output_type": "stream",
     "text": [
      "b'WktkVjVVVTBNSXpnR1ByeTJHZEg4MEFRWGhxYkJHVDY6UGJzdVIzMGFPdUdYVjhRaA=='\n"
     ]
    }
   ],
   "source": [
    "print(str(basic_authorization_token))"
   ]
  },
  {
   "cell_type": "code",
   "execution_count": 20,
   "metadata": {},
   "outputs": [],
   "source": [
    "a = 'Basic WktkVjVVVTBNSXpnR1ByeTJHZEg4MEFRWGhxYkJHVDY6UGJzdVIzMGFPdUdYVjhRaA=='"
   ]
  },
  {
   "cell_type": "code",
   "execution_count": 21,
   "metadata": {},
   "outputs": [
    {
     "name": "stdout",
     "output_type": "stream",
     "text": [
      "<Response [401]>\n",
      "{\"error_description\":\"Client Authentication failed.\",\"error\":\"invalid_client\"}\n"
     ]
    }
   ],
   "source": [
    "url = 'https://api.stubhub.com/login'\n",
    "headers = {\n",
    "        'Content-Type':'application/x-www-form-urlencoded',\n",
    "        'Authorization': a,\n",
    "#         'Authorization':'Basic '+str(basic_authorization_token),\n",
    "}\n",
    "body = {\n",
    "        'grant_type':'password',\n",
    "        'username':stubhub_username,\n",
    "        'password':stubhub_password,\n",
    "        'scope':'PRODUCTION'}\n",
    "\n",
    "r = requests.post(url, headers=headers, data=body)\n",
    "print(r)\n",
    "print(r.text)"
   ]
  },
  {
   "cell_type": "code",
   "execution_count": 15,
   "metadata": {},
   "outputs": [
    {
     "ename": "KeyError",
     "evalue": "'access_token'",
     "output_type": "error",
     "traceback": [
      "\u001b[0;31m---------------------------------------------------------------------------\u001b[0m",
      "\u001b[0;31mKeyError\u001b[0m                                  Traceback (most recent call last)",
      "\u001b[0;32m<ipython-input-15-90613b1a0226>\u001b[0m in \u001b[0;36m<module>\u001b[0;34m()\u001b[0m\n\u001b[1;32m      1\u001b[0m \u001b[0mtoken_respoonse\u001b[0m \u001b[0;34m=\u001b[0m \u001b[0mr\u001b[0m\u001b[0;34m.\u001b[0m\u001b[0mjson\u001b[0m\u001b[0;34m(\u001b[0m\u001b[0;34m)\u001b[0m\u001b[0;34m\u001b[0m\u001b[0m\n\u001b[0;32m----> 2\u001b[0;31m \u001b[0maccess_token\u001b[0m \u001b[0;34m=\u001b[0m \u001b[0mtoken_respoonse\u001b[0m\u001b[0;34m[\u001b[0m\u001b[0;34m'access_token'\u001b[0m\u001b[0;34m]\u001b[0m\u001b[0;34m\u001b[0m\u001b[0m\n\u001b[0m\u001b[1;32m      3\u001b[0m \u001b[0muser_GUID\u001b[0m \u001b[0;34m=\u001b[0m \u001b[0mr\u001b[0m\u001b[0;34m.\u001b[0m\u001b[0mheaders\u001b[0m\u001b[0;34m[\u001b[0m\u001b[0;34m'X-StubHub-User-GUID'\u001b[0m\u001b[0;34m]\u001b[0m\u001b[0;34m\u001b[0m\u001b[0m\n",
      "\u001b[0;31mKeyError\u001b[0m: 'access_token'"
     ]
    }
   ],
   "source": [
    "token_respoonse = r.json()\n",
    "access_token = token_respoonse['access_token']\n",
    "user_GUID = r.headers['X-StubHub-User-GUID']"
   ]
  },
  {
   "cell_type": "code",
   "execution_count": null,
   "metadata": {},
   "outputs": [],
   "source": []
  }
 ],
 "metadata": {
  "kernelspec": {
   "display_name": "Python 3",
   "language": "python",
   "name": "python3"
  },
  "language_info": {
   "codemirror_mode": {
    "name": "ipython",
    "version": 3
   },
   "file_extension": ".py",
   "mimetype": "text/x-python",
   "name": "python",
   "nbconvert_exporter": "python",
   "pygments_lexer": "ipython3",
   "version": "3.7.0"
  }
 },
 "nbformat": 4,
 "nbformat_minor": 2
}
