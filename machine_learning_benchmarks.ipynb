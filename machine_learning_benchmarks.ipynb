{
 "cells": [
  {
   "cell_type": "code",
   "execution_count": 1,
   "metadata": {},
   "outputs": [],
   "source": [
    "import numpy as np\n",
    "import pandas as pd"
   ]
  },
  {
   "cell_type": "markdown",
   "metadata": {},
   "source": [
    "## Load data"
   ]
  },
  {
   "cell_type": "code",
   "execution_count": 3,
   "metadata": {},
   "outputs": [
    {
     "name": "stdout",
     "output_type": "stream",
     "text": [
      "CPU times: user 16.4 ms, sys: 19.4 ms, total: 35.8 ms\n",
      "Wall time: 22.8 ms\n"
     ]
    }
   ],
   "source": [
    "%%time\n",
    "## load preprocessed data\n",
    "data = pd.read_feather('data/Final_Divvy_data_2013.feather')"
   ]
  },
  {
   "cell_type": "code",
   "execution_count": 7,
   "metadata": {},
   "outputs": [],
   "source": [
    "features = data.drop(['station_id', 'total_in', 'total_out'], axis=1)\n",
    "target_in = data.total_in\n",
    "target_out = data.total_out"
   ]
  },
  {
   "cell_type": "code",
   "execution_count": 9,
   "metadata": {},
   "outputs": [
    {
     "name": "stdout",
     "output_type": "stream",
     "text": [
      "<class 'pandas.core.frame.DataFrame'>\n",
      "RangeIndex: 44036 entries, 0 to 44035\n",
      "Data columns (total 54 columns):\n",
      "month                          44036 non-null int64\n",
      "day                            44036 non-null int64\n",
      "year                           44036 non-null float64\n",
      "lon_ave                        44036 non-null float64\n",
      "lat_ave                        44036 non-null float64\n",
      "dp_max                         44036 non-null float64\n",
      "dp_min                         44036 non-null float64\n",
      "city_Chicago                   44036 non-null uint8\n",
      "city_Evanston                  44036 non-null uint8\n",
      "city_Oak_Park                  44036 non-null uint8\n",
      "days_online                    44036 non-null int64\n",
      "dayofweek                      44036 non-null int64\n",
      "apparentTemperatureHigh        44036 non-null float64\n",
      "apparentTemperatureHighTime    44036 non-null float64\n",
      "apparentTemperatureLow         44036 non-null float64\n",
      "apparentTemperatureLowTime     44036 non-null float64\n",
      "apparentTemperatureMax         44036 non-null float64\n",
      "apparentTemperatureMaxTime     44036 non-null float64\n",
      "apparentTemperatureMin         44036 non-null float64\n",
      "apparentTemperatureMinTime     44036 non-null float64\n",
      "cloudCover                     44036 non-null float64\n",
      "dewPoint                       44036 non-null float64\n",
      "humidity                       44036 non-null float64\n",
      "moonPhase                      44036 non-null float64\n",
      "precipIntensity                44036 non-null float64\n",
      "precipIntensityMax             44036 non-null float64\n",
      "precipProbability              44036 non-null float64\n",
      "pressure                       44036 non-null float64\n",
      "sunriseTime                    44036 non-null float64\n",
      "sunsetTime                     44036 non-null float64\n",
      "temperatureHigh                44036 non-null float64\n",
      "temperatureHighTime            44036 non-null float64\n",
      "temperatureLow                 44036 non-null float64\n",
      "temperatureLowTime             44036 non-null float64\n",
      "uvIndex                        44036 non-null float64\n",
      "uvIndexTime                    44036 non-null float64\n",
      "visibility                     44036 non-null float64\n",
      "windBearing                    44036 non-null float64\n",
      "windGust                       44036 non-null float64\n",
      "windGustTime                   44036 non-null float64\n",
      "windSpeed                      44036 non-null float64\n",
      "precipAccumulation             44036 non-null float64\n",
      "precipIntensityMaxTime         44036 non-null float64\n",
      "daylight_duration              44036 non-null float64\n",
      "icon_clear-day                 44036 non-null int64\n",
      "icon_cloudy                    44036 non-null int64\n",
      "icon_partly-cloudy-day         44036 non-null int64\n",
      "icon_rain                      44036 non-null int64\n",
      "icon_sleet                     44036 non-null int64\n",
      "icon_snow                      44036 non-null int64\n",
      "precipType_None                44036 non-null int64\n",
      "precipType_rain                44036 non-null int64\n",
      "precipType_sleet               44036 non-null int64\n",
      "precipType_snow                44036 non-null int64\n",
      "dtypes: float64(37), int64(14), uint8(3)\n",
      "memory usage: 17.3 MB\n"
     ]
    }
   ],
   "source": [
    "features.info()"
   ]
  },
  {
   "cell_type": "markdown",
   "metadata": {},
   "source": [
    "## Convert pandas dataframe to numpy array/matrix"
   ]
  },
  {
   "cell_type": "markdown",
   "metadata": {},
   "source": [
    "## Perform scaling for numerical data"
   ]
  },
  {
   "cell_type": "markdown",
   "metadata": {},
   "source": [
    "## Apply linear regression models"
   ]
  },
  {
   "cell_type": "markdown",
   "metadata": {},
   "source": [
    "## Apply PCA"
   ]
  },
  {
   "cell_type": "code",
   "execution_count": null,
   "metadata": {},
   "outputs": [],
   "source": []
  }
 ],
 "metadata": {
  "kernelspec": {
   "display_name": "Python 3",
   "language": "python",
   "name": "python3"
  },
  "language_info": {
   "codemirror_mode": {
    "name": "ipython",
    "version": 3
   },
   "file_extension": ".py",
   "mimetype": "text/x-python",
   "name": "python",
   "nbconvert_exporter": "python",
   "pygments_lexer": "ipython3",
   "version": "3.7.0"
  }
 },
 "nbformat": 4,
 "nbformat_minor": 2
}
